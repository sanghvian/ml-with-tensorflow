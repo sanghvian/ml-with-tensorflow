{
  "nbformat": 4,
  "nbformat_minor": 0,
  "metadata": {
    "colab": {
      "provenance": [],
      "authorship_tag": "ABX9TyPxIbhX3Bvnp0qcuJJ3jJrJ",
      "include_colab_link": true
    },
    "kernelspec": {
      "name": "python3",
      "display_name": "Python 3"
    },
    "language_info": {
      "name": "python"
    },
    "accelerator": "GPU",
    "gpuClass": "standard"
  },
  "cells": [
    {
      "cell_type": "markdown",
      "metadata": {
        "id": "view-in-github",
        "colab_type": "text"
      },
      "source": [
        "<a href=\"https://colab.research.google.com/github/crew-guy/ml-with-tensorflow/blob/main/basics-tensor.ipynb\" target=\"_parent\"><img src=\"https://colab.research.google.com/assets/colab-badge.svg\" alt=\"Open In Colab\"/></a>"
      ]
    },
    {
      "cell_type": "markdown",
      "source": [
        "# In this notebook, we are going to cover some of the most fundamental concepts of tensors using TensorFlow\n",
        "\n",
        "* Introduction to tensors\n",
        "* Getting information from tensors\n",
        "* Manipulating tensors\n",
        "* Tensors & NumPy\n",
        "* Using @tf.function (a way to speed up Python functions)\n",
        "* Using GPUs with tensorflow (or TPUs)"
      ],
      "metadata": {
        "id": "BlU87LzvvOpk"
      }
    },
    {
      "cell_type": "markdown",
      "source": [
        "## Introduction to tensors"
      ],
      "metadata": {
        "id": "rn7N9v3p00FY"
      }
    },
    {
      "cell_type": "code",
      "source": [
        "# Import tensorflow\n",
        "\n",
        "import tensorflow as tf\n",
        "print(tf.__version__)\n"
      ],
      "metadata": {
        "colab": {
          "base_uri": "https://localhost:8080/"
        },
        "id": "9yGoUWMi1SZv",
        "outputId": "dec701c8-4c2f-49d0-e86a-dc9d77dca726"
      },
      "execution_count": null,
      "outputs": [
        {
          "output_type": "stream",
          "name": "stdout",
          "text": [
            "2.9.2\n"
          ]
        }
      ]
    },
    {
      "cell_type": "code",
      "source": [
        " # Create a tensor from a tensor like object\n",
        " scalar = tf.constant(7)\n",
        " print(scalar)"
      ],
      "metadata": {
        "colab": {
          "base_uri": "https://localhost:8080/"
        },
        "id": "gffegzPV1fbh",
        "outputId": "06bd8f66-eed9-47e6-823a-b36d8651392c"
      },
      "execution_count": null,
      "outputs": [
        {
          "output_type": "stream",
          "name": "stdout",
          "text": [
            "tf.Tensor(7, shape=(), dtype=int32)\n"
          ]
        }
      ]
    },
    {
      "cell_type": "code",
      "source": [
        "# Check the number of dimensions of a tensor\n",
        "print(scalar.ndim)  "
      ],
      "metadata": {
        "colab": {
          "base_uri": "https://localhost:8080/"
        },
        "id": "IDHOuAVU1tMW",
        "outputId": "3b20c900-96be-405e-cc2d-419690e5f44e"
      },
      "execution_count": null,
      "outputs": [
        {
          "output_type": "stream",
          "name": "stdout",
          "text": [
            "0\n"
          ]
        }
      ]
    },
    {
      "cell_type": "code",
      "source": [
        "# Create a vector\n",
        "vector = tf.constant([10,10])\n",
        "print(vector)"
      ],
      "metadata": {
        "colab": {
          "base_uri": "https://localhost:8080/"
        },
        "id": "ou35E1aG12t_",
        "outputId": "58506375-4c8e-4e7b-e35c-bd97234a222f"
      },
      "execution_count": null,
      "outputs": [
        {
          "output_type": "stream",
          "name": "stdout",
          "text": [
            "tf.Tensor([10 10], shape=(2,), dtype=int32)\n"
          ]
        }
      ]
    },
    {
      "cell_type": "code",
      "source": [
        "# Create a matrix\n",
        "matrix = tf.constant([[1,2],[3,4]])\n",
        "    print(matrix, matrix.ndim)"
      ],
      "metadata": {
        "colab": {
          "base_uri": "https://localhost:8080/"
        },
        "id": "eeNkuxET1_qZ",
        "outputId": "48f51fcc-0401-481b-ffc3-99c7a56bedf0"
      },
      "execution_count": null,
      "outputs": [
        {
          "output_type": "stream",
          "name": "stdout",
          "text": [
            "tf.Tensor(\n",
            "[[1 2]\n",
            " [3 4]], shape=(2, 2), dtype=int32) 2\n"
          ]
        }
      ]
    },
    {
      "cell_type": "code",
      "source": [
        "# Specify the data type with the dtype parameter\n",
        "matrix2 = tf.constant([\n",
        "    [1.,2.],\n",
        "    [3.,4.],\n",
        "    [5.,6.]\n",
        "    ], dtype = tf.float16)\n",
        "print(matrix2, matrix2.ndim)"
      ],
      "metadata": {
        "colab": {
          "base_uri": "https://localhost:8080/"
        },
        "id": "Cd-9mqLX2ISs",
        "outputId": "2b521ac6-30b9-4a7c-da96-4c8e9de0c054"
      },
      "execution_count": null,
      "outputs": [
        {
          "output_type": "stream",
          "name": "stdout",
          "text": [
            "tf.Tensor(\n",
            "[[1. 2.]\n",
            " [3. 4.]\n",
            " [5. 6.]], shape=(3, 2), dtype=float16) 2\n"
          ]
        }
      ]
    },
    {
      "cell_type": "markdown",
      "source": [
        " ## What we've created so far\n",
        "Scalar: A constant number\n",
        "<br/>\n",
        "Vector: A array of numbers representing a magnitude with a direction (eg: wind speed)\n",
        "<br/>\n",
        "Matrix: A 2-D array of numbers\n",
        "<br/>\n",
        "Tensor: An n-dimensional array of numbers\n"
      ],
      "metadata": {
        "id": "M4FKBmXl2v7Q"
      }
    },
    {
      "cell_type": "markdown",
      "source": [
        "## Creating tensors withh `tf.Variable`"
      ],
      "metadata": {
        "id": "oLQlfWDT3h82"
      }
    },
    {
      "cell_type": "code",
      "source": [
        "changeable_tensor = tf.Variable([10,7])\n",
        "unchangeable_tensor = tf.constant([10,7])\n",
        "\n",
        "changeable_tensor, unchangeable_tensor"
      ],
      "metadata": {
        "colab": {
          "base_uri": "https://localhost:8080/"
        },
        "id": "DL2kDs8k4Tpy",
        "outputId": "89e31b48-61fc-4d5e-9137-3b1e1ea9c492"
      },
      "execution_count": null,
      "outputs": [
        {
          "output_type": "execute_result",
          "data": {
            "text/plain": [
              "(<tf.Variable 'Variable:0' shape=(2,) dtype=int32, numpy=array([10,  7], dtype=int32)>,\n",
              " <tf.Tensor: shape=(2,), dtype=int32, numpy=array([10,  7], dtype=int32)>)"
            ]
          },
          "metadata": {},
          "execution_count": 14
        }
      ]
    },
    {
      "cell_type": "code",
      "source": [
        "# Values inside a changeable_tensor (created with tf.Variable) can be reassigned whereas the same cannot be done for unchangeable_tensor\n",
        "\n",
        "changeable_tensor[0].assign(7)\n",
        "changeable_tensor"
      ],
      "metadata": {
        "colab": {
          "base_uri": "https://localhost:8080/"
        },
        "id": "LhLDI3Ux4bDx",
        "outputId": "bc79dd77-56e9-4632-ffe4-f45966783187"
      },
      "execution_count": null,
      "outputs": [
        {
          "output_type": "execute_result",
          "data": {
            "text/plain": [
              "<tf.Variable 'Variable:0' shape=(2,) dtype=int32, numpy=array([7, 7], dtype=int32)>"
            ]
          },
          "metadata": {},
          "execution_count": 15
        }
      ]
    },
    {
      "cell_type": "markdown",
      "source": [
        "🔑 Note : Rarely in practice, we decide, whether to use tf.constant() or tf.Variable, as Tensorflow does this for use. However, if in doubt, use tf.constant and change it later"
      ],
      "metadata": {
        "id": "Ed7Wqt7y4hMh"
      }
    },
    {
      "cell_type": "markdown",
      "source": [
        "## Creating random tensors\n",
        "Random tensors are tensors of some arbitrary size which contain random numbers\n",
        "\n"
      ],
      "metadata": {
        "id": "9xoYUxck5EU6"
      }
    },
    {
      "cell_type": "code",
      "source": [
        "# Create 2 random (but the same) tensors\n",
        "random_1 = tf.random.Generator.from_seed(42) # set seed for reproducibility\n",
        "random_1 = random_1.normal(shape=(3,2))\n",
        "random_1"
      ],
      "metadata": {
        "colab": {
          "base_uri": "https://localhost:8080/"
        },
        "id": "vkSBURKL67U1",
        "outputId": "72fc032c-7053-4fbe-db6b-955bdd7bb89a"
      },
      "execution_count": null,
      "outputs": [
        {
          "output_type": "execute_result",
          "data": {
            "text/plain": [
              "<tf.Tensor: shape=(3, 2), dtype=float32, numpy=\n",
              "array([[-0.7565803 , -0.06854702],\n",
              "       [ 0.07595026, -1.2573844 ],\n",
              "       [-0.23193763, -1.8107855 ]], dtype=float32)>"
            ]
          },
          "metadata": {},
          "execution_count": 16
        }
      ]
    },
    {
      "cell_type": "code",
      "source": [
        "random_2 = tf.random.Generator.from_seed(42)\n",
        "random_2 = random_2.normal(shape=(3,2))\n",
        "random_1 == random_2"
      ],
      "metadata": {
        "colab": {
          "base_uri": "https://localhost:8080/"
        },
        "id": "AbLqUaOl7c7j",
        "outputId": "5d27e297-f601-4e71-a0b8-62d27f931dc4"
      },
      "execution_count": null,
      "outputs": [
        {
          "output_type": "execute_result",
          "data": {
            "text/plain": [
              "<tf.Tensor: shape=(3, 2), dtype=bool, numpy=\n",
              "array([[ True,  True],\n",
              "       [ True,  True],\n",
              "       [ True,  True]])>"
            ]
          },
          "metadata": {},
          "execution_count": 17
        }
      ]
    },
    {
      "cell_type": "markdown",
      "source": [
        "## Shuffle the order of elements in a tensor\n",
        "\n",
        "Valuable when you want to shuffle your data so that inherent order does not affect learning\n",
        "\n",
        "> Rule : \"If want to make our tensor shuffling reproducible, then we have to specify global & local tensors\""
      ],
      "metadata": {
        "id": "XDgohLLG76Nn"
      }
    },
    {
      "cell_type": "code",
      "source": [
        "# Shuffling a tensor\n",
        "not_shuffled = tf.Variable([[10,7],[6,5],[3,2]])\n",
        "\n",
        "# Using random shuffle - shuffling happens along the outermost dimension, i.e. dimension-0\n",
        "shuffled = tf.random.shuffle(not_shuffled)\n",
        "\n",
        "shuffled"
      ],
      "metadata": {
        "colab": {
          "base_uri": "https://localhost:8080/"
        },
        "id": "2DyMQHWV8F_1",
        "outputId": "956d7350-abd1-48ad-e929-f1ce6dce4d49"
      },
      "execution_count": null,
      "outputs": [
        {
          "output_type": "execute_result",
          "data": {
            "text/plain": [
              "<tf.Tensor: shape=(3, 2), dtype=int32, numpy=\n",
              "array([[ 3,  2],\n",
              "       [10,  7],\n",
              "       [ 6,  5]], dtype=int32)>"
            ]
          },
          "metadata": {},
          "execution_count": 20
        }
      ]
    },
    {
      "cell_type": "code",
      "source": [
        "# Setting a seed for shuffling will allow reproducibity - https://www.tensorflow.org/api_docs/python/tf/random/set_seed\n",
        "# Notion notes for understanding seed - https://www.notion.so/techsoc/Understanding-Seeds-29579a6f8b6c4f4a828cfef8629f09d6\n",
        "\n",
        "# Setting \"global seed\"\n",
        "tf.random.set_seed(22)\n",
        "\n",
        "\n",
        "# Setting operation-level aka \"local seed\"\n",
        "# Local seeds override global seeds\n",
        "tf.random.shuffle(not_shuffled, seed= 21)\n"
      ],
      "metadata": {
        "colab": {
          "base_uri": "https://localhost:8080/"
        },
        "id": "826WIj_s9gih",
        "outputId": "14264666-4bdb-4ca3-bb6c-c53dd8de5497"
      },
      "execution_count": null,
      "outputs": [
        {
          "output_type": "execute_result",
          "data": {
            "text/plain": [
              "<tf.Tensor: shape=(3, 2), dtype=int32, numpy=\n",
              "array([[ 6,  5],\n",
              "       [10,  7],\n",
              "       [ 3,  2]], dtype=int32)>"
            ]
          },
          "metadata": {},
          "execution_count": 26
        }
      ]
    },
    {
      "cell_type": "markdown",
      "source": [
        "## Other ways of creating a tensor"
      ],
      "metadata": {
        "id": "hI7LDzJGAcrO"
      }
    },
    {
      "cell_type": "code",
      "source": [
        "# Using tf.ones & tf.zeros\n",
        "\n",
        "# We can pass the shape of the tensor as an array or a tuple\n",
        "\n",
        "ones_t = tf.ones([3,4], dtype=tf.float16)\n",
        "zeros_t = tf.zeros(shape=(3,3,2))\n",
        "\n",
        "ones_t, zeros_t"
      ],
      "metadata": {
        "colab": {
          "base_uri": "https://localhost:8080/"
        },
        "id": "LDRrQXslEGyv",
        "outputId": "ffccd24f-7be3-4f32-816f-9bd496f19689"
      },
      "execution_count": null,
      "outputs": [
        {
          "output_type": "execute_result",
          "data": {
            "text/plain": [
              "(<tf.Tensor: shape=(3, 4), dtype=float16, numpy=\n",
              " array([[1., 1., 1., 1.],\n",
              "        [1., 1., 1., 1.],\n",
              "        [1., 1., 1., 1.]], dtype=float16)>,\n",
              " <tf.Tensor: shape=(3, 3, 2), dtype=float32, numpy=\n",
              " array([[[0., 0.],\n",
              "         [0., 0.],\n",
              "         [0., 0.]],\n",
              " \n",
              "        [[0., 0.],\n",
              "         [0., 0.],\n",
              "         [0., 0.]],\n",
              " \n",
              "        [[0., 0.],\n",
              "         [0., 0.],\n",
              "         [0., 0.]]], dtype=float32)>)"
            ]
          },
          "metadata": {},
          "execution_count": 28
        }
      ]
    },
    {
      "cell_type": "code",
      "source": [
        "# Creating tensor from NumPy array\n",
        "# Only difference between numpy array & tensors is that tensor computations can be run on a GPU (much faster)\n",
        "\n",
        "import numpy as np\n",
        "numpy_A = np.random.randint(-4, 8, size=(3,4))\n",
        "\n",
        "print(numpy_A)\n",
        "\n",
        "tensor_A = tf.constant(numpy_A, shape=(2,3,2))\n",
        "\n",
        "\n",
        "print(tensor_A)"
      ],
      "metadata": {
        "colab": {
          "base_uri": "https://localhost:8080/"
        },
        "id": "W7I9n2bDEcC_",
        "outputId": "465ca026-ed79-4d54-9816-89234fa94acf"
      },
      "execution_count": null,
      "outputs": [
        {
          "output_type": "stream",
          "name": "stdout",
          "text": [
            "[[ 3 -2 -3  5]\n",
            " [-3  6  5  7]\n",
            " [ 2 -2  3 -4]]\n",
            "tf.Tensor(\n",
            "[[[ 3 -2]\n",
            "  [-3  5]\n",
            "  [-3  6]]\n",
            "\n",
            " [[ 5  7]\n",
            "  [ 2 -2]\n",
            "  [ 3 -4]]], shape=(2, 3, 2), dtype=int64)\n"
          ]
        }
      ]
    },
    {
      "cell_type": "markdown",
      "source": [
        "# Getting information from tensors\n",
        "\n",
        "* Shape - The length (number of elements) of each of the dimensions of the tensor - `tensor1.shape`\n",
        "* Rank - The number of tensor dimensions - `tensor1.ndim`\n",
        "* Size - Total number of elements in the tensor - `tf.size(tensor1)`\n",
        "* Axis/Dimension - A particular dimension of the tensor - `tensor1[AXIS_NUMBER]`"
      ],
      "metadata": {
        "id": "0hCpw4afEzj3"
      }
    },
    {
      "cell_type": "code",
      "source": [
        "tensor_1 = tf.ones([2,3,4,5], dtype = tf.float16)\n",
        "\n",
        "tensor_1, tensor_1.shape, tf.size(tensor_1), tensor_1.ndim"
      ],
      "metadata": {
        "id": "Ii8K4_1KFEjW",
        "colab": {
          "base_uri": "https://localhost:8080/"
        },
        "outputId": "7296e63c-265e-480b-c6a8-d25aed9c905a"
      },
      "execution_count": null,
      "outputs": [
        {
          "output_type": "execute_result",
          "data": {
            "text/plain": [
              "(<tf.Tensor: shape=(2, 3, 4, 5), dtype=float16, numpy=\n",
              " array([[[[1., 1., 1., 1., 1.],\n",
              "          [1., 1., 1., 1., 1.],\n",
              "          [1., 1., 1., 1., 1.],\n",
              "          [1., 1., 1., 1., 1.]],\n",
              " \n",
              "         [[1., 1., 1., 1., 1.],\n",
              "          [1., 1., 1., 1., 1.],\n",
              "          [1., 1., 1., 1., 1.],\n",
              "          [1., 1., 1., 1., 1.]],\n",
              " \n",
              "         [[1., 1., 1., 1., 1.],\n",
              "          [1., 1., 1., 1., 1.],\n",
              "          [1., 1., 1., 1., 1.],\n",
              "          [1., 1., 1., 1., 1.]]],\n",
              " \n",
              " \n",
              "        [[[1., 1., 1., 1., 1.],\n",
              "          [1., 1., 1., 1., 1.],\n",
              "          [1., 1., 1., 1., 1.],\n",
              "          [1., 1., 1., 1., 1.]],\n",
              " \n",
              "         [[1., 1., 1., 1., 1.],\n",
              "          [1., 1., 1., 1., 1.],\n",
              "          [1., 1., 1., 1., 1.],\n",
              "          [1., 1., 1., 1., 1.]],\n",
              " \n",
              "         [[1., 1., 1., 1., 1.],\n",
              "          [1., 1., 1., 1., 1.],\n",
              "          [1., 1., 1., 1., 1.],\n",
              "          [1., 1., 1., 1., 1.]]]], dtype=float16)>,\n",
              " TensorShape([2, 3, 4, 5]),\n",
              " <tf.Tensor: shape=(), dtype=int32, numpy=120>,\n",
              " 4)"
            ]
          },
          "metadata": {},
          "execution_count": 32
        }
      ]
    },
    {
      "cell_type": "code",
      "source": [
        "# Get various attributes of our tensor - \"pretty print method\" - really cool snippet to actually get imp metadata of a tensor\n",
        "print(\"Datatype of every element:\", tensor_1.dtype)\n",
        "print(\"Shape of the tensor:\", tensor_1.shape)\n",
        "print(\"Number of dimensions of the tensor:\", tensor_1.ndim)\n",
        "print(\"Elements along the 0 axis:\", tensor_1.shape[0])\n",
        "print(\"Elements along the last axis:\", tensor_1.shape[-1])\n",
        "print(\"Total number of elements in the tensor\", tf.size(tensor_1))\n",
        "print(\"Total number of elements in the tensor\", tf.size(tensor_1).numpy())"
      ],
      "metadata": {
        "colab": {
          "base_uri": "https://localhost:8080/"
        },
        "id": "UxyyB1mTG47s",
        "outputId": "03a7ae08-cb69-4c89-b346-407b5e88557d"
      },
      "execution_count": null,
      "outputs": [
        {
          "output_type": "stream",
          "name": "stdout",
          "text": [
            "Datatype of every element: <dtype: 'float16'>\n",
            "Shape of the tensor: (2, 3, 4, 5)\n",
            "Number of dimensions of the tensor: 4\n",
            "Elements along the 0 axis: 2\n",
            "Elements along the last axis: 5\n",
            "Total number of elements in the tensor tf.Tensor(120, shape=(), dtype=int32)\n",
            "Total number of elements in the tensor 120\n"
          ]
        }
      ]
    },
    {
      "cell_type": "markdown",
      "source": [
        "## Indexing & expanding tensors\n",
        "\n",
        "Tensors can be indexed just like Python lists"
      ],
      "metadata": {
        "id": "c4ziTeZWIALI"
      }
    },
    {
      "cell_type": "code",
      "source": [
        "# Get the 1st 2 elements of each dimension\n",
        "\n",
        "first_2_elems = tensor_1[:2,:2,:2,:2]\n",
        "\n",
        "# Get all elements, except the final one, from each dimension \n",
        "\n",
        "except_last_dim = tensor_1[:-1,:-1,:-1,:-1]\n",
        "\n",
        "# Get the 1st element from each dimension from each each index, except for the final one\n",
        "\n",
        "a = tensor_1[:1,:1,:1,:]"
      ],
      "metadata": {
        "colab": {
          "base_uri": "https://localhost:8080/"
        },
        "id": "hoGLEIo7ITkS",
        "outputId": "dfbcda9d-4690-4fa3-d986-710903a6aa65"
      },
      "execution_count": null,
      "outputs": [
        {
          "output_type": "execute_result",
          "data": {
            "text/plain": [
              "<tf.Tensor: shape=(1, 1, 1, 5), dtype=float16, numpy=array([[[[1., 1., 1., 1., 1.]]]], dtype=float16)>"
            ]
          },
          "metadata": {},
          "execution_count": 38
        }
      ]
    },
    {
      "cell_type": "code",
      "source": [
        "# For rank 2 tensors\n",
        "\n",
        "\n",
        "rank_2_tensor = tf.constant([[10,7], [32,3]])\n",
        "# Get the last item of each row of a rank 2 tensor\n",
        "\n",
        "k = rank_2_tensor[:,-1]\n",
        "\n",
        "k"
      ],
      "metadata": {
        "colab": {
          "base_uri": "https://localhost:8080/"
        },
        "id": "4NqhYydVI6EQ",
        "outputId": "7a3edc83-d01f-4bf5-d428-b055a7b7eda7"
      },
      "execution_count": null,
      "outputs": [
        {
          "output_type": "execute_result",
          "data": {
            "text/plain": [
              "<tf.Tensor: shape=(2,), dtype=int32, numpy=array([7, 3], dtype=int32)>"
            ]
          },
          "metadata": {},
          "execution_count": 43
        }
      ]
    },
    {
      "cell_type": "code",
      "source": [
        "# Add in extra dimension to our rank-2 tensor\n",
        "# The \"...\" notation helps specify all axes of the tensor we are adding an extra dimension to\n",
        "rank_3_tensor = rank_2_tensor[..., tf.newaxis]\n",
        "\n",
        "# Alternative method - manually specify all axes for the tensor we are mutating\n",
        "# rank_3_tensor = rank_2_tensor[:,:, tf.newaxis]\n",
        "\n",
        "rank_3_tensor"
      ],
      "metadata": {
        "colab": {
          "base_uri": "https://localhost:8080/"
        },
        "id": "h8_dEYFpJ0Zc",
        "outputId": "6bf31bd0-9122-4a5e-802b-73dd600e8b2e"
      },
      "execution_count": null,
      "outputs": [
        {
          "output_type": "execute_result",
          "data": {
            "text/plain": [
              "<tf.Tensor: shape=(2, 2, 1), dtype=int32, numpy=\n",
              "array([[[10],\n",
              "        [ 7]],\n",
              "\n",
              "       [[32],\n",
              "        [ 3]]], dtype=int32)>"
            ]
          },
          "metadata": {},
          "execution_count": 45
        }
      ]
    },
    {
      "cell_type": "code",
      "source": [
        "# Alternative to tf.newaxis\n",
        "tf.expand_dims(rank_2_tensor, axis=-1) # \"-1\" means expand on the final axis"
      ],
      "metadata": {
        "colab": {
          "base_uri": "https://localhost:8080/"
        },
        "id": "9Tf6_nOWKXfq",
        "outputId": "33995979-bd6c-47ce-bf63-5d8c8b67df0b"
      },
      "execution_count": null,
      "outputs": [
        {
          "output_type": "execute_result",
          "data": {
            "text/plain": [
              "<tf.Tensor: shape=(2, 2, 1), dtype=int32, numpy=\n",
              "array([[[10],\n",
              "        [ 7]],\n",
              "\n",
              "       [[32],\n",
              "        [ 3]]], dtype=int32)>"
            ]
          },
          "metadata": {},
          "execution_count": 46
        }
      ]
    },
    {
      "cell_type": "code",
      "source": [
        "# Expanding along 0-th axis\n",
        "tf.expand_dims(rank_2_tensor, axis=0)"
      ],
      "metadata": {
        "colab": {
          "base_uri": "https://localhost:8080/"
        },
        "id": "fASuFRPfLBK5",
        "outputId": "742db949-d438-4c73-cb63-ae3cfeb19e0a"
      },
      "execution_count": null,
      "outputs": [
        {
          "output_type": "execute_result",
          "data": {
            "text/plain": [
              "<tf.Tensor: shape=(1, 2, 2), dtype=int32, numpy=\n",
              "array([[[10,  7],\n",
              "        [32,  3]]], dtype=int32)>"
            ]
          },
          "metadata": {},
          "execution_count": 47
        }
      ]
    },
    {
      "cell_type": "markdown",
      "source": [
        "## Manipulating tensors (tensor operations)\n",
        "\n",
        "\n",
        "**Basic operations** - `+`, `-`, `/`, `*`"
      ],
      "metadata": {
        "id": "r_rZPOs3LTEE"
      }
    },
    {
      "cell_type": "code",
      "source": [
        "# Original tensor is unchanged\n",
        "\n",
        "tensor1 = tf.constant([[10,7],[3,4]])\n",
        "tensor2 = tensor1+10\n",
        "tensor3 = tensor1*10\n",
        "\n",
        "tensor2, tensor3"
      ],
      "metadata": {
        "colab": {
          "base_uri": "https://localhost:8080/"
        },
        "id": "yC8Hlf0YLYrY",
        "outputId": "73c2bee3-4bfd-4ef4-f439-ad099dc06818"
      },
      "execution_count": null,
      "outputs": [
        {
          "output_type": "execute_result",
          "data": {
            "text/plain": [
              "(<tf.Tensor: shape=(2, 2), dtype=int32, numpy=\n",
              " array([[20, 17],\n",
              "        [13, 14]], dtype=int32)>, <tf.Tensor: shape=(2, 2), dtype=int32, numpy=\n",
              " array([[100,  70],\n",
              "        [ 30,  40]], dtype=int32)>)"
            ]
          },
          "metadata": {},
          "execution_count": 49
        }
      ]
    },
    {
      "cell_type": "code",
      "source": [
        "# We can use the tensorflow function as well\n",
        "tf.subtract(tensor1, 3)\n",
        "\n",
        "# Alternative\n",
        "# tf.math.subtract(tensor1,3)"
      ],
      "metadata": {
        "colab": {
          "base_uri": "https://localhost:8080/"
        },
        "id": "LmN6ZLkgMRGt",
        "outputId": "b6fa9688-f0fa-45d6-b658-a396b276cf77"
      },
      "execution_count": null,
      "outputs": [
        {
          "output_type": "execute_result",
          "data": {
            "text/plain": [
              "<tf.Tensor: shape=(2, 2), dtype=int32, numpy=\n",
              "array([[7, 4],\n",
              "       [0, 1]], dtype=int32)>"
            ]
          },
          "metadata": {},
          "execution_count": 50
        }
      ]
    },
    {
      "cell_type": "markdown",
      "source": [
        "**Matrix Multiplication**\n",
        "\n",
        " In machine learning, matrix multiplication is one of the the common tensor operations\n",
        "\n",
        " Use this online tool - matrixmultiplication.xyz to better understand how matrix multiplication works"
      ],
      "metadata": {
        "id": "YDalrXo0MyHQ"
      }
    },
    {
      "cell_type": "code",
      "source": [
        "# Matrix multiplication in tensorflow\n",
        "\n",
        "# Can use the \"tf.linalg.matmul\" or its short form - \"tf.matmul\" for multiplying 2 matrices in tf\n",
        "mt_1 = tf.constant([[[1,2,5], [7,2,1],[3,3,3]]])\n",
        "mt_2 = tf.constant([[3,5], [6,7], [1,8]])\n",
        "\n",
        "\n",
        "mt_mult = tf.matmul(mt_1, mt_2)\n",
        "\n",
        "mt_mult"
      ],
      "metadata": {
        "colab": {
          "base_uri": "https://localhost:8080/"
        },
        "id": "CM6jtrAdNm3j",
        "outputId": "c8f78a42-527d-4403-eeea-d46492591b16"
      },
      "execution_count": null,
      "outputs": [
        {
          "output_type": "execute_result",
          "data": {
            "text/plain": [
              "<tf.Tensor: shape=(1, 3, 2), dtype=int32, numpy=\n",
              "array([[[20, 59],\n",
              "        [34, 57],\n",
              "        [30, 60]]], dtype=int32)>"
            ]
          },
          "metadata": {},
          "execution_count": 51
        }
      ]
    },
    {
      "cell_type": "code",
      "source": [
        "# Matrix multiplication using Python operator - \"@\"\n",
        "\n",
        "mt_1@mt_2"
      ],
      "metadata": {
        "colab": {
          "base_uri": "https://localhost:8080/"
        },
        "id": "S3dgR8FwOPLj",
        "outputId": "5988b12b-fbda-4228-88ca-955a8ba52c6d"
      },
      "execution_count": null,
      "outputs": [
        {
          "output_type": "execute_result",
          "data": {
            "text/plain": [
              "<tf.Tensor: shape=(1, 3, 2), dtype=int32, numpy=\n",
              "array([[[20, 59],\n",
              "        [34, 57],\n",
              "        [30, 60]]], dtype=int32)>"
            ]
          },
          "metadata": {},
          "execution_count": 52
        }
      ]
    },
    {
      "cell_type": "code",
      "source": [
        "### Changing the shape of a tensor\n",
        "mt_reshaped = tf.reshape(mt_1, shape=(3,3))\n",
        "mt_1@mt_reshaped"
      ],
      "metadata": {
        "id": "Lfsrla5VOY4s",
        "colab": {
          "base_uri": "https://localhost:8080/"
        },
        "outputId": "837ac751-f2e4-4101-fe5d-af61b27a9692"
      },
      "execution_count": 54,
      "outputs": [
        {
          "output_type": "execute_result",
          "data": {
            "text/plain": [
              "<tf.Tensor: shape=(1, 3, 3), dtype=int32, numpy=\n",
              "array([[[30, 21, 22],\n",
              "        [24, 21, 40],\n",
              "        [33, 21, 27]]], dtype=int32)>"
            ]
          },
          "metadata": {},
          "execution_count": 54
        }
      ]
    },
    {
      "cell_type": "code",
      "source": [
        "mt_reshaped.shape, mt_1.shape"
      ],
      "metadata": {
        "colab": {
          "base_uri": "https://localhost:8080/"
        },
        "id": "NENssu75Pchw",
        "outputId": "6333563f-8840-405f-f566-26af9055235f"
      },
      "execution_count": 55,
      "outputs": [
        {
          "output_type": "execute_result",
          "data": {
            "text/plain": [
              "(TensorShape([3, 3]), TensorShape([1, 3, 3]))"
            ]
          },
          "metadata": {},
          "execution_count": 55
        }
      ]
    },
    {
      "cell_type": "code",
      "source": [
        "# Transpose\n",
        "# Difference between transpose & reshape is that transpose actually switches row elems with column elements whereas\n",
        "# reshape feels to just collate all elements in a list & then puts them one by one into the new form\n",
        "# Thus, transpose is flipping the axes whereas reshaping is just reshuffling\n",
        "\n",
        "X = tf.constant([[1,2],[3,4],[5,6]], dtype = tf.float16)\n",
        "X, tf.transpose(X), tf.reshape(X, shape=(2,3))\n"
      ],
      "metadata": {
        "colab": {
          "base_uri": "https://localhost:8080/"
        },
        "id": "6SmBYpIdPpSr",
        "outputId": "004182e4-c880-44e4-a42c-a2d0a2313a72"
      },
      "execution_count": 57,
      "outputs": [
        {
          "output_type": "execute_result",
          "data": {
            "text/plain": [
              "(<tf.Tensor: shape=(3, 2), dtype=float16, numpy=\n",
              " array([[1., 2.],\n",
              "        [3., 4.],\n",
              "        [5., 6.]], dtype=float16)>,\n",
              " <tf.Tensor: shape=(2, 3), dtype=float16, numpy=\n",
              " array([[1., 3., 5.],\n",
              "        [2., 4., 6.]], dtype=float16)>,\n",
              " <tf.Tensor: shape=(2, 3), dtype=float16, numpy=\n",
              " array([[1., 2., 3.],\n",
              "        [4., 5., 6.]], dtype=float16)>)"
            ]
          },
          "metadata": {},
          "execution_count": 57
        }
      ]
    },
    {
      "cell_type": "markdown",
      "source": [
        "**The dot product**\n",
        "\n",
        "\n",
        "Matrix multiplication is also referred to as the dot product\n",
        "\n",
        "* `tf.matmul()`\n",
        "* `tf.tensordot()`\n",
        "* `@` operator"
      ],
      "metadata": {
        "id": "8JREOOrgPs0T"
      }
    },
    {
      "cell_type": "code",
      "source": [
        "Y = tf.constant([[1,2], [3,4]], dtype=tf.float16)\n",
        "\n",
        "Y.shape, X.shape, tf.transpose(X).shape"
      ],
      "metadata": {
        "colab": {
          "base_uri": "https://localhost:8080/"
        },
        "id": "UCgWq_rJQ6-L",
        "outputId": "ba962b82-b1ed-4c7f-c77b-f1b8accee8ec"
      },
      "execution_count": 61,
      "outputs": [
        {
          "output_type": "execute_result",
          "data": {
            "text/plain": [
              "(TensorShape([2, 2]), TensorShape([3, 2]), TensorShape([2, 3]))"
            ]
          },
          "metadata": {},
          "execution_count": 61
        }
      ]
    },
    {
      "cell_type": "code",
      "source": [
        "# Refer docs of tensordot for reference - https://www.tensorflow.org/api_docs/python/tf/tensordot\n",
        "# axes = 1 refers to matrix multiplication\n",
        "tf.tensordot(Y, tf.transpose(X), axes =1)"
      ],
      "metadata": {
        "colab": {
          "base_uri": "https://localhost:8080/"
        },
        "id": "lXsZRlJfRKD-",
        "outputId": "a77d6fe6-d1f4-447c-de7c-72f97345fd3a"
      },
      "execution_count": 62,
      "outputs": [
        {
          "output_type": "execute_result",
          "data": {
            "text/plain": [
              "<tf.Tensor: shape=(2, 3), dtype=float16, numpy=\n",
              "array([[ 5., 11., 17.],\n",
              "       [11., 25., 39.]], dtype=float16)>"
            ]
          },
          "metadata": {},
          "execution_count": 62
        }
      ]
    },
    {
      "cell_type": "code",
      "source": [
        "# At every step, log the shape to better understand what is getting multiplied\n",
        "\n",
        "# Perform matrix multiplication using transpose\n",
        "X.shape, Y.shape\n",
        "\n",
        "matmul_1 = tf.matmul(Y, tf.transpose(X))\n",
        "\n",
        "# Perform matrix multiplication using reshape\n",
        "matmul_2 = tf.matmul(tf.reshape(X, shape=(3,2)),Y)\n",
        "\n",
        "matmul_1, matmul_2"
      ],
      "metadata": {
        "colab": {
          "base_uri": "https://localhost:8080/"
        },
        "id": "OoId1mgyRSXC",
        "outputId": "21c910c7-09fd-4964-9549-9ab4ed79e3ad"
      },
      "execution_count": 65,
      "outputs": [
        {
          "output_type": "execute_result",
          "data": {
            "text/plain": [
              "(<tf.Tensor: shape=(2, 3), dtype=float16, numpy=\n",
              " array([[ 5., 11., 17.],\n",
              "        [11., 25., 39.]], dtype=float16)>,\n",
              " <tf.Tensor: shape=(3, 2), dtype=float16, numpy=\n",
              " array([[ 7., 10.],\n",
              "        [15., 22.],\n",
              "        [23., 34.]], dtype=float16)>)"
            ]
          },
          "metadata": {},
          "execution_count": 65
        }
      ]
    },
    {
      "cell_type": "markdown",
      "source": [
        "## Change the data type of a tensor"
      ],
      "metadata": {
        "id": "5Nq_hgOKR9VH"
      }
    },
    {
      "cell_type": "code",
      "source": [
        "B = tf.constant(7.3)\n",
        "C = tf.constant(2)\n",
        "\n",
        "# Change from float32 to float16 (reduced precision)\n",
        "\n",
        "D = tf.cast(B, dtype=tf.float16)\n",
        "\n",
        "B.dtype, C.dtype, D.dtype"
      ],
      "metadata": {
        "colab": {
          "base_uri": "https://localhost:8080/"
        },
        "id": "bs_Pan2uTRI2",
        "outputId": "9d250a38-445d-41b1-c14d-81b81c148556"
      },
      "execution_count": 70,
      "outputs": [
        {
          "output_type": "execute_result",
          "data": {
            "text/plain": [
              "(tf.float32, tf.int32, tf.float16)"
            ]
          },
          "metadata": {},
          "execution_count": 70
        }
      ]
    },
    {
      "cell_type": "markdown",
      "source": [
        "## Aggregating tensors\n",
        "\n",
        "\n",
        "Aggregating tensors = condensing them from multiple values down to a smaller amount of values"
      ],
      "metadata": {
        "id": "3KTynBxBToBd"
      }
    },
    {
      "cell_type": "code",
      "source": [
        "# Get the absolute value\n",
        "E = tf.constant([-7,-10])\n",
        "\n",
        "tf.abs(E)"
      ],
      "metadata": {
        "colab": {
          "base_uri": "https://localhost:8080/"
        },
        "id": "DMO6RSvxTzh8",
        "outputId": "12880088-cf7b-4124-8660-3811a796822b"
      },
      "execution_count": 71,
      "outputs": [
        {
          "output_type": "execute_result",
          "data": {
            "text/plain": [
              "<tf.Tensor: shape=(2,), dtype=int32, numpy=array([ 7, 10], dtype=int32)>"
            ]
          },
          "metadata": {},
          "execution_count": 71
        }
      ]
    },
    {
      "cell_type": "markdown",
      "source": [
        "Aggregation functions\n",
        "* mean\n",
        "* minimum\n",
        "* maximum\n",
        "* sum"
      ],
      "metadata": {
        "id": "NHg4oQ1gUakV"
      }
    },
    {
      "cell_type": "code",
      "source": [
        "F = tf.constant(np.random.randint(-6, 8, size=(2,3,4)))\n",
        "F"
      ],
      "metadata": {
        "colab": {
          "base_uri": "https://localhost:8080/"
        },
        "id": "FYhFBNzoUgr3",
        "outputId": "ecd0dc0a-974d-4dc0-e4e9-322f39d87043"
      },
      "execution_count": 75,
      "outputs": [
        {
          "output_type": "execute_result",
          "data": {
            "text/plain": [
              "<tf.Tensor: shape=(2, 3, 4), dtype=int64, numpy=\n",
              "array([[[ 2,  5,  7,  5],\n",
              "        [ 5,  6, -5, -4],\n",
              "        [-5,  3,  4, -5]],\n",
              "\n",
              "       [[ 0, -1, -5,  2],\n",
              "        [ 6,  0,  4, -5],\n",
              "        [-2,  4, -3,  0]]])>"
            ]
          },
          "metadata": {},
          "execution_count": 75
        }
      ]
    },
    {
      "cell_type": "code",
      "source": [
        "max_along_y = tf.math.reduce_max(F, axis=1)\n",
        "mean_along_z = tf.reduce_mean(F, axis=0)\n",
        "min_along_x = tf.reduce_min(F, axis=2)\n",
        "sum_along_x = tf.reduce_sum(F, axis=2)\n",
        "\n",
        "\n",
        "# 🔴 Variance and standard deviation can only be calculated if dtype of tensor's elements is float \n",
        "# Also, in variance & std. dev. we don't have the direct aliasing available, so we have to go through tf.math.FUNCTION approach\n",
        "F = tf.cast(F,dtype = tf.float16)\n",
        "var_along_y = tf.math.reduce_variance(F, axis=1)\n",
        "std_along_z = tf.math.reduce_std(F, axis=0)\n",
        "\n",
        "\n",
        "print(\"Min along x:\",\"\\n\", min_along_x,\"\\n\")\n",
        "print(\"Sum along x:\",\"\\n\", sum_along_x,\"\\n\")\n",
        "print(\"Max along y:\",\"\\n\",max_along_y, \"\\n\")\n",
        "print(\"Mean along z:\",\"\\n\",mean_along_z,\"\\n\")\n",
        "print(\"Variance along y\", \"\\n\", var_along_y,\"\\n\")\n",
        "print(\"Std dev along y\", \"\\n\", std_along_z,\"\\n\")"
      ],
      "metadata": {
        "colab": {
          "base_uri": "https://localhost:8080/"
        },
        "id": "GFMNfgZjU2gH",
        "outputId": "dd06beca-ce41-48c1-ac71-2ef591431bed"
      },
      "execution_count": 90,
      "outputs": [
        {
          "output_type": "stream",
          "name": "stdout",
          "text": [
            "Min along x: \n",
            " tf.Tensor(\n",
            "[[ 2 -5 -5]\n",
            " [-5 -5 -3]], shape=(2, 3), dtype=int64) \n",
            "\n",
            "Sum along x: \n",
            " tf.Tensor(\n",
            "[[19  2 -3]\n",
            " [-4  5 -1]], shape=(2, 3), dtype=int64) \n",
            "\n",
            "Max along y: \n",
            " tf.Tensor(\n",
            "[[5 6 7 5]\n",
            " [6 4 4 2]], shape=(2, 4), dtype=int64) \n",
            "\n",
            "Mean along z: \n",
            " tf.Tensor(\n",
            "[[ 1  2  1  3]\n",
            " [ 5  3  0 -4]\n",
            " [-3  3  0 -2]], shape=(3, 4), dtype=int64) \n",
            "\n",
            "Variance along y \n",
            " tf.Tensor(\n",
            "[[17.56   1.555 26.    20.23 ]\n",
            " [11.56   4.668 14.88   8.664]], shape=(2, 4), dtype=float16) \n",
            "\n",
            "Std dev along y \n",
            " tf.Tensor(\n",
            "[[1.  3.  6.  1.5]\n",
            " [0.5 3.  4.5 0.5]\n",
            " [1.5 0.5 3.5 2.5]], shape=(3, 4), dtype=float16) \n",
            "\n"
          ]
        }
      ]
    },
    {
      "cell_type": "markdown",
      "source": [
        "**Find the positional max & min of a tensor**\n",
        "\n",
        "Returns the \"position\" (aka the \"index\") of the dimension, where the maximum value occurs"
      ],
      "metadata": {
        "id": "QeynLu0yVJiD"
      }
    },
    {
      "cell_type": "code",
      "source": [
        "argmin_along_x = tf.math.argmin(F, axis=2)\n",
        "argmax_along_y = tf.argmax(F, axis=1)\n",
        "\n",
        "argmin_along_x, argmax_along_y\n",
        "\n",
        "\n",
        "# Checking that the argmax does indeed have the maximum value, using a simple vector\n",
        "np_A = np.random.randint(1,100, size=(1,100))\n",
        "A = tf.constant(np_A)\n",
        "argmax_index = tf.argmax(A, axis=1).numpy()[0]\n",
        "value_at_argmax_index = A[0, argmax_index]\n",
        "max_value = tf.reduce_max(A, axis=1)\n",
        "value_at_argmax_index.numpy() == max_value.numpy()[0]"
      ],
      "metadata": {
        "colab": {
          "base_uri": "https://localhost:8080/"
        },
        "id": "saiiP19wYUAD",
        "outputId": "aeed3b1e-2360-4f57-f19d-9b232773840b"
      },
      "execution_count": 135,
      "outputs": [
        {
          "output_type": "execute_result",
          "data": {
            "text/plain": [
              "True"
            ]
          },
          "metadata": {},
          "execution_count": 135
        }
      ]
    },
    {
      "cell_type": "code",
      "source": [
        "## Squeezing a tensor (removing all single dimensions)\n",
        "tf.random.set_seed(32)\n",
        "G = tf.constant(tf.random.uniform(shape=[50]), shape=(1,1,1,1,50))\n",
        "G_squeezed = tf.squeeze(G)\n",
        "G.shape, G_squeezed.shape"
      ],
      "metadata": {
        "colab": {
          "base_uri": "https://localhost:8080/"
        },
        "id": "kBT5MlIrYkPh",
        "outputId": "33b69aa0-f057-41bf-fbdb-dce4f585de34"
      },
      "execution_count": 140,
      "outputs": [
        {
          "output_type": "execute_result",
          "data": {
            "text/plain": [
              "(TensorShape([1, 1, 1, 1, 50]), TensorShape([50]))"
            ]
          },
          "metadata": {},
          "execution_count": 140
        }
      ]
    },
    {
      "cell_type": "markdown",
      "source": [
        "## One-hot encoding tensors"
      ],
      "metadata": {
        "id": "YIo_aMR2eDPc"
      }
    },
    {
      "cell_type": "code",
      "source": [
        "some_list = [0,1,2,3]\n",
        "\n",
        "\n",
        "hot_list = tf.one_hot(some_list, depth=3)\n",
        "custom_hot_list = tf.one_hot(some_list, depth=3, on_value=\"hot\", off_value=\"not_hot\")\n",
        "\n",
        "custom_hot_list, hot_list"
      ],
      "metadata": {
        "colab": {
          "base_uri": "https://localhost:8080/"
        },
        "id": "tPz6iiuaeae4",
        "outputId": "6e36613f-ffdf-48cf-c235-f48c9024f7ad"
      },
      "execution_count": 141,
      "outputs": [
        {
          "output_type": "execute_result",
          "data": {
            "text/plain": [
              "<tf.Tensor: shape=(4, 3), dtype=string, numpy=\n",
              "array([[b'hot', b'not_hot', b'not_hot'],\n",
              "       [b'not_hot', b'hot', b'not_hot'],\n",
              "       [b'not_hot', b'not_hot', b'hot'],\n",
              "       [b'not_hot', b'not_hot', b'not_hot']], dtype=object)>"
            ]
          },
          "metadata": {},
          "execution_count": 141
        }
      ]
    },
    {
      "cell_type": "code",
      "source": [
        "### Squaring, log & square root\n",
        "\n",
        "test_tens = tf.constant(tf.random.uniform(shape=[20]))\n",
        "\n",
        "squared = tf.square(test_tens)\n",
        "square_rooted = tf.sqrt(tf.cast(test_tens, dtype=tf.float16))\n",
        "logged = tf.math.log(tf.cast(test_tens, dtype=tf.float16))\n",
        "\n",
        "squared, square_rooted, logged\n"
      ],
      "metadata": {
        "colab": {
          "base_uri": "https://localhost:8080/"
        },
        "id": "wQN-d61veoPD",
        "outputId": "15e903cd-0663-48d0-cfbe-8b727d0f6248"
      },
      "execution_count": 144,
      "outputs": [
        {
          "output_type": "execute_result",
          "data": {
            "text/plain": [
              "(<tf.Tensor: shape=(20,), dtype=float32, numpy=\n",
              " array([0.05311766, 0.3849961 , 0.03988442, 0.36892167, 0.09287407,\n",
              "        0.0576881 , 0.06397801, 0.04706929, 0.0845518 , 0.00797201,\n",
              "        0.03328406, 0.05310304, 0.00126246, 0.58098394, 0.09871485,\n",
              "        0.297688  , 0.82422805, 0.02037134, 0.5831851 , 0.9188174 ],\n",
              "       dtype=float32)>, <tf.Tensor: shape=(20,), dtype=float16, numpy=\n",
              " array([0.48  , 0.7876, 0.4468, 0.7793, 0.552 , 0.4902, 0.503 , 0.4658,\n",
              "        0.539 , 0.2988, 0.4272, 0.48  , 0.1885, 0.873 , 0.5605, 0.7383,\n",
              "        0.9526, 0.3777, 0.874 , 0.979 ], dtype=float16)>, <tf.Tensor: shape=(20,), dtype=float16, numpy=\n",
              " array([-1.468 , -0.477 , -1.611 , -0.4985, -1.188 , -1.426 , -1.375 ,\n",
              "        -1.528 , -1.235 , -2.416 , -1.701 , -1.468 , -3.338 , -0.2715,\n",
              "        -1.157 , -0.6064, -0.0968, -1.947 , -0.2695, -0.0424],\n",
              "       dtype=float16)>)"
            ]
          },
          "metadata": {},
          "execution_count": 144
        }
      ]
    },
    {
      "cell_type": "markdown",
      "source": [
        "## Tensors & NumPy\n",
        "\n",
        "Tensorflow interacts beautifully (interoperability) with NumPy arrays\n",
        "\n",
        "🔑 Tensor can be run much better on a GPU or TPU (for faster numerical processing)"
      ],
      "metadata": {
        "id": "ppFedoUMfQuD"
      }
    },
    {
      "cell_type": "code",
      "source": [
        " # Create a tensor directly from a numpy array\n",
        "\n",
        " tensor = tf.constant(np.array([1,2,3,4]))\n",
        "\n",
        " # Convert tensor into numpy array\n",
        "\n",
        " np_array = np.array(tensor)\n",
        "\n",
        " tensor, np_array, type(np.array(tensor))"
      ],
      "metadata": {
        "colab": {
          "base_uri": "https://localhost:8080/"
        },
        "id": "qmVCtYU4f1Fd",
        "outputId": "39a29585-e4cb-4708-cdbd-b975e7b6abc3"
      },
      "execution_count": 145,
      "outputs": [
        {
          "output_type": "execute_result",
          "data": {
            "text/plain": [
              "(<tf.Tensor: shape=(4,), dtype=int64, numpy=array([1, 2, 3, 4])>,\n",
              " array([1, 2, 3, 4]),\n",
              " numpy.ndarray)"
            ]
          },
          "metadata": {},
          "execution_count": 145
        }
      ]
    },
    {
      "cell_type": "code",
      "source": [
        "# The \"default types\" of each are slightly different\n",
        "numpy_J = tf.constant(np.array([1.1])) # Creating tensor from np array -> dtype is float64\n",
        "tensor_J = tf.constant([1.1]) # Creating tensor from python list -> dtype is float32\n",
        "\n",
        "numpy_J.dtype, tensor_J.dtype"
      ],
      "metadata": {
        "colab": {
          "base_uri": "https://localhost:8080/"
        },
        "id": "0KqFDWrDgHW4",
        "outputId": "6e04e18b-d6e8-4f09-c331-f5faf87f9569"
      },
      "execution_count": 147,
      "outputs": [
        {
          "output_type": "execute_result",
          "data": {
            "text/plain": [
              "(tf.float64, tf.float32)"
            ]
          },
          "metadata": {},
          "execution_count": 147
        }
      ]
    },
    {
      "cell_type": "markdown",
      "source": [
        "## Access to GPUs"
      ],
      "metadata": {
        "id": "iAZM8QU7grbr"
      }
    },
    {
      "cell_type": "code",
      "source": [
        "import tensorflow as tf\n",
        "tf.config.list_physical_devices()\n",
        "\n",
        "tf.config.list_physical_devices(\"GPU\")"
      ],
      "metadata": {
        "colab": {
          "base_uri": "https://localhost:8080/"
        },
        "id": "ebur4zyehTxk",
        "outputId": "bf64fefe-8182-4990-e6b3-35a05eb43418"
      },
      "execution_count": 2,
      "outputs": [
        {
          "output_type": "execute_result",
          "data": {
            "text/plain": [
              "[PhysicalDevice(name='/physical_device:GPU:0', device_type='GPU')]"
            ]
          },
          "metadata": {},
          "execution_count": 2
        }
      ]
    },
    {
      "cell_type": "code",
      "source": [
        "# Get info on which type of GPU are we using\n",
        " !nvidia-smi"
      ],
      "metadata": {
        "colab": {
          "base_uri": "https://localhost:8080/"
        },
        "id": "U5XvXPcLhbuH",
        "outputId": "9d0050f7-8dc9-4ce4-af2f-85dbf2330a55"
      },
      "execution_count": 3,
      "outputs": [
        {
          "output_type": "stream",
          "name": "stdout",
          "text": [
            "Fri Nov 18 11:39:39 2022       \n",
            "+-----------------------------------------------------------------------------+\n",
            "| NVIDIA-SMI 460.32.03    Driver Version: 460.32.03    CUDA Version: 11.2     |\n",
            "|-------------------------------+----------------------+----------------------+\n",
            "| GPU  Name        Persistence-M| Bus-Id        Disp.A | Volatile Uncorr. ECC |\n",
            "| Fan  Temp  Perf  Pwr:Usage/Cap|         Memory-Usage | GPU-Util  Compute M. |\n",
            "|                               |                      |               MIG M. |\n",
            "|===============================+======================+======================|\n",
            "|   0  Tesla T4            Off  | 00000000:00:04.0 Off |                    0 |\n",
            "| N/A   61C    P8    11W /  70W |      3MiB / 15109MiB |      0%      Default |\n",
            "|                               |                      |                  N/A |\n",
            "+-------------------------------+----------------------+----------------------+\n",
            "                                                                               \n",
            "+-----------------------------------------------------------------------------+\n",
            "| Processes:                                                                  |\n",
            "|  GPU   GI   CI        PID   Type   Process name                  GPU Memory |\n",
            "|        ID   ID                                                   Usage      |\n",
            "|=============================================================================|\n",
            "|  No running processes found                                                 |\n",
            "+-----------------------------------------------------------------------------+\n"
          ]
        }
      ]
    },
    {
      "cell_type": "code",
      "source": [
        "🔑 Note: If you have access to a CUDA enabled GPU, tf will use it whenever possible"
      ],
      "metadata": {
        "id": "txaU43_DiD94"
      },
      "execution_count": null,
      "outputs": []
    }
  ]
}