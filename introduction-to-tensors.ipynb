{
  "nbformat": 4,
  "nbformat_minor": 0,
  "metadata": {
    "colab": {
      "provenance": [],
      "authorship_tag": "ABX9TyNPW6u4Z/JA4nxKSBI59J+W",
      "include_colab_link": true
    },
    "kernelspec": {
      "name": "python3",
      "display_name": "Python 3"
    },
    "language_info": {
      "name": "python"
    }
  },
  "cells": [
    {
      "cell_type": "markdown",
      "metadata": {
        "id": "view-in-github",
        "colab_type": "text"
      },
      "source": [
        "<a href=\"https://colab.research.google.com/github/crew-guy/ml-with-tensorflow/blob/main/introduction-to-tensors.ipynb\" target=\"_parent\"><img src=\"https://colab.research.google.com/assets/colab-badge.svg\" alt=\"Open In Colab\"/></a>"
      ]
    },
    {
      "cell_type": "markdown",
      "source": [
        "# In this notebook, we are going to cover some of the most fundamental concepts of tensors using TensorFlow\n",
        "\n",
        "* Introduction to tensors\n",
        "* Getting information from tensors\n",
        "* Manipulating tensors\n",
        "* Tensors & NumPy\n",
        "* Using @tf.function (a way to speed up Python functions)\n",
        "* Using GPUs with tensorflow (or TPUs)"
      ],
      "metadata": {
        "id": "BlU87LzvvOpk"
      }
    },
    {
      "cell_type": "markdown",
      "source": [
        "## Introduction to tensors"
      ],
      "metadata": {
        "id": "rn7N9v3p00FY"
      }
    },
    {
      "cell_type": "code",
      "source": [
        "# Import tensorflow\n",
        "\n",
        "import tensorflow as tf\n",
        "print(tf.__version__)\n"
      ],
      "metadata": {
        "colab": {
          "base_uri": "https://localhost:8080/"
        },
        "id": "9yGoUWMi1SZv",
        "outputId": "dec701c8-4c2f-49d0-e86a-dc9d77dca726"
      },
      "execution_count": null,
      "outputs": [
        {
          "output_type": "stream",
          "name": "stdout",
          "text": [
            "2.9.2\n"
          ]
        }
      ]
    },
    {
      "cell_type": "code",
      "source": [
        " # Create a tensor from a tensor like object\n",
        " scalar = tf.constant(7)\n",
        " print(scalar)"
      ],
      "metadata": {
        "colab": {
          "base_uri": "https://localhost:8080/"
        },
        "id": "gffegzPV1fbh",
        "outputId": "06bd8f66-eed9-47e6-823a-b36d8651392c"
      },
      "execution_count": null,
      "outputs": [
        {
          "output_type": "stream",
          "name": "stdout",
          "text": [
            "tf.Tensor(7, shape=(), dtype=int32)\n"
          ]
        }
      ]
    },
    {
      "cell_type": "code",
      "source": [
        "# Check the number of dimensions of a tensor\n",
        "print(scalar.ndim)  "
      ],
      "metadata": {
        "colab": {
          "base_uri": "https://localhost:8080/"
        },
        "id": "IDHOuAVU1tMW",
        "outputId": "3b20c900-96be-405e-cc2d-419690e5f44e"
      },
      "execution_count": null,
      "outputs": [
        {
          "output_type": "stream",
          "name": "stdout",
          "text": [
            "0\n"
          ]
        }
      ]
    },
    {
      "cell_type": "code",
      "source": [
        "# Create a vector\n",
        "vector = tf.constant([10,10])\n",
        "print(vector)"
      ],
      "metadata": {
        "colab": {
          "base_uri": "https://localhost:8080/"
        },
        "id": "ou35E1aG12t_",
        "outputId": "58506375-4c8e-4e7b-e35c-bd97234a222f"
      },
      "execution_count": null,
      "outputs": [
        {
          "output_type": "stream",
          "name": "stdout",
          "text": [
            "tf.Tensor([10 10], shape=(2,), dtype=int32)\n"
          ]
        }
      ]
    },
    {
      "cell_type": "code",
      "source": [
        "# Create a matrix\n",
        "matrix = tf.constant([[1,2],[3,4]])\n",
        "    print(matrix, matrix.ndim)"
      ],
      "metadata": {
        "colab": {
          "base_uri": "https://localhost:8080/"
        },
        "id": "eeNkuxET1_qZ",
        "outputId": "48f51fcc-0401-481b-ffc3-99c7a56bedf0"
      },
      "execution_count": null,
      "outputs": [
        {
          "output_type": "stream",
          "name": "stdout",
          "text": [
            "tf.Tensor(\n",
            "[[1 2]\n",
            " [3 4]], shape=(2, 2), dtype=int32) 2\n"
          ]
        }
      ]
    },
    {
      "cell_type": "code",
      "source": [
        "# Specify the data type with the dtype parameter\n",
        "matrix2 = tf.constant([\n",
        "    [1.,2.],\n",
        "    [3.,4.],\n",
        "    [5.,6.]\n",
        "    ], dtype = tf.float16)\n",
        "print(matrix2, matrix2.ndim)"
      ],
      "metadata": {
        "colab": {
          "base_uri": "https://localhost:8080/"
        },
        "id": "Cd-9mqLX2ISs",
        "outputId": "2b521ac6-30b9-4a7c-da96-4c8e9de0c054"
      },
      "execution_count": null,
      "outputs": [
        {
          "output_type": "stream",
          "name": "stdout",
          "text": [
            "tf.Tensor(\n",
            "[[1. 2.]\n",
            " [3. 4.]\n",
            " [5. 6.]], shape=(3, 2), dtype=float16) 2\n"
          ]
        }
      ]
    },
    {
      "cell_type": "markdown",
      "source": [
        " ## What we've created so far\n",
        "Scalar: A constant number\n",
        "<br/>\n",
        "Vector: A array of numbers representing a magnitude with a direction (eg: wind speed)\n",
        "<br/>\n",
        "Matrix: A 2-D array of numbers\n",
        "<br/>\n",
        "Tensor: An n-dimensional array of numbers\n"
      ],
      "metadata": {
        "id": "M4FKBmXl2v7Q"
      }
    },
    {
      "cell_type": "markdown",
      "source": [
        "## Creating tensors withh `tf.Variable`"
      ],
      "metadata": {
        "id": "oLQlfWDT3h82"
      }
    },
    {
      "cell_type": "code",
      "source": [
        "changeable_tensor = tf.Variable([10,7])\n",
        "unchangeable_tensor = tf.constant([10,7])\n",
        "\n",
        "changeable_tensor, unchangeable_tensor"
      ],
      "metadata": {
        "colab": {
          "base_uri": "https://localhost:8080/"
        },
        "id": "DL2kDs8k4Tpy",
        "outputId": "89e31b48-61fc-4d5e-9137-3b1e1ea9c492"
      },
      "execution_count": null,
      "outputs": [
        {
          "output_type": "execute_result",
          "data": {
            "text/plain": [
              "(<tf.Variable 'Variable:0' shape=(2,) dtype=int32, numpy=array([10,  7], dtype=int32)>,\n",
              " <tf.Tensor: shape=(2,), dtype=int32, numpy=array([10,  7], dtype=int32)>)"
            ]
          },
          "metadata": {},
          "execution_count": 14
        }
      ]
    },
    {
      "cell_type": "code",
      "source": [
        "# Values inside a changeable_tensor (created with tf.Variable) can be reassigned whereas the same cannot be done for unchangeable_tensor\n",
        "\n",
        "changeable_tensor[0].assign(7)\n",
        "changeable_tensor"
      ],
      "metadata": {
        "colab": {
          "base_uri": "https://localhost:8080/"
        },
        "id": "LhLDI3Ux4bDx",
        "outputId": "bc79dd77-56e9-4632-ffe4-f45966783187"
      },
      "execution_count": null,
      "outputs": [
        {
          "output_type": "execute_result",
          "data": {
            "text/plain": [
              "<tf.Variable 'Variable:0' shape=(2,) dtype=int32, numpy=array([7, 7], dtype=int32)>"
            ]
          },
          "metadata": {},
          "execution_count": 15
        }
      ]
    },
    {
      "cell_type": "markdown",
      "source": [
        "🔑 Note : Rarely in practice, we decide, whether to use tf.constant() or tf.Variable, as Tensorflow does this for use. However, if in doubt, use tf.constant and change it later"
      ],
      "metadata": {
        "id": "Ed7Wqt7y4hMh"
      }
    },
    {
      "cell_type": "markdown",
      "source": [
        "## Creating random tensors\n",
        "Random tensors are tensors of some arbitrary size which contain random numbers\n",
        "\n"
      ],
      "metadata": {
        "id": "9xoYUxck5EU6"
      }
    },
    {
      "cell_type": "code",
      "source": [
        "# Create 2 random (but the same) tensors\n",
        "random_1 = tf.random.Generator.from_seed(42) # set seed for reproducibility\n",
        "random_1 = random_1.normal(shape=(3,2))\n",
        "random_1"
      ],
      "metadata": {
        "colab": {
          "base_uri": "https://localhost:8080/"
        },
        "id": "vkSBURKL67U1",
        "outputId": "72fc032c-7053-4fbe-db6b-955bdd7bb89a"
      },
      "execution_count": null,
      "outputs": [
        {
          "output_type": "execute_result",
          "data": {
            "text/plain": [
              "<tf.Tensor: shape=(3, 2), dtype=float32, numpy=\n",
              "array([[-0.7565803 , -0.06854702],\n",
              "       [ 0.07595026, -1.2573844 ],\n",
              "       [-0.23193763, -1.8107855 ]], dtype=float32)>"
            ]
          },
          "metadata": {},
          "execution_count": 16
        }
      ]
    },
    {
      "cell_type": "code",
      "source": [
        "random_2 = tf.random.Generator.from_seed(42)\n",
        "random_2 = random_2.normal(shape=(3,2))\n",
        "random_1 == random_2"
      ],
      "metadata": {
        "colab": {
          "base_uri": "https://localhost:8080/"
        },
        "id": "AbLqUaOl7c7j",
        "outputId": "5d27e297-f601-4e71-a0b8-62d27f931dc4"
      },
      "execution_count": null,
      "outputs": [
        {
          "output_type": "execute_result",
          "data": {
            "text/plain": [
              "<tf.Tensor: shape=(3, 2), dtype=bool, numpy=\n",
              "array([[ True,  True],\n",
              "       [ True,  True],\n",
              "       [ True,  True]])>"
            ]
          },
          "metadata": {},
          "execution_count": 17
        }
      ]
    },
    {
      "cell_type": "markdown",
      "source": [
        "## Shuffle the order of elements in a tensor\n",
        "\n",
        "Valuable when you want to shuffle your data so that inherent order does not affect learning\n",
        "\n",
        "> Rule : \"If want to make our tensor shuffling reproducible, then we have to specify global & local tensors\""
      ],
      "metadata": {
        "id": "XDgohLLG76Nn"
      }
    },
    {
      "cell_type": "code",
      "source": [
        "# Shuffling a tensor\n",
        "not_shuffled = tf.Variable([[10,7],[6,5],[3,2]])\n",
        "\n",
        "# Using random shuffle - shuffling happens along the outermost dimension, i.e. dimension-0\n",
        "shuffled = tf.random.shuffle(not_shuffled)\n",
        "\n",
        "shuffled"
      ],
      "metadata": {
        "colab": {
          "base_uri": "https://localhost:8080/"
        },
        "id": "2DyMQHWV8F_1",
        "outputId": "956d7350-abd1-48ad-e929-f1ce6dce4d49"
      },
      "execution_count": null,
      "outputs": [
        {
          "output_type": "execute_result",
          "data": {
            "text/plain": [
              "<tf.Tensor: shape=(3, 2), dtype=int32, numpy=\n",
              "array([[ 3,  2],\n",
              "       [10,  7],\n",
              "       [ 6,  5]], dtype=int32)>"
            ]
          },
          "metadata": {},
          "execution_count": 20
        }
      ]
    },
    {
      "cell_type": "code",
      "source": [
        "# Setting a seed for shuffling will allow reproducibity - https://www.tensorflow.org/api_docs/python/tf/random/set_seed\n",
        "# Notion notes for understanding seed - https://www.notion.so/techsoc/Understanding-Seeds-29579a6f8b6c4f4a828cfef8629f09d6\n",
        "\n",
        "# Setting \"global seed\"\n",
        "tf.random.set_seed(22)\n",
        "\n",
        "\n",
        "# Setting operation-level aka \"local seed\"\n",
        "# Local seeds override global seeds\n",
        "tf.random.shuffle(not_shuffled, seed= 21)\n"
      ],
      "metadata": {
        "colab": {
          "base_uri": "https://localhost:8080/"
        },
        "id": "826WIj_s9gih",
        "outputId": "14264666-4bdb-4ca3-bb6c-c53dd8de5497"
      },
      "execution_count": null,
      "outputs": [
        {
          "output_type": "execute_result",
          "data": {
            "text/plain": [
              "<tf.Tensor: shape=(3, 2), dtype=int32, numpy=\n",
              "array([[ 6,  5],\n",
              "       [10,  7],\n",
              "       [ 3,  2]], dtype=int32)>"
            ]
          },
          "metadata": {},
          "execution_count": 26
        }
      ]
    },
    {
      "cell_type": "markdown",
      "source": [
        "## Other ways of creating a tensor"
      ],
      "metadata": {
        "id": "hI7LDzJGAcrO"
      }
    },
    {
      "cell_type": "code",
      "source": [
        "# Using tf.ones & tf.zeros\n",
        "\n",
        "# We can pass the shape of the tensor as an array or a tuple\n",
        "\n",
        "ones_t = tf.ones([3,4], dtype=tf.float16)\n",
        "zeros_t = tf.zeros(shape=(3,3,2))\n",
        "\n",
        "ones_t, zeros_t"
      ],
      "metadata": {
        "colab": {
          "base_uri": "https://localhost:8080/"
        },
        "id": "LDRrQXslEGyv",
        "outputId": "ffccd24f-7be3-4f32-816f-9bd496f19689"
      },
      "execution_count": null,
      "outputs": [
        {
          "output_type": "execute_result",
          "data": {
            "text/plain": [
              "(<tf.Tensor: shape=(3, 4), dtype=float16, numpy=\n",
              " array([[1., 1., 1., 1.],\n",
              "        [1., 1., 1., 1.],\n",
              "        [1., 1., 1., 1.]], dtype=float16)>,\n",
              " <tf.Tensor: shape=(3, 3, 2), dtype=float32, numpy=\n",
              " array([[[0., 0.],\n",
              "         [0., 0.],\n",
              "         [0., 0.]],\n",
              " \n",
              "        [[0., 0.],\n",
              "         [0., 0.],\n",
              "         [0., 0.]],\n",
              " \n",
              "        [[0., 0.],\n",
              "         [0., 0.],\n",
              "         [0., 0.]]], dtype=float32)>)"
            ]
          },
          "metadata": {},
          "execution_count": 28
        }
      ]
    },
    {
      "cell_type": "code",
      "source": [
        "# Creating tensor from NumPy array\n",
        "# Only difference between numpy array & tensors is that tensor computations can be run on a GPU (much faster)\n",
        "\n",
        "import numpy as np\n",
        "numpy_A = np.random.randint(-4, 8, size=(3,4))\n",
        "\n",
        "print(numpy_A)\n",
        "\n",
        "tensor_A = tf.constant(numpy_A, shape=(2,3,2))\n",
        "\n",
        "\n",
        "print(tensor_A)"
      ],
      "metadata": {
        "colab": {
          "base_uri": "https://localhost:8080/"
        },
        "id": "W7I9n2bDEcC_",
        "outputId": "465ca026-ed79-4d54-9816-89234fa94acf"
      },
      "execution_count": null,
      "outputs": [
        {
          "output_type": "stream",
          "name": "stdout",
          "text": [
            "[[ 3 -2 -3  5]\n",
            " [-3  6  5  7]\n",
            " [ 2 -2  3 -4]]\n",
            "tf.Tensor(\n",
            "[[[ 3 -2]\n",
            "  [-3  5]\n",
            "  [-3  6]]\n",
            "\n",
            " [[ 5  7]\n",
            "  [ 2 -2]\n",
            "  [ 3 -4]]], shape=(2, 3, 2), dtype=int64)\n"
          ]
        }
      ]
    },
    {
      "cell_type": "markdown",
      "source": [
        "# Getting information from tensors\n",
        "\n",
        "* Shape - The length (number of elements) of each of the dimensions of the tensor - `tensor1.shape`\n",
        "* Rank - The number of tensor dimensions - `tensor1.ndim`\n",
        "* Size - Total number of elements in the tensor - `tf.size(tensor1)`\n",
        "* Axis/Dimension - A particular dimension of the tensor - `tensor1[AXIS_NUMBER]`"
      ],
      "metadata": {
        "id": "0hCpw4afEzj3"
      }
    },
    {
      "cell_type": "code",
      "source": [
        "tensor_1 = tf.ones([2,3,4,5], dtype = tf.float16)\n",
        "\n",
        "tensor_1, tensor_1.shape, tf.size(tensor_1), tensor_1.ndim"
      ],
      "metadata": {
        "id": "Ii8K4_1KFEjW",
        "colab": {
          "base_uri": "https://localhost:8080/"
        },
        "outputId": "7296e63c-265e-480b-c6a8-d25aed9c905a"
      },
      "execution_count": 32,
      "outputs": [
        {
          "output_type": "execute_result",
          "data": {
            "text/plain": [
              "(<tf.Tensor: shape=(2, 3, 4, 5), dtype=float16, numpy=\n",
              " array([[[[1., 1., 1., 1., 1.],\n",
              "          [1., 1., 1., 1., 1.],\n",
              "          [1., 1., 1., 1., 1.],\n",
              "          [1., 1., 1., 1., 1.]],\n",
              " \n",
              "         [[1., 1., 1., 1., 1.],\n",
              "          [1., 1., 1., 1., 1.],\n",
              "          [1., 1., 1., 1., 1.],\n",
              "          [1., 1., 1., 1., 1.]],\n",
              " \n",
              "         [[1., 1., 1., 1., 1.],\n",
              "          [1., 1., 1., 1., 1.],\n",
              "          [1., 1., 1., 1., 1.],\n",
              "          [1., 1., 1., 1., 1.]]],\n",
              " \n",
              " \n",
              "        [[[1., 1., 1., 1., 1.],\n",
              "          [1., 1., 1., 1., 1.],\n",
              "          [1., 1., 1., 1., 1.],\n",
              "          [1., 1., 1., 1., 1.]],\n",
              " \n",
              "         [[1., 1., 1., 1., 1.],\n",
              "          [1., 1., 1., 1., 1.],\n",
              "          [1., 1., 1., 1., 1.],\n",
              "          [1., 1., 1., 1., 1.]],\n",
              " \n",
              "         [[1., 1., 1., 1., 1.],\n",
              "          [1., 1., 1., 1., 1.],\n",
              "          [1., 1., 1., 1., 1.],\n",
              "          [1., 1., 1., 1., 1.]]]], dtype=float16)>,\n",
              " TensorShape([2, 3, 4, 5]),\n",
              " <tf.Tensor: shape=(), dtype=int32, numpy=120>,\n",
              " 4)"
            ]
          },
          "metadata": {},
          "execution_count": 32
        }
      ]
    },
    {
      "cell_type": "code",
      "source": [
        "# Get various attributes of our tensor - \"pretty print method\" - really cool snippet to actually get imp metadata of a tensor\n",
        "print(\"Datatype of every element:\", tensor_1.dtype)\n",
        "print(\"Shape of the tensor:\", tensor_1.shape)\n",
        "print(\"Number of dimensions of the tensor:\", tensor_1.ndim)\n",
        "print(\"Elements along the 0 axis:\", tensor_1.shape[0])\n",
        "print(\"Elements along the last axis:\", tensor_1.shape[-1])\n",
        "print(\"Total number of elements in the tensor\", tf.size(tensor_1))\n",
        "print(\"Total number of elements in the tensor\", tf.size(tensor_1).numpy())"
      ],
      "metadata": {
        "colab": {
          "base_uri": "https://localhost:8080/"
        },
        "id": "UxyyB1mTG47s",
        "outputId": "03a7ae08-cb69-4c89-b346-407b5e88557d"
      },
      "execution_count": 36,
      "outputs": [
        {
          "output_type": "stream",
          "name": "stdout",
          "text": [
            "Datatype of every element: <dtype: 'float16'>\n",
            "Shape of the tensor: (2, 3, 4, 5)\n",
            "Number of dimensions of the tensor: 4\n",
            "Elements along the 0 axis: 2\n",
            "Elements along the last axis: 5\n",
            "Total number of elements in the tensor tf.Tensor(120, shape=(), dtype=int32)\n",
            "Total number of elements in the tensor 120\n"
          ]
        }
      ]
    },
    {
      "cell_type": "markdown",
      "source": [
        "## Indexing & expanding tensors\n",
        "\n",
        "Tensors can be indexed just like Python lists"
      ],
      "metadata": {
        "id": "c4ziTeZWIALI"
      }
    },
    {
      "cell_type": "code",
      "source": [
        "# Get the 1st 2 elements of each dimension\n",
        "\n",
        "first_2_elems = tensor_1[:2,:2,:2,:2]\n",
        "\n",
        "# Get all elements, except the final one, from each dimension \n",
        "\n",
        "except_last_dim = tensor_1[:-1,:-1,:-1,:-1]\n",
        "\n",
        "# Get the 1st element from each dimension from each each index, except for the final one\n",
        "\n",
        "a = tensor_1[:1,:1,:1,:]"
      ],
      "metadata": {
        "colab": {
          "base_uri": "https://localhost:8080/"
        },
        "id": "hoGLEIo7ITkS",
        "outputId": "dfbcda9d-4690-4fa3-d986-710903a6aa65"
      },
      "execution_count": 38,
      "outputs": [
        {
          "output_type": "execute_result",
          "data": {
            "text/plain": [
              "<tf.Tensor: shape=(1, 1, 1, 5), dtype=float16, numpy=array([[[[1., 1., 1., 1., 1.]]]], dtype=float16)>"
            ]
          },
          "metadata": {},
          "execution_count": 38
        }
      ]
    },
    {
      "cell_type": "code",
      "source": [
        "# For rank 2 tensors\n",
        "\n",
        "\n",
        "rank_2_tensor = tf.constant([[10,7], [32,3]])\n",
        "# Get the last item of each row of a rank 2 tensor\n",
        "\n",
        "k = rank_2_tensor[:,-1]\n",
        "\n",
        "k"
      ],
      "metadata": {
        "colab": {
          "base_uri": "https://localhost:8080/"
        },
        "id": "4NqhYydVI6EQ",
        "outputId": "7a3edc83-d01f-4bf5-d428-b055a7b7eda7"
      },
      "execution_count": 43,
      "outputs": [
        {
          "output_type": "execute_result",
          "data": {
            "text/plain": [
              "<tf.Tensor: shape=(2,), dtype=int32, numpy=array([7, 3], dtype=int32)>"
            ]
          },
          "metadata": {},
          "execution_count": 43
        }
      ]
    },
    {
      "cell_type": "code",
      "source": [
        "# Add in extra dimension to our rank-2 tensor\n",
        "# The \"...\" notation helps specify all axes of the tensor we are adding an extra dimension to\n",
        "rank_3_tensor = rank_2_tensor[..., tf.newaxis]\n",
        "\n",
        "# Alternative method - manually specify all axes for the tensor we are mutating\n",
        "# rank_3_tensor = rank_2_tensor[:,:, tf.newaxis]\n",
        "\n",
        "rank_3_tensor"
      ],
      "metadata": {
        "colab": {
          "base_uri": "https://localhost:8080/"
        },
        "id": "h8_dEYFpJ0Zc",
        "outputId": "6bf31bd0-9122-4a5e-802b-73dd600e8b2e"
      },
      "execution_count": 45,
      "outputs": [
        {
          "output_type": "execute_result",
          "data": {
            "text/plain": [
              "<tf.Tensor: shape=(2, 2, 1), dtype=int32, numpy=\n",
              "array([[[10],\n",
              "        [ 7]],\n",
              "\n",
              "       [[32],\n",
              "        [ 3]]], dtype=int32)>"
            ]
          },
          "metadata": {},
          "execution_count": 45
        }
      ]
    },
    {
      "cell_type": "code",
      "source": [
        "# Alternative to tf.newaxis\n",
        "tf.expand_dims(rank_2_tensor, axis=-1) # \"-1\" means expand on the final axis"
      ],
      "metadata": {
        "colab": {
          "base_uri": "https://localhost:8080/"
        },
        "id": "9Tf6_nOWKXfq",
        "outputId": "33995979-bd6c-47ce-bf63-5d8c8b67df0b"
      },
      "execution_count": 46,
      "outputs": [
        {
          "output_type": "execute_result",
          "data": {
            "text/plain": [
              "<tf.Tensor: shape=(2, 2, 1), dtype=int32, numpy=\n",
              "array([[[10],\n",
              "        [ 7]],\n",
              "\n",
              "       [[32],\n",
              "        [ 3]]], dtype=int32)>"
            ]
          },
          "metadata": {},
          "execution_count": 46
        }
      ]
    },
    {
      "cell_type": "code",
      "source": [
        "# Expanding along 0-th axis\n",
        "tf.expand_dims(rank_2_tensor, axis=0)"
      ],
      "metadata": {
        "colab": {
          "base_uri": "https://localhost:8080/"
        },
        "id": "fASuFRPfLBK5",
        "outputId": "742db949-d438-4c73-cb63-ae3cfeb19e0a"
      },
      "execution_count": 47,
      "outputs": [
        {
          "output_type": "execute_result",
          "data": {
            "text/plain": [
              "<tf.Tensor: shape=(1, 2, 2), dtype=int32, numpy=\n",
              "array([[[10,  7],\n",
              "        [32,  3]]], dtype=int32)>"
            ]
          },
          "metadata": {},
          "execution_count": 47
        }
      ]
    },
    {
      "cell_type": "markdown",
      "source": [
        "## Manipulating tensors (tensor operations)"
      ],
      "metadata": {
        "id": "r_rZPOs3LTEE"
      }
    },
    {
      "cell_type": "code",
      "source": [],
      "metadata": {
        "id": "yC8Hlf0YLYrY"
      },
      "execution_count": null,
      "outputs": []
    }
  ]
}