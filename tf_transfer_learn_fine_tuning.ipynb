{
  "nbformat": 4,
  "nbformat_minor": 0,
  "metadata": {
    "colab": {
      "provenance": [],
      "authorship_tag": "ABX9TyNG4XNkrZ6eUTKEsRcr30hV",
      "include_colab_link": true
    },
    "kernelspec": {
      "name": "python3",
      "display_name": "Python 3"
    },
    "language_info": {
      "name": "python"
    },
    "accelerator": "GPU",
    "gpuClass": "standard"
  },
  "cells": [
    {
      "cell_type": "markdown",
      "metadata": {
        "id": "view-in-github",
        "colab_type": "text"
      },
      "source": [
        "<a href=\"https://colab.research.google.com/github/crew-guy/ml-with-tensorflow/blob/main/tf_transfer_learn_fine_tuning.ipynb\" target=\"_parent\"><img src=\"https://colab.research.google.com/assets/colab-badge.svg\" alt=\"Open In Colab\"/></a>"
      ]
    },
    {
      "cell_type": "markdown",
      "source": [
        "# Transfer learning with Tensorflow - Fine tuning\n",
        "\n",
        "In the previous sections, we have learnt the basics of transfer learning & in this one, we shall explore another type of the same - \"Fine Tuning\""
      ],
      "metadata": {
        "id": "-ocMhE8eJB5T"
      }
    },
    {
      "cell_type": "code",
      "source": [
        "!nvidia-smi"
      ],
      "metadata": {
        "colab": {
          "base_uri": "https://localhost:8080/"
        },
        "id": "Z1HNl4kLJ6pa",
        "outputId": "5bcb23c0-df21-4acd-f40d-8a46a4bba6e1"
      },
      "execution_count": 40,
      "outputs": [
        {
          "output_type": "stream",
          "name": "stdout",
          "text": [
            "Mon Dec  5 17:03:49 2022       \n",
            "+-----------------------------------------------------------------------------+\n",
            "| NVIDIA-SMI 460.32.03    Driver Version: 460.32.03    CUDA Version: 11.2     |\n",
            "|-------------------------------+----------------------+----------------------+\n",
            "| GPU  Name        Persistence-M| Bus-Id        Disp.A | Volatile Uncorr. ECC |\n",
            "| Fan  Temp  Perf  Pwr:Usage/Cap|         Memory-Usage | GPU-Util  Compute M. |\n",
            "|                               |                      |               MIG M. |\n",
            "|===============================+======================+======================|\n",
            "|   0  Tesla T4            Off  | 00000000:00:04.0 Off |                    0 |\n",
            "| N/A   69C    P0    32W /  70W |   2872MiB / 15109MiB |      0%      Default |\n",
            "|                               |                      |                  N/A |\n",
            "+-------------------------------+----------------------+----------------------+\n",
            "                                                                               \n",
            "+-----------------------------------------------------------------------------+\n",
            "| Processes:                                                                  |\n",
            "|  GPU   GI   CI        PID   Type   Process name                  GPU Memory |\n",
            "|        ID   ID                                                   Usage      |\n",
            "|=============================================================================|\n",
            "+-----------------------------------------------------------------------------+\n"
          ]
        }
      ]
    },
    {
      "cell_type": "markdown",
      "source": [
        "## Creating helper functions\n",
        "\n",
        "In the previous notebooks, we have created a bunch of helper functions that we can import via scripts. Instead of re-writing them, we can import them\n",
        "\n",
        "So it's a good idea to put functions you'll want to use again in a script that you can download & import into your notebooks or elsewhere.\n",
        "\n",
        "\n",
        "We've done this for some functions we're previously used here - https://github.com/mrdbourke/tensorflow-deep-learning/blob/main/extras/helper_functions.py"
      ],
      "metadata": {
        "id": "KIAFzckHJ8ik"
      }
    },
    {
      "cell_type": "code",
      "source": [
        "!wget https://github.com/mrdbourke/tensorflow-deep-learning/blob/cac2f14a63f23753d9ce56dfb695c10bc03e58e1/extras/helper_functions.py"
      ],
      "metadata": {
        "colab": {
          "base_uri": "https://localhost:8080/"
        },
        "id": "RKTRHlkhKRzs",
        "outputId": "aa74052d-a77b-4a58-83b1-50f8dcc8ba92"
      },
      "execution_count": 41,
      "outputs": [
        {
          "output_type": "stream",
          "name": "stdout",
          "text": [
            "--2022-12-05 17:03:51--  https://github.com/mrdbourke/tensorflow-deep-learning/blob/cac2f14a63f23753d9ce56dfb695c10bc03e58e1/extras/helper_functions.py\n",
            "Resolving github.com (github.com)... 192.30.255.112\n",
            "Connecting to github.com (github.com)|192.30.255.112|:443... connected.\n",
            "HTTP request sent, awaiting response... 200 OK\n",
            "Length: unspecified [text/html]\n",
            "Saving to: ‘helper_functions.py.1’\n",
            "\n",
            "helper_functions.py     [ <=>                ] 264.57K  --.-KB/s    in 0.03s   \n",
            "\n",
            "2022-12-05 17:03:51 (8.41 MB/s) - ‘helper_functions.py.1’ saved [270916]\n",
            "\n"
          ]
        }
      ]
    },
    {
      "cell_type": "code",
      "source": [
        "# Import helper functions that we'll use in this notebook\n",
        "from helper_functions import create_tensorboard_callback, plot_loss_curves, unzip_data, walk_through_dir"
      ],
      "metadata": {
        "id": "Y1gBvsMSKeuO"
      },
      "execution_count": 42,
      "outputs": []
    },
    {
      "cell_type": "markdown",
      "source": [
        "> 🔑 **Note**: If you're running this notebook in Google Collab & your runtimee gets disconnected, you gotta refetch the helper_functions.py file by rerunning the script"
      ],
      "metadata": {
        "id": "v4kYVNl-LEOW"
      }
    },
    {
      "cell_type": "markdown",
      "source": [
        "## Let's get some data\n",
        "\n",
        "We're going to use the pretrained models within tf.keras.applications and apply them to our own problem (recognizing images of food)\n",
        "\n",
        "Reference link - https://www.tensorflow.org/api_docs/python/tf/keras/applications\n"
      ],
      "metadata": {
        "id": "41OPhYnyLw-d"
      }
    },
    {
      "cell_type": "code",
      "source": [
        "# Download the data\n",
        "!wget https://storage.googleapis.com/ztm_tf_course/food_vision/10_food_classes_10_percent.zip\n"
      ],
      "metadata": {
        "colab": {
          "base_uri": "https://localhost:8080/"
        },
        "id": "fbavMlLxMEDS",
        "outputId": "1497c9c4-995e-4975-d326-4956cd67fa6b"
      },
      "execution_count": 43,
      "outputs": [
        {
          "output_type": "stream",
          "name": "stdout",
          "text": [
            "--2022-12-05 17:03:51--  https://storage.googleapis.com/ztm_tf_course/food_vision/10_food_classes_10_percent.zip\n",
            "Resolving storage.googleapis.com (storage.googleapis.com)... 142.250.107.128, 173.194.202.128, 74.125.20.128, ...\n",
            "Connecting to storage.googleapis.com (storage.googleapis.com)|142.250.107.128|:443... connected.\n",
            "HTTP request sent, awaiting response... 200 OK\n",
            "Length: 168546183 (161M) [application/zip]\n",
            "Saving to: ‘10_food_classes_10_percent.zip.1’\n",
            "\n",
            "10_food_classes_10_ 100%[===================>] 160.74M   206MB/s    in 0.8s    \n",
            "\n",
            "2022-12-05 17:03:52 (206 MB/s) - ‘10_food_classes_10_percent.zip.1’ saved [168546183/168546183]\n",
            "\n"
          ]
        }
      ]
    },
    {
      "cell_type": "code",
      "source": [
        "unzip_data('10_food_classes_10_percent.zip')"
      ],
      "metadata": {
        "id": "GiXgXN8YMOVu"
      },
      "execution_count": 44,
      "outputs": []
    },
    {
      "cell_type": "code",
      "source": [
        "walk_through_dir('10_food_classes_10_percent')"
      ],
      "metadata": {
        "colab": {
          "base_uri": "https://localhost:8080/"
        },
        "id": "mBE1kjQtMReS",
        "outputId": "9637d173-be57-447a-8d54-2db1379bdddd"
      },
      "execution_count": 45,
      "outputs": [
        {
          "output_type": "stream",
          "name": "stdout",
          "text": [
            "There are 2 directories and 0 images in '10_food_classes_10_percent'.\n",
            "There are 10 directories and 0 images in '10_food_classes_10_percent/train'.\n",
            "There are 0 directories and 75 images in '10_food_classes_10_percent/train/ramen'.\n",
            "There are 0 directories and 75 images in '10_food_classes_10_percent/train/sushi'.\n",
            "There are 0 directories and 75 images in '10_food_classes_10_percent/train/chicken_curry'.\n",
            "There are 0 directories and 75 images in '10_food_classes_10_percent/train/chicken_wings'.\n",
            "There are 0 directories and 75 images in '10_food_classes_10_percent/train/pizza'.\n",
            "There are 0 directories and 75 images in '10_food_classes_10_percent/train/hamburger'.\n",
            "There are 0 directories and 75 images in '10_food_classes_10_percent/train/grilled_salmon'.\n",
            "There are 0 directories and 75 images in '10_food_classes_10_percent/train/ice_cream'.\n",
            "There are 0 directories and 75 images in '10_food_classes_10_percent/train/fried_rice'.\n",
            "There are 0 directories and 75 images in '10_food_classes_10_percent/train/steak'.\n",
            "There are 10 directories and 0 images in '10_food_classes_10_percent/test'.\n",
            "There are 0 directories and 250 images in '10_food_classes_10_percent/test/ramen'.\n",
            "There are 0 directories and 250 images in '10_food_classes_10_percent/test/sushi'.\n",
            "There are 0 directories and 250 images in '10_food_classes_10_percent/test/chicken_curry'.\n",
            "There are 0 directories and 250 images in '10_food_classes_10_percent/test/chicken_wings'.\n",
            "There are 0 directories and 250 images in '10_food_classes_10_percent/test/pizza'.\n",
            "There are 0 directories and 250 images in '10_food_classes_10_percent/test/hamburger'.\n",
            "There are 0 directories and 250 images in '10_food_classes_10_percent/test/grilled_salmon'.\n",
            "There are 0 directories and 250 images in '10_food_classes_10_percent/test/ice_cream'.\n",
            "There are 0 directories and 250 images in '10_food_classes_10_percent/test/fried_rice'.\n",
            "There are 0 directories and 250 images in '10_food_classes_10_percent/test/steak'.\n"
          ]
        }
      ]
    },
    {
      "cell_type": "code",
      "source": [
        "# Create train & test directory paths\n",
        "train_dir = \"10_food_classes_10_percent/train\"\n",
        "test_dir = \"10_food_classes_10_percent/test\""
      ],
      "metadata": {
        "id": "XU2CVeJQMZkh"
      },
      "execution_count": 46,
      "outputs": []
    },
    {
      "cell_type": "code",
      "source": [
        "import tensorflow as tf\n",
        "\n",
        "IMAGE_SHAPE = (224,224)\n",
        "BATCH_SIZE= 32\n",
        "\n",
        "train_data = tf.keras.utils.image_dataset_from_directory(\n",
        "    directory=train_dir,\n",
        "    image_size=IMAGE_SHAPE,\n",
        "    batch_size=BATCH_SIZE,\n",
        "    label_mode='categorical'\n",
        ")\n",
        "\n",
        "test_data = tf.keras.utils.image_dataset_from_directory(\n",
        "    directory=test_dir,\n",
        "    image_size=IMAGE_SHAPE,\n",
        "    batch_size=BATCH_SIZE,\n",
        "    label_mode='categorical'\n",
        ")"
      ],
      "metadata": {
        "colab": {
          "base_uri": "https://localhost:8080/"
        },
        "id": "qht6esy-M4Cv",
        "outputId": "dec9dff2-6a44-46d5-af63-ec405e655251"
      },
      "execution_count": 47,
      "outputs": [
        {
          "output_type": "stream",
          "name": "stdout",
          "text": [
            "Found 750 files belonging to 10 classes.\n",
            "Found 2500 files belonging to 10 classes.\n"
          ]
        }
      ]
    },
    {
      "cell_type": "code",
      "source": [
        "train_data"
      ],
      "metadata": {
        "colab": {
          "base_uri": "https://localhost:8080/"
        },
        "id": "Y0wwGT2ENtup",
        "outputId": "d9472c59-f866-4220-903f-08274da8e391"
      },
      "execution_count": 48,
      "outputs": [
        {
          "output_type": "execute_result",
          "data": {
            "text/plain": [
              "<BatchDataset element_spec=(TensorSpec(shape=(None, 224, 224, 3), dtype=tf.float32, name=None), TensorSpec(shape=(None, 10), dtype=tf.float32, name=None))>"
            ]
          },
          "metadata": {},
          "execution_count": 48
        }
      ]
    },
    {
      "cell_type": "code",
      "source": [
        "# Check out class names of our training data\n",
        "train_data.class_names"
      ],
      "metadata": {
        "colab": {
          "base_uri": "https://localhost:8080/"
        },
        "id": "JhUoeKXLNz-_",
        "outputId": "f153bd8b-06d9-4391-ea4d-249d2f3f07f4"
      },
      "execution_count": 49,
      "outputs": [
        {
          "output_type": "execute_result",
          "data": {
            "text/plain": [
              "['chicken_curry',\n",
              " 'chicken_wings',\n",
              " 'fried_rice',\n",
              " 'grilled_salmon',\n",
              " 'hamburger',\n",
              " 'ice_cream',\n",
              " 'pizza',\n",
              " 'ramen',\n",
              " 'steak',\n",
              " 'sushi']"
            ]
          },
          "metadata": {},
          "execution_count": 49
        }
      ]
    },
    {
      "cell_type": "code",
      "source": [
        "# See and example of a batch of data\n",
        "for images, labels in train_data.take(1):\n",
        "    print(images, labels)"
      ],
      "metadata": {
        "colab": {
          "base_uri": "https://localhost:8080/"
        },
        "id": "0sTh8L_1OFjz",
        "outputId": "bf8218a0-0e27-4e91-a2a9-dc34d41ca973"
      },
      "execution_count": 50,
      "outputs": [
        {
          "output_type": "stream",
          "name": "stdout",
          "text": [
            "tf.Tensor(\n",
            "[[[[2.93418369e+01 5.56989784e+01 8.16683655e+01]\n",
            "   [2.06428566e+01 4.70000000e+01 7.15204086e+01]\n",
            "   [8.53571415e+00 3.33265305e+01 5.58979607e+01]\n",
            "   ...\n",
            "   [3.98520050e+01 8.42805328e+01 1.09494797e+02]\n",
            "   [2.79540596e+01 6.99540634e+01 9.49540634e+01]\n",
            "   [3.42195702e+01 7.42195663e+01 1.00219566e+02]]\n",
            "\n",
            "  [[3.05969391e+01 6.39540825e+01 9.60000000e+01]\n",
            "   [3.19132633e+01 6.32040787e+01 9.24285660e+01]\n",
            "   [2.15867329e+01 5.11734695e+01 7.76989822e+01]\n",
            "   ...\n",
            "   [4.61989594e+01 9.06274872e+01 1.17413223e+02]\n",
            "   [5.01377678e+01 9.21377640e+01 1.17137764e+02]\n",
            "   [4.88570366e+01 8.88570404e+01 1.14857040e+02]]\n",
            "\n",
            "  [[3.11938763e+01 7.31224442e+01 1.13913261e+02]\n",
            "   [2.61530609e+01 6.66683655e+01 1.03525505e+02]\n",
            "   [2.75051022e+01 6.40050964e+01 9.81683655e+01]\n",
            "   ...\n",
            "   [4.66173630e+01 9.10458908e+01 1.17831627e+02]\n",
            "   [5.02142868e+01 9.14285736e+01 1.18785713e+02]\n",
            "   [5.03418121e+01 8.95560989e+01 1.17913239e+02]]\n",
            "\n",
            "  ...\n",
            "\n",
            "  [[1.34857147e+02 1.45642853e+02 1.68285736e+02]\n",
            "   [1.37928574e+02 1.48714279e+02 1.71357162e+02]\n",
            "   [1.36617355e+02 1.47617355e+02 1.69617355e+02]\n",
            "   ...\n",
            "   [1.79999695e+01 4.46427917e+01 6.14285889e+01]\n",
            "   [1.36428223e+01 3.90714111e+01 5.92857056e+01]\n",
            "   [9.35198689e+00 3.47805748e+01 5.49948692e+01]]\n",
            "\n",
            "  [[1.35974503e+02 1.45974503e+02 1.70974503e+02]\n",
            "   [1.37066315e+02 1.47066315e+02 1.72066315e+02]\n",
            "   [1.36785721e+02 1.47785721e+02 1.69785721e+02]\n",
            "   ...\n",
            "   [1.09131050e+01 3.98008842e+01 5.74284668e+01]\n",
            "   [1.11326189e+01 3.81326180e+01 5.91326180e+01]\n",
            "   [8.61731625e+00 3.46887283e+01 5.75459061e+01]]\n",
            "\n",
            "  [[1.35586746e+02 1.45586746e+02 1.70586746e+02]\n",
            "   [1.34760208e+02 1.44760208e+02 1.69760208e+02]\n",
            "   [1.35357147e+02 1.45571426e+02 1.69928574e+02]\n",
            "   ...\n",
            "   [3.06115532e+00 3.40611572e+01 5.36326294e+01]\n",
            "   [9.83166218e+00 3.78316612e+01 5.98316612e+01]\n",
            "   [9.92849731e+00 3.79284973e+01 6.19284973e+01]]]\n",
            "\n",
            "\n",
            " [[[4.35714293e+00 3.35714293e+00 8.35714340e+00]\n",
            "   [7.64285755e+00 6.64285755e+00 1.16428576e+01]\n",
            "   [6.50000000e+00 6.50000000e+00 8.50000000e+00]\n",
            "   ...\n",
            "   [4.35512276e+01 2.20511398e+01 8.55625534e+00]\n",
            "   [6.53265533e+01 3.65204124e+01 2.49234810e+01]\n",
            "   [6.15712204e+01 2.95712185e+01 1.65712185e+01]]\n",
            "\n",
            "  [[4.64285707e+00 4.64285707e+00 6.64285707e+00]\n",
            "   [7.85714340e+00 7.85714340e+00 9.85714340e+00]\n",
            "   [6.78571415e+00 6.78571415e+00 8.24489784e+00]\n",
            "   ...\n",
            "   [5.79747467e+01 3.26430321e+01 1.97297649e+01]\n",
            "   [7.16224060e+01 4.13468704e+01 3.03468723e+01]\n",
            "   [6.09079933e+01 2.69079933e+01 1.69079933e+01]]\n",
            "\n",
            "  [[6.21428537e+00 6.21428537e+00 6.64285707e+00]\n",
            "   [9.22959137e+00 9.22959137e+00 9.65816402e+00]\n",
            "   [8.35714245e+00 8.35714245e+00 6.78571415e+00]\n",
            "   ...\n",
            "   [7.13573380e+01 4.21685257e+01 3.08318024e+01]\n",
            "   [7.01172256e+01 3.73315086e+01 2.79029388e+01]\n",
            "   [5.29998970e+01 1.97856102e+01 1.05713243e+01]]\n",
            "\n",
            "  ...\n",
            "\n",
            "  [[1.10790794e+02 1.14505096e+02 1.00428566e+02]\n",
            "   [1.04928558e+02 1.14785706e+02 1.03642853e+02]\n",
            "   [1.06382645e+02 1.16045921e+02 1.08045921e+02]\n",
            "   ...\n",
            "   [1.13719398e+02 1.33571472e+02 1.54525528e+02]\n",
            "   [1.13000000e+02 1.34000000e+02 1.52571411e+02]\n",
            "   [1.14357178e+02 1.35433716e+02 1.53214233e+02]]\n",
            "\n",
            "  [[1.06525467e+02 1.14000000e+02 9.87142715e+01]\n",
            "   [1.03147942e+02 1.14928589e+02 1.04581665e+02]\n",
            "   [1.04499985e+02 1.15285698e+02 1.07285698e+02]\n",
            "   ...\n",
            "   [1.14642883e+02 1.33571472e+02 1.50785706e+02]\n",
            "   [1.12005074e+02 1.33071411e+02 1.49872391e+02]\n",
            "   [1.12500000e+02 1.34454102e+02 1.48591812e+02]]\n",
            "\n",
            "  [[1.09102036e+02 1.18698959e+02 1.02571419e+02]\n",
            "   [1.06999985e+02 1.18928558e+02 1.08642845e+02]\n",
            "   [1.05137756e+02 1.16933662e+02 1.09999992e+02]\n",
            "   ...\n",
            "   [1.16719437e+02 1.35719437e+02 1.51709213e+02]\n",
            "   [1.12499969e+02 1.34499969e+02 1.48499969e+02]\n",
            "   [1.12000031e+02 1.34000031e+02 1.47229614e+02]]]\n",
            "\n",
            "\n",
            " [[[8.32142868e+01 8.19591827e+01 9.85459213e+01]\n",
            "   [6.20306168e+01 6.39081612e+01 7.90714264e+01]\n",
            "   [4.79336739e+01 4.60102043e+01 5.97295914e+01]\n",
            "   ...\n",
            "   [1.39004990e+02 8.74947281e+01 4.11987419e+01]\n",
            "   [1.45790924e+02 9.00562286e+01 3.40306435e+01]\n",
            "   [1.55296005e+02 9.71684723e+01 3.15102196e+01]]\n",
            "\n",
            "  [[1.00158165e+02 1.04964287e+02 1.24826530e+02]\n",
            "   [9.26530609e+01 9.93673401e+01 1.17372444e+02]\n",
            "   [6.61071472e+01 7.12346954e+01 8.69489822e+01]\n",
            "   ...\n",
            "   [1.31765472e+02 8.10817490e+01 3.84235420e+01]\n",
            "   [1.46290848e+02 9.29438782e+01 4.25764809e+01]\n",
            "   [1.42974380e+02 8.88570404e+01 2.80202293e+01]]\n",
            "\n",
            "  [[8.82806091e+01 1.01137756e+02 1.24066330e+02]\n",
            "   [1.04530617e+02 1.20173470e+02 1.41530624e+02]\n",
            "   [9.96530609e+01 1.12224487e+02 1.31178574e+02]\n",
            "   ...\n",
            "   [1.21627792e+02 7.01328430e+01 3.03012142e+01]\n",
            "   [1.20346909e+02 6.81479340e+01 2.16887283e+01]\n",
            "   [1.32663544e+02 7.99543610e+01 2.75920410e+01]]\n",
            "\n",
            "  ...\n",
            "\n",
            "  [[9.54183197e+01 5.34183159e+01 1.14183178e+01]\n",
            "   [9.82550430e+01 5.62550430e+01 1.42550411e+01]\n",
            "   [9.36122742e+01 5.28060913e+01 1.03316288e+01]\n",
            "   ...\n",
            "   [1.18025414e+02 6.57141113e+01 1.45968828e+01]\n",
            "   [1.20306168e+02 6.47346954e+01 1.77500038e+01]\n",
            "   [1.15816284e+02 5.94590759e+01 1.46733408e+01]]\n",
            "\n",
            "  [[9.93570480e+01 5.73570518e+01 1.73570518e+01]\n",
            "   [9.02755203e+01 4.82755241e+01 6.27552080e+00]\n",
            "   [9.35765610e+01 5.15765610e+01 9.57655811e+00]\n",
            "   ...\n",
            "   [1.21642853e+02 6.62856445e+01 1.46428528e+01]\n",
            "   [1.15949142e+02 5.79491425e+01 9.94914436e+00]\n",
            "   [1.23560890e+02 6.53465652e+01 1.74180069e+01]]\n",
            "\n",
            "  [[8.92553024e+01 4.72553024e+01 7.25530052e+00]\n",
            "   [9.08368073e+01 4.88368073e+01 8.83680916e+00]\n",
            "   [9.26326752e+01 5.06326714e+01 8.92349529e+00]\n",
            "   ...\n",
            "   [1.19352333e+02 6.27808609e+01 9.56659698e+00]\n",
            "   [1.24566154e+02 6.45661545e+01 1.45661526e+01]\n",
            "   [1.17383041e+02 5.73830414e+01 7.38304138e+00]]]\n",
            "\n",
            "\n",
            " ...\n",
            "\n",
            "\n",
            " [[[4.58265305e+01 3.38265305e+01 7.82653046e+00]\n",
            "   [5.76173515e+01 4.56173515e+01 1.96173477e+01]\n",
            "   [6.03571434e+01 4.59285698e+01 1.99285717e+01]\n",
            "   ...\n",
            "   [2.54724518e+02 2.51066406e+02 1.71918671e+02]\n",
            "   [2.53918350e+02 2.50178604e+02 1.87653183e+02]\n",
            "   [2.53852005e+02 2.53622421e+02 2.01260269e+02]]\n",
            "\n",
            "  [[3.74795914e+01 2.54795895e+01 1.46938705e+00]\n",
            "   [5.77142868e+01 4.37142868e+01 1.77142868e+01]\n",
            "   [6.19132652e+01 4.74846916e+01 2.06989784e+01]\n",
            "   ...\n",
            "   [2.54984695e+02 2.54285767e+02 1.66928879e+02]\n",
            "   [2.51086746e+02 2.51020432e+02 1.89459305e+02]\n",
            "   [2.51295822e+02 2.53535660e+02 2.04484741e+02]]\n",
            "\n",
            "  [[5.62193909e+01 4.05102081e+01 1.22908173e+01]\n",
            "   [6.20612259e+01 4.58469391e+01 1.94183674e+01]\n",
            "   [6.05969391e+01 4.42142868e+01 1.77857132e+01]\n",
            "   ...\n",
            "   [2.24862061e+02 2.27311081e+02 1.46780746e+02]\n",
            "   [2.52000000e+02 2.55000000e+02 1.98612350e+02]\n",
            "   [2.48841919e+02 2.54357178e+02 2.10061386e+02]]\n",
            "\n",
            "  ...\n",
            "\n",
            "  [[1.90489761e+02 8.84897690e+01 5.84697580e+00]\n",
            "   [1.82183563e+02 8.01835632e+01 0.00000000e+00]\n",
            "   [1.87882477e+02 8.57141113e+01 3.88252735e+00]\n",
            "   ...\n",
            "   [2.37918549e+02 1.09347076e+02 7.06149530e+00]\n",
            "   [2.45719513e+02 1.14806137e+02 1.32042351e+01]\n",
            "   [2.43729462e+02 1.13015053e+02 1.00866776e+01]]\n",
            "\n",
            "  [[1.81760117e+02 7.86886826e+01 4.06629896e+00]\n",
            "   [1.78704056e+02 7.56326141e+01 8.62232983e-01]\n",
            "   [1.79959183e+02 7.66887589e+01 2.37247801e+00]\n",
            "   ...\n",
            "   [2.25637817e+02 1.12852325e+02 2.24537134e-01]\n",
            "   [2.23760345e+02 1.09974846e+02 6.63377419e-02]\n",
            "   [2.29989838e+02 1.16204346e+02 9.94981110e-01]]\n",
            "\n",
            "  [[1.75540909e+02 7.25409088e+01 4.66850901e+00]\n",
            "   [1.71790726e+02 6.93876266e+01 0.00000000e+00]\n",
            "   [1.72362045e+02 6.93620453e+01 1.56113994e+00]\n",
            "   ...\n",
            "   [2.51051376e+02 1.78745712e+02 2.26024933e+01]\n",
            "   [2.53301041e+02 1.82985352e+02 2.46992111e+01]\n",
            "   [2.37153610e+02 1.63725388e+02 7.27607346e+00]]]\n",
            "\n",
            "\n",
            " [[[4.96581650e+01 3.43010216e+01 1.63724480e+01]\n",
            "   [5.24897957e+01 3.84183693e+01 1.17040806e+01]\n",
            "   [5.16428566e+01 4.08571434e+01 1.18826523e+01]\n",
            "   ...\n",
            "   [1.96142883e+02 1.44142883e+02 9.41428757e+01]\n",
            "   [1.93285706e+02 1.41285706e+02 9.12856979e+01]\n",
            "   [1.93357147e+02 1.41357147e+02 9.13571396e+01]]\n",
            "\n",
            "  [[5.46428566e+01 3.92857132e+01 2.13571396e+01]\n",
            "   [5.31683655e+01 3.90969353e+01 1.32448969e+01]\n",
            "   [6.45867310e+01 5.34030609e+01 2.62448959e+01]\n",
            "   ...\n",
            "   [1.95928574e+02 1.43928574e+02 9.39285736e+01]\n",
            "   [1.93923462e+02 1.41923462e+02 9.19234695e+01]\n",
            "   [1.94260239e+02 1.42260239e+02 9.22602386e+01]]\n",
            "\n",
            "  [[4.01122437e+01 2.32500019e+01 3.39795971e+00]\n",
            "   [3.99081612e+01 2.46938763e+01 1.69387686e+00]\n",
            "   [3.82091827e+01 2.36377544e+01 1.92346942e+00]\n",
            "   ...\n",
            "   [1.97403076e+02 1.45617371e+02 9.49745026e+01]\n",
            "   [1.96515289e+02 1.44729584e+02 9.40867233e+01]\n",
            "   [1.97142899e+02 1.45357178e+02 9.47143173e+01]]\n",
            "\n",
            "  ...\n",
            "\n",
            "  [[1.05989830e+02 8.69898300e+01 5.49898338e+01]\n",
            "   [1.05984695e+02 8.69846954e+01 5.49846954e+01]\n",
            "   [1.04525513e+02 8.55255127e+01 5.35255127e+01]\n",
            "   ...\n",
            "   [4.32243271e+01 1.88674240e+01 8.29595280e+00]\n",
            "   [5.04795685e+01 2.47958870e+01 1.78673286e+01]\n",
            "   [6.49749527e+01 2.99900665e+01 2.80564499e+01]]\n",
            "\n",
            "  [[1.07285698e+02 8.62856979e+01 5.52857018e+01]\n",
            "   [1.05928558e+02 8.69285583e+01 5.49285583e+01]\n",
            "   [1.07785713e+02 8.87857132e+01 5.67857132e+01]\n",
            "   ...\n",
            "   [4.46632156e+01 1.96376362e+01 1.21275148e+01]\n",
            "   [5.98013382e+01 2.92349110e+01 2.10971317e+01]\n",
            "   [8.07910004e+01 4.11480904e+01 3.42195015e+01]]\n",
            "\n",
            "  [[1.06658287e+02 8.56582870e+01 5.46582909e+01]\n",
            "   [1.06357285e+02 8.73572845e+01 5.53572845e+01]\n",
            "   [1.06994957e+02 8.86378174e+01 5.64235306e+01]\n",
            "   ...\n",
            "   [6.30159073e+01 3.18167572e+01 2.93780518e+01]\n",
            "   [8.15362015e+01 4.22249451e+01 3.45820007e+01]\n",
            "   [1.16551971e+02 7.91387482e+01 6.41232605e+01]]]\n",
            "\n",
            "\n",
            " [[[1.84214294e+02 1.70214294e+02 1.61214294e+02]\n",
            "   [1.85306122e+02 1.70306122e+02 1.63306122e+02]\n",
            "   [1.81306122e+02 1.66306122e+02 1.60877548e+02]\n",
            "   ...\n",
            "   [1.10581627e+02 9.48571548e+01 6.97193909e+01]\n",
            "   [1.07903015e+02 9.57091827e+01 6.97346878e+01]\n",
            "   [1.04785728e+02 9.57704086e+01 7.04847031e+01]]\n",
            "\n",
            "  [[1.89265305e+02 1.72265305e+02 1.65265305e+02]\n",
            "   [1.84076523e+02 1.66076523e+02 1.62076523e+02]\n",
            "   [1.82571426e+02 1.64571426e+02 1.62142853e+02]\n",
            "   ...\n",
            "   [1.03913246e+02 9.65867157e+01 7.07142639e+01]\n",
            "   [9.94999466e+01 9.33469086e+01 6.73520050e+01]\n",
            "   [9.92142868e+01 9.68622360e+01 6.93367233e+01]]\n",
            "\n",
            "  [[1.89362244e+02 1.72147964e+02 1.61719391e+02]\n",
            "   [1.88500000e+02 1.71285706e+02 1.62913254e+02]\n",
            "   [1.89403061e+02 1.71403061e+02 1.66117355e+02]\n",
            "   ...\n",
            "   [8.75458908e+01 8.38061142e+01 5.94030533e+01]\n",
            "   [8.34999619e+01 8.33571396e+01 5.74591599e+01]\n",
            "   [8.15051117e+01 8.34336700e+01 5.57806206e+01]]\n",
            "\n",
            "  ...\n",
            "\n",
            "  [[1.87076523e+02 1.77076523e+02 1.41290787e+02]\n",
            "   [1.88015305e+02 1.78015305e+02 1.42229568e+02]\n",
            "   [1.88831635e+02 1.78831635e+02 1.43663254e+02]\n",
            "   ...\n",
            "   [2.06999969e+02 1.94999969e+02 2.04999969e+02]\n",
            "   [2.05285675e+02 1.93285675e+02 2.03285675e+02]\n",
            "   [2.04214264e+02 1.92214264e+02 2.02214264e+02]]\n",
            "\n",
            "  [[1.85285706e+02 1.76285706e+02 1.37285706e+02]\n",
            "   [1.85999985e+02 1.75999985e+02 1.39999985e+02]\n",
            "   [1.86928558e+02 1.76928558e+02 1.40928558e+02]\n",
            "   ...\n",
            "   [2.03714264e+02 1.91714264e+02 2.01714264e+02]\n",
            "   [2.01999969e+02 1.89999969e+02 1.99999969e+02]\n",
            "   [2.01260193e+02 1.89260193e+02 1.99260193e+02]]\n",
            "\n",
            "  [[1.83000000e+02 1.75000000e+02 1.36000000e+02]\n",
            "   [1.83668335e+02 1.75668335e+02 1.36668335e+02]\n",
            "   [1.84785721e+02 1.76785721e+02 1.39357147e+02]\n",
            "   ...\n",
            "   [2.01785706e+02 1.89785706e+02 1.99785706e+02]\n",
            "   [2.00071411e+02 1.88071411e+02 1.98071411e+02]\n",
            "   [1.98770386e+02 1.86770386e+02 1.96770386e+02]]]], shape=(32, 224, 224, 3), dtype=float32) tf.Tensor(\n",
            "[[1. 0. 0. 0. 0. 0. 0. 0. 0. 0.]\n",
            " [0. 0. 0. 0. 0. 1. 0. 0. 0. 0.]\n",
            " [0. 0. 0. 0. 0. 0. 0. 1. 0. 0.]\n",
            " [0. 1. 0. 0. 0. 0. 0. 0. 0. 0.]\n",
            " [0. 0. 0. 0. 0. 0. 0. 1. 0. 0.]\n",
            " [0. 0. 1. 0. 0. 0. 0. 0. 0. 0.]\n",
            " [0. 1. 0. 0. 0. 0. 0. 0. 0. 0.]\n",
            " [0. 1. 0. 0. 0. 0. 0. 0. 0. 0.]\n",
            " [0. 0. 0. 0. 0. 0. 0. 0. 0. 1.]\n",
            " [0. 0. 0. 1. 0. 0. 0. 0. 0. 0.]\n",
            " [0. 0. 0. 0. 0. 0. 0. 1. 0. 0.]\n",
            " [0. 0. 0. 0. 1. 0. 0. 0. 0. 0.]\n",
            " [0. 0. 1. 0. 0. 0. 0. 0. 0. 0.]\n",
            " [0. 1. 0. 0. 0. 0. 0. 0. 0. 0.]\n",
            " [0. 0. 0. 0. 0. 0. 0. 1. 0. 0.]\n",
            " [0. 0. 0. 0. 0. 1. 0. 0. 0. 0.]\n",
            " [0. 0. 1. 0. 0. 0. 0. 0. 0. 0.]\n",
            " [0. 0. 0. 0. 1. 0. 0. 0. 0. 0.]\n",
            " [0. 0. 0. 0. 1. 0. 0. 0. 0. 0.]\n",
            " [0. 1. 0. 0. 0. 0. 0. 0. 0. 0.]\n",
            " [0. 0. 0. 0. 0. 0. 0. 1. 0. 0.]\n",
            " [1. 0. 0. 0. 0. 0. 0. 0. 0. 0.]\n",
            " [1. 0. 0. 0. 0. 0. 0. 0. 0. 0.]\n",
            " [0. 0. 0. 0. 0. 1. 0. 0. 0. 0.]\n",
            " [0. 0. 0. 0. 0. 0. 0. 1. 0. 0.]\n",
            " [0. 0. 0. 0. 0. 0. 0. 1. 0. 0.]\n",
            " [0. 0. 0. 0. 0. 1. 0. 0. 0. 0.]\n",
            " [0. 0. 1. 0. 0. 0. 0. 0. 0. 0.]\n",
            " [0. 1. 0. 0. 0. 0. 0. 0. 0. 0.]\n",
            " [0. 0. 0. 0. 1. 0. 0. 0. 0. 0.]\n",
            " [0. 0. 0. 0. 0. 0. 0. 1. 0. 0.]\n",
            " [0. 1. 0. 0. 0. 0. 0. 0. 0. 0.]], shape=(32, 10), dtype=float32)\n"
          ]
        }
      ]
    },
    {
      "cell_type": "markdown",
      "source": [
        "## Building a model using tf.keras.applications\n",
        "\n",
        "![Model approach](https://testbucket1841.s3.ap-south-1.amazonaws.com/tf-ml-course-udemy/tf-fine-tune.png)\n",
        "\n",
        "![Keras Functional vs Sequential](https://testbucket1841.s3.ap-south-1.amazonaws.com/tf-ml-course-udemy/keras-func.png)"
      ],
      "metadata": {
        "id": "jiSCaiHSOLzD"
      }
    },
    {
      "cell_type": "markdown",
      "source": [
        "## Model 0: Building a transfer learning feature extraction model using the Keras Functional API\n",
        "\n",
        "\n",
        "The Sequential API is straightforward, it runs our layers in sequential order\n",
        "\n",
        "But the functional API gives us more flexibility with our models - https://www.tensorflow.org/guide/keras/functional\n",
        "\n",
        "\n",
        "This process happens in the following 10 steps:\n",
        "\n",
        "1. Create the base model using tf.keras.applications. Pass `include_top` parameter boolean value to determine whether you want to use the same output classes as the pretrained model or not\n",
        "2. Freeze the layers that you want to retain the weights for\n",
        "3. Create the input layer\n",
        "4. Need to rescale values in input layer if the model is ResNet (no need to rescale for EfficientNet)\n",
        "5. Create a layer using base model & inputs\n",
        "6. Add a Global Pooling layer\n",
        "7. Create the output layer\n",
        "8. Combine all layers into one model\n",
        "9. Compile the model\n",
        "10. Fit the model"
      ],
      "metadata": {
        "id": "NASHsboBRa4q"
      }
    },
    {
      "cell_type": "code",
      "source": [
        "# 1. Creating a base model using tf.keras.applications. We don't want to use the pre-trained model's output classes and hence we pass `include_top` as False\n",
        "\n",
        "base_model = tf.keras.applications.efficientnet.EfficientNetB0(include_top=False)\n",
        "\n",
        "\n",
        "# 2. Freeze the weights learnt\n",
        "base_model.trainable = False\n",
        "\n",
        "# 3. Create an input layer \n",
        "inputs = tf.keras.Input(shape=IMAGE_SHAPE+(3,), name=\"input_layer\")\n",
        "\n",
        "# 4. Create 1 layer using base_model & inputs\n",
        "x = base_model(inputs)\n",
        "print(f\"Shape after adding inputs to base_model: {x.shape}\")\n",
        "\n",
        "\n",
        "# 5. Rescale created layer if using ResNet Model\n",
        "# x = tf.keras.layers.experimental.preprocessing.Rescaling(\n",
        "#     1./255\n",
        "# )\n",
        "\n",
        "# 6. Create a global pooling layer\n",
        "x = tf.keras.layers.GlobalAveragePooling2D(name=\"global_average_pooling_2d_layer\")(x)\n",
        "print(f\"Shape after global pooling: {x.shape}\")\n",
        "\n",
        "# 7. Create an output layer\n",
        "outputs = tf.keras.layers.Dense(10, activation=\"softmax\", name=\"output_layer\")(x)\n",
        "\n",
        "# 8. Combine all layers into 1 model\n",
        "model_0 = tf.keras.Model(inputs, outputs)\n",
        "\n",
        "# 9. Compile the model\n",
        "model_0.compile(\n",
        "    loss=\"categorical_crossentropy\",\n",
        "    optimizer=\"Adam\",\n",
        "    metrics=[\"accuracy\"]\n",
        ")\n",
        "\n",
        "# 10. Fit the model\n",
        "history_0 = model_0.fit(\n",
        "    train_data,\n",
        "    epochs=5,\n",
        "    steps_per_epoch= len(train_data),\n",
        "    validation_data = test_data,\n",
        "    validation_steps = len(test_data),\n",
        "    callbacks=[create_tensorboard_callback(\"transfer_learning\",\"feature_extract_model_0\")]\n",
        ")"
      ],
      "metadata": {
        "colab": {
          "base_uri": "https://localhost:8080/"
        },
        "id": "6KxVP1OFSLzD",
        "outputId": "3cfb3407-7772-4b4a-a802-e3f439bbd4b2"
      },
      "execution_count": 51,
      "outputs": [
        {
          "output_type": "stream",
          "name": "stdout",
          "text": [
            "Shape after adding inputs to base_model: (None, 7, 7, 1280)\n",
            "Shape after global pooling: (None, 1280)\n",
            "Saving TensorBoard log files to: transfer_learning/feature_extract_model_0/20221205-170357\n",
            "Epoch 1/5\n",
            "24/24 [==============================] - 19s 580ms/step - loss: 1.8565 - accuracy: 0.4147 - val_loss: 1.3015 - val_accuracy: 0.7452\n",
            "Epoch 2/5\n",
            "24/24 [==============================] - 8s 327ms/step - loss: 1.0745 - accuracy: 0.7800 - val_loss: 0.8638 - val_accuracy: 0.8212\n",
            "Epoch 3/5\n",
            "24/24 [==============================] - 8s 327ms/step - loss: 0.7727 - accuracy: 0.8280 - val_loss: 0.6970 - val_accuracy: 0.8396\n",
            "Epoch 4/5\n",
            "24/24 [==============================] - 8s 331ms/step - loss: 0.6264 - accuracy: 0.8613 - val_loss: 0.6051 - val_accuracy: 0.8532\n",
            "Epoch 5/5\n",
            "24/24 [==============================] - 8s 325ms/step - loss: 0.5319 - accuracy: 0.8893 - val_loss: 0.5521 - val_accuracy: 0.8592\n"
          ]
        }
      ]
    },
    {
      "cell_type": "code",
      "source": [
        "plot_loss_curves(history_0)"
      ],
      "metadata": {
        "colab": {
          "base_uri": "https://localhost:8080/",
          "height": 573
        },
        "id": "5JCuKIqcWTxW",
        "outputId": "695f8954-51af-4334-cbb5-c432a6552dcd"
      },
      "execution_count": 52,
      "outputs": [
        {
          "output_type": "display_data",
          "data": {
            "text/plain": [
              "<Figure size 432x288 with 1 Axes>"
            ],
            "image/png": "[encoded data removed]"
          },
          "metadata": {
            "needs_background": "light"
          }
        },
        {
          "output_type": "display_data",
          "data": {
            "text/plain": [
              "<Figure size 432x288 with 1 Axes>"
            ],
            "image/png": "[encoded data removed]"
          },
          "metadata": {
            "needs_background": "light"
          }
        }
      ]
    },
    {
      "cell_type": "code",
      "source": [
        "# Check the layers in our base model\n",
        "for layer_number, layer in enumerate(base_model.layers):\n",
        "    print(layer_number, layer.name)"
      ],
      "metadata": {
        "colab": {
          "base_uri": "https://localhost:8080/"
        },
        "id": "A4XQj5W988TO",
        "outputId": "08a59521-c71d-46cc-c0a1-667edc430b40"
      },
      "execution_count": 53,
      "outputs": [
        {
          "output_type": "stream",
          "name": "stdout",
          "text": [
            "0 input_4\n",
            "1 rescaling_3\n",
            "2 normalization_3\n",
            "3 tf.math.truediv_3\n",
            "4 stem_conv_pad\n",
            "5 stem_conv\n",
            "6 stem_bn\n",
            "7 stem_activation\n",
            "8 block1a_dwconv\n",
            "9 block1a_bn\n",
            "10 block1a_activation\n",
            "11 block1a_se_squeeze\n",
            "12 block1a_se_reshape\n",
            "13 block1a_se_reduce\n",
            "14 block1a_se_expand\n",
            "15 block1a_se_excite\n",
            "16 block1a_project_conv\n",
            "17 block1a_project_bn\n",
            "18 block2a_expand_conv\n",
            "19 block2a_expand_bn\n",
            "20 block2a_expand_activation\n",
            "21 block2a_dwconv_pad\n",
            "22 block2a_dwconv\n",
            "23 block2a_bn\n",
            "24 block2a_activation\n",
            "25 block2a_se_squeeze\n",
            "26 block2a_se_reshape\n",
            "27 block2a_se_reduce\n",
            "28 block2a_se_expand\n",
            "29 block2a_se_excite\n",
            "30 block2a_project_conv\n",
            "31 block2a_project_bn\n",
            "32 block2b_expand_conv\n",
            "33 block2b_expand_bn\n",
            "34 block2b_expand_activation\n",
            "35 block2b_dwconv\n",
            "36 block2b_bn\n",
            "37 block2b_activation\n",
            "38 block2b_se_squeeze\n",
            "39 block2b_se_reshape\n",
            "40 block2b_se_reduce\n",
            "41 block2b_se_expand\n",
            "42 block2b_se_excite\n",
            "43 block2b_project_conv\n",
            "44 block2b_project_bn\n",
            "45 block2b_drop\n",
            "46 block2b_add\n",
            "47 block3a_expand_conv\n",
            "48 block3a_expand_bn\n",
            "49 block3a_expand_activation\n",
            "50 block3a_dwconv_pad\n",
            "51 block3a_dwconv\n",
            "52 block3a_bn\n",
            "53 block3a_activation\n",
            "54 block3a_se_squeeze\n",
            "55 block3a_se_reshape\n",
            "56 block3a_se_reduce\n",
            "57 block3a_se_expand\n",
            "58 block3a_se_excite\n",
            "59 block3a_project_conv\n",
            "60 block3a_project_bn\n",
            "61 block3b_expand_conv\n",
            "62 block3b_expand_bn\n",
            "63 block3b_expand_activation\n",
            "64 block3b_dwconv\n",
            "65 block3b_bn\n",
            "66 block3b_activation\n",
            "67 block3b_se_squeeze\n",
            "68 block3b_se_reshape\n",
            "69 block3b_se_reduce\n",
            "70 block3b_se_expand\n",
            "71 block3b_se_excite\n",
            "72 block3b_project_conv\n",
            "73 block3b_project_bn\n",
            "74 block3b_drop\n",
            "75 block3b_add\n",
            "76 block4a_expand_conv\n",
            "77 block4a_expand_bn\n",
            "78 block4a_expand_activation\n",
            "79 block4a_dwconv_pad\n",
            "80 block4a_dwconv\n",
            "81 block4a_bn\n",
            "82 block4a_activation\n",
            "83 block4a_se_squeeze\n",
            "84 block4a_se_reshape\n",
            "85 block4a_se_reduce\n",
            "86 block4a_se_expand\n",
            "87 block4a_se_excite\n",
            "88 block4a_project_conv\n",
            "89 block4a_project_bn\n",
            "90 block4b_expand_conv\n",
            "91 block4b_expand_bn\n",
            "92 block4b_expand_activation\n",
            "93 block4b_dwconv\n",
            "94 block4b_bn\n",
            "95 block4b_activation\n",
            "96 block4b_se_squeeze\n",
            "97 block4b_se_reshape\n",
            "98 block4b_se_reduce\n",
            "99 block4b_se_expand\n",
            "100 block4b_se_excite\n",
            "101 block4b_project_conv\n",
            "102 block4b_project_bn\n",
            "103 block4b_drop\n",
            "104 block4b_add\n",
            "105 block4c_expand_conv\n",
            "106 block4c_expand_bn\n",
            "107 block4c_expand_activation\n",
            "108 block4c_dwconv\n",
            "109 block4c_bn\n",
            "110 block4c_activation\n",
            "111 block4c_se_squeeze\n",
            "112 block4c_se_reshape\n",
            "113 block4c_se_reduce\n",
            "114 block4c_se_expand\n",
            "115 block4c_se_excite\n",
            "116 block4c_project_conv\n",
            "117 block4c_project_bn\n",
            "118 block4c_drop\n",
            "119 block4c_add\n",
            "120 block5a_expand_conv\n",
            "121 block5a_expand_bn\n",
            "122 block5a_expand_activation\n",
            "123 block5a_dwconv\n",
            "124 block5a_bn\n",
            "125 block5a_activation\n",
            "126 block5a_se_squeeze\n",
            "127 block5a_se_reshape\n",
            "128 block5a_se_reduce\n",
            "129 block5a_se_expand\n",
            "130 block5a_se_excite\n",
            "131 block5a_project_conv\n",
            "132 block5a_project_bn\n",
            "133 block5b_expand_conv\n",
            "134 block5b_expand_bn\n",
            "135 block5b_expand_activation\n",
            "136 block5b_dwconv\n",
            "137 block5b_bn\n",
            "138 block5b_activation\n",
            "139 block5b_se_squeeze\n",
            "140 block5b_se_reshape\n",
            "141 block5b_se_reduce\n",
            "142 block5b_se_expand\n",
            "143 block5b_se_excite\n",
            "144 block5b_project_conv\n",
            "145 block5b_project_bn\n",
            "146 block5b_drop\n",
            "147 block5b_add\n",
            "148 block5c_expand_conv\n",
            "149 block5c_expand_bn\n",
            "150 block5c_expand_activation\n",
            "151 block5c_dwconv\n",
            "152 block5c_bn\n",
            "153 block5c_activation\n",
            "154 block5c_se_squeeze\n",
            "155 block5c_se_reshape\n",
            "156 block5c_se_reduce\n",
            "157 block5c_se_expand\n",
            "158 block5c_se_excite\n",
            "159 block5c_project_conv\n",
            "160 block5c_project_bn\n",
            "161 block5c_drop\n",
            "162 block5c_add\n",
            "163 block6a_expand_conv\n",
            "164 block6a_expand_bn\n",
            "165 block6a_expand_activation\n",
            "166 block6a_dwconv_pad\n",
            "167 block6a_dwconv\n",
            "168 block6a_bn\n",
            "169 block6a_activation\n",
            "170 block6a_se_squeeze\n",
            "171 block6a_se_reshape\n",
            "172 block6a_se_reduce\n",
            "173 block6a_se_expand\n",
            "174 block6a_se_excite\n",
            "175 block6a_project_conv\n",
            "176 block6a_project_bn\n",
            "177 block6b_expand_conv\n",
            "178 block6b_expand_bn\n",
            "179 block6b_expand_activation\n",
            "180 block6b_dwconv\n",
            "181 block6b_bn\n",
            "182 block6b_activation\n",
            "183 block6b_se_squeeze\n",
            "184 block6b_se_reshape\n",
            "185 block6b_se_reduce\n",
            "186 block6b_se_expand\n",
            "187 block6b_se_excite\n",
            "188 block6b_project_conv\n",
            "189 block6b_project_bn\n",
            "190 block6b_drop\n",
            "191 block6b_add\n",
            "192 block6c_expand_conv\n",
            "193 block6c_expand_bn\n",
            "194 block6c_expand_activation\n",
            "195 block6c_dwconv\n",
            "196 block6c_bn\n",
            "197 block6c_activation\n",
            "198 block6c_se_squeeze\n",
            "199 block6c_se_reshape\n",
            "200 block6c_se_reduce\n",
            "201 block6c_se_expand\n",
            "202 block6c_se_excite\n",
            "203 block6c_project_conv\n",
            "204 block6c_project_bn\n",
            "205 block6c_drop\n",
            "206 block6c_add\n",
            "207 block6d_expand_conv\n",
            "208 block6d_expand_bn\n",
            "209 block6d_expand_activation\n",
            "210 block6d_dwconv\n",
            "211 block6d_bn\n",
            "212 block6d_activation\n",
            "213 block6d_se_squeeze\n",
            "214 block6d_se_reshape\n",
            "215 block6d_se_reduce\n",
            "216 block6d_se_expand\n",
            "217 block6d_se_excite\n",
            "218 block6d_project_conv\n",
            "219 block6d_project_bn\n",
            "220 block6d_drop\n",
            "221 block6d_add\n",
            "222 block7a_expand_conv\n",
            "223 block7a_expand_bn\n",
            "224 block7a_expand_activation\n",
            "225 block7a_dwconv\n",
            "226 block7a_bn\n",
            "227 block7a_activation\n",
            "228 block7a_se_squeeze\n",
            "229 block7a_se_reshape\n",
            "230 block7a_se_reduce\n",
            "231 block7a_se_expand\n",
            "232 block7a_se_excite\n",
            "233 block7a_project_conv\n",
            "234 block7a_project_bn\n",
            "235 top_conv\n",
            "236 top_bn\n",
            "237 top_activation\n"
          ]
        }
      ]
    },
    {
      "cell_type": "code",
      "source": [
        "base_model.summary()"
      ],
      "metadata": {
        "colab": {
          "base_uri": "https://localhost:8080/"
        },
        "id": "RXA6tDiy9UPx",
        "outputId": "11c3523b-ed05-4801-9d12-e7681ae4b462"
      },
      "execution_count": 54,
      "outputs": [
        {
          "output_type": "stream",
          "name": "stdout",
          "text": [
            "Model: \"efficientnetb0\"\n",
            "__________________________________________________________________________________________________\n",
            " Layer (type)                   Output Shape         Param #     Connected to                     \n",
            "==================================================================================================\n",
            " input_4 (InputLayer)           [(None, None, None,  0           []                               \n",
            "                                 3)]                                                              \n",
            "                                                                                                  \n",
            " rescaling_3 (Rescaling)        (None, None, None,   0           ['input_4[0][0]']                \n",
            "                                3)                                                                \n",
            "                                                                                                  \n",
            " normalization_3 (Normalization  (None, None, None,   7          ['rescaling_3[0][0]']            \n",
            " )                              3)                                                                \n",
            "                                                                                                  \n",
            " tf.math.truediv_3 (TFOpLambda)  (None, None, None,   0          ['normalization_3[0][0]']        \n",
            "                                3)                                                                \n",
            "                                                                                                  \n",
            " stem_conv_pad (ZeroPadding2D)  (None, None, None,   0           ['tf.math.truediv_3[0][0]']      \n",
            "                                3)                                                                \n",
            "                                                                                                  \n",
            " stem_conv (Conv2D)             (None, None, None,   864         ['stem_conv_pad[0][0]']          \n",
            "                                32)                                                               \n",
            "                                                                                                  \n",
            " stem_bn (BatchNormalization)   (None, None, None,   128         ['stem_conv[0][0]']              \n",
            "                                32)                                                               \n",
            "                                                                                                  \n",
            " stem_activation (Activation)   (None, None, None,   0           ['stem_bn[0][0]']                \n",
            "                                32)                                                               \n",
            "                                                                                                  \n",
            " block1a_dwconv (DepthwiseConv2  (None, None, None,   288        ['stem_activation[0][0]']        \n",
            " D)                             32)                                                               \n",
            "                                                                                                  \n",
            " block1a_bn (BatchNormalization  (None, None, None,   128        ['block1a_dwconv[0][0]']         \n",
            " )                              32)                                                               \n",
            "                                                                                                  \n",
            " block1a_activation (Activation  (None, None, None,   0          ['block1a_bn[0][0]']             \n",
            " )                              32)                                                               \n",
            "                                                                                                  \n",
            " block1a_se_squeeze (GlobalAver  (None, 32)          0           ['block1a_activation[0][0]']     \n",
            " agePooling2D)                                                                                    \n",
            "                                                                                                  \n",
            " block1a_se_reshape (Reshape)   (None, 1, 1, 32)     0           ['block1a_se_squeeze[0][0]']     \n",
            "                                                                                                  \n",
            " block1a_se_reduce (Conv2D)     (None, 1, 1, 8)      264         ['block1a_se_reshape[0][0]']     \n",
            "                                                                                                  \n",
            " block1a_se_expand (Conv2D)     (None, 1, 1, 32)     288         ['block1a_se_reduce[0][0]']      \n",
            "                                                                                                  \n",
            " block1a_se_excite (Multiply)   (None, None, None,   0           ['block1a_activation[0][0]',     \n",
            "                                32)                               'block1a_se_expand[0][0]']      \n",
            "                                                                                                  \n",
            " block1a_project_conv (Conv2D)  (None, None, None,   512         ['block1a_se_excite[0][0]']      \n",
            "                                16)                                                               \n",
            "                                                                                                  \n",
            " block1a_project_bn (BatchNorma  (None, None, None,   64         ['block1a_project_conv[0][0]']   \n",
            " lization)                      16)                                                               \n",
            "                                                                                                  \n",
            " block2a_expand_conv (Conv2D)   (None, None, None,   1536        ['block1a_project_bn[0][0]']     \n",
            "                                96)                                                               \n",
            "                                                                                                  \n",
            " block2a_expand_bn (BatchNormal  (None, None, None,   384        ['block2a_expand_conv[0][0]']    \n",
            " ization)                       96)                                                               \n",
            "                                                                                                  \n",
            " block2a_expand_activation (Act  (None, None, None,   0          ['block2a_expand_bn[0][0]']      \n",
            " ivation)                       96)                                                               \n",
            "                                                                                                  \n",
            " block2a_dwconv_pad (ZeroPaddin  (None, None, None,   0          ['block2a_expand_activation[0][0]\n",
            " g2D)                           96)                              ']                               \n",
            "                                                                                                  \n",
            " block2a_dwconv (DepthwiseConv2  (None, None, None,   864        ['block2a_dwconv_pad[0][0]']     \n",
            " D)                             96)                                                               \n",
            "                                                                                                  \n",
            " block2a_bn (BatchNormalization  (None, None, None,   384        ['block2a_dwconv[0][0]']         \n",
            " )                              96)                                                               \n",
            "                                                                                                  \n",
            " block2a_activation (Activation  (None, None, None,   0          ['block2a_bn[0][0]']             \n",
            " )                              96)                                                               \n",
            "                                                                                                  \n",
            " block2a_se_squeeze (GlobalAver  (None, 96)          0           ['block2a_activation[0][0]']     \n",
            " agePooling2D)                                                                                    \n",
            "                                                                                                  \n",
            " block2a_se_reshape (Reshape)   (None, 1, 1, 96)     0           ['block2a_se_squeeze[0][0]']     \n",
            "                                                                                                  \n",
            " block2a_se_reduce (Conv2D)     (None, 1, 1, 4)      388         ['block2a_se_reshape[0][0]']     \n",
            "                                                                                                  \n",
            " block2a_se_expand (Conv2D)     (None, 1, 1, 96)     480         ['block2a_se_reduce[0][0]']      \n",
            "                                                                                                  \n",
            " block2a_se_excite (Multiply)   (None, None, None,   0           ['block2a_activation[0][0]',     \n",
            "                                96)                               'block2a_se_expand[0][0]']      \n",
            "                                                                                                  \n",
            " block2a_project_conv (Conv2D)  (None, None, None,   2304        ['block2a_se_excite[0][0]']      \n",
            "                                24)                                                               \n",
            "                                                                                                  \n",
            " block2a_project_bn (BatchNorma  (None, None, None,   96         ['block2a_project_conv[0][0]']   \n",
            " lization)                      24)                                                               \n",
            "                                                                                                  \n",
            " block2b_expand_conv (Conv2D)   (None, None, None,   3456        ['block2a_project_bn[0][0]']     \n",
            "                                144)                                                              \n",
            "                                                                                                  \n",
            " block2b_expand_bn (BatchNormal  (None, None, None,   576        ['block2b_expand_conv[0][0]']    \n",
            " ization)                       144)                                                              \n",
            "                                                                                                  \n",
            " block2b_expand_activation (Act  (None, None, None,   0          ['block2b_expand_bn[0][0]']      \n",
            " ivation)                       144)                                                              \n",
            "                                                                                                  \n",
            " block2b_dwconv (DepthwiseConv2  (None, None, None,   1296       ['block2b_expand_activation[0][0]\n",
            " D)                             144)                             ']                               \n",
            "                                                                                                  \n",
            " block2b_bn (BatchNormalization  (None, None, None,   576        ['block2b_dwconv[0][0]']         \n",
            " )                              144)                                                              \n",
            "                                                                                                  \n",
            " block2b_activation (Activation  (None, None, None,   0          ['block2b_bn[0][0]']             \n",
            " )                              144)                                                              \n",
            "                                                                                                  \n",
            " block2b_se_squeeze (GlobalAver  (None, 144)         0           ['block2b_activation[0][0]']     \n",
            " agePooling2D)                                                                                    \n",
            "                                                                                                  \n",
            " block2b_se_reshape (Reshape)   (None, 1, 1, 144)    0           ['block2b_se_squeeze[0][0]']     \n",
            "                                                                                                  \n",
            " block2b_se_reduce (Conv2D)     (None, 1, 1, 6)      870         ['block2b_se_reshape[0][0]']     \n",
            "                                                                                                  \n",
            " block2b_se_expand (Conv2D)     (None, 1, 1, 144)    1008        ['block2b_se_reduce[0][0]']      \n",
            "                                                                                                  \n",
            " block2b_se_excite (Multiply)   (None, None, None,   0           ['block2b_activation[0][0]',     \n",
            "                                144)                              'block2b_se_expand[0][0]']      \n",
            "                                                                                                  \n",
            " block2b_project_conv (Conv2D)  (None, None, None,   3456        ['block2b_se_excite[0][0]']      \n",
            "                                24)                                                               \n",
            "                                                                                                  \n",
            " block2b_project_bn (BatchNorma  (None, None, None,   96         ['block2b_project_conv[0][0]']   \n",
            " lization)                      24)                                                               \n",
            "                                                                                                  \n",
            " block2b_drop (Dropout)         (None, None, None,   0           ['block2b_project_bn[0][0]']     \n",
            "                                24)                                                               \n",
            "                                                                                                  \n",
            " block2b_add (Add)              (None, None, None,   0           ['block2b_drop[0][0]',           \n",
            "                                24)                               'block2a_project_bn[0][0]']     \n",
            "                                                                                                  \n",
            " block3a_expand_conv (Conv2D)   (None, None, None,   3456        ['block2b_add[0][0]']            \n",
            "                                144)                                                              \n",
            "                                                                                                  \n",
            " block3a_expand_bn (BatchNormal  (None, None, None,   576        ['block3a_expand_conv[0][0]']    \n",
            " ization)                       144)                                                              \n",
            "                                                                                                  \n",
            " block3a_expand_activation (Act  (None, None, None,   0          ['block3a_expand_bn[0][0]']      \n",
            " ivation)                       144)                                                              \n",
            "                                                                                                  \n",
            " block3a_dwconv_pad (ZeroPaddin  (None, None, None,   0          ['block3a_expand_activation[0][0]\n",
            " g2D)                           144)                             ']                               \n",
            "                                                                                                  \n",
            " block3a_dwconv (DepthwiseConv2  (None, None, None,   3600       ['block3a_dwconv_pad[0][0]']     \n",
            " D)                             144)                                                              \n",
            "                                                                                                  \n",
            " block3a_bn (BatchNormalization  (None, None, None,   576        ['block3a_dwconv[0][0]']         \n",
            " )                              144)                                                              \n",
            "                                                                                                  \n",
            " block3a_activation (Activation  (None, None, None,   0          ['block3a_bn[0][0]']             \n",
            " )                              144)                                                              \n",
            "                                                                                                  \n",
            " block3a_se_squeeze (GlobalAver  (None, 144)         0           ['block3a_activation[0][0]']     \n",
            " agePooling2D)                                                                                    \n",
            "                                                                                                  \n",
            " block3a_se_reshape (Reshape)   (None, 1, 1, 144)    0           ['block3a_se_squeeze[0][0]']     \n",
            "                                                                                                  \n",
            " block3a_se_reduce (Conv2D)     (None, 1, 1, 6)      870         ['block3a_se_reshape[0][0]']     \n",
            "                                                                                                  \n",
            " block3a_se_expand (Conv2D)     (None, 1, 1, 144)    1008        ['block3a_se_reduce[0][0]']      \n",
            "                                                                                                  \n",
            " block3a_se_excite (Multiply)   (None, None, None,   0           ['block3a_activation[0][0]',     \n",
            "                                144)                              'block3a_se_expand[0][0]']      \n",
            "                                                                                                  \n",
            " block3a_project_conv (Conv2D)  (None, None, None,   5760        ['block3a_se_excite[0][0]']      \n",
            "                                40)                                                               \n",
            "                                                                                                  \n",
            " block3a_project_bn (BatchNorma  (None, None, None,   160        ['block3a_project_conv[0][0]']   \n",
            " lization)                      40)                                                               \n",
            "                                                                                                  \n",
            " block3b_expand_conv (Conv2D)   (None, None, None,   9600        ['block3a_project_bn[0][0]']     \n",
            "                                240)                                                              \n",
            "                                                                                                  \n",
            " block3b_expand_bn (BatchNormal  (None, None, None,   960        ['block3b_expand_conv[0][0]']    \n",
            " ization)                       240)                                                              \n",
            "                                                                                                  \n",
            " block3b_expand_activation (Act  (None, None, None,   0          ['block3b_expand_bn[0][0]']      \n",
            " ivation)                       240)                                                              \n",
            "                                                                                                  \n",
            " block3b_dwconv (DepthwiseConv2  (None, None, None,   6000       ['block3b_expand_activation[0][0]\n",
            " D)                             240)                             ']                               \n",
            "                                                                                                  \n",
            " block3b_bn (BatchNormalization  (None, None, None,   960        ['block3b_dwconv[0][0]']         \n",
            " )                              240)                                                              \n",
            "                                                                                                  \n",
            " block3b_activation (Activation  (None, None, None,   0          ['block3b_bn[0][0]']             \n",
            " )                              240)                                                              \n",
            "                                                                                                  \n",
            " block3b_se_squeeze (GlobalAver  (None, 240)         0           ['block3b_activation[0][0]']     \n",
            " agePooling2D)                                                                                    \n",
            "                                                                                                  \n",
            " block3b_se_reshape (Reshape)   (None, 1, 1, 240)    0           ['block3b_se_squeeze[0][0]']     \n",
            "                                                                                                  \n",
            " block3b_se_reduce (Conv2D)     (None, 1, 1, 10)     2410        ['block3b_se_reshape[0][0]']     \n",
            "                                                                                                  \n",
            " block3b_se_expand (Conv2D)     (None, 1, 1, 240)    2640        ['block3b_se_reduce[0][0]']      \n",
            "                                                                                                  \n",
            " block3b_se_excite (Multiply)   (None, None, None,   0           ['block3b_activation[0][0]',     \n",
            "                                240)                              'block3b_se_expand[0][0]']      \n",
            "                                                                                                  \n",
            " block3b_project_conv (Conv2D)  (None, None, None,   9600        ['block3b_se_excite[0][0]']      \n",
            "                                40)                                                               \n",
            "                                                                                                  \n",
            " block3b_project_bn (BatchNorma  (None, None, None,   160        ['block3b_project_conv[0][0]']   \n",
            " lization)                      40)                                                               \n",
            "                                                                                                  \n",
            " block3b_drop (Dropout)         (None, None, None,   0           ['block3b_project_bn[0][0]']     \n",
            "                                40)                                                               \n",
            "                                                                                                  \n",
            " block3b_add (Add)              (None, None, None,   0           ['block3b_drop[0][0]',           \n",
            "                                40)                               'block3a_project_bn[0][0]']     \n",
            "                                                                                                  \n",
            " block4a_expand_conv (Conv2D)   (None, None, None,   9600        ['block3b_add[0][0]']            \n",
            "                                240)                                                              \n",
            "                                                                                                  \n",
            " block4a_expand_bn (BatchNormal  (None, None, None,   960        ['block4a_expand_conv[0][0]']    \n",
            " ization)                       240)                                                              \n",
            "                                                                                                  \n",
            " block4a_expand_activation (Act  (None, None, None,   0          ['block4a_expand_bn[0][0]']      \n",
            " ivation)                       240)                                                              \n",
            "                                                                                                  \n",
            " block4a_dwconv_pad (ZeroPaddin  (None, None, None,   0          ['block4a_expand_activation[0][0]\n",
            " g2D)                           240)                             ']                               \n",
            "                                                                                                  \n",
            " block4a_dwconv (DepthwiseConv2  (None, None, None,   2160       ['block4a_dwconv_pad[0][0]']     \n",
            " D)                             240)                                                              \n",
            "                                                                                                  \n",
            " block4a_bn (BatchNormalization  (None, None, None,   960        ['block4a_dwconv[0][0]']         \n",
            " )                              240)                                                              \n",
            "                                                                                                  \n",
            " block4a_activation (Activation  (None, None, None,   0          ['block4a_bn[0][0]']             \n",
            " )                              240)                                                              \n",
            "                                                                                                  \n",
            " block4a_se_squeeze (GlobalAver  (None, 240)         0           ['block4a_activation[0][0]']     \n",
            " agePooling2D)                                                                                    \n",
            "                                                                                                  \n",
            " block4a_se_reshape (Reshape)   (None, 1, 1, 240)    0           ['block4a_se_squeeze[0][0]']     \n",
            "                                                                                                  \n",
            " block4a_se_reduce (Conv2D)     (None, 1, 1, 10)     2410        ['block4a_se_reshape[0][0]']     \n",
            "                                                                                                  \n",
            " block4a_se_expand (Conv2D)     (None, 1, 1, 240)    2640        ['block4a_se_reduce[0][0]']      \n",
            "                                                                                                  \n",
            " block4a_se_excite (Multiply)   (None, None, None,   0           ['block4a_activation[0][0]',     \n",
            "                                240)                              'block4a_se_expand[0][0]']      \n",
            "                                                                                                  \n",
            " block4a_project_conv (Conv2D)  (None, None, None,   19200       ['block4a_se_excite[0][0]']      \n",
            "                                80)                                                               \n",
            "                                                                                                  \n",
            " block4a_project_bn (BatchNorma  (None, None, None,   320        ['block4a_project_conv[0][0]']   \n",
            " lization)                      80)                                                               \n",
            "                                                                                                  \n",
            " block4b_expand_conv (Conv2D)   (None, None, None,   38400       ['block4a_project_bn[0][0]']     \n",
            "                                480)                                                              \n",
            "                                                                                                  \n",
            " block4b_expand_bn (BatchNormal  (None, None, None,   1920       ['block4b_expand_conv[0][0]']    \n",
            " ization)                       480)                                                              \n",
            "                                                                                                  \n",
            " block4b_expand_activation (Act  (None, None, None,   0          ['block4b_expand_bn[0][0]']      \n",
            " ivation)                       480)                                                              \n",
            "                                                                                                  \n",
            " block4b_dwconv (DepthwiseConv2  (None, None, None,   4320       ['block4b_expand_activation[0][0]\n",
            " D)                             480)                             ']                               \n",
            "                                                                                                  \n",
            " block4b_bn (BatchNormalization  (None, None, None,   1920       ['block4b_dwconv[0][0]']         \n",
            " )                              480)                                                              \n",
            "                                                                                                  \n",
            " block4b_activation (Activation  (None, None, None,   0          ['block4b_bn[0][0]']             \n",
            " )                              480)                                                              \n",
            "                                                                                                  \n",
            " block4b_se_squeeze (GlobalAver  (None, 480)         0           ['block4b_activation[0][0]']     \n",
            " agePooling2D)                                                                                    \n",
            "                                                                                                  \n",
            " block4b_se_reshape (Reshape)   (None, 1, 1, 480)    0           ['block4b_se_squeeze[0][0]']     \n",
            "                                                                                                  \n",
            " block4b_se_reduce (Conv2D)     (None, 1, 1, 20)     9620        ['block4b_se_reshape[0][0]']     \n",
            "                                                                                                  \n",
            " block4b_se_expand (Conv2D)     (None, 1, 1, 480)    10080       ['block4b_se_reduce[0][0]']      \n",
            "                                                                                                  \n",
            " block4b_se_excite (Multiply)   (None, None, None,   0           ['block4b_activation[0][0]',     \n",
            "                                480)                              'block4b_se_expand[0][0]']      \n",
            "                                                                                                  \n",
            " block4b_project_conv (Conv2D)  (None, None, None,   38400       ['block4b_se_excite[0][0]']      \n",
            "                                80)                                                               \n",
            "                                                                                                  \n",
            " block4b_project_bn (BatchNorma  (None, None, None,   320        ['block4b_project_conv[0][0]']   \n",
            " lization)                      80)                                                               \n",
            "                                                                                                  \n",
            " block4b_drop (Dropout)         (None, None, None,   0           ['block4b_project_bn[0][0]']     \n",
            "                                80)                                                               \n",
            "                                                                                                  \n",
            " block4b_add (Add)              (None, None, None,   0           ['block4b_drop[0][0]',           \n",
            "                                80)                               'block4a_project_bn[0][0]']     \n",
            "                                                                                                  \n",
            " block4c_expand_conv (Conv2D)   (None, None, None,   38400       ['block4b_add[0][0]']            \n",
            "                                480)                                                              \n",
            "                                                                                                  \n",
            " block4c_expand_bn (BatchNormal  (None, None, None,   1920       ['block4c_expand_conv[0][0]']    \n",
            " ization)                       480)                                                              \n",
            "                                                                                                  \n",
            " block4c_expand_activation (Act  (None, None, None,   0          ['block4c_expand_bn[0][0]']      \n",
            " ivation)                       480)                                                              \n",
            "                                                                                                  \n",
            " block4c_dwconv (DepthwiseConv2  (None, None, None,   4320       ['block4c_expand_activation[0][0]\n",
            " D)                             480)                             ']                               \n",
            "                                                                                                  \n",
            " block4c_bn (BatchNormalization  (None, None, None,   1920       ['block4c_dwconv[0][0]']         \n",
            " )                              480)                                                              \n",
            "                                                                                                  \n",
            " block4c_activation (Activation  (None, None, None,   0          ['block4c_bn[0][0]']             \n",
            " )                              480)                                                              \n",
            "                                                                                                  \n",
            " block4c_se_squeeze (GlobalAver  (None, 480)         0           ['block4c_activation[0][0]']     \n",
            " agePooling2D)                                                                                    \n",
            "                                                                                                  \n",
            " block4c_se_reshape (Reshape)   (None, 1, 1, 480)    0           ['block4c_se_squeeze[0][0]']     \n",
            "                                                                                                  \n",
            " block4c_se_reduce (Conv2D)     (None, 1, 1, 20)     9620        ['block4c_se_reshape[0][0]']     \n",
            "                                                                                                  \n",
            " block4c_se_expand (Conv2D)     (None, 1, 1, 480)    10080       ['block4c_se_reduce[0][0]']      \n",
            "                                                                                                  \n",
            " block4c_se_excite (Multiply)   (None, None, None,   0           ['block4c_activation[0][0]',     \n",
            "                                480)                              'block4c_se_expand[0][0]']      \n",
            "                                                                                                  \n",
            " block4c_project_conv (Conv2D)  (None, None, None,   38400       ['block4c_se_excite[0][0]']      \n",
            "                                80)                                                               \n",
            "                                                                                                  \n",
            " block4c_project_bn (BatchNorma  (None, None, None,   320        ['block4c_project_conv[0][0]']   \n",
            " lization)                      80)                                                               \n",
            "                                                                                                  \n",
            " block4c_drop (Dropout)         (None, None, None,   0           ['block4c_project_bn[0][0]']     \n",
            "                                80)                                                               \n",
            "                                                                                                  \n",
            " block4c_add (Add)              (None, None, None,   0           ['block4c_drop[0][0]',           \n",
            "                                80)                               'block4b_add[0][0]']            \n",
            "                                                                                                  \n",
            " block5a_expand_conv (Conv2D)   (None, None, None,   38400       ['block4c_add[0][0]']            \n",
            "                                480)                                                              \n",
            "                                                                                                  \n",
            " block5a_expand_bn (BatchNormal  (None, None, None,   1920       ['block5a_expand_conv[0][0]']    \n",
            " ization)                       480)                                                              \n",
            "                                                                                                  \n",
            " block5a_expand_activation (Act  (None, None, None,   0          ['block5a_expand_bn[0][0]']      \n",
            " ivation)                       480)                                                              \n",
            "                                                                                                  \n",
            " block5a_dwconv (DepthwiseConv2  (None, None, None,   12000      ['block5a_expand_activation[0][0]\n",
            " D)                             480)                             ']                               \n",
            "                                                                                                  \n",
            " block5a_bn (BatchNormalization  (None, None, None,   1920       ['block5a_dwconv[0][0]']         \n",
            " )                              480)                                                              \n",
            "                                                                                                  \n",
            " block5a_activation (Activation  (None, None, None,   0          ['block5a_bn[0][0]']             \n",
            " )                              480)                                                              \n",
            "                                                                                                  \n",
            " block5a_se_squeeze (GlobalAver  (None, 480)         0           ['block5a_activation[0][0]']     \n",
            " agePooling2D)                                                                                    \n",
            "                                                                                                  \n",
            " block5a_se_reshape (Reshape)   (None, 1, 1, 480)    0           ['block5a_se_squeeze[0][0]']     \n",
            "                                                                                                  \n",
            " block5a_se_reduce (Conv2D)     (None, 1, 1, 20)     9620        ['block5a_se_reshape[0][0]']     \n",
            "                                                                                                  \n",
            " block5a_se_expand (Conv2D)     (None, 1, 1, 480)    10080       ['block5a_se_reduce[0][0]']      \n",
            "                                                                                                  \n",
            " block5a_se_excite (Multiply)   (None, None, None,   0           ['block5a_activation[0][0]',     \n",
            "                                480)                              'block5a_se_expand[0][0]']      \n",
            "                                                                                                  \n",
            " block5a_project_conv (Conv2D)  (None, None, None,   53760       ['block5a_se_excite[0][0]']      \n",
            "                                112)                                                              \n",
            "                                                                                                  \n",
            " block5a_project_bn (BatchNorma  (None, None, None,   448        ['block5a_project_conv[0][0]']   \n",
            " lization)                      112)                                                              \n",
            "                                                                                                  \n",
            " block5b_expand_conv (Conv2D)   (None, None, None,   75264       ['block5a_project_bn[0][0]']     \n",
            "                                672)                                                              \n",
            "                                                                                                  \n",
            " block5b_expand_bn (BatchNormal  (None, None, None,   2688       ['block5b_expand_conv[0][0]']    \n",
            " ization)                       672)                                                              \n",
            "                                                                                                  \n",
            " block5b_expand_activation (Act  (None, None, None,   0          ['block5b_expand_bn[0][0]']      \n",
            " ivation)                       672)                                                              \n",
            "                                                                                                  \n",
            " block5b_dwconv (DepthwiseConv2  (None, None, None,   16800      ['block5b_expand_activation[0][0]\n",
            " D)                             672)                             ']                               \n",
            "                                                                                                  \n",
            " block5b_bn (BatchNormalization  (None, None, None,   2688       ['block5b_dwconv[0][0]']         \n",
            " )                              672)                                                              \n",
            "                                                                                                  \n",
            " block5b_activation (Activation  (None, None, None,   0          ['block5b_bn[0][0]']             \n",
            " )                              672)                                                              \n",
            "                                                                                                  \n",
            " block5b_se_squeeze (GlobalAver  (None, 672)         0           ['block5b_activation[0][0]']     \n",
            " agePooling2D)                                                                                    \n",
            "                                                                                                  \n",
            " block5b_se_reshape (Reshape)   (None, 1, 1, 672)    0           ['block5b_se_squeeze[0][0]']     \n",
            "                                                                                                  \n",
            " block5b_se_reduce (Conv2D)     (None, 1, 1, 28)     18844       ['block5b_se_reshape[0][0]']     \n",
            "                                                                                                  \n",
            " block5b_se_expand (Conv2D)     (None, 1, 1, 672)    19488       ['block5b_se_reduce[0][0]']      \n",
            "                                                                                                  \n",
            " block5b_se_excite (Multiply)   (None, None, None,   0           ['block5b_activation[0][0]',     \n",
            "                                672)                              'block5b_se_expand[0][0]']      \n",
            "                                                                                                  \n",
            " block5b_project_conv (Conv2D)  (None, None, None,   75264       ['block5b_se_excite[0][0]']      \n",
            "                                112)                                                              \n",
            "                                                                                                  \n",
            " block5b_project_bn (BatchNorma  (None, None, None,   448        ['block5b_project_conv[0][0]']   \n",
            " lization)                      112)                                                              \n",
            "                                                                                                  \n",
            " block5b_drop (Dropout)         (None, None, None,   0           ['block5b_project_bn[0][0]']     \n",
            "                                112)                                                              \n",
            "                                                                                                  \n",
            " block5b_add (Add)              (None, None, None,   0           ['block5b_drop[0][0]',           \n",
            "                                112)                              'block5a_project_bn[0][0]']     \n",
            "                                                                                                  \n",
            " block5c_expand_conv (Conv2D)   (None, None, None,   75264       ['block5b_add[0][0]']            \n",
            "                                672)                                                              \n",
            "                                                                                                  \n",
            " block5c_expand_bn (BatchNormal  (None, None, None,   2688       ['block5c_expand_conv[0][0]']    \n",
            " ization)                       672)                                                              \n",
            "                                                                                                  \n",
            " block5c_expand_activation (Act  (None, None, None,   0          ['block5c_expand_bn[0][0]']      \n",
            " ivation)                       672)                                                              \n",
            "                                                                                                  \n",
            " block5c_dwconv (DepthwiseConv2  (None, None, None,   16800      ['block5c_expand_activation[0][0]\n",
            " D)                             672)                             ']                               \n",
            "                                                                                                  \n",
            " block5c_bn (BatchNormalization  (None, None, None,   2688       ['block5c_dwconv[0][0]']         \n",
            " )                              672)                                                              \n",
            "                                                                                                  \n",
            " block5c_activation (Activation  (None, None, None,   0          ['block5c_bn[0][0]']             \n",
            " )                              672)                                                              \n",
            "                                                                                                  \n",
            " block5c_se_squeeze (GlobalAver  (None, 672)         0           ['block5c_activation[0][0]']     \n",
            " agePooling2D)                                                                                    \n",
            "                                                                                                  \n",
            " block5c_se_reshape (Reshape)   (None, 1, 1, 672)    0           ['block5c_se_squeeze[0][0]']     \n",
            "                                                                                                  \n",
            " block5c_se_reduce (Conv2D)     (None, 1, 1, 28)     18844       ['block5c_se_reshape[0][0]']     \n",
            "                                                                                                  \n",
            " block5c_se_expand (Conv2D)     (None, 1, 1, 672)    19488       ['block5c_se_reduce[0][0]']      \n",
            "                                                                                                  \n",
            " block5c_se_excite (Multiply)   (None, None, None,   0           ['block5c_activation[0][0]',     \n",
            "                                672)                              'block5c_se_expand[0][0]']      \n",
            "                                                                                                  \n",
            " block5c_project_conv (Conv2D)  (None, None, None,   75264       ['block5c_se_excite[0][0]']      \n",
            "                                112)                                                              \n",
            "                                                                                                  \n",
            " block5c_project_bn (BatchNorma  (None, None, None,   448        ['block5c_project_conv[0][0]']   \n",
            " lization)                      112)                                                              \n",
            "                                                                                                  \n",
            " block5c_drop (Dropout)         (None, None, None,   0           ['block5c_project_bn[0][0]']     \n",
            "                                112)                                                              \n",
            "                                                                                                  \n",
            " block5c_add (Add)              (None, None, None,   0           ['block5c_drop[0][0]',           \n",
            "                                112)                              'block5b_add[0][0]']            \n",
            "                                                                                                  \n",
            " block6a_expand_conv (Conv2D)   (None, None, None,   75264       ['block5c_add[0][0]']            \n",
            "                                672)                                                              \n",
            "                                                                                                  \n",
            " block6a_expand_bn (BatchNormal  (None, None, None,   2688       ['block6a_expand_conv[0][0]']    \n",
            " ization)                       672)                                                              \n",
            "                                                                                                  \n",
            " block6a_expand_activation (Act  (None, None, None,   0          ['block6a_expand_bn[0][0]']      \n",
            " ivation)                       672)                                                              \n",
            "                                                                                                  \n",
            " block6a_dwconv_pad (ZeroPaddin  (None, None, None,   0          ['block6a_expand_activation[0][0]\n",
            " g2D)                           672)                             ']                               \n",
            "                                                                                                  \n",
            " block6a_dwconv (DepthwiseConv2  (None, None, None,   16800      ['block6a_dwconv_pad[0][0]']     \n",
            " D)                             672)                                                              \n",
            "                                                                                                  \n",
            " block6a_bn (BatchNormalization  (None, None, None,   2688       ['block6a_dwconv[0][0]']         \n",
            " )                              672)                                                              \n",
            "                                                                                                  \n",
            " block6a_activation (Activation  (None, None, None,   0          ['block6a_bn[0][0]']             \n",
            " )                              672)                                                              \n",
            "                                                                                                  \n",
            " block6a_se_squeeze (GlobalAver  (None, 672)         0           ['block6a_activation[0][0]']     \n",
            " agePooling2D)                                                                                    \n",
            "                                                                                                  \n",
            " block6a_se_reshape (Reshape)   (None, 1, 1, 672)    0           ['block6a_se_squeeze[0][0]']     \n",
            "                                                                                                  \n",
            " block6a_se_reduce (Conv2D)     (None, 1, 1, 28)     18844       ['block6a_se_reshape[0][0]']     \n",
            "                                                                                                  \n",
            " block6a_se_expand (Conv2D)     (None, 1, 1, 672)    19488       ['block6a_se_reduce[0][0]']      \n",
            "                                                                                                  \n",
            " block6a_se_excite (Multiply)   (None, None, None,   0           ['block6a_activation[0][0]',     \n",
            "                                672)                              'block6a_se_expand[0][0]']      \n",
            "                                                                                                  \n",
            " block6a_project_conv (Conv2D)  (None, None, None,   129024      ['block6a_se_excite[0][0]']      \n",
            "                                192)                                                              \n",
            "                                                                                                  \n",
            " block6a_project_bn (BatchNorma  (None, None, None,   768        ['block6a_project_conv[0][0]']   \n",
            " lization)                      192)                                                              \n",
            "                                                                                                  \n",
            " block6b_expand_conv (Conv2D)   (None, None, None,   221184      ['block6a_project_bn[0][0]']     \n",
            "                                1152)                                                             \n",
            "                                                                                                  \n",
            " block6b_expand_bn (BatchNormal  (None, None, None,   4608       ['block6b_expand_conv[0][0]']    \n",
            " ization)                       1152)                                                             \n",
            "                                                                                                  \n",
            " block6b_expand_activation (Act  (None, None, None,   0          ['block6b_expand_bn[0][0]']      \n",
            " ivation)                       1152)                                                             \n",
            "                                                                                                  \n",
            " block6b_dwconv (DepthwiseConv2  (None, None, None,   28800      ['block6b_expand_activation[0][0]\n",
            " D)                             1152)                            ']                               \n",
            "                                                                                                  \n",
            " block6b_bn (BatchNormalization  (None, None, None,   4608       ['block6b_dwconv[0][0]']         \n",
            " )                              1152)                                                             \n",
            "                                                                                                  \n",
            " block6b_activation (Activation  (None, None, None,   0          ['block6b_bn[0][0]']             \n",
            " )                              1152)                                                             \n",
            "                                                                                                  \n",
            " block6b_se_squeeze (GlobalAver  (None, 1152)        0           ['block6b_activation[0][0]']     \n",
            " agePooling2D)                                                                                    \n",
            "                                                                                                  \n",
            " block6b_se_reshape (Reshape)   (None, 1, 1, 1152)   0           ['block6b_se_squeeze[0][0]']     \n",
            "                                                                                                  \n",
            " block6b_se_reduce (Conv2D)     (None, 1, 1, 48)     55344       ['block6b_se_reshape[0][0]']     \n",
            "                                                                                                  \n",
            " block6b_se_expand (Conv2D)     (None, 1, 1, 1152)   56448       ['block6b_se_reduce[0][0]']      \n",
            "                                                                                                  \n",
            " block6b_se_excite (Multiply)   (None, None, None,   0           ['block6b_activation[0][0]',     \n",
            "                                1152)                             'block6b_se_expand[0][0]']      \n",
            "                                                                                                  \n",
            " block6b_project_conv (Conv2D)  (None, None, None,   221184      ['block6b_se_excite[0][0]']      \n",
            "                                192)                                                              \n",
            "                                                                                                  \n",
            " block6b_project_bn (BatchNorma  (None, None, None,   768        ['block6b_project_conv[0][0]']   \n",
            " lization)                      192)                                                              \n",
            "                                                                                                  \n",
            " block6b_drop (Dropout)         (None, None, None,   0           ['block6b_project_bn[0][0]']     \n",
            "                                192)                                                              \n",
            "                                                                                                  \n",
            " block6b_add (Add)              (None, None, None,   0           ['block6b_drop[0][0]',           \n",
            "                                192)                              'block6a_project_bn[0][0]']     \n",
            "                                                                                                  \n",
            " block6c_expand_conv (Conv2D)   (None, None, None,   221184      ['block6b_add[0][0]']            \n",
            "                                1152)                                                             \n",
            "                                                                                                  \n",
            " block6c_expand_bn (BatchNormal  (None, None, None,   4608       ['block6c_expand_conv[0][0]']    \n",
            " ization)                       1152)                                                             \n",
            "                                                                                                  \n",
            " block6c_expand_activation (Act  (None, None, None,   0          ['block6c_expand_bn[0][0]']      \n",
            " ivation)                       1152)                                                             \n",
            "                                                                                                  \n",
            " block6c_dwconv (DepthwiseConv2  (None, None, None,   28800      ['block6c_expand_activation[0][0]\n",
            " D)                             1152)                            ']                               \n",
            "                                                                                                  \n",
            " block6c_bn (BatchNormalization  (None, None, None,   4608       ['block6c_dwconv[0][0]']         \n",
            " )                              1152)                                                             \n",
            "                                                                                                  \n",
            " block6c_activation (Activation  (None, None, None,   0          ['block6c_bn[0][0]']             \n",
            " )                              1152)                                                             \n",
            "                                                                                                  \n",
            " block6c_se_squeeze (GlobalAver  (None, 1152)        0           ['block6c_activation[0][0]']     \n",
            " agePooling2D)                                                                                    \n",
            "                                                                                                  \n",
            " block6c_se_reshape (Reshape)   (None, 1, 1, 1152)   0           ['block6c_se_squeeze[0][0]']     \n",
            "                                                                                                  \n",
            " block6c_se_reduce (Conv2D)     (None, 1, 1, 48)     55344       ['block6c_se_reshape[0][0]']     \n",
            "                                                                                                  \n",
            " block6c_se_expand (Conv2D)     (None, 1, 1, 1152)   56448       ['block6c_se_reduce[0][0]']      \n",
            "                                                                                                  \n",
            " block6c_se_excite (Multiply)   (None, None, None,   0           ['block6c_activation[0][0]',     \n",
            "                                1152)                             'block6c_se_expand[0][0]']      \n",
            "                                                                                                  \n",
            " block6c_project_conv (Conv2D)  (None, None, None,   221184      ['block6c_se_excite[0][0]']      \n",
            "                                192)                                                              \n",
            "                                                                                                  \n",
            " block6c_project_bn (BatchNorma  (None, None, None,   768        ['block6c_project_conv[0][0]']   \n",
            " lization)                      192)                                                              \n",
            "                                                                                                  \n",
            " block6c_drop (Dropout)         (None, None, None,   0           ['block6c_project_bn[0][0]']     \n",
            "                                192)                                                              \n",
            "                                                                                                  \n",
            " block6c_add (Add)              (None, None, None,   0           ['block6c_drop[0][0]',           \n",
            "                                192)                              'block6b_add[0][0]']            \n",
            "                                                                                                  \n",
            " block6d_expand_conv (Conv2D)   (None, None, None,   221184      ['block6c_add[0][0]']            \n",
            "                                1152)                                                             \n",
            "                                                                                                  \n",
            " block6d_expand_bn (BatchNormal  (None, None, None,   4608       ['block6d_expand_conv[0][0]']    \n",
            " ization)                       1152)                                                             \n",
            "                                                                                                  \n",
            " block6d_expand_activation (Act  (None, None, None,   0          ['block6d_expand_bn[0][0]']      \n",
            " ivation)                       1152)                                                             \n",
            "                                                                                                  \n",
            " block6d_dwconv (DepthwiseConv2  (None, None, None,   28800      ['block6d_expand_activation[0][0]\n",
            " D)                             1152)                            ']                               \n",
            "                                                                                                  \n",
            " block6d_bn (BatchNormalization  (None, None, None,   4608       ['block6d_dwconv[0][0]']         \n",
            " )                              1152)                                                             \n",
            "                                                                                                  \n",
            " block6d_activation (Activation  (None, None, None,   0          ['block6d_bn[0][0]']             \n",
            " )                              1152)                                                             \n",
            "                                                                                                  \n",
            " block6d_se_squeeze (GlobalAver  (None, 1152)        0           ['block6d_activation[0][0]']     \n",
            " agePooling2D)                                                                                    \n",
            "                                                                                                  \n",
            " block6d_se_reshape (Reshape)   (None, 1, 1, 1152)   0           ['block6d_se_squeeze[0][0]']     \n",
            "                                                                                                  \n",
            " block6d_se_reduce (Conv2D)     (None, 1, 1, 48)     55344       ['block6d_se_reshape[0][0]']     \n",
            "                                                                                                  \n",
            " block6d_se_expand (Conv2D)     (None, 1, 1, 1152)   56448       ['block6d_se_reduce[0][0]']      \n",
            "                                                                                                  \n",
            " block6d_se_excite (Multiply)   (None, None, None,   0           ['block6d_activation[0][0]',     \n",
            "                                1152)                             'block6d_se_expand[0][0]']      \n",
            "                                                                                                  \n",
            " block6d_project_conv (Conv2D)  (None, None, None,   221184      ['block6d_se_excite[0][0]']      \n",
            "                                192)                                                              \n",
            "                                                                                                  \n",
            " block6d_project_bn (BatchNorma  (None, None, None,   768        ['block6d_project_conv[0][0]']   \n",
            " lization)                      192)                                                              \n",
            "                                                                                                  \n",
            " block6d_drop (Dropout)         (None, None, None,   0           ['block6d_project_bn[0][0]']     \n",
            "                                192)                                                              \n",
            "                                                                                                  \n",
            " block6d_add (Add)              (None, None, None,   0           ['block6d_drop[0][0]',           \n",
            "                                192)                              'block6c_add[0][0]']            \n",
            "                                                                                                  \n",
            " block7a_expand_conv (Conv2D)   (None, None, None,   221184      ['block6d_add[0][0]']            \n",
            "                                1152)                                                             \n",
            "                                                                                                  \n",
            " block7a_expand_bn (BatchNormal  (None, None, None,   4608       ['block7a_expand_conv[0][0]']    \n",
            " ization)                       1152)                                                             \n",
            "                                                                                                  \n",
            " block7a_expand_activation (Act  (None, None, None,   0          ['block7a_expand_bn[0][0]']      \n",
            " ivation)                       1152)                                                             \n",
            "                                                                                                  \n",
            " block7a_dwconv (DepthwiseConv2  (None, None, None,   10368      ['block7a_expand_activation[0][0]\n",
            " D)                             1152)                            ']                               \n",
            "                                                                                                  \n",
            " block7a_bn (BatchNormalization  (None, None, None,   4608       ['block7a_dwconv[0][0]']         \n",
            " )                              1152)                                                             \n",
            "                                                                                                  \n",
            " block7a_activation (Activation  (None, None, None,   0          ['block7a_bn[0][0]']             \n",
            " )                              1152)                                                             \n",
            "                                                                                                  \n",
            " block7a_se_squeeze (GlobalAver  (None, 1152)        0           ['block7a_activation[0][0]']     \n",
            " agePooling2D)                                                                                    \n",
            "                                                                                                  \n",
            " block7a_se_reshape (Reshape)   (None, 1, 1, 1152)   0           ['block7a_se_squeeze[0][0]']     \n",
            "                                                                                                  \n",
            " block7a_se_reduce (Conv2D)     (None, 1, 1, 48)     55344       ['block7a_se_reshape[0][0]']     \n",
            "                                                                                                  \n",
            " block7a_se_expand (Conv2D)     (None, 1, 1, 1152)   56448       ['block7a_se_reduce[0][0]']      \n",
            "                                                                                                  \n",
            " block7a_se_excite (Multiply)   (None, None, None,   0           ['block7a_activation[0][0]',     \n",
            "                                1152)                             'block7a_se_expand[0][0]']      \n",
            "                                                                                                  \n",
            " block7a_project_conv (Conv2D)  (None, None, None,   368640      ['block7a_se_excite[0][0]']      \n",
            "                                320)                                                              \n",
            "                                                                                                  \n",
            " block7a_project_bn (BatchNorma  (None, None, None,   1280       ['block7a_project_conv[0][0]']   \n",
            " lization)                      320)                                                              \n",
            "                                                                                                  \n",
            " top_conv (Conv2D)              (None, None, None,   409600      ['block7a_project_bn[0][0]']     \n",
            "                                1280)                                                             \n",
            "                                                                                                  \n",
            " top_bn (BatchNormalization)    (None, None, None,   5120        ['top_conv[0][0]']               \n",
            "                                1280)                                                             \n",
            "                                                                                                  \n",
            " top_activation (Activation)    (None, None, None,   0           ['top_bn[0][0]']                 \n",
            "                                1280)                                                             \n",
            "                                                                                                  \n",
            "==================================================================================================\n",
            "Total params: 4,049,571\n",
            "Trainable params: 0\n",
            "Non-trainable params: 4,049,571\n",
            "__________________________________________________________________________________________________\n"
          ]
        }
      ]
    },
    {
      "cell_type": "code",
      "source": [
        "model_0.summary()"
      ],
      "metadata": {
        "colab": {
          "base_uri": "https://localhost:8080/"
        },
        "id": "orkH-L6l9Wt7",
        "outputId": "7abdf7f7-5d68-4728-f620-b1726a168e42"
      },
      "execution_count": 55,
      "outputs": [
        {
          "output_type": "stream",
          "name": "stdout",
          "text": [
            "Model: \"model_3\"\n",
            "_________________________________________________________________\n",
            " Layer (type)                Output Shape              Param #   \n",
            "=================================================================\n",
            " input_layer (InputLayer)    [(None, 224, 224, 3)]     0         \n",
            "                                                                 \n",
            " efficientnetb0 (Functional)  (None, None, None, 1280)  4049571  \n",
            "                                                                 \n",
            " global_average_pooling_2d_l  (None, 1280)             0         \n",
            " ayer (GlobalAveragePooling2                                     \n",
            " D)                                                              \n",
            "                                                                 \n",
            " output_layer (Dense)        (None, 10)                12810     \n",
            "                                                                 \n",
            "=================================================================\n",
            "Total params: 4,062,381\n",
            "Trainable params: 12,810\n",
            "Non-trainable params: 4,049,571\n",
            "_________________________________________________________________\n"
          ]
        }
      ]
    },
    {
      "cell_type": "markdown",
      "source": [
        "## Getting a feature vector from a trained model\n",
        "\n",
        "\n",
        "Understanding what `GlobalAveragePooling2D` layer really does\n",
        "\n",
        "When we simply create a layer using `base_model` and inputs, we get a tensor of shape (None, 7, 7, 1280).\n",
        "\n",
        "However, once we pass this through the `GlobalAveragePooling2D` layer, it reduces the dimensions of this data & transforms it into a tensor of shape (None, 1280)\n",
        "\n",
        "Under the hood, `GlobalAveragePooling2D` is actually just calculating & returning the mean values of the tensor along the middle 2 axis (i.e. 1st and 2nd axis since python & tf are 0-indexed)\n",
        "\n",
        "Let's understand this better through an example\n"
      ],
      "metadata": {
        "id": "RYt_b8LG9jdK"
      }
    },
    {
      "cell_type": "code",
      "source": [
        "tf.random.set_seed(42)\n",
        "input_shape= (1,4,4,3)\n",
        "\n",
        "input_tensor = tf.random.normal(input_shape)\n",
        "print(f\"Shape of the input tensor: {input_tensor.shape}\")\n",
        "\n",
        "gap_tensor = tf.keras.layers.GlobalAveragePooling2D()(input_tensor)\n",
        "print(f\"Shape of global average pooling tensor is: {gap_tensor.shape}\")\n",
        "\n",
        "gap_tensor, input_tensor"
      ],
      "metadata": {
        "colab": {
          "base_uri": "https://localhost:8080/"
        },
        "id": "9-Z8nBurAmWo",
        "outputId": "74b0f8d6-67f5-4f98-a28a-dfa6cef0618a"
      },
      "execution_count": 56,
      "outputs": [
        {
          "output_type": "stream",
          "name": "stdout",
          "text": [
            "Shape of the input tensor: (1, 4, 4, 3)\n",
            "Shape of global average pooling tensor is: (1, 3)\n"
          ]
        },
        {
          "output_type": "execute_result",
          "data": {
            "text/plain": [
              "(<tf.Tensor: shape=(1, 3), dtype=float32, numpy=array([[-0.09368646, -0.45840448, -0.2885598 ]], dtype=float32)>,\n",
              " <tf.Tensor: shape=(1, 4, 4, 3), dtype=float32, numpy=\n",
              " array([[[[ 0.3274685 , -0.8426258 ,  0.3194337 ],\n",
              "          [-1.4075519 , -2.3880599 , -1.0392479 ],\n",
              "          [-0.5573232 ,  0.539707  ,  1.6994323 ],\n",
              "          [ 0.28893656, -1.5066116 , -0.2645474 ]],\n",
              " \n",
              "         [[-0.59722406, -1.9171132 , -0.62044144],\n",
              "          [ 0.8504023 , -0.40604794, -3.0258412 ],\n",
              "          [ 0.9058464 ,  0.29855987, -0.22561555],\n",
              "          [-0.7616443 , -1.8917141 , -0.93847126]],\n",
              " \n",
              "         [[ 0.77852213, -0.47338897,  0.97772694],\n",
              "          [ 0.24694404,  0.20573747, -0.5256233 ],\n",
              "          [ 0.32410017,  0.02545409, -0.10638497],\n",
              "          [-0.6369475 ,  1.1603122 ,  0.2507359 ]],\n",
              " \n",
              "         [[-0.41728503,  0.4012578 , -1.4145443 ],\n",
              "          [-0.5931857 , -1.6617213 ,  0.33567193],\n",
              "          [ 0.10815629,  0.23479682, -0.56668764],\n",
              "          [-0.35819843,  0.88698614,  0.52744764]]]], dtype=float32)>)"
            ]
          },
          "metadata": {},
          "execution_count": 56
        }
      ]
    },
    {
      "cell_type": "code",
      "source": [
        "# As we can see the .reduce_mean method returns the exact same result as GlobalAveragePooling2D\n",
        "\n",
        "tf.reduce_mean(input_tensor, axis=[1,2])"
      ],
      "metadata": {
        "colab": {
          "base_uri": "https://localhost:8080/"
        },
        "id": "AO4B9DppBAbw",
        "outputId": "26104933-e639-4b52-8669-7c054ad5bd42"
      },
      "execution_count": 57,
      "outputs": [
        {
          "output_type": "execute_result",
          "data": {
            "text/plain": [
              "<tf.Tensor: shape=(1, 3), dtype=float32, numpy=array([[-0.09368646, -0.45840448, -0.2885598 ]], dtype=float32)>"
            ]
          },
          "metadata": {},
          "execution_count": 57
        }
      ]
    },
    {
      "cell_type": "code",
      "source": [
        "gmp_tensor = tf.keras.layers.GlobalMaxPool2D()(input_tensor)\n",
        "print(f\"Shape of global max pooled 2d tensor: {gmp_tensor.shape}\")\n",
        "\n",
        "input_tensor, gmp_tensor"
      ],
      "metadata": {
        "colab": {
          "base_uri": "https://localhost:8080/"
        },
        "id": "VObktSEVBF7y",
        "outputId": "fb526f0c-f0a2-4b82-a4f1-36ab81c7d4fc"
      },
      "execution_count": 58,
      "outputs": [
        {
          "output_type": "stream",
          "name": "stdout",
          "text": [
            "Shape of global max pooled 2d tensor: (1, 3)\n"
          ]
        },
        {
          "output_type": "execute_result",
          "data": {
            "text/plain": [
              "(<tf.Tensor: shape=(1, 4, 4, 3), dtype=float32, numpy=\n",
              " array([[[[ 0.3274685 , -0.8426258 ,  0.3194337 ],\n",
              "          [-1.4075519 , -2.3880599 , -1.0392479 ],\n",
              "          [-0.5573232 ,  0.539707  ,  1.6994323 ],\n",
              "          [ 0.28893656, -1.5066116 , -0.2645474 ]],\n",
              " \n",
              "         [[-0.59722406, -1.9171132 , -0.62044144],\n",
              "          [ 0.8504023 , -0.40604794, -3.0258412 ],\n",
              "          [ 0.9058464 ,  0.29855987, -0.22561555],\n",
              "          [-0.7616443 , -1.8917141 , -0.93847126]],\n",
              " \n",
              "         [[ 0.77852213, -0.47338897,  0.97772694],\n",
              "          [ 0.24694404,  0.20573747, -0.5256233 ],\n",
              "          [ 0.32410017,  0.02545409, -0.10638497],\n",
              "          [-0.6369475 ,  1.1603122 ,  0.2507359 ]],\n",
              " \n",
              "         [[-0.41728503,  0.4012578 , -1.4145443 ],\n",
              "          [-0.5931857 , -1.6617213 ,  0.33567193],\n",
              "          [ 0.10815629,  0.23479682, -0.56668764],\n",
              "          [-0.35819843,  0.88698614,  0.52744764]]]], dtype=float32)>,\n",
              " <tf.Tensor: shape=(1, 3), dtype=float32, numpy=array([[0.9058464, 1.1603122, 1.6994323]], dtype=float32)>)"
            ]
          },
          "metadata": {},
          "execution_count": 58
        }
      ]
    },
    {
      "cell_type": "markdown",
      "source": [
        "> 🔑 **Note** : A feature vector is the learned representation of the input \n",
        "data (a compressed form of the input data based on how the model sees it)\n",
        "\n",
        "\n",
        "![Feature vector](https://testbucket1841.s3.ap-south-1.amazonaws.com/tf-ml-course-udemy/feature-vector.png)"
      ],
      "metadata": {
        "id": "rc-NSe74BXoQ"
      }
    },
    {
      "cell_type": "markdown",
      "source": [
        "## Running a series of transfer learning experiments\n",
        "\n",
        "We've seen the amazing power of transfer learning with 10% of the training data. Let's now study what happens when we try different flavors of transfer learning with different available % of data\n",
        "\n",
        "1. `model_1` : Train using *feature extraction* on 1% of the training data along with data augmentation\n",
        "2. `model_2` : Train using *feature extraction* on 10% of the training data along with data augmentation\n",
        "3. `model_3` : Train using *fine tuning* on 10% of the training data along with data augmentation\n",
        "4. `model_4` : Train using *fine tuning* on 100% of the training data along with data augmentation\n",
        "\n",
        "> 🔑 **Note:** For all the above models, the validation test data set will be kept the same so that they all have the same kind of evaluation metrics\n"
      ],
      "metadata": {
        "id": "sdoTQjkPB-PP"
      }
    },
    {
      "cell_type": "markdown",
      "source": [
        "#### Building `model_1`"
      ],
      "metadata": {
        "id": "fHxpF9cYEbiD"
      }
    },
    {
      "cell_type": "markdown",
      "source": [
        "##### Downloading & preprocessing the data"
      ],
      "metadata": {
        "id": "G_SeHUnzEjMA"
      }
    },
    {
      "cell_type": "code",
      "source": [
        "# Download the data\n",
        "!wget https://storage.googleapis.com/ztm_tf_course/food_vision/10_food_classes_1_percent.zip"
      ],
      "metadata": {
        "colab": {
          "base_uri": "https://localhost:8080/"
        },
        "id": "L4A6KxacEmye",
        "outputId": "2205d402-2864-4129-9645-61cb79537900"
      },
      "execution_count": 66,
      "outputs": [
        {
          "output_type": "stream",
          "name": "stdout",
          "text": [
            "--2022-12-05 18:02:47--  https://storage.googleapis.com/ztm_tf_course/food_vision/10_food_classes_1_percent.zip\n",
            "Resolving storage.googleapis.com (storage.googleapis.com)... 74.125.20.128, 108.177.98.128, 74.125.197.128, ...\n",
            "Connecting to storage.googleapis.com (storage.googleapis.com)|74.125.20.128|:443... connected.\n",
            "HTTP request sent, awaiting response... 200 OK\n",
            "Length: 133612354 (127M) [application/zip]\n",
            "Saving to: ‘10_food_classes_1_percent.zip.2’\n",
            "\n",
            "10_food_classes_1_p 100%[===================>] 127.42M   200MB/s    in 0.6s    \n",
            "\n",
            "2022-12-05 18:02:48 (200 MB/s) - ‘10_food_classes_1_percent.zip.2’ saved [133612354/133612354]\n",
            "\n"
          ]
        }
      ]
    },
    {
      "cell_type": "code",
      "source": [
        "import zipfile\n",
        "\n",
        "file = zipfile.ZipFile(\"10_food_classes_1_percent.zip\")\n",
        "file.extractall()\n",
        "file.close()"
      ],
      "metadata": {
        "id": "MXuVEoZhEs4q"
      },
      "execution_count": 67,
      "outputs": []
    },
    {
      "cell_type": "code",
      "source": [
        "import os\n",
        "\n",
        "for dirpath, dirnames, filenames in os.walk(\"10_food_classes_1_percent\"):\n",
        "    print(f'There are {len(dirnames)} directories and {len(filenames)} files in {dirpath}')"
      ],
      "metadata": {
        "colab": {
          "base_uri": "https://localhost:8080/"
        },
        "id": "gTPiNPENFJRQ",
        "outputId": "27faa504-069c-42a8-9ddb-1b7a94961ccb"
      },
      "execution_count": 68,
      "outputs": [
        {
          "output_type": "stream",
          "name": "stdout",
          "text": [
            "There are 2 directories and 0 files in 10_food_classes_1_percent\n",
            "There are 10 directories and 0 files in 10_food_classes_1_percent/train\n",
            "There are 0 directories and 7 files in 10_food_classes_1_percent/train/ramen\n",
            "There are 0 directories and 7 files in 10_food_classes_1_percent/train/sushi\n",
            "There are 0 directories and 7 files in 10_food_classes_1_percent/train/chicken_curry\n",
            "There are 0 directories and 7 files in 10_food_classes_1_percent/train/chicken_wings\n",
            "There are 0 directories and 7 files in 10_food_classes_1_percent/train/pizza\n",
            "There are 0 directories and 7 files in 10_food_classes_1_percent/train/hamburger\n",
            "There are 0 directories and 7 files in 10_food_classes_1_percent/train/grilled_salmon\n",
            "There are 0 directories and 7 files in 10_food_classes_1_percent/train/ice_cream\n",
            "There are 0 directories and 7 files in 10_food_classes_1_percent/train/fried_rice\n",
            "There are 0 directories and 7 files in 10_food_classes_1_percent/train/steak\n",
            "There are 10 directories and 0 files in 10_food_classes_1_percent/test\n",
            "There are 0 directories and 250 files in 10_food_classes_1_percent/test/ramen\n",
            "There are 0 directories and 250 files in 10_food_classes_1_percent/test/sushi\n",
            "There are 0 directories and 250 files in 10_food_classes_1_percent/test/chicken_curry\n",
            "There are 0 directories and 250 files in 10_food_classes_1_percent/test/chicken_wings\n",
            "There are 0 directories and 250 files in 10_food_classes_1_percent/test/pizza\n",
            "There are 0 directories and 250 files in 10_food_classes_1_percent/test/hamburger\n",
            "There are 0 directories and 250 files in 10_food_classes_1_percent/test/grilled_salmon\n",
            "There are 0 directories and 250 files in 10_food_classes_1_percent/test/ice_cream\n",
            "There are 0 directories and 250 files in 10_food_classes_1_percent/test/fried_rice\n",
            "There are 0 directories and 250 files in 10_food_classes_1_percent/test/steak\n"
          ]
        }
      ]
    },
    {
      "cell_type": "code",
      "source": [
        "train_dir_1_percent = \"10_food_classes_1_percent/train\"\n",
        "test_dir_1_percent = \"10_food_classes_1_percent/test\""
      ],
      "metadata": {
        "id": "SFAQ9CUoFqfX"
      },
      "execution_count": 69,
      "outputs": []
    },
    {
      "cell_type": "code",
      "source": [
        "IMAGE_SHAPE"
      ],
      "metadata": {
        "colab": {
          "base_uri": "https://localhost:8080/"
        },
        "id": "PzFADbObF0rW",
        "outputId": "b8cd4667-6fdc-43d5-b2f6-79da05bf52ce"
      },
      "execution_count": 70,
      "outputs": [
        {
          "output_type": "execute_result",
          "data": {
            "text/plain": [
              "(224, 224)"
            ]
          },
          "metadata": {},
          "execution_count": 70
        }
      ]
    },
    {
      "cell_type": "code",
      "source": [
        "### Creating the data loaders\n",
        "train_data_1_percent = tf.keras.utils.image_dataset_from_directory(\n",
        "    train_dir_1_percent,\n",
        "    label_mode=\"categorical\",\n",
        "    image_size=IMAGE_SHAPE,\n",
        "    batch_size=BATCH_SIZE\n",
        ")\n",
        "\n",
        "test_data_1_percent = tf.keras.utils.image_dataset_from_directory(\n",
        "    test_dir_1_percent,\n",
        "    label_mode=\"categorical\",\n",
        "    image_size=IMAGE_SHAPE,\n",
        "    batch_size=BATCH_SIZE\n",
        ")"
      ],
      "metadata": {
        "colab": {
          "base_uri": "https://localhost:8080/"
        },
        "id": "LCzR2HNKFX3X",
        "outputId": "b7978a3f-61d1-4da6-bd65-f6e0d902d1e3"
      },
      "execution_count": 73,
      "outputs": [
        {
          "output_type": "stream",
          "name": "stdout",
          "text": [
            "Found 70 files belonging to 10 classes.\n",
            "Found 2500 files belonging to 10 classes.\n"
          ]
        }
      ]
    },
    {
      "cell_type": "markdown",
      "source": [
        "### Adding data augmentation right into model (TensorFlow 2.2 onwards)\n",
        "\n",
        "To add data augmentation right into our models, we can use the layers inside:\n",
        "- `tf.keras.layers.experimental.preprocessing()`\n",
        "\n",
        "\n",
        "Benefits of data augmentation are:\n",
        "* Data augmentation is done over the GPU so it's a lot faster & efficient\n",
        "* Data augmentation happens only during training & hence the entire model can be effectively modularized & used elsewhere without any data inconsistency issues\n",
        "\n",
        "For a further list of benefits of data augmentation, refer official docs - https://www.tensorflow.org/guide/keras/preprocessing_layers\n",
        "\n",
        "![Image for data aug](https://testbucket1841.s3.ap-south-1.amazonaws.com/tf-ml-course-udemy/data_aug.png)"
      ],
      "metadata": {
        "id": "h7cQUlW_dqqc"
      }
    },
    {
      "cell_type": "code",
      "source": [
        "from tensorflow.keras.layers.experimental import preprocessing\n",
        "\n",
        "data_augmentation = tf.keras.Sequential([\n",
        "    preprocessing.RandomRotation(0.2),\n",
        "    # preprocessing.Rescale(1./255) # Required only for ResNet50v2 models as rescaling is inbuilt in EfficientNet models\n",
        "    preprocessing.RandomFlip('horizontal'),\n",
        "    preprocessing.RandomZoom(0.2),\n",
        "    preprocessing.RandomHeight(0.2),\n",
        "    preprocessing.RandomWidth(0.2)\n",
        "], name=\"data_augmentation\")"
      ],
      "metadata": {
        "id": "1dtSODKJd3v6"
      },
      "execution_count": 81,
      "outputs": []
    },
    {
      "cell_type": "code",
      "source": [
        "# View a random image & compare it to its augmented version\n",
        "import matplotlib.pyplot as plt\n",
        "import matplotlib.image as mpimg\n",
        "import os\n",
        "import random\n",
        "\n",
        "target_class = random.choice(train_data_1_percent.class_names)\n",
        "target_dir = '10_food_classes_1_percent/train/' + target_class\n",
        "random_image = random.choice(os.listdir(target_dir))\n",
        "random_img_path = target_dir + \"/\" + random_image\n",
        "\n",
        "\n",
        "img = mpimg.imread(random_img_path)\n",
        "\n",
        "plt.subplot(1,2,1)\n",
        "plt.title(f\"Original image: {target_class}\")\n",
        "plt.imshow(img)\n",
        "\n",
        "\n",
        "plt.subplot(1,2,1)\n",
        "plt.title(f\"Original image: {target_class}\")\n",
        "plt.imshow(img)\n",
        "\n",
        "\n",
        "aug_image = data_augmentation(img, training=True)\n",
        "aug_img = tf.expand_dims(aug_image, axis=0)\n",
        "plt.subplot(1,2,2)\n",
        "plt.title(f\"Original image: {target_class}\")\n",
        "plt.imshow(tf.squeeze(aug_img)/255.)"
      ],
      "metadata": {
        "colab": {
          "base_uri": "https://localhost:8080/",
          "height": 295
        },
        "id": "wRa53pKsgq8k",
        "outputId": "08b8e8e6-ec76-4877-f152-a272d7f8bbb9"
      },
      "execution_count": 91,
      "outputs": [
        {
          "output_type": "stream",
          "name": "stderr",
          "text": [
            "<ipython-input-91-e8a1d1d81f44>:20: MatplotlibDeprecationWarning: Adding an axes using the same arguments as a previous axes currently reuses the earlier instance.  In a future version, a new instance will always be created and returned.  Meanwhile, this warning can be suppressed, and the future behavior ensured, by passing a unique label to each axes instance.\n",
            "  plt.subplot(1,2,1)\n"
          ]
        },
        {
          "output_type": "execute_result",
          "data": {
            "text/plain": [
              "<matplotlib.image.AxesImage at 0x7fd8c91ae520>"
            ]
          },
          "metadata": {},
          "execution_count": 91
        },
        {
          "output_type": "display_data",
          "data": {
            "text/plain": [
              "<Figure size 432x288 with 2 Axes>"
            ],
            "image/png": "[encoded data removed]"
          },
          "metadata": {
            "needs_background": "light"
          }
        }
      ]
    },
    {
      "cell_type": "markdown",
      "source": [
        "\n",
        "##### Creating the model"
      ],
      "metadata": {
        "id": "f3ReeOZ6GIT_"
      }
    },
    {
      "cell_type": "code",
      "source": [
        "# 1. Load a base model from somewhere\n",
        "base_model = tf.keras.applications.efficientnet.EfficientNetB0(include_top=False)\n",
        "\n",
        "\n",
        "# 2. Freeze layers\n",
        "base_model.trainable = False\n",
        "\n",
        "# 3. Create input layers\n",
        "inputs = tf.keras.Input(shape=IMAGE_SHAPE+(3,), name=\"input_layer\")\n",
        "\n",
        "# 4. Create a layer using input & base_model\n",
        "x = base_model(inputs)\n",
        "\n",
        "# 5. Add a pooling layer\n",
        "x = tf.keras.layers.GlobalAveragePooling2D(name=\"global_average_pooling_layer\")(x)\n",
        "\n",
        "# 6. Create outputs\n",
        "outputs = tf.keras.layers.Dense(10, name=\"output_layer\", activation=\"softmax\")(x)\n",
        "\n",
        "# 7. Create a model\n",
        "model_1 = tf.keras.Model(inputs, outputs)\n",
        "\n",
        "# 8. Compile the model\n",
        "model_1.compile(\n",
        "    loss=\"categorical_crossentropy\",\n",
        "    optimizer=\"Adam\",\n",
        "    metrics=[\"accuracy\"]\n",
        ")\n",
        "\n",
        "# 9. Fit the model\n",
        "history_1 = model_1.fit(\n",
        "    train_data_1_percent,\n",
        "    epochs=5,\n",
        "    callbacks=[create_tensorboard_callback(\"transfer learning\", \"model_1-feature_extract_1_percent\")],\n",
        "    steps_per_epoch = len(train_data_1_percent),\n",
        "    validation_data = test_data_1_percent,\n",
        "    validation_steps = int(0.25*len(test_data_1_percent))\n",
        ")"
      ],
      "metadata": {
        "colab": {
          "base_uri": "https://localhost:8080/"
        },
        "id": "igZRFksDGSuv",
        "outputId": "d6b684ab-6ce0-464d-bea3-17a15c1c72a4"
      },
      "execution_count": 78,
      "outputs": [
        {
          "output_type": "stream",
          "name": "stdout",
          "text": [
            "Saving TensorBoard log files to: transfer learning/model_1-feature_extract_1_percent/20221205-180547\n",
            "Epoch 1/5\n",
            "3/3 [==============================] - 9s 2s/step - loss: 2.3452 - accuracy: 0.0714 - val_loss: 2.1567 - val_accuracy: 0.2368\n",
            "Epoch 2/5\n",
            "3/3 [==============================] - 3s 1s/step - loss: 2.0193 - accuracy: 0.4286 - val_loss: 1.9987 - val_accuracy: 0.3832\n",
            "Epoch 3/5\n",
            "3/3 [==============================] - 3s 1s/step - loss: 1.7631 - accuracy: 0.6429 - val_loss: 1.8573 - val_accuracy: 0.4589\n",
            "Epoch 4/5\n",
            "3/3 [==============================] - 3s 1s/step - loss: 1.5875 - accuracy: 0.7286 - val_loss: 1.7640 - val_accuracy: 0.5033\n",
            "Epoch 5/5\n",
            "3/3 [==============================] - 2s 994ms/step - loss: 1.3751 - accuracy: 0.8571 - val_loss: 1.6594 - val_accuracy: 0.5691\n"
          ]
        }
      ]
    },
    {
      "cell_type": "code",
      "source": [
        "plot_loss_curves(history_1)"
      ],
      "metadata": {
        "colab": {
          "base_uri": "https://localhost:8080/",
          "height": 573
        },
        "id": "QJYQNYXBcyYV",
        "outputId": "23648895-647d-4dff-d482-b3747c7db00d"
      },
      "execution_count": 79,
      "outputs": [
        {
          "output_type": "display_data",
          "data": {
            "text/plain": [
              "<Figure size 432x288 with 1 Axes>"
            ],
            "image/png": "[encoded data removed]"
          },
          "metadata": {
            "needs_background": "light"
          }
        },
        {
          "output_type": "display_data",
          "data": {
            "text/plain": [
              "<Figure size 432x288 with 1 Axes>"
            ],
            "image/png": "[encoded data removed]"
          },
          "metadata": {
            "needs_background": "light"
          }
        }
      ]
    },
    {
      "cell_type": "code",
      "source": [],
      "metadata": {
        "id": "tDc96dzrdg6B"
      },
      "execution_count": null,
      "outputs": []
    }
  ]
}