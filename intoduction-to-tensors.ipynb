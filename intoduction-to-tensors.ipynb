{
  "nbformat": 4,
  "nbformat_minor": 0,
  "metadata": {
    "colab": {
      "provenance": [],
      "authorship_tag": "ABX9TyOSqo7aYz6PSLUHRJVcag3D",
      "include_colab_link": true
    },
    "kernelspec": {
      "name": "python3",
      "display_name": "Python 3"
    },
    "language_info": {
      "name": "python"
    }
  },
  "cells": [
    {
      "cell_type": "markdown",
      "metadata": {
        "id": "view-in-github",
        "colab_type": "text"
      },
      "source": [
        "<a href=\"https://colab.research.google.com/github/crew-guy/ml-with-tensorflow/blob/main/intoduction-to-tensors.ipynb\" target=\"_parent\"><img src=\"https://colab.research.google.com/assets/colab-badge.svg\" alt=\"Open In Colab\"/></a>"
      ]
    },
    {
      "cell_type": "markdown",
      "source": [
        "# In this notebook, we are going to cover some of the most fundamental concepts of tensors using TensorFlow\n",
        "\n",
        "* Introduction to tensors\n",
        "* Getting information from tensors\n",
        "* Manipulating tensors\n",
        "* Tensors & NumPy\n",
        "* Using @tf.function (a way to speed up Python functions)\n",
        "* Using GPUs with tensorflow (or TPUs)"
      ],
      "metadata": {
        "id": "BlU87LzvvOpk"
      }
    },
    {
      "cell_type": "markdown",
      "source": [
        "## Introduction to tensors"
      ],
      "metadata": {
        "id": "rn7N9v3p00FY"
      }
    },
    {
      "cell_type": "code",
      "source": [
        "# Import tensorflow\n",
        "\n",
        "import tensorflow as tf\n",
        "print(tf.__version__)\n"
      ],
      "metadata": {
        "colab": {
          "base_uri": "https://localhost:8080/"
        },
        "id": "9yGoUWMi1SZv",
        "outputId": "dec701c8-4c2f-49d0-e86a-dc9d77dca726"
      },
      "execution_count": 1,
      "outputs": [
        {
          "output_type": "stream",
          "name": "stdout",
          "text": [
            "2.9.2\n"
          ]
        }
      ]
    },
    {
      "cell_type": "code",
      "source": [
        " # Create a tensor from a tensor like object\n",
        " scalar = tf.constant(7)\n",
        " print(scalar)"
      ],
      "metadata": {
        "colab": {
          "base_uri": "https://localhost:8080/"
        },
        "id": "gffegzPV1fbh",
        "outputId": "06bd8f66-eed9-47e6-823a-b36d8651392c"
      },
      "execution_count": 3,
      "outputs": [
        {
          "output_type": "stream",
          "name": "stdout",
          "text": [
            "tf.Tensor(7, shape=(), dtype=int32)\n"
          ]
        }
      ]
    },
    {
      "cell_type": "code",
      "source": [
        "# Check the number of dimensions of a tensor\n",
        "print(scalar.ndim)  "
      ],
      "metadata": {
        "colab": {
          "base_uri": "https://localhost:8080/"
        },
        "id": "IDHOuAVU1tMW",
        "outputId": "3b20c900-96be-405e-cc2d-419690e5f44e"
      },
      "execution_count": 5,
      "outputs": [
        {
          "output_type": "stream",
          "name": "stdout",
          "text": [
            "0\n"
          ]
        }
      ]
    },
    {
      "cell_type": "code",
      "source": [
        "# Create a vector\n",
        "vector = tf.constant([10,10])\n",
        "print(vector)"
      ],
      "metadata": {
        "colab": {
          "base_uri": "https://localhost:8080/"
        },
        "id": "ou35E1aG12t_",
        "outputId": "58506375-4c8e-4e7b-e35c-bd97234a222f"
      },
      "execution_count": 6,
      "outputs": [
        {
          "output_type": "stream",
          "name": "stdout",
          "text": [
            "tf.Tensor([10 10], shape=(2,), dtype=int32)\n"
          ]
        }
      ]
    },
    {
      "cell_type": "code",
      "source": [
        "# Create a matrix\n",
        "matrix = tf.constant([[1,2],[3,4]])\n",
        "    print(matrix, matrix.ndim)"
      ],
      "metadata": {
        "colab": {
          "base_uri": "https://localhost:8080/"
        },
        "id": "eeNkuxET1_qZ",
        "outputId": "48f51fcc-0401-481b-ffc3-99c7a56bedf0"
      },
      "execution_count": 9,
      "outputs": [
        {
          "output_type": "stream",
          "name": "stdout",
          "text": [
            "tf.Tensor(\n",
            "[[1 2]\n",
            " [3 4]], shape=(2, 2), dtype=int32) 2\n"
          ]
        }
      ]
    },
    {
      "cell_type": "code",
      "source": [
        "# Specify the data type with the dtype parameter\n",
        "matrix2 = tf.constant([\n",
        "    [1.,2.],\n",
        "    [3.,4.],\n",
        "    [5.,6.]\n",
        "    ], dtype = tf.float16)\n",
        "print(matrix2, matrix2.ndim)"
      ],
      "metadata": {
        "colab": {
          "base_uri": "https://localhost:8080/"
        },
        "id": "Cd-9mqLX2ISs",
        "outputId": "2b521ac6-30b9-4a7c-da96-4c8e9de0c054"
      },
      "execution_count": 12,
      "outputs": [
        {
          "output_type": "stream",
          "name": "stdout",
          "text": [
            "tf.Tensor(\n",
            "[[1. 2.]\n",
            " [3. 4.]\n",
            " [5. 6.]], shape=(3, 2), dtype=float16) 2\n"
          ]
        }
      ]
    },
    {
      "cell_type": "markdown",
      "source": [
        " ## What we've created so far\n",
        "Scalar: A constant number\n",
        "<br/>\n",
        "Vector: A array of numbers representing a magnitude with a direction (eg: wind speed)\n",
        "<br/>\n",
        "Matrix: A 2-D array of numbers\n",
        "<br/>\n",
        "Tensor: An n-dimensional array of numbers\n"
      ],
      "metadata": {
        "id": "M4FKBmXl2v7Q"
      }
    },
    {
      "cell_type": "markdown",
      "source": [
        "## Creating tensors withh `tf.Variable`"
      ],
      "metadata": {
        "id": "oLQlfWDT3h82"
      }
    },
    {
      "cell_type": "code",
      "source": [
        "changeable_tensor = tf.Variable([10,7])\n",
        "unchangeable_tensor = tf.constant([10,7])\n",
        "\n",
        "changeable_tensor, unchangeable_tensor"
      ],
      "metadata": {
        "colab": {
          "base_uri": "https://localhost:8080/"
        },
        "id": "DL2kDs8k4Tpy",
        "outputId": "89e31b48-61fc-4d5e-9137-3b1e1ea9c492"
      },
      "execution_count": 14,
      "outputs": [
        {
          "output_type": "execute_result",
          "data": {
            "text/plain": [
              "(<tf.Variable 'Variable:0' shape=(2,) dtype=int32, numpy=array([10,  7], dtype=int32)>,\n",
              " <tf.Tensor: shape=(2,), dtype=int32, numpy=array([10,  7], dtype=int32)>)"
            ]
          },
          "metadata": {},
          "execution_count": 14
        }
      ]
    },
    {
      "cell_type": "code",
      "source": [
        "# Values inside a changeable_tensor (created with tf.Variable) can be reassigned whereas the same cannot be done for unchangeable_tensor\n",
        "\n",
        "changeable_tensor[0].assign(7)\n",
        "changeable_tensor"
      ],
      "metadata": {
        "colab": {
          "base_uri": "https://localhost:8080/"
        },
        "id": "LhLDI3Ux4bDx",
        "outputId": "bc79dd77-56e9-4632-ffe4-f45966783187"
      },
      "execution_count": 15,
      "outputs": [
        {
          "output_type": "execute_result",
          "data": {
            "text/plain": [
              "<tf.Variable 'Variable:0' shape=(2,) dtype=int32, numpy=array([7, 7], dtype=int32)>"
            ]
          },
          "metadata": {},
          "execution_count": 15
        }
      ]
    },
    {
      "cell_type": "markdown",
      "source": [
        "🔑 Note : Rarely in practice, we decide, whether to use tf.constant() or tf.Variable, as Tensorflow does this for use. However, if in doubt, use tf.constant and change it later"
      ],
      "metadata": {
        "id": "Ed7Wqt7y4hMh"
      }
    },
    {
      "cell_type": "markdown",
      "source": [
        "## Creating random tensors\n",
        "Random tensors are tensors of some arbitrary size which contain random numbers\n",
        "\n"
      ],
      "metadata": {
        "id": "9xoYUxck5EU6"
      }
    },
    {
      "cell_type": "code",
      "source": [
        "# Create 2 random (but the same) tensors\n",
        "random_1 = tf.random.Generator.from_seed(42) # set seed for reproducibility\n",
        "random_1 = random_1.normal(shape=(3,2))\n",
        "random_1"
      ],
      "metadata": {
        "colab": {
          "base_uri": "https://localhost:8080/"
        },
        "id": "vkSBURKL67U1",
        "outputId": "72fc032c-7053-4fbe-db6b-955bdd7bb89a"
      },
      "execution_count": 16,
      "outputs": [
        {
          "output_type": "execute_result",
          "data": {
            "text/plain": [
              "<tf.Tensor: shape=(3, 2), dtype=float32, numpy=\n",
              "array([[-0.7565803 , -0.06854702],\n",
              "       [ 0.07595026, -1.2573844 ],\n",
              "       [-0.23193763, -1.8107855 ]], dtype=float32)>"
            ]
          },
          "metadata": {},
          "execution_count": 16
        }
      ]
    },
    {
      "cell_type": "code",
      "source": [
        "random_2 = tf.random.Generator.from_seed(42)\n",
        "random_2 = random_2.normal(shape=(3,2))\n",
        "random_1 == random_2"
      ],
      "metadata": {
        "colab": {
          "base_uri": "https://localhost:8080/"
        },
        "id": "AbLqUaOl7c7j",
        "outputId": "5d27e297-f601-4e71-a0b8-62d27f931dc4"
      },
      "execution_count": 17,
      "outputs": [
        {
          "output_type": "execute_result",
          "data": {
            "text/plain": [
              "<tf.Tensor: shape=(3, 2), dtype=bool, numpy=\n",
              "array([[ True,  True],\n",
              "       [ True,  True],\n",
              "       [ True,  True]])>"
            ]
          },
          "metadata": {},
          "execution_count": 17
        }
      ]
    },
    {
      "cell_type": "markdown",
      "source": [
        "## Shuffle the order of elements in a tensor\n",
        "\n",
        "Valuable when you want to shuffle your data so that inherent order does not affect learning"
      ],
      "metadata": {
        "id": "XDgohLLG76Nn"
      }
    },
    {
      "cell_type": "code",
      "source": [
        "# Shuffling a tensor\n",
        "not_shuffled = tf.Variable([[10,7],[6,5],[3,2]])\n",
        "\n",
        "# Using random shuffle - shuffling happens along the outermost dimension, i.e. dimension-0\n",
        "shuffled = tf.random.shuffle(not_shuffled)\n",
        "\n",
        "shuffled"
      ],
      "metadata": {
        "colab": {
          "base_uri": "https://localhost:8080/"
        },
        "id": "2DyMQHWV8F_1",
        "outputId": "956d7350-abd1-48ad-e929-f1ce6dce4d49"
      },
      "execution_count": 20,
      "outputs": [
        {
          "output_type": "execute_result",
          "data": {
            "text/plain": [
              "<tf.Tensor: shape=(3, 2), dtype=int32, numpy=\n",
              "array([[ 3,  2],\n",
              "       [10,  7],\n",
              "       [ 6,  5]], dtype=int32)>"
            ]
          },
          "metadata": {},
          "execution_count": 20
        }
      ]
    },
    {
      "cell_type": "code",
      "source": [
        "# Setting a seed for shuffling will allow reproducibity - https://www.tensorflow.org/api_docs/python/tf/random/set_seed\n",
        "\n",
        "\n",
        "# Setting \"global seed\"\n",
        "tf.random.set_seed(22)\n",
        "\n",
        "\n",
        "# Setting operation-level aka \"local seed\"\n",
        "# Local seeds override global seeds\n",
        "tf.random.shuffle(not_shuffled, seed= 21)\n"
      ],
      "metadata": {
        "colab": {
          "base_uri": "https://localhost:8080/"
        },
        "id": "826WIj_s9gih",
        "outputId": "db02b299-96fe-4162-93c9-2f2a9d222771"
      },
      "execution_count": 25,
      "outputs": [
        {
          "output_type": "execute_result",
          "data": {
            "text/plain": [
              "<tf.Tensor: shape=(3, 2), dtype=int32, numpy=\n",
              "array([[ 6,  5],\n",
              "       [10,  7],\n",
              "       [ 3,  2]], dtype=int32)>"
            ]
          },
          "metadata": {},
          "execution_count": 25
        }
      ]
    }
  ]
}