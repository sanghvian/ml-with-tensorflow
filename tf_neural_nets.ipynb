{
  "nbformat": 4,
  "nbformat_minor": 0,
  "metadata": {
    "colab": {
      "provenance": [],
      "authorship_tag": "ABX9TyOuU1y8Eob/tr4cE3kN2wi5",
      "include_colab_link": true
    },
    "kernelspec": {
      "name": "python3",
      "display_name": "Python 3"
    },
    "language_info": {
      "name": "python"
    }
  },
  "cells": [
    {
      "cell_type": "markdown",
      "metadata": {
        "id": "view-in-github",
        "colab_type": "text"
      },
      "source": [
        "<a href=\"https://colab.research.google.com/github/crew-guy/ml-with-tensorflow/blob/main/tf_neural_nets.ipynb\" target=\"_parent\"><img src=\"https://colab.research.google.com/assets/colab-badge.svg\" alt=\"Open In Colab\"/></a>"
      ]
    },
    {
      "cell_type": "markdown",
      "source": [
        "# Introduction to Regression with Neural Networks in Tensorflow\n",
        "\n",
        "There are many definitions for a regression problem, but, in our case, we're going to simplify it: predicting a numerical variable based on some other combitaion of variables, even shorter....predicting a number"
      ],
      "metadata": {
        "id": "lXHyqeLxpRIJ"
      }
    },
    {
      "cell_type": "code",
      "source": [
        "# Import tensorflow\n",
        "import tensorflow as tf\n",
        "tf.__version__"
      ],
      "metadata": {
        "colab": {
          "base_uri": "https://localhost:8080/",
          "height": 36
        },
        "id": "GlNaw7VPQb6g",
        "outputId": "be9582c5-1842-4488-f2b6-d272fc3edb6e"
      },
      "execution_count": null,
      "outputs": [
        {
          "output_type": "execute_result",
          "data": {
            "text/plain": [
              "'2.9.2'"
            ],
            "application/vnd.google.colaboratory.intrinsic+json": {
              "type": "string"
            }
          },
          "metadata": {},
          "execution_count": 15
        }
      ]
    },
    {
      "cell_type": "code",
      "source": [
        "## Creating data to view & fit\n",
        "import numpy as np\n",
        "import matplotlib.pyplot as plt\n",
        "\n",
        "# Create features\n",
        "X = np.random.uniform(low=-5, high=13.3, size=(50,))\n",
        "\n",
        "# Create labels\n",
        "y = np.random.randint(low=1, high = 5, size=(50,))\n",
        "\n",
        "# Visualize it\n",
        "plt.scatter(X,y)"
      ],
      "metadata": {
        "colab": {
          "base_uri": "https://localhost:8080/",
          "height": 283
        },
        "id": "It89yMQ1QfqT",
        "outputId": "3ead85ee-1798-4067-b797-4cbf596ce200"
      },
      "execution_count": null,
      "outputs": [
        {
          "output_type": "execute_result",
          "data": {
            "text/plain": [
              "<matplotlib.collections.PathCollection at 0x7fb0940c6c50>"
            ]
          },
          "metadata": {},
          "execution_count": 2
        },
        {
          "output_type": "display_data",
          "data": {
            "text/plain": [
              "<Figure size 432x288 with 1 Axes>"
            ],
            "image/png": "[encoded data removed]"
          },
          "metadata": {
            "needs_background": "light"
          }
        }
      ]
    },
    {
      "cell_type": "markdown",
      "source": [
        " ## Steps in modelling with tensorflow\n",
        "\n",
        " ![image](https://testbucket1841.s3.ap-south-1.amazonaws.com/archi.png)\n",
        "\n",
        " 1. **Creating a model** - Define the input & output layers, as well as the hidden layers of a deep learning model.\n",
        " 2. **Compiling a model** - Define the: \n",
        "    * Loss function - function that tells the model how wrong it is\n",
        "    * Optimizer - suggests our model how to improve the patterns it is learning\n",
        "    * Evaluation metrics - helps interpret performance of model\n",
        "\n",
        "3.  **Fitting a model** - Letting the model try to find patters between X & y \n",
        "(features & labels)"
      ],
      "metadata": {
        "id": "lfZTcqiJRAL1"
      }
    },
    {
      "cell_type": "code",
      "source": [
        "# Set random seed\n",
        "tf.random.set_seed(42)\n",
        "\n",
        "# 1. Create a model\n",
        "model = tf.keras.Sequential([\n",
        "    tf.keras.layers.Dense(1,input_shape=[1])\n",
        "])\n",
        "\n",
        "# 2. Compile a model\n",
        "model.compile(\n",
        "    loss = tf.keras.losses.mae, # mae stands for \"mean absolute error\",\n",
        "    optimizer = tf.keras.optimizers.SGD(), # SGD stands for stochastic gradient descent\n",
        "    metrics = [\"mae\"]\n",
        ")\n",
        "\n",
        "# 3. Fit the model\n",
        "# number of epochs = number of times our model trains over the entire sampling data\n",
        "model.fit(X,y, epochs=5)"
      ],
      "metadata": {
        "colab": {
          "base_uri": "https://localhost:8080/"
        },
        "id": "EZ4suVf1Xucv",
        "outputId": "efb77ff9-5e32-40ff-cd35-79a9b4e1587a"
      },
      "execution_count": null,
      "outputs": [
        {
          "output_type": "stream",
          "name": "stdout",
          "text": [
            "Epoch 1/5\n",
            "2/2 [==============================] - 1s 8ms/step - loss: 2.6800 - mae: 2.6800\n",
            "Epoch 2/5\n",
            "2/2 [==============================] - 0s 5ms/step - loss: 2.2903 - mae: 2.2903\n",
            "Epoch 3/5\n",
            "2/2 [==============================] - 0s 8ms/step - loss: 2.0777 - mae: 2.0777\n",
            "Epoch 4/5\n",
            "2/2 [==============================] - 0s 9ms/step - loss: 1.9742 - mae: 1.9742\n",
            "Epoch 5/5\n",
            "2/2 [==============================] - 0s 8ms/step - loss: 1.9183 - mae: 1.9183\n"
          ]
        },
        {
          "output_type": "execute_result",
          "data": {
            "text/plain": [
              "<keras.callbacks.History at 0x7fb08f8f3c50>"
            ]
          },
          "metadata": {},
          "execution_count": 3
        }
      ]
    },
    {
      "cell_type": "code",
      "source": [
        "# Checkout X and y\n",
        "X, y"
      ],
      "metadata": {
        "colab": {
          "base_uri": "https://localhost:8080/"
        },
        "id": "izxUOfIYYla2",
        "outputId": "c0c9dc18-dd62-4e46-b1db-9cbe31a5dae8"
      },
      "execution_count": null,
      "outputs": [
        {
          "output_type": "execute_result",
          "data": {
            "text/plain": [
              "(array([ 4.12818534,  7.67035648,  3.49194408,  7.81072995,  6.18725688,\n",
              "        12.61424347,  5.64057441, 11.2483332 , -4.25061215,  7.74707244,\n",
              "        -4.7092635 , -4.93297237,  8.47445362, -2.40440109,  4.36180306,\n",
              "        12.82076863,  9.5660369 ,  8.56949725, -4.82142021, 11.51862934,\n",
              "        -1.34623275, -2.12396422,  6.03685754, -1.14952213,  8.35942017,\n",
              "        -3.39336743,  9.8564043 ,  7.57873721,  8.73130185, 13.11737262,\n",
              "        -1.0639401 ,  1.24717976, -0.33561597, -2.62678873,  2.80621387,\n",
              "         8.3121512 ,  0.99182778, -0.21210277, 11.31415366, -4.40761059,\n",
              "         3.34917921, 11.39556056,  3.90760376, -2.04282741,  2.59697155,\n",
              "         1.96727058,  1.23834617,  8.12457348,  5.75346713,  2.775441  ]),\n",
              " array([1, 2, 2, 4, 4, 3, 1, 4, 3, 3, 3, 1, 3, 1, 2, 3, 4, 4, 3, 1, 4, 4,\n",
              "        1, 3, 2, 1, 4, 3, 1, 1, 1, 3, 1, 3, 4, 2, 3, 2, 1, 3, 4, 1, 2, 1,\n",
              "        3, 1, 2, 1, 1, 3]))"
            ]
          },
          "metadata": {},
          "execution_count": 4
        }
      ]
    },
    {
      "cell_type": "code",
      "source": [
        "# Try to make a prediction using our model\n",
        "model.predict([11.9])"
      ],
      "metadata": {
        "colab": {
          "base_uri": "https://localhost:8080/"
        },
        "id": "vH5pjSfDZ_q4",
        "outputId": "c1870894-4b4f-4987-a544-3bbb60dc70fb"
      },
      "execution_count": null,
      "outputs": [
        {
          "output_type": "stream",
          "name": "stdout",
          "text": [
            "1/1 [==============================] - 0s 97ms/step\n"
          ]
        },
        {
          "output_type": "execute_result",
          "data": {
            "text/plain": [
              "array([[3.5791125]], dtype=float32)"
            ]
          },
          "metadata": {},
          "execution_count": 5
        }
      ]
    },
    {
      "cell_type": "markdown",
      "source": [
        "## Improving our model\n",
        "\n",
        "Look at the 3 steps we took to create our model & see how you can improve accuracy during each step\n",
        "\n",
        "\n",
        "1. **Creating a model** - Here, we can add more layers, increase number of hidden units (\"neurons\") in each hidden layer, change the activation function\n",
        "2. **Compiling a model** - Here, we can change the optimization function or change the **learning rate** of the optimization function\n",
        "3. **Training a model** - Here we might fit a model for more epochs (more cycles through sample data) or give it a larger sample data to train on, for each cycle\n",
        "\n",
        "Changing all these values is called as \"hyperparameter tuning\""
      ],
      "metadata": {
        "id": "sBQJ4NTjaDtQ"
      }
    },
    {
      "cell_type": "code",
      "source": [
        "# Let's rebuild our model\n",
        "\n",
        "X = tf.cast(tf.constant(X), dtype=tf.float64)\n",
        "y = tf.cast(tf.constant(y), dtype=tf.float64)\n",
        "\n",
        "print(X.shape)\n",
        "\n",
        "# 1. Create our model\n",
        "model = tf.keras.Sequential([\n",
        "    tf.keras.layers.Dense(1, activation=\"relu\", input_shape=[1,]),\n",
        "    # tf.keras.layers.Dense(1, activation=None, input_shape=[1,]),\n",
        "])\n",
        "\n",
        "# 2. Compile our model\n",
        "model.compile(\n",
        "    loss=tf.keras.losses.mae,\n",
        "    optimizer=tf.keras.optimizers.Adam(lr=0.01), # lr = learning_rate is one of the most important hyperparameters of machine learning\n",
        "    metrics=[\"mae\"]\n",
        ")\n",
        "# 3. Train our model\n",
        "model.fit(X,y, epochs=100)"
      ],
      "metadata": {
        "colab": {
          "base_uri": "https://localhost:8080/"
        },
        "id": "GqNBNtDMaJVx",
        "outputId": "48a6e8eb-7155-4197-94d2-eb53b84fb441"
      },
      "execution_count": null,
      "outputs": [
        {
          "output_type": "stream",
          "name": "stdout",
          "text": [
            "(50,)\n",
            "Epoch 1/100\n"
          ]
        },
        {
          "output_type": "stream",
          "name": "stderr",
          "text": [
            "/usr/local/lib/python3.7/dist-packages/keras/optimizers/optimizer_v2/adam.py:110: UserWarning: The `lr` argument is deprecated, use `learning_rate` instead.\n",
            "  super(Adam, self).__init__(name, **kwargs)\n"
          ]
        },
        {
          "output_type": "stream",
          "name": "stdout",
          "text": [
            "2/2 [==============================] - 0s 9ms/step - loss: 2.6111 - mae: 2.6111\n",
            "Epoch 2/100\n",
            "2/2 [==============================] - 0s 6ms/step - loss: 2.5297 - mae: 2.5297\n",
            "Epoch 3/100\n",
            "2/2 [==============================] - 0s 9ms/step - loss: 2.4444 - mae: 2.4444\n",
            "Epoch 4/100\n",
            "2/2 [==============================] - 0s 11ms/step - loss: 2.3536 - mae: 2.3536\n",
            "Epoch 5/100\n",
            "2/2 [==============================] - 0s 8ms/step - loss: 2.2692 - mae: 2.2692\n",
            "Epoch 6/100\n",
            "2/2 [==============================] - 0s 13ms/step - loss: 2.1921 - mae: 2.1921\n",
            "Epoch 7/100\n",
            "2/2 [==============================] - 0s 8ms/step - loss: 2.1244 - mae: 2.1244\n",
            "Epoch 8/100\n",
            "2/2 [==============================] - 0s 9ms/step - loss: 2.0513 - mae: 2.0513\n",
            "Epoch 9/100\n",
            "2/2 [==============================] - 0s 8ms/step - loss: 1.9777 - mae: 1.9777\n",
            "Epoch 10/100\n",
            "2/2 [==============================] - 0s 6ms/step - loss: 1.9268 - mae: 1.9268\n",
            "Epoch 11/100\n",
            "2/2 [==============================] - 0s 8ms/step - loss: 1.8797 - mae: 1.8797\n",
            "Epoch 12/100\n",
            "2/2 [==============================] - 0s 7ms/step - loss: 1.8296 - mae: 1.8296\n",
            "Epoch 13/100\n",
            "2/2 [==============================] - 0s 9ms/step - loss: 1.7884 - mae: 1.7884\n",
            "Epoch 14/100\n",
            "2/2 [==============================] - 0s 7ms/step - loss: 1.7625 - mae: 1.7625\n",
            "Epoch 15/100\n",
            "2/2 [==============================] - 0s 7ms/step - loss: 1.7464 - mae: 1.7464\n",
            "Epoch 16/100\n",
            "2/2 [==============================] - 0s 8ms/step - loss: 1.7294 - mae: 1.7294\n",
            "Epoch 17/100\n",
            "2/2 [==============================] - 0s 7ms/step - loss: 1.7262 - mae: 1.7262\n",
            "Epoch 18/100\n",
            "2/2 [==============================] - 0s 8ms/step - loss: 1.7140 - mae: 1.7140\n",
            "Epoch 19/100\n",
            "2/2 [==============================] - 0s 8ms/step - loss: 1.7106 - mae: 1.7106\n",
            "Epoch 20/100\n",
            "2/2 [==============================] - 0s 8ms/step - loss: 1.7033 - mae: 1.7033\n",
            "Epoch 21/100\n",
            "2/2 [==============================] - 0s 7ms/step - loss: 1.6985 - mae: 1.6985\n",
            "Epoch 22/100\n",
            "2/2 [==============================] - 0s 7ms/step - loss: 1.6989 - mae: 1.6989\n",
            "Epoch 23/100\n",
            "2/2 [==============================] - 0s 9ms/step - loss: 1.6896 - mae: 1.6896\n",
            "Epoch 24/100\n",
            "2/2 [==============================] - 0s 5ms/step - loss: 1.6892 - mae: 1.6892\n",
            "Epoch 25/100\n",
            "2/2 [==============================] - 0s 9ms/step - loss: 1.6834 - mae: 1.6834\n",
            "Epoch 26/100\n",
            "2/2 [==============================] - 0s 7ms/step - loss: 1.6786 - mae: 1.6786\n",
            "Epoch 27/100\n",
            "2/2 [==============================] - 0s 7ms/step - loss: 1.6746 - mae: 1.6746\n",
            "Epoch 28/100\n",
            "2/2 [==============================] - 0s 8ms/step - loss: 1.6725 - mae: 1.6725\n",
            "Epoch 29/100\n",
            "2/2 [==============================] - 0s 10ms/step - loss: 1.6696 - mae: 1.6696\n",
            "Epoch 30/100\n",
            "2/2 [==============================] - 0s 8ms/step - loss: 1.6673 - mae: 1.6673\n",
            "Epoch 31/100\n",
            "2/2 [==============================] - 0s 10ms/step - loss: 1.6649 - mae: 1.6649\n",
            "Epoch 32/100\n",
            "2/2 [==============================] - 0s 8ms/step - loss: 1.6622 - mae: 1.6622\n",
            "Epoch 33/100\n",
            "2/2 [==============================] - 0s 9ms/step - loss: 1.6601 - mae: 1.6601\n",
            "Epoch 34/100\n",
            "2/2 [==============================] - 0s 9ms/step - loss: 1.6574 - mae: 1.6574\n",
            "Epoch 35/100\n",
            "2/2 [==============================] - 0s 9ms/step - loss: 1.6548 - mae: 1.6548\n",
            "Epoch 36/100\n",
            "2/2 [==============================] - 0s 9ms/step - loss: 1.6516 - mae: 1.6516\n",
            "Epoch 37/100\n",
            "2/2 [==============================] - 0s 7ms/step - loss: 1.6498 - mae: 1.6498\n",
            "Epoch 38/100\n",
            "2/2 [==============================] - 0s 8ms/step - loss: 1.6476 - mae: 1.6476\n",
            "Epoch 39/100\n",
            "2/2 [==============================] - 0s 7ms/step - loss: 1.6446 - mae: 1.6446\n",
            "Epoch 40/100\n",
            "2/2 [==============================] - 0s 7ms/step - loss: 1.6418 - mae: 1.6418\n",
            "Epoch 41/100\n",
            "2/2 [==============================] - 0s 8ms/step - loss: 1.6397 - mae: 1.6397\n",
            "Epoch 42/100\n",
            "2/2 [==============================] - 0s 9ms/step - loss: 1.6380 - mae: 1.6380\n",
            "Epoch 43/100\n",
            "2/2 [==============================] - 0s 5ms/step - loss: 1.6347 - mae: 1.6347\n",
            "Epoch 44/100\n",
            "2/2 [==============================] - 0s 9ms/step - loss: 1.6319 - mae: 1.6319\n",
            "Epoch 45/100\n",
            "2/2 [==============================] - 0s 9ms/step - loss: 1.6296 - mae: 1.6296\n",
            "Epoch 46/100\n",
            "2/2 [==============================] - 0s 9ms/step - loss: 1.6272 - mae: 1.6272\n",
            "Epoch 47/100\n",
            "2/2 [==============================] - 0s 9ms/step - loss: 1.6244 - mae: 1.6244\n",
            "Epoch 48/100\n",
            "2/2 [==============================] - 0s 10ms/step - loss: 1.6216 - mae: 1.6216\n",
            "Epoch 49/100\n",
            "2/2 [==============================] - 0s 8ms/step - loss: 1.6192 - mae: 1.6192\n",
            "Epoch 50/100\n",
            "2/2 [==============================] - 0s 8ms/step - loss: 1.6170 - mae: 1.6170\n",
            "Epoch 51/100\n",
            "2/2 [==============================] - 0s 9ms/step - loss: 1.6144 - mae: 1.6144\n",
            "Epoch 52/100\n",
            "2/2 [==============================] - 0s 6ms/step - loss: 1.6121 - mae: 1.6121\n",
            "Epoch 53/100\n",
            "2/2 [==============================] - 0s 8ms/step - loss: 1.6077 - mae: 1.6077\n",
            "Epoch 54/100\n",
            "2/2 [==============================] - 0s 8ms/step - loss: 1.6043 - mae: 1.6043\n",
            "Epoch 55/100\n",
            "2/2 [==============================] - 0s 6ms/step - loss: 1.6014 - mae: 1.6014\n",
            "Epoch 56/100\n",
            "2/2 [==============================] - 0s 7ms/step - loss: 1.5980 - mae: 1.5980\n",
            "Epoch 57/100\n",
            "2/2 [==============================] - 0s 8ms/step - loss: 1.5952 - mae: 1.5952\n",
            "Epoch 58/100\n",
            "2/2 [==============================] - 0s 5ms/step - loss: 1.5916 - mae: 1.5916\n",
            "Epoch 59/100\n",
            "2/2 [==============================] - 0s 8ms/step - loss: 1.5887 - mae: 1.5887\n",
            "Epoch 60/100\n",
            "2/2 [==============================] - 0s 10ms/step - loss: 1.5851 - mae: 1.5851\n",
            "Epoch 61/100\n",
            "2/2 [==============================] - 0s 9ms/step - loss: 1.5814 - mae: 1.5814\n",
            "Epoch 62/100\n",
            "2/2 [==============================] - 0s 8ms/step - loss: 1.5772 - mae: 1.5772\n",
            "Epoch 63/100\n",
            "2/2 [==============================] - 0s 9ms/step - loss: 1.5731 - mae: 1.5731\n",
            "Epoch 64/100\n",
            "2/2 [==============================] - 0s 7ms/step - loss: 1.5686 - mae: 1.5686\n",
            "Epoch 65/100\n",
            "2/2 [==============================] - 0s 8ms/step - loss: 1.5637 - mae: 1.5637\n",
            "Epoch 66/100\n",
            "2/2 [==============================] - 0s 8ms/step - loss: 1.5587 - mae: 1.5587\n",
            "Epoch 67/100\n",
            "2/2 [==============================] - 0s 8ms/step - loss: 1.5527 - mae: 1.5527\n",
            "Epoch 68/100\n",
            "2/2 [==============================] - 0s 6ms/step - loss: 1.5475 - mae: 1.5475\n",
            "Epoch 69/100\n",
            "2/2 [==============================] - 0s 11ms/step - loss: 1.5424 - mae: 1.5424\n",
            "Epoch 70/100\n",
            "2/2 [==============================] - 0s 7ms/step - loss: 1.5364 - mae: 1.5364\n",
            "Epoch 71/100\n",
            "2/2 [==============================] - 0s 6ms/step - loss: 1.5308 - mae: 1.5308\n",
            "Epoch 72/100\n",
            "2/2 [==============================] - 0s 5ms/step - loss: 1.5246 - mae: 1.5246\n",
            "Epoch 73/100\n",
            "2/2 [==============================] - 0s 10ms/step - loss: 1.5158 - mae: 1.5158\n",
            "Epoch 74/100\n",
            "2/2 [==============================] - 0s 7ms/step - loss: 1.5104 - mae: 1.5104\n",
            "Epoch 75/100\n",
            "2/2 [==============================] - 0s 7ms/step - loss: 1.5045 - mae: 1.5045\n",
            "Epoch 76/100\n",
            "2/2 [==============================] - 0s 9ms/step - loss: 1.4950 - mae: 1.4950\n",
            "Epoch 77/100\n",
            "2/2 [==============================] - 0s 8ms/step - loss: 1.4853 - mae: 1.4853\n",
            "Epoch 78/100\n",
            "2/2 [==============================] - 0s 7ms/step - loss: 1.4784 - mae: 1.4784\n",
            "Epoch 79/100\n",
            "2/2 [==============================] - 0s 7ms/step - loss: 1.4693 - mae: 1.4693\n",
            "Epoch 80/100\n",
            "2/2 [==============================] - 0s 8ms/step - loss: 1.4614 - mae: 1.4614\n",
            "Epoch 81/100\n",
            "2/2 [==============================] - 0s 9ms/step - loss: 1.4538 - mae: 1.4538\n",
            "Epoch 82/100\n",
            "2/2 [==============================] - 0s 10ms/step - loss: 1.4442 - mae: 1.4442\n",
            "Epoch 83/100\n",
            "2/2 [==============================] - 0s 6ms/step - loss: 1.4367 - mae: 1.4367\n",
            "Epoch 84/100\n",
            "2/2 [==============================] - 0s 9ms/step - loss: 1.4283 - mae: 1.4283\n",
            "Epoch 85/100\n",
            "2/2 [==============================] - 0s 8ms/step - loss: 1.4204 - mae: 1.4204\n",
            "Epoch 86/100\n",
            "2/2 [==============================] - 0s 8ms/step - loss: 1.4099 - mae: 1.4099\n",
            "Epoch 87/100\n",
            "2/2 [==============================] - 0s 7ms/step - loss: 1.3996 - mae: 1.3996\n",
            "Epoch 88/100\n",
            "2/2 [==============================] - 0s 8ms/step - loss: 1.3879 - mae: 1.3879\n",
            "Epoch 89/100\n",
            "2/2 [==============================] - 0s 16ms/step - loss: 1.3756 - mae: 1.3756\n",
            "Epoch 90/100\n",
            "2/2 [==============================] - 0s 6ms/step - loss: 1.3614 - mae: 1.3614\n",
            "Epoch 91/100\n",
            "2/2 [==============================] - 0s 14ms/step - loss: 1.3475 - mae: 1.3475\n",
            "Epoch 92/100\n",
            "2/2 [==============================] - 0s 6ms/step - loss: 1.3339 - mae: 1.3339\n",
            "Epoch 93/100\n",
            "2/2 [==============================] - 0s 7ms/step - loss: 1.3185 - mae: 1.3185\n",
            "Epoch 94/100\n",
            "2/2 [==============================] - 0s 7ms/step - loss: 1.3048 - mae: 1.3048\n",
            "Epoch 95/100\n",
            "2/2 [==============================] - 0s 6ms/step - loss: 1.2903 - mae: 1.2903\n",
            "Epoch 96/100\n",
            "2/2 [==============================] - 0s 7ms/step - loss: 1.2769 - mae: 1.2769\n",
            "Epoch 97/100\n",
            "2/2 [==============================] - 0s 9ms/step - loss: 1.2631 - mae: 1.2631\n",
            "Epoch 98/100\n",
            "2/2 [==============================] - 0s 8ms/step - loss: 1.2495 - mae: 1.2495\n",
            "Epoch 99/100\n",
            "2/2 [==============================] - 0s 6ms/step - loss: 1.2377 - mae: 1.2377\n",
            "Epoch 100/100\n",
            "2/2 [==============================] - 0s 6ms/step - loss: 1.2268 - mae: 1.2268\n"
          ]
        },
        {
          "output_type": "execute_result",
          "data": {
            "text/plain": [
              "<keras.callbacks.History at 0x7fb08f83f5d0>"
            ]
          },
          "metadata": {},
          "execution_count": 6
        }
      ]
    },
    {
      "cell_type": "code",
      "source": [
        "X,y"
      ],
      "metadata": {
        "colab": {
          "base_uri": "https://localhost:8080/"
        },
        "id": "1pC5ysxofZKE",
        "outputId": "1ad21b78-4f2b-4319-cfb5-5c0809da1a5f"
      },
      "execution_count": null,
      "outputs": [
        {
          "output_type": "execute_result",
          "data": {
            "text/plain": [
              "(<tf.Tensor: shape=(50,), dtype=float64, numpy=\n",
              " array([ 4.12818534,  7.67035648,  3.49194408,  7.81072995,  6.18725688,\n",
              "        12.61424347,  5.64057441, 11.2483332 , -4.25061215,  7.74707244,\n",
              "        -4.7092635 , -4.93297237,  8.47445362, -2.40440109,  4.36180306,\n",
              "        12.82076863,  9.5660369 ,  8.56949725, -4.82142021, 11.51862934,\n",
              "        -1.34623275, -2.12396422,  6.03685754, -1.14952213,  8.35942017,\n",
              "        -3.39336743,  9.8564043 ,  7.57873721,  8.73130185, 13.11737262,\n",
              "        -1.0639401 ,  1.24717976, -0.33561597, -2.62678873,  2.80621387,\n",
              "         8.3121512 ,  0.99182778, -0.21210277, 11.31415366, -4.40761059,\n",
              "         3.34917921, 11.39556056,  3.90760376, -2.04282741,  2.59697155,\n",
              "         1.96727058,  1.23834617,  8.12457348,  5.75346713,  2.775441  ])>,\n",
              " <tf.Tensor: shape=(50,), dtype=float64, numpy=\n",
              " array([1., 2., 2., 4., 4., 3., 1., 4., 3., 3., 3., 1., 3., 1., 2., 3., 4.,\n",
              "        4., 3., 1., 4., 4., 1., 3., 2., 1., 4., 3., 1., 1., 1., 3., 1., 3.,\n",
              "        4., 2., 3., 2., 1., 3., 4., 1., 2., 1., 3., 1., 2., 1., 1., 3.])>)"
            ]
          },
          "metadata": {},
          "execution_count": 7
        }
      ]
    },
    {
      "cell_type": "code",
      "source": [
        "model.predict([11.90])"
      ],
      "metadata": {
        "colab": {
          "base_uri": "https://localhost:8080/"
        },
        "id": "YalYnV8Tf1bC",
        "outputId": "19b76d6e-5a35-4802-fa3e-8ddfc07aa71c"
      },
      "execution_count": null,
      "outputs": [
        {
          "output_type": "stream",
          "name": "stdout",
          "text": [
            "1/1 [==============================] - 0s 64ms/step\n"
          ]
        },
        {
          "output_type": "execute_result",
          "data": {
            "text/plain": [
              "array([[2.5509062]], dtype=float32)"
            ]
          },
          "metadata": {},
          "execution_count": 8
        }
      ]
    },
    {
      "cell_type": "code",
      "source": [
        "model.summary()"
      ],
      "metadata": {
        "colab": {
          "base_uri": "https://localhost:8080/"
        },
        "id": "unYuFHxmgCs_",
        "outputId": "32adde7c-5cfb-4499-db18-02ba457577e4"
      },
      "execution_count": null,
      "outputs": [
        {
          "output_type": "stream",
          "name": "stdout",
          "text": [
            "Model: \"sequential_1\"\n",
            "_________________________________________________________________\n",
            " Layer (type)                Output Shape              Param #   \n",
            "=================================================================\n",
            " dense_1 (Dense)             (None, 1)                 2         \n",
            "                                                                 \n",
            "=================================================================\n",
            "Total params: 2\n",
            "Trainable params: 2\n",
            "Non-trainable params: 0\n",
            "_________________________________________________________________\n"
          ]
        }
      ]
    },
    {
      "cell_type": "markdown",
      "source": [
        " ## Evaluating a model\n",
        "\n",
        " In practice, a typical workflow you will go through when building neural networks looks like\n",
        "\n",
        " ```\n",
        " Build a model -> fit it -> evaluate it -> tweak the model -> fit it -> evaluate it -> tweak the model -> .....\n",
        " ```\n",
        "\n",
        "While evaluating a model, 3 most important words are:\n",
        "\n",
        "> Visualize, visualize, visualize \n",
        "\n",
        "It's a good idea to visualize \n",
        "\n",
        "* The data - What data are we working with? What does the data look like? \n",
        "* The model itself - what does our model look like\n",
        "* The training of a model - How does a model perform as it is learning?\n",
        "* The predictions of the model -How do the predictions match up against the ground truth (the original labels)\n"
      ],
      "metadata": {
        "id": "VsRzvR7XkwmE"
      }
    },
    {
      "cell_type": "code",
      "source": [
        "# Make a bigger dataset\n",
        "X = tf.range(-100, 100, 4)\n",
        "y = X + 10"
      ],
      "metadata": {
        "id": "ocajkoe2pmEC"
      },
      "execution_count": null,
      "outputs": []
    },
    {
      "cell_type": "code",
      "source": [
        "plt.scatter(X,y)"
      ],
      "metadata": {
        "colab": {
          "base_uri": "https://localhost:8080/",
          "height": 283
        },
        "id": "esSMSMSLpvbJ",
        "outputId": "50462fac-37f9-41eb-a242-532ed300d7f9"
      },
      "execution_count": null,
      "outputs": [
        {
          "output_type": "execute_result",
          "data": {
            "text/plain": [
              "<matplotlib.collections.PathCollection at 0x7fb08f6e8e90>"
            ]
          },
          "metadata": {},
          "execution_count": 11
        },
        {
          "output_type": "display_data",
          "data": {
            "text/plain": [
              "<Figure size 432x288 with 1 Axes>"
            ],
            "image/png": "[encoded data removed]"
          },
          "metadata": {
            "needs_background": "light"
          }
        }
      ]
    },
    {
      "cell_type": "markdown",
      "source": [
        "### The 3 sets...\n",
        "\n",
        "```\n",
        " Build a model -> fit it -> evaluate it -> tweak the model -> fit it -> evaluate it -> tweak the model -> .....\n",
        "```\n",
        "\n",
        "* **Training Set** - The data that the model is trained on. It learns from this data - 70-80% of the total data\n",
        "* **Validation Set** - The model gets tweaked (\"tuned\") on this data. 10-15% of total data\n",
        "* **Test Set** - The model gets evaluated on this data. 10-15% of total data.\n"
      ],
      "metadata": {
        "id": "jdOo9CecpyD5"
      }
    },
    {
      "cell_type": "code",
      "source": [
        "# Get 80% of data as training set\n",
        "X_train = X[:40] # Get 40 rows out of 50 total (80% of the data)\n",
        "y_train = y[:40]\n",
        "\n",
        "# Get 10% of the data as test set\n",
        "X_test = tf.slice(X,begin=[39],size=[10])\n",
        "y_test = tf.slice(y,begin=[39],size=[10])\n",
        "\n",
        "len(X_train), len(y_train), len(X_test), len(y_test)"
      ],
      "metadata": {
        "colab": {
          "base_uri": "https://localhost:8080/"
        },
        "id": "hsSv7YCxqnNi",
        "outputId": "d3f11082-ddee-4650-ea19-2699aa2b22b7"
      },
      "execution_count": null,
      "outputs": [
        {
          "output_type": "execute_result",
          "data": {
            "text/plain": [
              "(40, 40, 10, 10)"
            ]
          },
          "metadata": {},
          "execution_count": 12
        }
      ]
    },
    {
      "cell_type": "markdown",
      "source": [
        "## Visualizing the data (for different sets)"
      ],
      "metadata": {
        "id": "TpXr_ZrQsuhf"
      }
    },
    {
      "cell_type": "code",
      "source": [
        "# Visualizing the data\n",
        "plt.figure(figsize=(10,7))\n",
        "\n",
        "# For the training data\n",
        "plt.scatter(X_train, y_train, c=\"blue\", label=\"Training data\")\n",
        "\n",
        "# For the test data\n",
        "plt.scatter(X_test, y_test, c=\"green\", label=\"Test data\")\n",
        "\n",
        "# Show legend\n",
        "plt.legend()"
      ],
      "metadata": {
        "colab": {
          "base_uri": "https://localhost:8080/",
          "height": 446
        },
        "id": "QKD5RkZbrSYx",
        "outputId": "79134a0e-5596-40bd-a4fc-65c6c8b263ad"
      },
      "execution_count": null,
      "outputs": [
        {
          "output_type": "execute_result",
          "data": {
            "text/plain": [
              "<matplotlib.legend.Legend at 0x7fb08f8274d0>"
            ]
          },
          "metadata": {},
          "execution_count": 13
        },
        {
          "output_type": "display_data",
          "data": {
            "text/plain": [
              "<Figure size 720x504 with 1 Axes>"
            ],
            "image/png": "[encoded data removed]"
          },
          "metadata": {
            "needs_background": "light"
          }
        }
      ]
    },
    {
      "cell_type": "markdown",
      "source": [
        "## Visualizing the model"
      ],
      "metadata": {
        "id": "DRY0D6mYsP1o"
      }
    },
    {
      "cell_type": "code",
      "source": [
        "# We are passing in 1 variable to the layer to get 1 output number\n",
        "X[0], y[0]"
      ],
      "metadata": {
        "colab": {
          "base_uri": "https://localhost:8080/"
        },
        "id": "M4PNxh4MtA_j",
        "outputId": "c037cea6-675b-4d89-ae82-725d6a251eeb"
      },
      "execution_count": null,
      "outputs": [
        {
          "output_type": "execute_result",
          "data": {
            "text/plain": [
              "(<tf.Tensor: shape=(), dtype=int32, numpy=-100>,\n",
              " <tf.Tensor: shape=(), dtype=int32, numpy=-90>)"
            ]
          },
          "metadata": {},
          "execution_count": 14
        }
      ]
    },
    {
      "cell_type": "code",
      "source": [
        "# Let's create our model with an input-shape so that it gets automatically built without specifically calling the fit() or build() function\n",
        "tf.random.set_seed(42)\n",
        "\n",
        "\n",
        "# 1. Creating the model\n",
        "model = tf.keras.Sequential([\n",
        "    tf.keras.layers.Dense(10, input_shape=[1], name=\"hidden_layer_1\"),\n",
        "    tf.keras.layers.Dense(1, input_shape=[10], name=\"hidden_layer_2\"),\n",
        "], name=\"deep_model_1\")\n",
        "\n",
        "# 2. Compiling the model\n",
        "model.compile(\n",
        "    loss = tf.keras.losses.mae,\n",
        "    optimizer = tf.keras.optimizers.SGD(),\n",
        "    metrics = [\"mae\"]\n",
        ")"
      ],
      "metadata": {
        "id": "jblHTTdFuMKY"
      },
      "execution_count": null,
      "outputs": []
    },
    {
      "cell_type": "code",
      "source": [
        "model.summary()"
      ],
      "metadata": {
        "colab": {
          "base_uri": "https://localhost:8080/"
        },
        "id": "jpkwQKHBulvA",
        "outputId": "f276ce7a-c12b-4bf7-a4b5-7f9975670e4e"
      },
      "execution_count": null,
      "outputs": [
        {
          "output_type": "stream",
          "name": "stdout",
          "text": [
            "Model: \"deep_model_1\"\n",
            "_________________________________________________________________\n",
            " Layer (type)                Output Shape              Param #   \n",
            "=================================================================\n",
            " hidden_layer_1 (Dense)      (None, 10)                20        \n",
            "                                                                 \n",
            " hidden_layer_2 (Dense)      (None, 1)                 11        \n",
            "                                                                 \n",
            "=================================================================\n",
            "Total params: 31\n",
            "Trainable params: 31\n",
            "Non-trainable params: 0\n",
            "_________________________________________________________________\n"
          ]
        }
      ]
    },
    {
      "cell_type": "markdown",
      "source": [
        "* Total params - The total number of weights (theta values) in the model\n",
        "* Trainable params - The number of parameters that are updated when the model is training\n",
        "* Non-trainable params - The number of parameters that are not updated when the model is training. Typically happens when we freeze the value of certain parameters when we bring in an already learnt model during **transfer learning** \n",
        "\n",
        "\n",
        "📖 Resource - for more understanding on types of parameters - check out MIT's deep learning video"
      ],
      "metadata": {
        "id": "b4C2N9vvum3-"
      }
    },
    {
      "cell_type": "code",
      "source": [
        "# Let's fit our model to training data\n",
        "# Set the \"verbose\" argument to decide whether you look at your model train or not\n",
        "model.fit(X_train, y_train, epochs=100, verbose=1)"
      ],
      "metadata": {
        "colab": {
          "base_uri": "https://localhost:8080/"
        },
        "id": "HDTob6UxvCqT",
        "outputId": "c90533ec-9b47-4221-bbf8-0dee722256b8"
      },
      "execution_count": null,
      "outputs": [
        {
          "output_type": "stream",
          "name": "stdout",
          "text": [
            "Epoch 1/100\n",
            "2/2 [==============================] - 0s 12ms/step - loss: 27.4058 - mae: 27.4058\n",
            "Epoch 2/100\n",
            "2/2 [==============================] - 0s 7ms/step - loss: 24.6339 - mae: 24.6339\n",
            "Epoch 3/100\n",
            "2/2 [==============================] - 0s 7ms/step - loss: 29.8935 - mae: 29.8935\n",
            "Epoch 4/100\n",
            "2/2 [==============================] - 0s 7ms/step - loss: 27.4055 - mae: 27.4055\n",
            "Epoch 5/100\n",
            "2/2 [==============================] - 0s 8ms/step - loss: 14.9463 - mae: 14.9463\n",
            "Epoch 6/100\n",
            "2/2 [==============================] - 0s 8ms/step - loss: 11.8819 - mae: 11.8819\n",
            "Epoch 7/100\n",
            "2/2 [==============================] - 0s 15ms/step - loss: 11.1988 - mae: 11.1988\n",
            "Epoch 8/100\n",
            "2/2 [==============================] - 0s 10ms/step - loss: 11.0910 - mae: 11.0910\n",
            "Epoch 9/100\n",
            "2/2 [==============================] - 0s 7ms/step - loss: 40.4763 - mae: 40.4763\n",
            "Epoch 10/100\n",
            "2/2 [==============================] - 0s 6ms/step - loss: 27.8687 - mae: 27.8687\n",
            "Epoch 11/100\n",
            "2/2 [==============================] - 0s 7ms/step - loss: 10.2473 - mae: 10.2473\n",
            "Epoch 12/100\n",
            "2/2 [==============================] - 0s 7ms/step - loss: 25.2803 - mae: 25.2803\n",
            "Epoch 13/100\n",
            "2/2 [==============================] - 0s 8ms/step - loss: 16.9897 - mae: 16.9897\n",
            "Epoch 14/100\n",
            "2/2 [==============================] - 0s 8ms/step - loss: 25.9217 - mae: 25.9217\n",
            "Epoch 15/100\n",
            "2/2 [==============================] - 0s 6ms/step - loss: 17.9948 - mae: 17.9948\n",
            "Epoch 16/100\n",
            "2/2 [==============================] - 0s 7ms/step - loss: 7.3510 - mae: 7.3510\n",
            "Epoch 17/100\n",
            "2/2 [==============================] - 0s 7ms/step - loss: 10.8636 - mae: 10.8636\n",
            "Epoch 18/100\n",
            "2/2 [==============================] - 0s 7ms/step - loss: 19.5304 - mae: 19.5304\n",
            "Epoch 19/100\n",
            "2/2 [==============================] - 0s 8ms/step - loss: 10.3469 - mae: 10.3469\n",
            "Epoch 20/100\n",
            "2/2 [==============================] - 0s 9ms/step - loss: 17.6985 - mae: 17.6985\n",
            "Epoch 21/100\n",
            "2/2 [==============================] - 0s 8ms/step - loss: 15.8985 - mae: 15.8985\n",
            "Epoch 22/100\n",
            "2/2 [==============================] - 0s 7ms/step - loss: 14.1991 - mae: 14.1991\n",
            "Epoch 23/100\n",
            "2/2 [==============================] - 0s 9ms/step - loss: 8.7720 - mae: 8.7720\n",
            "Epoch 24/100\n",
            "2/2 [==============================] - 0s 9ms/step - loss: 11.0570 - mae: 11.0570\n",
            "Epoch 25/100\n",
            "2/2 [==============================] - 0s 8ms/step - loss: 12.6838 - mae: 12.6838\n",
            "Epoch 26/100\n",
            "2/2 [==============================] - 0s 7ms/step - loss: 26.1877 - mae: 26.1877\n",
            "Epoch 27/100\n",
            "2/2 [==============================] - 0s 8ms/step - loss: 11.7432 - mae: 11.7432\n",
            "Epoch 28/100\n",
            "2/2 [==============================] - 0s 8ms/step - loss: 22.8730 - mae: 22.8730\n",
            "Epoch 29/100\n",
            "2/2 [==============================] - 0s 13ms/step - loss: 9.2459 - mae: 9.2459\n",
            "Epoch 30/100\n",
            "2/2 [==============================] - 0s 9ms/step - loss: 29.2641 - mae: 29.2641\n",
            "Epoch 31/100\n",
            "2/2 [==============================] - 0s 12ms/step - loss: 53.0224 - mae: 53.0224\n",
            "Epoch 32/100\n",
            "2/2 [==============================] - 0s 12ms/step - loss: 11.9951 - mae: 11.9951\n",
            "Epoch 33/100\n",
            "2/2 [==============================] - 0s 9ms/step - loss: 15.6357 - mae: 15.6357\n",
            "Epoch 34/100\n",
            "2/2 [==============================] - 0s 13ms/step - loss: 12.6925 - mae: 12.6925\n",
            "Epoch 35/100\n",
            "2/2 [==============================] - 0s 6ms/step - loss: 9.2398 - mae: 9.2398\n",
            "Epoch 36/100\n",
            "2/2 [==============================] - 0s 7ms/step - loss: 16.6497 - mae: 16.6497\n",
            "Epoch 37/100\n",
            "2/2 [==============================] - 0s 8ms/step - loss: 11.0382 - mae: 11.0382\n",
            "Epoch 38/100\n",
            "2/2 [==============================] - 0s 13ms/step - loss: 18.1634 - mae: 18.1634\n",
            "Epoch 39/100\n",
            "2/2 [==============================] - 0s 11ms/step - loss: 19.1013 - mae: 19.1013\n",
            "Epoch 40/100\n",
            "2/2 [==============================] - 0s 17ms/step - loss: 20.4324 - mae: 20.4324\n",
            "Epoch 41/100\n",
            "2/2 [==============================] - 0s 8ms/step - loss: 14.9102 - mae: 14.9102\n",
            "Epoch 42/100\n",
            "2/2 [==============================] - 0s 6ms/step - loss: 12.2809 - mae: 12.2809\n",
            "Epoch 43/100\n",
            "2/2 [==============================] - 0s 15ms/step - loss: 10.7333 - mae: 10.7333\n",
            "Epoch 44/100\n",
            "2/2 [==============================] - 0s 11ms/step - loss: 23.0260 - mae: 23.0260\n",
            "Epoch 45/100\n",
            "2/2 [==============================] - 0s 8ms/step - loss: 10.3897 - mae: 10.3897\n",
            "Epoch 46/100\n",
            "2/2 [==============================] - 0s 6ms/step - loss: 11.7904 - mae: 11.7904\n",
            "Epoch 47/100\n",
            "2/2 [==============================] - 0s 15ms/step - loss: 9.6438 - mae: 9.6438\n",
            "Epoch 48/100\n",
            "2/2 [==============================] - 0s 12ms/step - loss: 17.2335 - mae: 17.2335\n",
            "Epoch 49/100\n",
            "2/2 [==============================] - 0s 9ms/step - loss: 9.5729 - mae: 9.5729\n",
            "Epoch 50/100\n",
            "2/2 [==============================] - 0s 8ms/step - loss: 13.8185 - mae: 13.8185\n",
            "Epoch 51/100\n",
            "2/2 [==============================] - 0s 8ms/step - loss: 11.5958 - mae: 11.5958\n",
            "Epoch 52/100\n",
            "2/2 [==============================] - 0s 7ms/step - loss: 30.5538 - mae: 30.5538\n",
            "Epoch 53/100\n",
            "2/2 [==============================] - 0s 15ms/step - loss: 14.3541 - mae: 14.3541\n",
            "Epoch 54/100\n",
            "2/2 [==============================] - 0s 13ms/step - loss: 23.9713 - mae: 23.9713\n",
            "Epoch 55/100\n",
            "2/2 [==============================] - 0s 9ms/step - loss: 23.1938 - mae: 23.1938\n",
            "Epoch 56/100\n",
            "2/2 [==============================] - 0s 10ms/step - loss: 10.8837 - mae: 10.8837\n",
            "Epoch 57/100\n",
            "2/2 [==============================] - 0s 8ms/step - loss: 12.7445 - mae: 12.7445\n",
            "Epoch 58/100\n",
            "2/2 [==============================] - 0s 10ms/step - loss: 9.5995 - mae: 9.5995\n",
            "Epoch 59/100\n",
            "2/2 [==============================] - 0s 10ms/step - loss: 12.5172 - mae: 12.5172\n",
            "Epoch 60/100\n",
            "2/2 [==============================] - 0s 8ms/step - loss: 12.3200 - mae: 12.3200\n",
            "Epoch 61/100\n",
            "2/2 [==============================] - 0s 8ms/step - loss: 17.4604 - mae: 17.4604\n",
            "Epoch 62/100\n",
            "2/2 [==============================] - 0s 9ms/step - loss: 10.6052 - mae: 10.6052\n",
            "Epoch 63/100\n",
            "2/2 [==============================] - 0s 9ms/step - loss: 10.4893 - mae: 10.4893\n",
            "Epoch 64/100\n",
            "2/2 [==============================] - 0s 10ms/step - loss: 24.8450 - mae: 24.8450\n",
            "Epoch 65/100\n",
            "2/2 [==============================] - 0s 9ms/step - loss: 10.6761 - mae: 10.6761\n",
            "Epoch 66/100\n",
            "2/2 [==============================] - 0s 7ms/step - loss: 21.7809 - mae: 21.7809\n",
            "Epoch 67/100\n",
            "2/2 [==============================] - 0s 6ms/step - loss: 10.7136 - mae: 10.7136\n",
            "Epoch 68/100\n",
            "2/2 [==============================] - 0s 6ms/step - loss: 10.6397 - mae: 10.6397\n",
            "Epoch 69/100\n",
            "2/2 [==============================] - 0s 6ms/step - loss: 22.6914 - mae: 22.6914\n",
            "Epoch 70/100\n",
            "2/2 [==============================] - 0s 5ms/step - loss: 9.3316 - mae: 9.3316\n",
            "Epoch 71/100\n",
            "2/2 [==============================] - 0s 6ms/step - loss: 15.4355 - mae: 15.4355\n",
            "Epoch 72/100\n",
            "2/2 [==============================] - 0s 7ms/step - loss: 6.7437 - mae: 6.7437\n",
            "Epoch 73/100\n",
            "2/2 [==============================] - 0s 8ms/step - loss: 11.6891 - mae: 11.6891\n",
            "Epoch 74/100\n",
            "2/2 [==============================] - 0s 7ms/step - loss: 24.0400 - mae: 24.0400\n",
            "Epoch 75/100\n",
            "2/2 [==============================] - 0s 7ms/step - loss: 9.5896 - mae: 9.5896\n",
            "Epoch 76/100\n",
            "2/2 [==============================] - 0s 9ms/step - loss: 12.4371 - mae: 12.4371\n",
            "Epoch 77/100\n",
            "2/2 [==============================] - 0s 7ms/step - loss: 16.6488 - mae: 16.6488\n",
            "Epoch 78/100\n",
            "2/2 [==============================] - 0s 5ms/step - loss: 9.0614 - mae: 9.0614\n",
            "Epoch 79/100\n",
            "2/2 [==============================] - 0s 13ms/step - loss: 23.9675 - mae: 23.9675\n",
            "Epoch 80/100\n",
            "2/2 [==============================] - 0s 11ms/step - loss: 26.7463 - mae: 26.7463\n",
            "Epoch 81/100\n",
            "2/2 [==============================] - 0s 11ms/step - loss: 11.6714 - mae: 11.6714\n",
            "Epoch 82/100\n",
            "2/2 [==============================] - 0s 14ms/step - loss: 12.0228 - mae: 12.0228\n",
            "Epoch 83/100\n",
            "2/2 [==============================] - 0s 14ms/step - loss: 17.4218 - mae: 17.4218\n",
            "Epoch 84/100\n",
            "2/2 [==============================] - 0s 14ms/step - loss: 7.2629 - mae: 7.2629\n",
            "Epoch 85/100\n",
            "2/2 [==============================] - 0s 15ms/step - loss: 14.9650 - mae: 14.9650\n",
            "Epoch 86/100\n",
            "2/2 [==============================] - 0s 9ms/step - loss: 15.2862 - mae: 15.2862\n",
            "Epoch 87/100\n",
            "2/2 [==============================] - 0s 9ms/step - loss: 19.1086 - mae: 19.1086\n",
            "Epoch 88/100\n",
            "2/2 [==============================] - 0s 8ms/step - loss: 29.8228 - mae: 29.8228\n",
            "Epoch 89/100\n",
            "2/2 [==============================] - 0s 10ms/step - loss: 10.1742 - mae: 10.1742\n",
            "Epoch 90/100\n",
            "2/2 [==============================] - 0s 12ms/step - loss: 21.5240 - mae: 21.5240\n",
            "Epoch 91/100\n",
            "2/2 [==============================] - 0s 14ms/step - loss: 10.5716 - mae: 10.5716\n",
            "Epoch 92/100\n",
            "2/2 [==============================] - 0s 7ms/step - loss: 18.3977 - mae: 18.3977\n",
            "Epoch 93/100\n",
            "2/2 [==============================] - 0s 7ms/step - loss: 7.4138 - mae: 7.4138\n",
            "Epoch 94/100\n",
            "2/2 [==============================] - 0s 6ms/step - loss: 17.7380 - mae: 17.7380\n",
            "Epoch 95/100\n",
            "2/2 [==============================] - 0s 6ms/step - loss: 11.1144 - mae: 11.1144\n",
            "Epoch 96/100\n",
            "2/2 [==============================] - 0s 5ms/step - loss: 19.4346 - mae: 19.4346\n",
            "Epoch 97/100\n",
            "2/2 [==============================] - 0s 7ms/step - loss: 12.1593 - mae: 12.1593\n",
            "Epoch 98/100\n",
            "2/2 [==============================] - 0s 14ms/step - loss: 11.5653 - mae: 11.5653\n",
            "Epoch 99/100\n",
            "2/2 [==============================] - 0s 9ms/step - loss: 13.8827 - mae: 13.8827\n",
            "Epoch 100/100\n",
            "2/2 [==============================] - 0s 6ms/step - loss: 20.2277 - mae: 20.2277\n"
          ]
        },
        {
          "output_type": "execute_result",
          "data": {
            "text/plain": [
              "<keras.callbacks.History at 0x7fb08f5d3190>"
            ]
          },
          "metadata": {},
          "execution_count": 18
        }
      ]
    },
    {
      "cell_type": "code",
      "source": [
        "model.summary()"
      ],
      "metadata": {
        "colab": {
          "base_uri": "https://localhost:8080/"
        },
        "id": "Q_xqxJuXvdcZ",
        "outputId": "d060270e-c595-46ff-c0d4-272da4cdca00"
      },
      "execution_count": null,
      "outputs": [
        {
          "output_type": "stream",
          "name": "stdout",
          "text": [
            "Model: \"deep_model_1\"\n",
            "_________________________________________________________________\n",
            " Layer (type)                Output Shape              Param #   \n",
            "=================================================================\n",
            " hidden_layer_1 (Dense)      (None, 10)                20        \n",
            "                                                                 \n",
            " hidden_layer_2 (Dense)      (None, 1)                 11        \n",
            "                                                                 \n",
            "=================================================================\n",
            "Total params: 31\n",
            "Trainable params: 31\n",
            "Non-trainable params: 0\n",
            "_________________________________________________________________\n"
          ]
        }
      ]
    },
    {
      "cell_type": "code",
      "source": [
        "from tensorflow.keras.utils import plot_model\n",
        "\n",
        "plot_model(model=model, show_shapes=True)"
      ],
      "metadata": {
        "colab": {
          "base_uri": "https://localhost:8080/",
          "height": 312
        },
        "id": "GBDPPDduv2Zd",
        "outputId": "13b5a1a8-440c-4a75-ef1a-61ef9550c4ba"
      },
      "execution_count": null,
      "outputs": [
        {
          "output_type": "execute_result",
          "data": {
            "image/png": "[encoded data removed]",
            "text/plain": [
              "<IPython.core.display.Image object>"
            ]
          },
          "metadata": {},
          "execution_count": 20
        }
      ]
    },
    {
      "cell_type": "markdown",
      "source": [
        "### Visualizing our model's predictions\n",
        "\n",
        "To visualize our model's predictions, it's a good idea to plot them against ground truth values\n",
        "\n",
        "Usually we see plots of the from `y_test` or `y_true` vs `y_pred` (ground truth vs model)"
      ],
      "metadata": {
        "id": "0e96-VMIv96R"
      }
    },
    {
      "cell_type": "code",
      "source": [
        "y_pred = model.predict(X_test)\n",
        "y_pred"
      ],
      "metadata": {
        "colab": {
          "base_uri": "https://localhost:8080/"
        },
        "id": "mfL_AEFwWtma",
        "outputId": "88e37e0f-79e1-4f70-ed1d-7ac5b97c55e5"
      },
      "execution_count": null,
      "outputs": [
        {
          "output_type": "stream",
          "name": "stdout",
          "text": [
            "1/1 [==============================] - 0s 130ms/step\n"
          ]
        },
        {
          "output_type": "execute_result",
          "data": {
            "text/plain": [
              "array([[ 65.96446 ],\n",
              "       [ 70.552185],\n",
              "       [ 75.13991 ],\n",
              "       [ 79.72764 ],\n",
              "       [ 84.315346],\n",
              "       [ 88.90308 ],\n",
              "       [ 93.49081 ],\n",
              "       [ 98.07852 ],\n",
              "       [102.666245],\n",
              "       [107.253975]], dtype=float32)"
            ]
          },
          "metadata": {},
          "execution_count": 23
        }
      ]
    },
    {
      "cell_type": "code",
      "source": [
        " def plot_predictions(\n",
        "     train_data = X_train,\n",
        "     train_labels = y_train,\n",
        "     test_data = X_test,\n",
        "     test_labels = y_test,\n",
        "     predictions = y_pred\n",
        " ):\n",
        "    plt.figure(figsize=(10,7))\n",
        "\n",
        "    # Plot the training data\n",
        "    plt.scatter(X_train, y_train, c=\"b\", label=\"Training data\")\n",
        "\n",
        "\n",
        "    # Plot the test data\n",
        "    plt.scatter(X_test, y_test, c=\"g\", label=\"Test data\")\n",
        "\n",
        "    # Plot the predictions\n",
        "    plt.scatter(X_test, predictions, c=\"r\", label=\"Predictions\")\n",
        "\n",
        "    # Show the legend\n",
        "    plt.legend()"
      ],
      "metadata": {
        "id": "jpyb0tP2YpN9"
      },
      "execution_count": null,
      "outputs": []
    },
    {
      "cell_type": "code",
      "source": [
        "plot_predictions(\n",
        "    train_data = X_train,\n",
        "    train_labels = y_train,\n",
        "    test_data = X_test,\n",
        "    test_labels = y_test,\n",
        "    predictions = y_pred\n",
        ")"
      ],
      "metadata": {
        "colab": {
          "base_uri": "https://localhost:8080/",
          "height": 428
        },
        "id": "YUV45CrBY2sS",
        "outputId": "f9bb7eec-3e8f-461b-df50-9d7f97f9a9b2"
      },
      "execution_count": null,
      "outputs": [
        {
          "output_type": "display_data",
          "data": {
            "text/plain": [
              "<Figure size 720x504 with 1 Axes>"
            ],
            "image/png": "[encoded data removed]"
          },
          "metadata": {
            "needs_background": "light"
          }
        }
      ]
    },
    {
      "cell_type": "markdown",
      "source": [
        "## Evaluating our model's predictions with regression evaluation metrics\n",
        "\n",
        "\n",
        "Depending on the problem we're working on, we can use different evaluation metrics to evaluate our model's performance\n",
        "\n",
        "Since we're working with a regression problem, 2 common evaluation metrics include\n",
        "\n",
        "* MAE - Mean average error - On average, how wrong is each prediction by my model?\n",
        "* MSE - Mean squared error - Square of the average errors\n",
        "\n",
        "![regression eval metrics](https://testbucket1841.s3.ap-south-1.amazonaws.com/regress-eval-metrics.png)\n",
        "\n"
      ],
      "metadata": {
        "id": "1lGs5eZUZEHM"
      }
    },
    {
      "cell_type": "code",
      "source": [
        "# Evaluate the model on the test\n",
        "model.evaluate(X_test, y_test)"
      ],
      "metadata": {
        "colab": {
          "base_uri": "https://localhost:8080/"
        },
        "id": "VdqK_SWcZsrV",
        "outputId": "56a0fb82-473b-4e22-eedc-c6a9e0867604"
      },
      "execution_count": null,
      "outputs": [
        {
          "output_type": "stream",
          "name": "stdout",
          "text": [
            "1/1 [==============================] - 0s 159ms/step - loss: 2.6163 - mae: 2.6163\n"
          ]
        },
        {
          "output_type": "execute_result",
          "data": {
            "text/plain": [
              "[2.6163222789764404, 2.6163222789764404]"
            ]
          },
          "metadata": {},
          "execution_count": 27
        }
      ]
    },
    {
      "cell_type": "code",
      "source": [
        "tf.squeeze(y_pred)"
      ],
      "metadata": {
        "colab": {
          "base_uri": "https://localhost:8080/"
        },
        "id": "ln_YCCVtgice",
        "outputId": "54c6d3b2-65c2-4844-99ee-faf96b8a8629"
      },
      "execution_count": null,
      "outputs": [
        {
          "output_type": "execute_result",
          "data": {
            "text/plain": [
              "<tf.Tensor: shape=(10,), dtype=float32, numpy=\n",
              "array([ 65.96446 ,  70.552185,  75.13991 ,  79.72764 ,  84.315346,\n",
              "        88.90308 ,  93.49081 ,  98.07852 , 102.666245, 107.253975],\n",
              "      dtype=float32)>"
            ]
          },
          "metadata": {},
          "execution_count": 82
        }
      ]
    },
    {
      "cell_type": "code",
      "source": [
        "# Calculate the mean square absolute error\n",
        "mae = tf.keras.metrics.mean_absolute_error(\n",
        "    y_test, tf.squeeze(y_pred)\n",
        ")\n",
        "mae"
      ],
      "metadata": {
        "colab": {
          "base_uri": "https://localhost:8080/"
        },
        "id": "K09Onw4nbgmW",
        "outputId": "cf54e973-05fb-494f-f3db-bccae154e1d6"
      },
      "execution_count": null,
      "outputs": [
        {
          "output_type": "execute_result",
          "data": {
            "text/plain": [
              "<tf.Tensor: shape=(), dtype=float32, numpy=2.6163247>"
            ]
          },
          "metadata": {},
          "execution_count": 141
        }
      ]
    },
    {
      "cell_type": "code",
      "source": [
        "def calculate_mean_squared_absolute_error(y_test = y_test, y_pred = y_pred):\n",
        "    difference = tf.subtract(tf.cast(y_test, dtype=tf.int32),tf.cast(y_pred, dtype=tf.int32))\n",
        "    square_difference = tf.math.square(difference)\n",
        "    msd = tf.math.reduce_mean(square_difference, axis=0)\n",
        "    return msd"
      ],
      "metadata": {
        "id": "RqTmA1hGbukS"
      },
      "execution_count": null,
      "outputs": []
    },
    {
      "cell_type": "code",
      "source": [
        "mse = calculate_mean_squared_absolute_error(y_test, tf.squeeze(y_pred))\n",
        "mse"
      ],
      "metadata": {
        "colab": {
          "base_uri": "https://localhost:8080/"
        },
        "id": "GSPR_-UqcI6Z",
        "outputId": "21a7d357-3c4b-4329-b141-15056c1ecc7b"
      },
      "execution_count": null,
      "outputs": [
        {
          "output_type": "execute_result",
          "data": {
            "text/plain": [
              "<tf.Tensor: shape=(), dtype=int32, numpy=7>"
            ]
          },
          "metadata": {},
          "execution_count": 142
        }
      ]
    },
    {
      "cell_type": "code",
      "source": [
        "mse = tf.keras.metrics.mean_squared_error(\n",
        "    y_true=y_test, y_pred = tf.squeeze(y_pred)\n",
        ")\n",
        "mse"
      ],
      "metadata": {
        "colab": {
          "base_uri": "https://localhost:8080/"
        },
        "id": "h6QW1gsRc5pf",
        "outputId": "b30226be-f76c-4ca2-ca4d-84baace8442c"
      },
      "execution_count": null,
      "outputs": [
        {
          "output_type": "execute_result",
          "data": {
            "text/plain": [
              "<tf.Tensor: shape=(), dtype=float32, numpy=9.657718>"
            ]
          },
          "metadata": {},
          "execution_count": 143
        }
      ]
    },
    {
      "cell_type": "code",
      "source": [
        "# Make some reusable functions for mse & mae\n",
        "\n",
        "def mse(y_true, y_pred):\n",
        "    return tf.keras.metrics.mean_squared_error(\n",
        "        y_true, y_pred = tf.squeeze(y_pred)\n",
        "    )\n",
        "\n",
        "def mae(y_true, y_pred):\n",
        "    return tf.keras.metrics.mean_absolute_error(\n",
        "        y_true, y_pred = tf.squeeze(y_pred)\n",
        "    )\n"
      ],
      "metadata": {
        "id": "fBUajeBgdlt1"
      },
      "execution_count": null,
      "outputs": []
    },
    {
      "cell_type": "markdown",
      "source": [
        "## Running experiments for improving our model\n",
        "\n",
        "\n",
        "```\n",
        "Build the model -> fit it -> evaluate it -> tweak it -> fit it -> evaluate it -> tweak it -> .....\n",
        "```\n",
        "\n",
        "\n",
        "Approaches to improve accuracy\n",
        "\n",
        "1. Get more data -> Get a larger dataset that we can train our model on\n",
        "2. Make model larger -> Use more hidden layers or increase number of neurons in each hidden layer\n",
        "3. Train for longer -> Give your model more of a chance to find patterns in the dataset\n",
        "\n",
        "Let's do 3 modelling experiments\n",
        "\n",
        "1. `model_1` : Same as original model - 1 layer, 100 epochs\n",
        "2. `model_2` : 2 layers, trained for 100 epochs\n",
        "3. `model_3` : 2 layers, trained for 500 epochs"
      ],
      "metadata": {
        "id": "reOkjDECkKNv"
      }
    },
    {
      "cell_type": "code",
      "source": [
        "# 1. Create the model\n",
        "model_1 = tf.keras.Sequential([\n",
        "    tf.keras.layers.Dense(1, input_shape=[1])\n",
        "])\n",
        "\n",
        "# 2. Compile the model\n",
        "model_1.compile(\n",
        "    loss = tf.keras.losses.mae,\n",
        "    optimizer = tf.keras.optimizers.SGD(),\n",
        "    metrics = [\"mae\"]\n",
        ")\n",
        "\n",
        "# 3. Train the model\n",
        "model_1.fit(X_train, y_train, epochs = 100)"
      ],
      "metadata": {
        "colab": {
          "base_uri": "https://localhost:8080/"
        },
        "id": "-JnKISHjmMbX",
        "outputId": "3cba00f2-5f7d-48c6-8873-df6a25abc853"
      },
      "execution_count": null,
      "outputs": [
        {
          "output_type": "stream",
          "name": "stdout",
          "text": [
            "Epoch 1/100\n",
            "2/2 [==============================] - 0s 7ms/step - loss: 20.6477 - mae: 20.6477\n",
            "Epoch 2/100\n",
            "2/2 [==============================] - 0s 7ms/step - loss: 9.5278 - mae: 9.5278\n",
            "Epoch 3/100\n",
            "2/2 [==============================] - 0s 6ms/step - loss: 11.2127 - mae: 11.2127\n",
            "Epoch 4/100\n",
            "2/2 [==============================] - 0s 10ms/step - loss: 9.6034 - mae: 9.6034\n",
            "Epoch 5/100\n",
            "2/2 [==============================] - 0s 7ms/step - loss: 10.5184 - mae: 10.5184\n",
            "Epoch 6/100\n",
            "2/2 [==============================] - 0s 7ms/step - loss: 9.7389 - mae: 9.7389\n",
            "Epoch 7/100\n",
            "2/2 [==============================] - 0s 6ms/step - loss: 8.8284 - mae: 8.8284\n",
            "Epoch 8/100\n",
            "2/2 [==============================] - 0s 7ms/step - loss: 9.0662 - mae: 9.0662\n",
            "Epoch 9/100\n",
            "2/2 [==============================] - 0s 6ms/step - loss: 19.3971 - mae: 19.3971\n",
            "Epoch 10/100\n",
            "2/2 [==============================] - 0s 7ms/step - loss: 10.4734 - mae: 10.4734\n",
            "Epoch 11/100\n",
            "2/2 [==============================] - 0s 6ms/step - loss: 8.5380 - mae: 8.5380\n",
            "Epoch 12/100\n",
            "2/2 [==============================] - 0s 10ms/step - loss: 10.9682 - mae: 10.9682\n",
            "Epoch 13/100\n",
            "2/2 [==============================] - 0s 10ms/step - loss: 7.5696 - mae: 7.5696\n",
            "Epoch 14/100\n",
            "2/2 [==============================] - 0s 7ms/step - loss: 15.9642 - mae: 15.9642\n",
            "Epoch 15/100\n",
            "2/2 [==============================] - 0s 9ms/step - loss: 13.0409 - mae: 13.0409\n",
            "Epoch 16/100\n",
            "2/2 [==============================] - 0s 9ms/step - loss: 7.9317 - mae: 7.9317\n",
            "Epoch 17/100\n",
            "2/2 [==============================] - 0s 8ms/step - loss: 11.2403 - mae: 11.2403\n",
            "Epoch 18/100\n",
            "2/2 [==============================] - 0s 6ms/step - loss: 10.2725 - mae: 10.2725\n",
            "Epoch 19/100\n",
            "2/2 [==============================] - 0s 5ms/step - loss: 19.4889 - mae: 19.4889\n",
            "Epoch 20/100\n",
            "2/2 [==============================] - 0s 7ms/step - loss: 16.1428 - mae: 16.1428\n",
            "Epoch 21/100\n",
            "2/2 [==============================] - 0s 7ms/step - loss: 12.0438 - mae: 12.0438\n",
            "Epoch 22/100\n",
            "2/2 [==============================] - 0s 6ms/step - loss: 8.6438 - mae: 8.6438\n",
            "Epoch 23/100\n",
            "2/2 [==============================] - 0s 6ms/step - loss: 9.6735 - mae: 9.6735\n",
            "Epoch 24/100\n",
            "2/2 [==============================] - 0s 9ms/step - loss: 8.5756 - mae: 8.5756\n",
            "Epoch 25/100\n",
            "2/2 [==============================] - 0s 9ms/step - loss: 11.5715 - mae: 11.5715\n",
            "Epoch 26/100\n",
            "2/2 [==============================] - 0s 10ms/step - loss: 15.1573 - mae: 15.1573\n",
            "Epoch 27/100\n",
            "2/2 [==============================] - 0s 10ms/step - loss: 12.0446 - mae: 12.0446\n",
            "Epoch 28/100\n",
            "2/2 [==============================] - 0s 9ms/step - loss: 13.3362 - mae: 13.3362\n",
            "Epoch 29/100\n",
            "2/2 [==============================] - 0s 7ms/step - loss: 9.5961 - mae: 9.5961\n",
            "Epoch 30/100\n",
            "2/2 [==============================] - 0s 7ms/step - loss: 17.1179 - mae: 17.1179\n",
            "Epoch 31/100\n",
            "2/2 [==============================] - 0s 6ms/step - loss: 22.9349 - mae: 22.9349\n",
            "Epoch 32/100\n",
            "2/2 [==============================] - 0s 6ms/step - loss: 7.9117 - mae: 7.9117\n",
            "Epoch 33/100\n",
            "2/2 [==============================] - 0s 7ms/step - loss: 14.0915 - mae: 14.0915\n",
            "Epoch 34/100\n",
            "2/2 [==============================] - 0s 6ms/step - loss: 12.3271 - mae: 12.3271\n",
            "Epoch 35/100\n",
            "2/2 [==============================] - 0s 8ms/step - loss: 8.2716 - mae: 8.2716\n",
            "Epoch 36/100\n",
            "2/2 [==============================] - 0s 8ms/step - loss: 10.5023 - mae: 10.5023\n",
            "Epoch 37/100\n",
            "2/2 [==============================] - 0s 7ms/step - loss: 10.1426 - mae: 10.1426\n",
            "Epoch 38/100\n",
            "2/2 [==============================] - 0s 8ms/step - loss: 11.3519 - mae: 11.3519\n",
            "Epoch 39/100\n",
            "2/2 [==============================] - 0s 8ms/step - loss: 14.7141 - mae: 14.7141\n",
            "Epoch 40/100\n",
            "2/2 [==============================] - 0s 9ms/step - loss: 12.8447 - mae: 12.8447\n",
            "Epoch 41/100\n",
            "2/2 [==============================] - 0s 9ms/step - loss: 9.2296 - mae: 9.2296\n",
            "Epoch 42/100\n",
            "2/2 [==============================] - 0s 8ms/step - loss: 11.0264 - mae: 11.0264\n",
            "Epoch 43/100\n",
            "2/2 [==============================] - 0s 8ms/step - loss: 8.3346 - mae: 8.3346\n",
            "Epoch 44/100\n",
            "2/2 [==============================] - 0s 6ms/step - loss: 13.0910 - mae: 13.0910\n",
            "Epoch 45/100\n",
            "2/2 [==============================] - 0s 7ms/step - loss: 13.6300 - mae: 13.6300\n",
            "Epoch 46/100\n",
            "2/2 [==============================] - 0s 6ms/step - loss: 8.2573 - mae: 8.2573\n",
            "Epoch 47/100\n",
            "2/2 [==============================] - 0s 7ms/step - loss: 8.7394 - mae: 8.7394\n",
            "Epoch 48/100\n",
            "2/2 [==============================] - 0s 5ms/step - loss: 10.0460 - mae: 10.0460\n",
            "Epoch 49/100\n",
            "2/2 [==============================] - 0s 4ms/step - loss: 8.5250 - mae: 8.5250\n",
            "Epoch 50/100\n",
            "2/2 [==============================] - 0s 4ms/step - loss: 9.0346 - mae: 9.0346\n",
            "Epoch 51/100\n",
            "2/2 [==============================] - 0s 11ms/step - loss: 9.3781 - mae: 9.3781\n",
            "Epoch 52/100\n",
            "2/2 [==============================] - 0s 5ms/step - loss: 14.0623 - mae: 14.0623\n",
            "Epoch 53/100\n",
            "2/2 [==============================] - 0s 4ms/step - loss: 15.3899 - mae: 15.3899\n",
            "Epoch 54/100\n",
            "2/2 [==============================] - 0s 5ms/step - loss: 10.8990 - mae: 10.8990\n",
            "Epoch 55/100\n",
            "2/2 [==============================] - 0s 9ms/step - loss: 15.4215 - mae: 15.4215\n",
            "Epoch 56/100\n",
            "2/2 [==============================] - 0s 9ms/step - loss: 9.1156 - mae: 9.1156\n",
            "Epoch 57/100\n",
            "2/2 [==============================] - 0s 5ms/step - loss: 9.6973 - mae: 9.6973\n",
            "Epoch 58/100\n",
            "2/2 [==============================] - 0s 10ms/step - loss: 9.0021 - mae: 9.0021\n",
            "Epoch 59/100\n",
            "2/2 [==============================] - 0s 6ms/step - loss: 10.2379 - mae: 10.2379\n",
            "Epoch 60/100\n",
            "2/2 [==============================] - 0s 3ms/step - loss: 8.1639 - mae: 8.1639\n",
            "Epoch 61/100\n",
            "2/2 [==============================] - 0s 7ms/step - loss: 10.0306 - mae: 10.0306\n",
            "Epoch 62/100\n",
            "2/2 [==============================] - 0s 8ms/step - loss: 7.0334 - mae: 7.0334\n",
            "Epoch 63/100\n",
            "2/2 [==============================] - 0s 5ms/step - loss: 12.6693 - mae: 12.6693\n",
            "Epoch 64/100\n",
            "2/2 [==============================] - 0s 7ms/step - loss: 12.6126 - mae: 12.6126\n",
            "Epoch 65/100\n",
            "2/2 [==============================] - 0s 7ms/step - loss: 9.4361 - mae: 9.4361\n",
            "Epoch 66/100\n",
            "2/2 [==============================] - 0s 6ms/step - loss: 11.5012 - mae: 11.5012\n",
            "Epoch 67/100\n",
            "2/2 [==============================] - 0s 6ms/step - loss: 8.0362 - mae: 8.0362\n",
            "Epoch 68/100\n",
            "2/2 [==============================] - 0s 5ms/step - loss: 8.5637 - mae: 8.5637\n",
            "Epoch 69/100\n",
            "2/2 [==============================] - 0s 5ms/step - loss: 12.2592 - mae: 12.2592\n",
            "Epoch 70/100\n",
            "2/2 [==============================] - 0s 7ms/step - loss: 8.9562 - mae: 8.9562\n",
            "Epoch 71/100\n",
            "2/2 [==============================] - 0s 5ms/step - loss: 9.9321 - mae: 9.9321\n",
            "Epoch 72/100\n",
            "2/2 [==============================] - 0s 7ms/step - loss: 9.9698 - mae: 9.9698\n",
            "Epoch 73/100\n",
            "2/2 [==============================] - 0s 6ms/step - loss: 12.4430 - mae: 12.4430\n",
            "Epoch 74/100\n",
            "2/2 [==============================] - 0s 10ms/step - loss: 10.5592 - mae: 10.5592\n",
            "Epoch 75/100\n",
            "2/2 [==============================] - 0s 7ms/step - loss: 9.6295 - mae: 9.6295\n",
            "Epoch 76/100\n",
            "2/2 [==============================] - 0s 5ms/step - loss: 11.0969 - mae: 11.0969\n",
            "Epoch 77/100\n",
            "2/2 [==============================] - 0s 5ms/step - loss: 8.2780 - mae: 8.2780\n",
            "Epoch 78/100\n",
            "2/2 [==============================] - 0s 6ms/step - loss: 8.9714 - mae: 8.9714\n",
            "Epoch 79/100\n",
            "2/2 [==============================] - 0s 5ms/step - loss: 19.7696 - mae: 19.7696\n",
            "Epoch 80/100\n",
            "2/2 [==============================] - 0s 6ms/step - loss: 17.8272 - mae: 17.8272\n",
            "Epoch 81/100\n",
            "2/2 [==============================] - 0s 5ms/step - loss: 7.0675 - mae: 7.0675\n",
            "Epoch 82/100\n",
            "2/2 [==============================] - 0s 6ms/step - loss: 10.4080 - mae: 10.4080\n",
            "Epoch 83/100\n",
            "2/2 [==============================] - 0s 5ms/step - loss: 9.8329 - mae: 9.8329\n",
            "Epoch 84/100\n",
            "2/2 [==============================] - 0s 6ms/step - loss: 7.9276 - mae: 7.9276\n",
            "Epoch 85/100\n",
            "2/2 [==============================] - 0s 5ms/step - loss: 9.4345 - mae: 9.4345\n",
            "Epoch 86/100\n",
            "2/2 [==============================] - 0s 6ms/step - loss: 9.4803 - mae: 9.4803\n",
            "Epoch 87/100\n",
            "2/2 [==============================] - 0s 5ms/step - loss: 11.4227 - mae: 11.4227\n",
            "Epoch 88/100\n",
            "2/2 [==============================] - 0s 6ms/step - loss: 9.9207 - mae: 9.9207\n",
            "Epoch 89/100\n",
            "2/2 [==============================] - 0s 4ms/step - loss: 7.2456 - mae: 7.2456\n",
            "Epoch 90/100\n",
            "2/2 [==============================] - 0s 5ms/step - loss: 12.6790 - mae: 12.6790\n",
            "Epoch 91/100\n",
            "2/2 [==============================] - 0s 5ms/step - loss: 7.3017 - mae: 7.3017\n",
            "Epoch 92/100\n",
            "2/2 [==============================] - 0s 5ms/step - loss: 7.6640 - mae: 7.6640\n",
            "Epoch 93/100\n",
            "2/2 [==============================] - 0s 7ms/step - loss: 7.1122 - mae: 7.1122\n",
            "Epoch 94/100\n",
            "2/2 [==============================] - 0s 5ms/step - loss: 12.5278 - mae: 12.5278\n",
            "Epoch 95/100\n",
            "2/2 [==============================] - 0s 6ms/step - loss: 9.9032 - mae: 9.9032\n",
            "Epoch 96/100\n",
            "2/2 [==============================] - 0s 4ms/step - loss: 9.1393 - mae: 9.1393\n",
            "Epoch 97/100\n",
            "2/2 [==============================] - 0s 5ms/step - loss: 12.0931 - mae: 12.0931\n",
            "Epoch 98/100\n",
            "2/2 [==============================] - 0s 5ms/step - loss: 9.0497 - mae: 9.0497\n",
            "Epoch 99/100\n",
            "2/2 [==============================] - 0s 6ms/step - loss: 8.4954 - mae: 8.4954\n",
            "Epoch 100/100\n",
            "2/2 [==============================] - 0s 5ms/step - loss: 14.4750 - mae: 14.4750\n"
          ]
        },
        {
          "output_type": "execute_result",
          "data": {
            "text/plain": [
              "<keras.callbacks.History at 0x7fb089a92610>"
            ]
          },
          "metadata": {},
          "execution_count": 157
        }
      ]
    },
    {
      "cell_type": "code",
      "source": [
        "\n",
        "model_2 = tf.keras.Sequential([\n",
        "    tf.keras.layers.Dense(20, input_shape=[1]),\n",
        "    tf.keras.layers.Dense(1, input_shape=[20])\n",
        "])\n",
        "\n",
        "model_2.compile(\n",
        "    loss = tf.keras.losses.mae,\n",
        "    optimizer = tf.keras.optimizers.SGD(),\n",
        "    metrics = [\"mae\"]\n",
        ")\n",
        "\n",
        "\n",
        "model_2.fit(X_train, y_train, epochs=100)"
      ],
      "metadata": {
        "colab": {
          "base_uri": "https://localhost:8080/"
        },
        "id": "eZKZr5v5k6Qg",
        "outputId": "a7c15956-4bdd-41cb-8e4a-500736262996"
      },
      "execution_count": null,
      "outputs": [
        {
          "output_type": "stream",
          "name": "stdout",
          "text": [
            "Epoch 1/100\n",
            "2/2 [==============================] - 1s 9ms/step - loss: 29.7738 - mae: 29.7738\n",
            "Epoch 2/100\n",
            "2/2 [==============================] - 0s 5ms/step - loss: 26.7179 - mae: 26.7179\n",
            "Epoch 3/100\n",
            "2/2 [==============================] - 0s 10ms/step - loss: 30.3707 - mae: 30.3707\n",
            "Epoch 4/100\n",
            "2/2 [==============================] - 0s 6ms/step - loss: 16.5287 - mae: 16.5287\n",
            "Epoch 5/100\n",
            "2/2 [==============================] - 0s 8ms/step - loss: 22.6808 - mae: 22.6808\n",
            "Epoch 6/100\n",
            "2/2 [==============================] - 0s 7ms/step - loss: 11.0366 - mae: 11.0366\n",
            "Epoch 7/100\n",
            "2/2 [==============================] - 0s 5ms/step - loss: 12.0758 - mae: 12.0758\n",
            "Epoch 8/100\n",
            "2/2 [==============================] - 0s 6ms/step - loss: 10.9377 - mae: 10.9377\n",
            "Epoch 9/100\n",
            "2/2 [==============================] - 0s 6ms/step - loss: 38.0599 - mae: 38.0599\n",
            "Epoch 10/100\n",
            "2/2 [==============================] - 0s 6ms/step - loss: 25.6399 - mae: 25.6399\n",
            "Epoch 11/100\n",
            "2/2 [==============================] - 0s 5ms/step - loss: 10.2586 - mae: 10.2586\n",
            "Epoch 12/100\n",
            "2/2 [==============================] - 0s 7ms/step - loss: 25.3288 - mae: 25.3288\n",
            "Epoch 13/100\n",
            "2/2 [==============================] - 0s 7ms/step - loss: 17.0594 - mae: 17.0594\n",
            "Epoch 14/100\n",
            "2/2 [==============================] - 0s 8ms/step - loss: 26.0492 - mae: 26.0492\n",
            "Epoch 15/100\n",
            "2/2 [==============================] - 0s 6ms/step - loss: 18.0994 - mae: 18.0994\n",
            "Epoch 16/100\n",
            "2/2 [==============================] - 0s 6ms/step - loss: 7.8619 - mae: 7.8619\n",
            "Epoch 17/100\n",
            "2/2 [==============================] - 0s 7ms/step - loss: 22.2136 - mae: 22.2136\n",
            "Epoch 18/100\n",
            "2/2 [==============================] - 0s 7ms/step - loss: 10.8260 - mae: 10.8260\n",
            "Epoch 19/100\n",
            "2/2 [==============================] - 0s 7ms/step - loss: 10.7140 - mae: 10.7140\n",
            "Epoch 20/100\n",
            "2/2 [==============================] - 0s 7ms/step - loss: 12.0362 - mae: 12.0362\n",
            "Epoch 21/100\n",
            "2/2 [==============================] - 0s 6ms/step - loss: 20.1325 - mae: 20.1325\n",
            "Epoch 22/100\n",
            "2/2 [==============================] - 0s 7ms/step - loss: 13.7793 - mae: 13.7793\n",
            "Epoch 23/100\n",
            "2/2 [==============================] - 0s 9ms/step - loss: 9.5331 - mae: 9.5331\n",
            "Epoch 24/100\n",
            "2/2 [==============================] - 0s 8ms/step - loss: 11.8894 - mae: 11.8894\n",
            "Epoch 25/100\n",
            "2/2 [==============================] - 0s 7ms/step - loss: 16.1927 - mae: 16.1927\n",
            "Epoch 26/100\n",
            "2/2 [==============================] - 0s 8ms/step - loss: 16.3858 - mae: 16.3858\n",
            "Epoch 27/100\n",
            "2/2 [==============================] - 0s 9ms/step - loss: 11.5833 - mae: 11.5833\n",
            "Epoch 28/100\n",
            "2/2 [==============================] - 0s 7ms/step - loss: 29.9548 - mae: 29.9548\n",
            "Epoch 29/100\n",
            "2/2 [==============================] - 0s 12ms/step - loss: 9.2529 - mae: 9.2529\n",
            "Epoch 30/100\n",
            "2/2 [==============================] - 0s 17ms/step - loss: 30.5084 - mae: 30.5084\n",
            "Epoch 31/100\n",
            "2/2 [==============================] - 0s 12ms/step - loss: 55.4567 - mae: 55.4567\n",
            "Epoch 32/100\n",
            "2/2 [==============================] - 0s 14ms/step - loss: 9.7250 - mae: 9.7250\n",
            "Epoch 33/100\n",
            "2/2 [==============================] - 0s 9ms/step - loss: 12.3428 - mae: 12.3428\n",
            "Epoch 34/100\n",
            "2/2 [==============================] - 0s 9ms/step - loss: 24.6767 - mae: 24.6767\n",
            "Epoch 35/100\n",
            "2/2 [==============================] - 0s 11ms/step - loss: 11.9230 - mae: 11.9230\n",
            "Epoch 36/100\n",
            "2/2 [==============================] - 0s 10ms/step - loss: 22.1101 - mae: 22.1101\n",
            "Epoch 37/100\n",
            "2/2 [==============================] - 0s 9ms/step - loss: 17.5484 - mae: 17.5484\n",
            "Epoch 38/100\n",
            "2/2 [==============================] - 0s 6ms/step - loss: 10.7259 - mae: 10.7259\n",
            "Epoch 39/100\n",
            "2/2 [==============================] - 0s 9ms/step - loss: 11.2433 - mae: 11.2433\n",
            "Epoch 40/100\n",
            "2/2 [==============================] - 0s 11ms/step - loss: 18.2137 - mae: 18.2137\n",
            "Epoch 41/100\n",
            "2/2 [==============================] - 0s 6ms/step - loss: 10.4924 - mae: 10.4924\n",
            "Epoch 42/100\n",
            "2/2 [==============================] - 0s 7ms/step - loss: 7.8432 - mae: 7.8432\n",
            "Epoch 43/100\n",
            "2/2 [==============================] - 0s 8ms/step - loss: 14.2092 - mae: 14.2092\n",
            "Epoch 44/100\n",
            "2/2 [==============================] - 0s 29ms/step - loss: 24.9664 - mae: 24.9664\n",
            "Epoch 45/100\n",
            "2/2 [==============================] - 0s 6ms/step - loss: 10.9563 - mae: 10.9563\n",
            "Epoch 46/100\n",
            "2/2 [==============================] - 0s 9ms/step - loss: 13.0565 - mae: 13.0565\n",
            "Epoch 47/100\n",
            "2/2 [==============================] - 0s 6ms/step - loss: 10.4338 - mae: 10.4338\n",
            "Epoch 48/100\n",
            "2/2 [==============================] - 0s 5ms/step - loss: 17.1478 - mae: 17.1478\n",
            "Epoch 49/100\n",
            "2/2 [==============================] - 0s 10ms/step - loss: 9.6316 - mae: 9.6316\n",
            "Epoch 50/100\n",
            "2/2 [==============================] - 0s 6ms/step - loss: 13.9224 - mae: 13.9224\n",
            "Epoch 51/100\n",
            "2/2 [==============================] - 0s 5ms/step - loss: 11.6363 - mae: 11.6363\n",
            "Epoch 52/100\n",
            "2/2 [==============================] - 0s 16ms/step - loss: 30.8154 - mae: 30.8154\n",
            "Epoch 53/100\n",
            "2/2 [==============================] - 0s 13ms/step - loss: 14.4689 - mae: 14.4689\n",
            "Epoch 54/100\n",
            "2/2 [==============================] - 0s 9ms/step - loss: 24.1731 - mae: 24.1731\n",
            "Epoch 55/100\n",
            "2/2 [==============================] - 0s 11ms/step - loss: 23.4143 - mae: 23.4143\n",
            "Epoch 56/100\n",
            "2/2 [==============================] - 0s 9ms/step - loss: 10.9559 - mae: 10.9559\n",
            "Epoch 57/100\n",
            "2/2 [==============================] - 0s 7ms/step - loss: 12.8428 - mae: 12.8428\n",
            "Epoch 58/100\n",
            "2/2 [==============================] - 0s 8ms/step - loss: 9.6557 - mae: 9.6557\n",
            "Epoch 59/100\n",
            "2/2 [==============================] - 0s 6ms/step - loss: 13.0087 - mae: 13.0087\n",
            "Epoch 60/100\n",
            "2/2 [==============================] - 0s 11ms/step - loss: 10.6935 - mae: 10.6935\n",
            "Epoch 61/100\n",
            "2/2 [==============================] - 0s 8ms/step - loss: 12.6943 - mae: 12.6943\n",
            "Epoch 62/100\n",
            "2/2 [==============================] - 0s 5ms/step - loss: 21.1564 - mae: 21.1564\n",
            "Epoch 63/100\n",
            "2/2 [==============================] - 0s 5ms/step - loss: 8.9218 - mae: 8.9218\n",
            "Epoch 64/100\n",
            "2/2 [==============================] - 0s 7ms/step - loss: 17.1736 - mae: 17.1736\n",
            "Epoch 65/100\n",
            "2/2 [==============================] - 0s 13ms/step - loss: 10.3651 - mae: 10.3651\n",
            "Epoch 66/100\n",
            "2/2 [==============================] - 0s 6ms/step - loss: 20.5536 - mae: 20.5536\n",
            "Epoch 67/100\n",
            "2/2 [==============================] - 0s 12ms/step - loss: 10.3197 - mae: 10.3197\n",
            "Epoch 68/100\n",
            "2/2 [==============================] - 0s 16ms/step - loss: 13.9092 - mae: 13.9092\n",
            "Epoch 69/100\n",
            "2/2 [==============================] - 0s 10ms/step - loss: 10.3672 - mae: 10.3672\n",
            "Epoch 70/100\n",
            "2/2 [==============================] - 0s 15ms/step - loss: 12.4255 - mae: 12.4255\n",
            "Epoch 71/100\n",
            "2/2 [==============================] - 0s 10ms/step - loss: 16.1561 - mae: 16.1561\n",
            "Epoch 72/100\n",
            "2/2 [==============================] - 0s 7ms/step - loss: 12.1273 - mae: 12.1273\n",
            "Epoch 73/100\n",
            "2/2 [==============================] - 0s 11ms/step - loss: 17.0755 - mae: 17.0755\n",
            "Epoch 74/100\n",
            "2/2 [==============================] - 0s 8ms/step - loss: 25.1774 - mae: 25.1774\n",
            "Epoch 75/100\n",
            "2/2 [==============================] - 0s 8ms/step - loss: 9.4107 - mae: 9.4107\n",
            "Epoch 76/100\n",
            "2/2 [==============================] - 0s 10ms/step - loss: 12.2252 - mae: 12.2252\n",
            "Epoch 77/100\n",
            "2/2 [==============================] - 0s 18ms/step - loss: 16.1993 - mae: 16.1993\n",
            "Epoch 78/100\n",
            "2/2 [==============================] - 0s 9ms/step - loss: 8.9900 - mae: 8.9900\n",
            "Epoch 79/100\n",
            "2/2 [==============================] - 0s 9ms/step - loss: 29.3343 - mae: 29.3343\n",
            "Epoch 80/100\n",
            "2/2 [==============================] - 0s 7ms/step - loss: 31.7750 - mae: 31.7750\n",
            "Epoch 81/100\n",
            "2/2 [==============================] - 0s 6ms/step - loss: 13.9622 - mae: 13.9622\n",
            "Epoch 82/100\n",
            "2/2 [==============================] - 0s 8ms/step - loss: 15.6555 - mae: 15.6555\n",
            "Epoch 83/100\n",
            "2/2 [==============================] - 0s 16ms/step - loss: 11.1326 - mae: 11.1326\n",
            "Epoch 84/100\n",
            "2/2 [==============================] - 0s 8ms/step - loss: 7.2848 - mae: 7.2848\n",
            "Epoch 85/100\n",
            "2/2 [==============================] - 0s 5ms/step - loss: 15.0788 - mae: 15.0788\n",
            "Epoch 86/100\n",
            "2/2 [==============================] - 0s 5ms/step - loss: 15.3752 - mae: 15.3752\n",
            "Epoch 87/100\n",
            "2/2 [==============================] - 0s 7ms/step - loss: 19.2888 - mae: 19.2888\n",
            "Epoch 88/100\n",
            "2/2 [==============================] - 0s 14ms/step - loss: 29.3498 - mae: 29.3498\n",
            "Epoch 89/100\n",
            "2/2 [==============================] - 0s 7ms/step - loss: 10.0982 - mae: 10.0982\n",
            "Epoch 90/100\n",
            "2/2 [==============================] - 0s 7ms/step - loss: 21.1450 - mae: 21.1450\n",
            "Epoch 91/100\n",
            "2/2 [==============================] - 0s 12ms/step - loss: 10.4748 - mae: 10.4748\n",
            "Epoch 92/100\n",
            "2/2 [==============================] - 0s 8ms/step - loss: 18.0642 - mae: 18.0642\n",
            "Epoch 93/100\n",
            "2/2 [==============================] - 0s 5ms/step - loss: 6.5375 - mae: 6.5375\n",
            "Epoch 94/100\n",
            "2/2 [==============================] - 0s 9ms/step - loss: 11.1377 - mae: 11.1377\n",
            "Epoch 95/100\n",
            "2/2 [==============================] - 0s 5ms/step - loss: 24.5054 - mae: 24.5054\n",
            "Epoch 96/100\n",
            "2/2 [==============================] - 0s 11ms/step - loss: 10.7474 - mae: 10.7474\n",
            "Epoch 97/100\n",
            "2/2 [==============================] - 0s 15ms/step - loss: 15.4480 - mae: 15.4480\n",
            "Epoch 98/100\n",
            "2/2 [==============================] - 0s 6ms/step - loss: 9.0212 - mae: 9.0212\n",
            "Epoch 99/100\n",
            "2/2 [==============================] - 0s 11ms/step - loss: 10.8432 - mae: 10.8432\n",
            "Epoch 100/100\n",
            "2/2 [==============================] - 0s 6ms/step - loss: 27.0531 - mae: 27.0531\n"
          ]
        },
        {
          "output_type": "execute_result",
          "data": {
            "text/plain": [
              "<keras.callbacks.History at 0x7fb089cc4090>"
            ]
          },
          "metadata": {},
          "execution_count": 147
        }
      ]
    },
    {
      "cell_type": "code",
      "source": [
        "model_3 = tf.keras.Sequential([\n",
        "    tf.keras.layers.Dense(20, input_shape = [1]),\n",
        "    tf.keras.layers.Dense(1, input_shape=[20])\n",
        "])\n",
        "\n",
        "model_3.compile(\n",
        "    loss = tf.keras.losses.mae,\n",
        "    optimizer = tf.keras.optimizers.SGD(),\n",
        "    metrics = [\"mae\"]\n",
        ")\n",
        "\n",
        "model_3.fit(X_train, y_train, epochs = 500)"
      ],
      "metadata": {
        "colab": {
          "base_uri": "https://localhost:8080/"
        },
        "id": "CR4dOabhlQgB",
        "outputId": "96adb2d1-4edf-4735-c02f-df246cc56050"
      },
      "execution_count": null,
      "outputs": [
        {
          "output_type": "stream",
          "name": "stdout",
          "text": [
            "Epoch 1/500\n",
            "2/2 [==============================] - 1s 6ms/step - loss: 43.5393 - mae: 43.5393\n",
            "Epoch 2/500\n",
            "2/2 [==============================] - 0s 6ms/step - loss: 32.6136 - mae: 32.6136\n",
            "Epoch 3/500\n",
            "2/2 [==============================] - 0s 6ms/step - loss: 36.4305 - mae: 36.4305\n",
            "Epoch 4/500\n",
            "2/2 [==============================] - 0s 8ms/step - loss: 32.9259 - mae: 32.9259\n",
            "Epoch 5/500\n",
            "2/2 [==============================] - 0s 8ms/step - loss: 17.5855 - mae: 17.5855\n",
            "Epoch 6/500\n",
            "2/2 [==============================] - 0s 7ms/step - loss: 10.2715 - mae: 10.2715\n",
            "Epoch 7/500\n",
            "2/2 [==============================] - 0s 8ms/step - loss: 11.2613 - mae: 11.2613\n",
            "Epoch 8/500\n",
            "2/2 [==============================] - 0s 15ms/step - loss: 11.1558 - mae: 11.1558\n",
            "Epoch 9/500\n",
            "2/2 [==============================] - 0s 10ms/step - loss: 40.9967 - mae: 40.9967\n",
            "Epoch 10/500\n",
            "2/2 [==============================] - 0s 7ms/step - loss: 28.3224 - mae: 28.3224\n",
            "Epoch 11/500\n",
            "2/2 [==============================] - 0s 7ms/step - loss: 10.2581 - mae: 10.2581\n",
            "Epoch 12/500\n",
            "2/2 [==============================] - 0s 4ms/step - loss: 25.1862 - mae: 25.1862\n",
            "Epoch 13/500\n",
            "2/2 [==============================] - 0s 15ms/step - loss: 17.6420 - mae: 17.6420\n",
            "Epoch 14/500\n",
            "2/2 [==============================] - 0s 5ms/step - loss: 23.8175 - mae: 23.8175\n",
            "Epoch 15/500\n",
            "2/2 [==============================] - 0s 12ms/step - loss: 15.8524 - mae: 15.8524\n",
            "Epoch 16/500\n",
            "2/2 [==============================] - 0s 7ms/step - loss: 10.4721 - mae: 10.4721\n",
            "Epoch 17/500\n",
            "2/2 [==============================] - 0s 6ms/step - loss: 19.7770 - mae: 19.7770\n",
            "Epoch 18/500\n",
            "2/2 [==============================] - 0s 5ms/step - loss: 13.3820 - mae: 13.3820\n",
            "Epoch 19/500\n",
            "2/2 [==============================] - 0s 9ms/step - loss: 16.4020 - mae: 16.4020\n",
            "Epoch 20/500\n",
            "2/2 [==============================] - 0s 7ms/step - loss: 8.2559 - mae: 8.2559\n",
            "Epoch 21/500\n",
            "2/2 [==============================] - 0s 11ms/step - loss: 14.4567 - mae: 14.4567\n",
            "Epoch 22/500\n",
            "2/2 [==============================] - 0s 6ms/step - loss: 12.8726 - mae: 12.8726\n",
            "Epoch 23/500\n",
            "2/2 [==============================] - 0s 10ms/step - loss: 15.5089 - mae: 15.5089\n",
            "Epoch 24/500\n",
            "2/2 [==============================] - 0s 33ms/step - loss: 15.2987 - mae: 15.2987\n",
            "Epoch 25/500\n",
            "2/2 [==============================] - 0s 6ms/step - loss: 14.3642 - mae: 14.3642\n",
            "Epoch 26/500\n",
            "2/2 [==============================] - 0s 5ms/step - loss: 19.3845 - mae: 19.3845\n",
            "Epoch 27/500\n",
            "2/2 [==============================] - 0s 12ms/step - loss: 11.4410 - mae: 11.4410\n",
            "Epoch 28/500\n",
            "2/2 [==============================] - 0s 8ms/step - loss: 28.9718 - mae: 28.9718\n",
            "Epoch 29/500\n",
            "2/2 [==============================] - 0s 15ms/step - loss: 9.2579 - mae: 9.2579\n",
            "Epoch 30/500\n",
            "2/2 [==============================] - 0s 6ms/step - loss: 29.7309 - mae: 29.7309\n",
            "Epoch 31/500\n",
            "2/2 [==============================] - 0s 7ms/step - loss: 53.9345 - mae: 53.9345\n",
            "Epoch 32/500\n",
            "2/2 [==============================] - 0s 6ms/step - loss: 9.5536 - mae: 9.5536\n",
            "Epoch 33/500\n",
            "2/2 [==============================] - 0s 7ms/step - loss: 12.1409 - mae: 12.1409\n",
            "Epoch 34/500\n",
            "2/2 [==============================] - 0s 7ms/step - loss: 23.7732 - mae: 23.7732\n",
            "Epoch 35/500\n",
            "2/2 [==============================] - 0s 7ms/step - loss: 12.6482 - mae: 12.6482\n",
            "Epoch 36/500\n",
            "2/2 [==============================] - 0s 12ms/step - loss: 21.5817 - mae: 21.5817\n",
            "Epoch 37/500\n",
            "2/2 [==============================] - 0s 7ms/step - loss: 11.3440 - mae: 11.3440\n",
            "Epoch 38/500\n",
            "2/2 [==============================] - 0s 7ms/step - loss: 13.3955 - mae: 13.3955\n",
            "Epoch 39/500\n",
            "2/2 [==============================] - 0s 9ms/step - loss: 10.7614 - mae: 10.7614\n",
            "Epoch 40/500\n",
            "2/2 [==============================] - 0s 8ms/step - loss: 16.4906 - mae: 16.4906\n",
            "Epoch 41/500\n",
            "2/2 [==============================] - 0s 8ms/step - loss: 10.9259 - mae: 10.9259\n",
            "Epoch 42/500\n",
            "2/2 [==============================] - 0s 8ms/step - loss: 9.2658 - mae: 9.2658\n",
            "Epoch 43/500\n",
            "2/2 [==============================] - 0s 4ms/step - loss: 9.5870 - mae: 9.5870\n",
            "Epoch 44/500\n",
            "2/2 [==============================] - 0s 7ms/step - loss: 27.8162 - mae: 27.8162\n",
            "Epoch 45/500\n",
            "2/2 [==============================] - 0s 8ms/step - loss: 11.2452 - mae: 11.2452\n",
            "Epoch 46/500\n",
            "2/2 [==============================] - 0s 5ms/step - loss: 13.8061 - mae: 13.8061\n",
            "Epoch 47/500\n",
            "2/2 [==============================] - 0s 6ms/step - loss: 11.9457 - mae: 11.9457\n",
            "Epoch 48/500\n",
            "2/2 [==============================] - 0s 8ms/step - loss: 16.9935 - mae: 16.9935\n",
            "Epoch 49/500\n",
            "2/2 [==============================] - 0s 7ms/step - loss: 9.7578 - mae: 9.7578\n",
            "Epoch 50/500\n",
            "2/2 [==============================] - 0s 6ms/step - loss: 14.1311 - mae: 14.1311\n",
            "Epoch 51/500\n",
            "2/2 [==============================] - 0s 17ms/step - loss: 11.7271 - mae: 11.7271\n",
            "Epoch 52/500\n",
            "2/2 [==============================] - 0s 9ms/step - loss: 31.2680 - mae: 31.2680\n",
            "Epoch 53/500\n",
            "2/2 [==============================] - 0s 10ms/step - loss: 14.6762 - mae: 14.6762\n",
            "Epoch 54/500\n",
            "2/2 [==============================] - 0s 8ms/step - loss: 24.5239 - mae: 24.5239\n",
            "Epoch 55/500\n",
            "2/2 [==============================] - 0s 12ms/step - loss: 23.8007 - mae: 23.8007\n",
            "Epoch 56/500\n",
            "2/2 [==============================] - 0s 7ms/step - loss: 11.0975 - mae: 11.0975\n",
            "Epoch 57/500\n",
            "2/2 [==============================] - 0s 11ms/step - loss: 13.0244 - mae: 13.0244\n",
            "Epoch 58/500\n",
            "2/2 [==============================] - 0s 5ms/step - loss: 9.7632 - mae: 9.7632\n",
            "Epoch 59/500\n",
            "2/2 [==============================] - 0s 5ms/step - loss: 13.1949 - mae: 13.1949\n",
            "Epoch 60/500\n",
            "2/2 [==============================] - 0s 5ms/step - loss: 10.8117 - mae: 10.8117\n",
            "Epoch 61/500\n",
            "2/2 [==============================] - 0s 4ms/step - loss: 13.3787 - mae: 13.3787\n",
            "Epoch 62/500\n",
            "2/2 [==============================] - 0s 4ms/step - loss: 17.3038 - mae: 17.3038\n",
            "Epoch 63/500\n",
            "2/2 [==============================] - 0s 5ms/step - loss: 9.1256 - mae: 9.1256\n",
            "Epoch 64/500\n",
            "2/2 [==============================] - 0s 7ms/step - loss: 17.9290 - mae: 17.9290\n",
            "Epoch 65/500\n",
            "2/2 [==============================] - 0s 4ms/step - loss: 10.6088 - mae: 10.6088\n",
            "Epoch 66/500\n",
            "2/2 [==============================] - 0s 4ms/step - loss: 21.4411 - mae: 21.4411\n",
            "Epoch 67/500\n",
            "2/2 [==============================] - 0s 5ms/step - loss: 10.6169 - mae: 10.6169\n",
            "Epoch 68/500\n",
            "2/2 [==============================] - 0s 5ms/step - loss: 14.8337 - mae: 14.8337\n",
            "Epoch 69/500\n",
            "2/2 [==============================] - 0s 8ms/step - loss: 10.7594 - mae: 10.7594\n",
            "Epoch 70/500\n",
            "2/2 [==============================] - 0s 11ms/step - loss: 12.8592 - mae: 12.8592\n",
            "Epoch 71/500\n",
            "2/2 [==============================] - 0s 10ms/step - loss: 13.2792 - mae: 13.2792\n",
            "Epoch 72/500\n",
            "2/2 [==============================] - 0s 14ms/step - loss: 20.1030 - mae: 20.1030\n",
            "Epoch 73/500\n",
            "2/2 [==============================] - 0s 10ms/step - loss: 9.7353 - mae: 9.7353\n",
            "Epoch 74/500\n",
            "2/2 [==============================] - 0s 4ms/step - loss: 27.3971 - mae: 27.3971\n",
            "Epoch 75/500\n",
            "2/2 [==============================] - 0s 5ms/step - loss: 10.0107 - mae: 10.0107\n",
            "Epoch 76/500\n",
            "2/2 [==============================] - 0s 5ms/step - loss: 12.9277 - mae: 12.9277\n",
            "Epoch 77/500\n",
            "2/2 [==============================] - 0s 4ms/step - loss: 17.9041 - mae: 17.9041\n",
            "Epoch 78/500\n",
            "2/2 [==============================] - 0s 4ms/step - loss: 8.9614 - mae: 8.9614\n",
            "Epoch 79/500\n",
            "2/2 [==============================] - 0s 4ms/step - loss: 28.7397 - mae: 28.7397\n",
            "Epoch 80/500\n",
            "2/2 [==============================] - 0s 6ms/step - loss: 31.0809 - mae: 31.0809\n",
            "Epoch 81/500\n",
            "2/2 [==============================] - 0s 10ms/step - loss: 13.4295 - mae: 13.4295\n",
            "Epoch 82/500\n",
            "2/2 [==============================] - 0s 8ms/step - loss: 14.3150 - mae: 14.3150\n",
            "Epoch 83/500\n",
            "2/2 [==============================] - 0s 6ms/step - loss: 18.8483 - mae: 18.8483\n",
            "Epoch 84/500\n",
            "2/2 [==============================] - 0s 10ms/step - loss: 9.4566 - mae: 9.4566\n",
            "Epoch 85/500\n",
            "2/2 [==============================] - 0s 7ms/step - loss: 25.2424 - mae: 25.2424\n",
            "Epoch 86/500\n",
            "2/2 [==============================] - 0s 6ms/step - loss: 16.4426 - mae: 16.4426\n",
            "Epoch 87/500\n",
            "2/2 [==============================] - 0s 6ms/step - loss: 11.4708 - mae: 11.4708\n",
            "Epoch 88/500\n",
            "2/2 [==============================] - 0s 5ms/step - loss: 27.0619 - mae: 27.0619\n",
            "Epoch 89/500\n",
            "2/2 [==============================] - 0s 6ms/step - loss: 9.7432 - mae: 9.7432\n",
            "Epoch 90/500\n",
            "2/2 [==============================] - 0s 8ms/step - loss: 19.1013 - mae: 19.1013\n",
            "Epoch 91/500\n",
            "2/2 [==============================] - 0s 11ms/step - loss: 10.6034 - mae: 10.6034\n",
            "Epoch 92/500\n",
            "2/2 [==============================] - 0s 10ms/step - loss: 18.3183 - mae: 18.3183\n",
            "Epoch 93/500\n",
            "2/2 [==============================] - 0s 7ms/step - loss: 6.8611 - mae: 6.8611\n",
            "Epoch 94/500\n",
            "2/2 [==============================] - 0s 5ms/step - loss: 13.0814 - mae: 13.0814\n",
            "Epoch 95/500\n",
            "2/2 [==============================] - 0s 8ms/step - loss: 18.4712 - mae: 18.4712\n",
            "Epoch 96/500\n",
            "2/2 [==============================] - 0s 10ms/step - loss: 10.4142 - mae: 10.4142\n",
            "Epoch 97/500\n",
            "2/2 [==============================] - 0s 11ms/step - loss: 14.4731 - mae: 14.4731\n",
            "Epoch 98/500\n",
            "2/2 [==============================] - 0s 10ms/step - loss: 6.6198 - mae: 6.6198\n",
            "Epoch 99/500\n",
            "2/2 [==============================] - 0s 11ms/step - loss: 12.6171 - mae: 12.6171\n",
            "Epoch 100/500\n",
            "2/2 [==============================] - 0s 10ms/step - loss: 19.4251 - mae: 19.4251\n",
            "Epoch 101/500\n",
            "2/2 [==============================] - 0s 9ms/step - loss: 16.0681 - mae: 16.0681\n",
            "Epoch 102/500\n",
            "2/2 [==============================] - 0s 6ms/step - loss: 11.2127 - mae: 11.2127\n",
            "Epoch 103/500\n",
            "2/2 [==============================] - 0s 7ms/step - loss: 9.3524 - mae: 9.3524\n",
            "Epoch 104/500\n",
            "2/2 [==============================] - 0s 5ms/step - loss: 24.8877 - mae: 24.8877\n",
            "Epoch 105/500\n",
            "2/2 [==============================] - 0s 8ms/step - loss: 11.9745 - mae: 11.9745\n",
            "Epoch 106/500\n",
            "2/2 [==============================] - 0s 5ms/step - loss: 10.1054 - mae: 10.1054\n",
            "Epoch 107/500\n",
            "2/2 [==============================] - 0s 7ms/step - loss: 22.4127 - mae: 22.4127\n",
            "Epoch 108/500\n",
            "2/2 [==============================] - 0s 39ms/step - loss: 8.1418 - mae: 8.1418\n",
            "Epoch 109/500\n",
            "2/2 [==============================] - 0s 8ms/step - loss: 13.2869 - mae: 13.2869\n",
            "Epoch 110/500\n",
            "2/2 [==============================] - 0s 8ms/step - loss: 8.0296 - mae: 8.0296\n",
            "Epoch 111/500\n",
            "2/2 [==============================] - 0s 6ms/step - loss: 15.8254 - mae: 15.8254\n",
            "Epoch 112/500\n",
            "2/2 [==============================] - 0s 7ms/step - loss: 8.7628 - mae: 8.7628\n",
            "Epoch 113/500\n",
            "2/2 [==============================] - 0s 6ms/step - loss: 22.5233 - mae: 22.5233\n",
            "Epoch 114/500\n",
            "2/2 [==============================] - 0s 4ms/step - loss: 18.8992 - mae: 18.8992\n",
            "Epoch 115/500\n",
            "2/2 [==============================] - 0s 7ms/step - loss: 11.0856 - mae: 11.0856\n",
            "Epoch 116/500\n",
            "2/2 [==============================] - 0s 4ms/step - loss: 22.9544 - mae: 22.9544\n",
            "Epoch 117/500\n",
            "2/2 [==============================] - 0s 5ms/step - loss: 9.5523 - mae: 9.5523\n",
            "Epoch 118/500\n",
            "2/2 [==============================] - 0s 8ms/step - loss: 10.5988 - mae: 10.5988\n",
            "Epoch 119/500\n",
            "2/2 [==============================] - 0s 13ms/step - loss: 8.0714 - mae: 8.0714\n",
            "Epoch 120/500\n",
            "2/2 [==============================] - 0s 14ms/step - loss: 29.1455 - mae: 29.1455\n",
            "Epoch 121/500\n",
            "2/2 [==============================] - 0s 9ms/step - loss: 8.1070 - mae: 8.1070\n",
            "Epoch 122/500\n",
            "2/2 [==============================] - 0s 5ms/step - loss: 27.8417 - mae: 27.8417\n",
            "Epoch 123/500\n",
            "2/2 [==============================] - 0s 9ms/step - loss: 32.3206 - mae: 32.3206\n",
            "Epoch 124/500\n",
            "2/2 [==============================] - 0s 4ms/step - loss: 19.2067 - mae: 19.2067\n",
            "Epoch 125/500\n",
            "2/2 [==============================] - 0s 8ms/step - loss: 9.5053 - mae: 9.5053\n",
            "Epoch 126/500\n",
            "2/2 [==============================] - 0s 8ms/step - loss: 9.5815 - mae: 9.5815\n",
            "Epoch 127/500\n",
            "2/2 [==============================] - 0s 6ms/step - loss: 12.2625 - mae: 12.2625\n",
            "Epoch 128/500\n",
            "2/2 [==============================] - 0s 7ms/step - loss: 15.2715 - mae: 15.2715\n",
            "Epoch 129/500\n",
            "2/2 [==============================] - 0s 6ms/step - loss: 9.6540 - mae: 9.6540\n",
            "Epoch 130/500\n",
            "2/2 [==============================] - 0s 5ms/step - loss: 20.6429 - mae: 20.6429\n",
            "Epoch 131/500\n",
            "2/2 [==============================] - 0s 5ms/step - loss: 9.3567 - mae: 9.3567\n",
            "Epoch 132/500\n",
            "2/2 [==============================] - 0s 8ms/step - loss: 16.6921 - mae: 16.6921\n",
            "Epoch 133/500\n",
            "2/2 [==============================] - 0s 5ms/step - loss: 7.7253 - mae: 7.7253\n",
            "Epoch 134/500\n",
            "2/2 [==============================] - 0s 8ms/step - loss: 19.0550 - mae: 19.0550\n",
            "Epoch 135/500\n",
            "2/2 [==============================] - 0s 6ms/step - loss: 10.7548 - mae: 10.7548\n",
            "Epoch 136/500\n",
            "2/2 [==============================] - 0s 7ms/step - loss: 18.6429 - mae: 18.6429\n",
            "Epoch 137/500\n",
            "2/2 [==============================] - 0s 8ms/step - loss: 23.6722 - mae: 23.6722\n",
            "Epoch 138/500\n",
            "2/2 [==============================] - 0s 7ms/step - loss: 9.3776 - mae: 9.3776\n",
            "Epoch 139/500\n",
            "2/2 [==============================] - 0s 12ms/step - loss: 9.0832 - mae: 9.0832\n",
            "Epoch 140/500\n",
            "2/2 [==============================] - 0s 6ms/step - loss: 17.0591 - mae: 17.0591\n",
            "Epoch 141/500\n",
            "2/2 [==============================] - 0s 10ms/step - loss: 8.3706 - mae: 8.3706\n",
            "Epoch 142/500\n",
            "2/2 [==============================] - 0s 5ms/step - loss: 34.1151 - mae: 34.1151\n",
            "Epoch 143/500\n",
            "2/2 [==============================] - 0s 5ms/step - loss: 23.1916 - mae: 23.1916\n",
            "Epoch 144/500\n",
            "2/2 [==============================] - 0s 12ms/step - loss: 10.5109 - mae: 10.5109\n",
            "Epoch 145/500\n",
            "2/2 [==============================] - 0s 16ms/step - loss: 25.8948 - mae: 25.8948\n",
            "Epoch 146/500\n",
            "2/2 [==============================] - 0s 6ms/step - loss: 9.8899 - mae: 9.8899\n",
            "Epoch 147/500\n",
            "2/2 [==============================] - 0s 9ms/step - loss: 15.0672 - mae: 15.0672\n",
            "Epoch 148/500\n",
            "2/2 [==============================] - 0s 5ms/step - loss: 17.5146 - mae: 17.5146\n",
            "Epoch 149/500\n",
            "2/2 [==============================] - 0s 6ms/step - loss: 8.7788 - mae: 8.7788\n",
            "Epoch 150/500\n",
            "2/2 [==============================] - 0s 11ms/step - loss: 7.7653 - mae: 7.7653\n",
            "Epoch 151/500\n",
            "2/2 [==============================] - 0s 8ms/step - loss: 19.7900 - mae: 19.7900\n",
            "Epoch 152/500\n",
            "2/2 [==============================] - 0s 12ms/step - loss: 10.2583 - mae: 10.2583\n",
            "Epoch 153/500\n",
            "2/2 [==============================] - 0s 7ms/step - loss: 29.0947 - mae: 29.0947\n",
            "Epoch 154/500\n",
            "2/2 [==============================] - 0s 5ms/step - loss: 10.6946 - mae: 10.6946\n",
            "Epoch 155/500\n",
            "2/2 [==============================] - 0s 7ms/step - loss: 15.5793 - mae: 15.5793\n",
            "Epoch 156/500\n",
            "2/2 [==============================] - 0s 9ms/step - loss: 17.2755 - mae: 17.2755\n",
            "Epoch 157/500\n",
            "2/2 [==============================] - 0s 12ms/step - loss: 32.1625 - mae: 32.1625\n",
            "Epoch 158/500\n",
            "2/2 [==============================] - 0s 9ms/step - loss: 10.5695 - mae: 10.5695\n",
            "Epoch 159/500\n",
            "2/2 [==============================] - 0s 8ms/step - loss: 8.8680 - mae: 8.8680\n",
            "Epoch 160/500\n",
            "2/2 [==============================] - 0s 5ms/step - loss: 21.4575 - mae: 21.4575\n",
            "Epoch 161/500\n",
            "2/2 [==============================] - 0s 51ms/step - loss: 12.6671 - mae: 12.6671\n",
            "Epoch 162/500\n",
            "2/2 [==============================] - 0s 5ms/step - loss: 19.3448 - mae: 19.3448\n",
            "Epoch 163/500\n",
            "2/2 [==============================] - 0s 6ms/step - loss: 18.2895 - mae: 18.2895\n",
            "Epoch 164/500\n",
            "2/2 [==============================] - 0s 7ms/step - loss: 11.9964 - mae: 11.9964\n",
            "Epoch 165/500\n",
            "2/2 [==============================] - 0s 10ms/step - loss: 11.7644 - mae: 11.7644\n",
            "Epoch 166/500\n",
            "2/2 [==============================] - 0s 9ms/step - loss: 21.6905 - mae: 21.6905\n",
            "Epoch 167/500\n",
            "2/2 [==============================] - 0s 8ms/step - loss: 26.0358 - mae: 26.0358\n",
            "Epoch 168/500\n",
            "2/2 [==============================] - 0s 19ms/step - loss: 9.8746 - mae: 9.8746\n",
            "Epoch 169/500\n",
            "2/2 [==============================] - 0s 11ms/step - loss: 22.2673 - mae: 22.2673\n",
            "Epoch 170/500\n",
            "2/2 [==============================] - 0s 11ms/step - loss: 10.2339 - mae: 10.2339\n",
            "Epoch 171/500\n",
            "2/2 [==============================] - 0s 22ms/step - loss: 18.1911 - mae: 18.1911\n",
            "Epoch 172/500\n",
            "2/2 [==============================] - 0s 10ms/step - loss: 28.4944 - mae: 28.4944\n",
            "Epoch 173/500\n",
            "2/2 [==============================] - 0s 16ms/step - loss: 16.1229 - mae: 16.1229\n",
            "Epoch 174/500\n",
            "2/2 [==============================] - 0s 11ms/step - loss: 10.5074 - mae: 10.5074\n",
            "Epoch 175/500\n",
            "2/2 [==============================] - 0s 12ms/step - loss: 27.4960 - mae: 27.4960\n",
            "Epoch 176/500\n",
            "2/2 [==============================] - 0s 12ms/step - loss: 8.4357 - mae: 8.4357\n",
            "Epoch 177/500\n",
            "2/2 [==============================] - 0s 10ms/step - loss: 9.4042 - mae: 9.4042\n",
            "Epoch 178/500\n",
            "2/2 [==============================] - 0s 14ms/step - loss: 18.4135 - mae: 18.4135\n",
            "Epoch 179/500\n",
            "2/2 [==============================] - 0s 12ms/step - loss: 10.4995 - mae: 10.4995\n",
            "Epoch 180/500\n",
            "2/2 [==============================] - 0s 8ms/step - loss: 8.0108 - mae: 8.0108\n",
            "Epoch 181/500\n",
            "2/2 [==============================] - 0s 10ms/step - loss: 17.5950 - mae: 17.5950\n",
            "Epoch 182/500\n",
            "2/2 [==============================] - 0s 10ms/step - loss: 11.1624 - mae: 11.1624\n",
            "Epoch 183/500\n",
            "2/2 [==============================] - 0s 5ms/step - loss: 11.8061 - mae: 11.8061\n",
            "Epoch 184/500\n",
            "2/2 [==============================] - 0s 14ms/step - loss: 30.6276 - mae: 30.6276\n",
            "Epoch 185/500\n",
            "2/2 [==============================] - 0s 13ms/step - loss: 7.6041 - mae: 7.6041\n",
            "Epoch 186/500\n",
            "2/2 [==============================] - 0s 5ms/step - loss: 15.9616 - mae: 15.9616\n",
            "Epoch 187/500\n",
            "2/2 [==============================] - 0s 11ms/step - loss: 8.6442 - mae: 8.6442\n",
            "Epoch 188/500\n",
            "2/2 [==============================] - 0s 17ms/step - loss: 28.8537 - mae: 28.8537\n",
            "Epoch 189/500\n",
            "2/2 [==============================] - 0s 8ms/step - loss: 13.1718 - mae: 13.1718\n",
            "Epoch 190/500\n",
            "2/2 [==============================] - 0s 13ms/step - loss: 18.3165 - mae: 18.3165\n",
            "Epoch 191/500\n",
            "2/2 [==============================] - 0s 7ms/step - loss: 13.7457 - mae: 13.7457\n",
            "Epoch 192/500\n",
            "2/2 [==============================] - 0s 30ms/step - loss: 13.7400 - mae: 13.7400\n",
            "Epoch 193/500\n",
            "2/2 [==============================] - 0s 9ms/step - loss: 28.5856 - mae: 28.5856\n",
            "Epoch 194/500\n",
            "2/2 [==============================] - 0s 9ms/step - loss: 6.7804 - mae: 6.7804\n",
            "Epoch 195/500\n",
            "2/2 [==============================] - 0s 11ms/step - loss: 13.5705 - mae: 13.5705\n",
            "Epoch 196/500\n",
            "2/2 [==============================] - 0s 11ms/step - loss: 24.1379 - mae: 24.1379\n",
            "Epoch 197/500\n",
            "2/2 [==============================] - 0s 14ms/step - loss: 16.1954 - mae: 16.1954\n",
            "Epoch 198/500\n",
            "2/2 [==============================] - 0s 11ms/step - loss: 12.7921 - mae: 12.7921\n",
            "Epoch 199/500\n",
            "2/2 [==============================] - 0s 8ms/step - loss: 18.3428 - mae: 18.3428\n",
            "Epoch 200/500\n",
            "2/2 [==============================] - 0s 7ms/step - loss: 14.1553 - mae: 14.1553\n",
            "Epoch 201/500\n",
            "2/2 [==============================] - 0s 5ms/step - loss: 7.0411 - mae: 7.0411\n",
            "Epoch 202/500\n",
            "2/2 [==============================] - 0s 12ms/step - loss: 21.8205 - mae: 21.8205\n",
            "Epoch 203/500\n",
            "2/2 [==============================] - 0s 5ms/step - loss: 5.3913 - mae: 5.3913\n",
            "Epoch 204/500\n",
            "2/2 [==============================] - 0s 12ms/step - loss: 21.8088 - mae: 21.8088\n",
            "Epoch 205/500\n",
            "2/2 [==============================] - 0s 8ms/step - loss: 9.9207 - mae: 9.9207\n",
            "Epoch 206/500\n",
            "2/2 [==============================] - 0s 5ms/step - loss: 12.1507 - mae: 12.1507\n",
            "Epoch 207/500\n",
            "2/2 [==============================] - 0s 9ms/step - loss: 14.9025 - mae: 14.9025\n",
            "Epoch 208/500\n",
            "2/2 [==============================] - 0s 8ms/step - loss: 15.3564 - mae: 15.3564\n",
            "Epoch 209/500\n",
            "2/2 [==============================] - 0s 6ms/step - loss: 15.4616 - mae: 15.4616\n",
            "Epoch 210/500\n",
            "2/2 [==============================] - 0s 10ms/step - loss: 18.5352 - mae: 18.5352\n",
            "Epoch 211/500\n",
            "2/2 [==============================] - 0s 9ms/step - loss: 10.1099 - mae: 10.1099\n",
            "Epoch 212/500\n",
            "2/2 [==============================] - 0s 8ms/step - loss: 19.0376 - mae: 19.0376\n",
            "Epoch 213/500\n",
            "2/2 [==============================] - 0s 8ms/step - loss: 14.8866 - mae: 14.8866\n",
            "Epoch 214/500\n",
            "2/2 [==============================] - 0s 5ms/step - loss: 14.4966 - mae: 14.4966\n",
            "Epoch 215/500\n",
            "2/2 [==============================] - 0s 6ms/step - loss: 23.0863 - mae: 23.0863\n",
            "Epoch 216/500\n",
            "2/2 [==============================] - 0s 8ms/step - loss: 13.7603 - mae: 13.7603\n",
            "Epoch 217/500\n",
            "2/2 [==============================] - 0s 7ms/step - loss: 10.2330 - mae: 10.2330\n",
            "Epoch 218/500\n",
            "2/2 [==============================] - 0s 5ms/step - loss: 12.3544 - mae: 12.3544\n",
            "Epoch 219/500\n",
            "2/2 [==============================] - 0s 6ms/step - loss: 6.5392 - mae: 6.5392\n",
            "Epoch 220/500\n",
            "2/2 [==============================] - 0s 11ms/step - loss: 7.1773 - mae: 7.1773\n",
            "Epoch 221/500\n",
            "2/2 [==============================] - 0s 5ms/step - loss: 37.2150 - mae: 37.2150\n",
            "Epoch 222/500\n",
            "2/2 [==============================] - 0s 18ms/step - loss: 36.9677 - mae: 36.9677\n",
            "Epoch 223/500\n",
            "2/2 [==============================] - 0s 5ms/step - loss: 6.7077 - mae: 6.7077\n",
            "Epoch 224/500\n",
            "2/2 [==============================] - 0s 5ms/step - loss: 13.8805 - mae: 13.8805\n",
            "Epoch 225/500\n",
            "2/2 [==============================] - 0s 5ms/step - loss: 16.0593 - mae: 16.0593\n",
            "Epoch 226/500\n",
            "2/2 [==============================] - 0s 6ms/step - loss: 15.2681 - mae: 15.2681\n",
            "Epoch 227/500\n",
            "2/2 [==============================] - 0s 13ms/step - loss: 15.6030 - mae: 15.6030\n",
            "Epoch 228/500\n",
            "2/2 [==============================] - 0s 11ms/step - loss: 13.6582 - mae: 13.6582\n",
            "Epoch 229/500\n",
            "2/2 [==============================] - 0s 5ms/step - loss: 17.7504 - mae: 17.7504\n",
            "Epoch 230/500\n",
            "2/2 [==============================] - 0s 4ms/step - loss: 15.2278 - mae: 15.2278\n",
            "Epoch 231/500\n",
            "2/2 [==============================] - 0s 8ms/step - loss: 21.0885 - mae: 21.0885\n",
            "Epoch 232/500\n",
            "2/2 [==============================] - 0s 7ms/step - loss: 25.5526 - mae: 25.5526\n",
            "Epoch 233/500\n",
            "2/2 [==============================] - 0s 8ms/step - loss: 16.5496 - mae: 16.5496\n",
            "Epoch 234/500\n",
            "2/2 [==============================] - 0s 8ms/step - loss: 7.3987 - mae: 7.3987\n",
            "Epoch 235/500\n",
            "2/2 [==============================] - 0s 13ms/step - loss: 17.1824 - mae: 17.1824\n",
            "Epoch 236/500\n",
            "2/2 [==============================] - 0s 8ms/step - loss: 7.2574 - mae: 7.2574\n",
            "Epoch 237/500\n",
            "2/2 [==============================] - 0s 17ms/step - loss: 9.3543 - mae: 9.3543\n",
            "Epoch 238/500\n",
            "2/2 [==============================] - 0s 5ms/step - loss: 8.2086 - mae: 8.2086\n",
            "Epoch 239/500\n",
            "2/2 [==============================] - 0s 11ms/step - loss: 17.1570 - mae: 17.1570\n",
            "Epoch 240/500\n",
            "2/2 [==============================] - 0s 49ms/step - loss: 8.9730 - mae: 8.9730\n",
            "Epoch 241/500\n",
            "2/2 [==============================] - 0s 10ms/step - loss: 13.2608 - mae: 13.2608\n",
            "Epoch 242/500\n",
            "2/2 [==============================] - 0s 7ms/step - loss: 8.8820 - mae: 8.8820\n",
            "Epoch 243/500\n",
            "2/2 [==============================] - 0s 6ms/step - loss: 18.8511 - mae: 18.8511\n",
            "Epoch 244/500\n",
            "2/2 [==============================] - 0s 10ms/step - loss: 14.0815 - mae: 14.0815\n",
            "Epoch 245/500\n",
            "2/2 [==============================] - 0s 15ms/step - loss: 14.7047 - mae: 14.7047\n",
            "Epoch 246/500\n",
            "2/2 [==============================] - 0s 6ms/step - loss: 15.8433 - mae: 15.8433\n",
            "Epoch 247/500\n",
            "2/2 [==============================] - 0s 6ms/step - loss: 17.7303 - mae: 17.7303\n",
            "Epoch 248/500\n",
            "2/2 [==============================] - 0s 11ms/step - loss: 13.2859 - mae: 13.2859\n",
            "Epoch 249/500\n",
            "2/2 [==============================] - 0s 10ms/step - loss: 14.5534 - mae: 14.5534\n",
            "Epoch 250/500\n",
            "2/2 [==============================] - 0s 6ms/step - loss: 23.2898 - mae: 23.2898\n",
            "Epoch 251/500\n",
            "2/2 [==============================] - 0s 6ms/step - loss: 9.3416 - mae: 9.3416\n",
            "Epoch 252/500\n",
            "2/2 [==============================] - 0s 5ms/step - loss: 36.4572 - mae: 36.4572\n",
            "Epoch 253/500\n",
            "2/2 [==============================] - 0s 5ms/step - loss: 21.6912 - mae: 21.6912\n",
            "Epoch 254/500\n",
            "2/2 [==============================] - 0s 5ms/step - loss: 7.3326 - mae: 7.3326\n",
            "Epoch 255/500\n",
            "2/2 [==============================] - 0s 6ms/step - loss: 24.5387 - mae: 24.5387\n",
            "Epoch 256/500\n",
            "2/2 [==============================] - 0s 5ms/step - loss: 11.9859 - mae: 11.9859\n",
            "Epoch 257/500\n",
            "2/2 [==============================] - 0s 5ms/step - loss: 14.4916 - mae: 14.4916\n",
            "Epoch 258/500\n",
            "2/2 [==============================] - 0s 7ms/step - loss: 5.8740 - mae: 5.8740\n",
            "Epoch 259/500\n",
            "2/2 [==============================] - 0s 5ms/step - loss: 14.8593 - mae: 14.8593\n",
            "Epoch 260/500\n",
            "2/2 [==============================] - 0s 4ms/step - loss: 15.0057 - mae: 15.0057\n",
            "Epoch 261/500\n",
            "2/2 [==============================] - 0s 4ms/step - loss: 17.5017 - mae: 17.5017\n",
            "Epoch 262/500\n",
            "2/2 [==============================] - 0s 4ms/step - loss: 15.5381 - mae: 15.5381\n",
            "Epoch 263/500\n",
            "2/2 [==============================] - 0s 4ms/step - loss: 10.1228 - mae: 10.1228\n",
            "Epoch 264/500\n",
            "2/2 [==============================] - 0s 6ms/step - loss: 18.1595 - mae: 18.1595\n",
            "Epoch 265/500\n",
            "2/2 [==============================] - 0s 14ms/step - loss: 14.3896 - mae: 14.3896\n",
            "Epoch 266/500\n",
            "2/2 [==============================] - 0s 11ms/step - loss: 11.0717 - mae: 11.0717\n",
            "Epoch 267/500\n",
            "2/2 [==============================] - 0s 5ms/step - loss: 6.0414 - mae: 6.0414\n",
            "Epoch 268/500\n",
            "2/2 [==============================] - 0s 10ms/step - loss: 18.6940 - mae: 18.6940\n",
            "Epoch 269/500\n",
            "2/2 [==============================] - 0s 7ms/step - loss: 42.3280 - mae: 42.3280\n",
            "Epoch 270/500\n",
            "2/2 [==============================] - 0s 6ms/step - loss: 14.1284 - mae: 14.1284\n",
            "Epoch 271/500\n",
            "2/2 [==============================] - 0s 7ms/step - loss: 15.4597 - mae: 15.4597\n",
            "Epoch 272/500\n",
            "2/2 [==============================] - 0s 10ms/step - loss: 22.2801 - mae: 22.2801\n",
            "Epoch 273/500\n",
            "2/2 [==============================] - 0s 9ms/step - loss: 22.4879 - mae: 22.4879\n",
            "Epoch 274/500\n",
            "2/2 [==============================] - 0s 7ms/step - loss: 13.3741 - mae: 13.3741\n",
            "Epoch 275/500\n",
            "2/2 [==============================] - 0s 6ms/step - loss: 29.4409 - mae: 29.4409\n",
            "Epoch 276/500\n",
            "2/2 [==============================] - 0s 18ms/step - loss: 8.1375 - mae: 8.1375\n",
            "Epoch 277/500\n",
            "2/2 [==============================] - 0s 5ms/step - loss: 30.6439 - mae: 30.6439\n",
            "Epoch 278/500\n",
            "2/2 [==============================] - 0s 8ms/step - loss: 11.4932 - mae: 11.4932\n",
            "Epoch 279/500\n",
            "2/2 [==============================] - 0s 9ms/step - loss: 16.2305 - mae: 16.2305\n",
            "Epoch 280/500\n",
            "2/2 [==============================] - 0s 19ms/step - loss: 21.4985 - mae: 21.4985\n",
            "Epoch 281/500\n",
            "2/2 [==============================] - 0s 12ms/step - loss: 23.1359 - mae: 23.1359\n",
            "Epoch 282/500\n",
            "2/2 [==============================] - 0s 26ms/step - loss: 8.0786 - mae: 8.0786\n",
            "Epoch 283/500\n",
            "2/2 [==============================] - 0s 12ms/step - loss: 8.3445 - mae: 8.3445\n",
            "Epoch 284/500\n",
            "2/2 [==============================] - 0s 7ms/step - loss: 25.8842 - mae: 25.8842\n",
            "Epoch 285/500\n",
            "2/2 [==============================] - 0s 9ms/step - loss: 14.4187 - mae: 14.4187\n",
            "Epoch 286/500\n",
            "2/2 [==============================] - 0s 44ms/step - loss: 4.5589 - mae: 4.5589\n",
            "Epoch 287/500\n",
            "2/2 [==============================] - 0s 13ms/step - loss: 12.9647 - mae: 12.9647\n",
            "Epoch 288/500\n",
            "2/2 [==============================] - 0s 11ms/step - loss: 24.7296 - mae: 24.7296\n",
            "Epoch 289/500\n",
            "2/2 [==============================] - 0s 10ms/step - loss: 9.7282 - mae: 9.7282\n",
            "Epoch 290/500\n",
            "2/2 [==============================] - 0s 5ms/step - loss: 11.8056 - mae: 11.8056\n",
            "Epoch 291/500\n",
            "2/2 [==============================] - 0s 12ms/step - loss: 10.1140 - mae: 10.1140\n",
            "Epoch 292/500\n",
            "2/2 [==============================] - 0s 11ms/step - loss: 16.7269 - mae: 16.7269\n",
            "Epoch 293/500\n",
            "2/2 [==============================] - 0s 11ms/step - loss: 17.5448 - mae: 17.5448\n",
            "Epoch 294/500\n",
            "2/2 [==============================] - 0s 19ms/step - loss: 30.0356 - mae: 30.0356\n",
            "Epoch 295/500\n",
            "2/2 [==============================] - 0s 15ms/step - loss: 8.0712 - mae: 8.0712\n",
            "Epoch 296/500\n",
            "2/2 [==============================] - 0s 17ms/step - loss: 16.2546 - mae: 16.2546\n",
            "Epoch 297/500\n",
            "2/2 [==============================] - 0s 17ms/step - loss: 14.4825 - mae: 14.4825\n",
            "Epoch 298/500\n",
            "2/2 [==============================] - 0s 26ms/step - loss: 27.0036 - mae: 27.0036\n",
            "Epoch 299/500\n",
            "2/2 [==============================] - 0s 19ms/step - loss: 11.0684 - mae: 11.0684\n",
            "Epoch 300/500\n",
            "2/2 [==============================] - 0s 16ms/step - loss: 7.6939 - mae: 7.6939\n",
            "Epoch 301/500\n",
            "2/2 [==============================] - 0s 8ms/step - loss: 21.9691 - mae: 21.9691\n",
            "Epoch 302/500\n",
            "2/2 [==============================] - 0s 20ms/step - loss: 7.5741 - mae: 7.5741\n",
            "Epoch 303/500\n",
            "2/2 [==============================] - 0s 29ms/step - loss: 18.5802 - mae: 18.5802\n",
            "Epoch 304/500\n",
            "2/2 [==============================] - 0s 15ms/step - loss: 12.3841 - mae: 12.3841\n",
            "Epoch 305/500\n",
            "2/2 [==============================] - 0s 11ms/step - loss: 7.5895 - mae: 7.5895\n",
            "Epoch 306/500\n",
            "2/2 [==============================] - 0s 11ms/step - loss: 21.7338 - mae: 21.7338\n",
            "Epoch 307/500\n",
            "2/2 [==============================] - 0s 13ms/step - loss: 8.2898 - mae: 8.2898\n",
            "Epoch 308/500\n",
            "2/2 [==============================] - 0s 8ms/step - loss: 20.9440 - mae: 20.9440\n",
            "Epoch 309/500\n",
            "2/2 [==============================] - 0s 25ms/step - loss: 19.2377 - mae: 19.2377\n",
            "Epoch 310/500\n",
            "2/2 [==============================] - 0s 18ms/step - loss: 6.0408 - mae: 6.0408\n",
            "Epoch 311/500\n",
            "2/2 [==============================] - 0s 17ms/step - loss: 7.9080 - mae: 7.9080\n",
            "Epoch 312/500\n",
            "2/2 [==============================] - 0s 12ms/step - loss: 30.5696 - mae: 30.5696\n",
            "Epoch 313/500\n",
            "2/2 [==============================] - 0s 18ms/step - loss: 5.2279 - mae: 5.2279\n",
            "Epoch 314/500\n",
            "2/2 [==============================] - 0s 12ms/step - loss: 12.7071 - mae: 12.7071\n",
            "Epoch 315/500\n",
            "2/2 [==============================] - 0s 19ms/step - loss: 13.0479 - mae: 13.0479\n",
            "Epoch 316/500\n",
            "2/2 [==============================] - 0s 16ms/step - loss: 4.8052 - mae: 4.8052\n",
            "Epoch 317/500\n",
            "2/2 [==============================] - 0s 5ms/step - loss: 27.7303 - mae: 27.7303\n",
            "Epoch 318/500\n",
            "2/2 [==============================] - 0s 17ms/step - loss: 11.3800 - mae: 11.3800\n",
            "Epoch 319/500\n",
            "2/2 [==============================] - 0s 12ms/step - loss: 6.4182 - mae: 6.4182\n",
            "Epoch 320/500\n",
            "2/2 [==============================] - 0s 12ms/step - loss: 22.8561 - mae: 22.8561\n",
            "Epoch 321/500\n",
            "2/2 [==============================] - 0s 14ms/step - loss: 4.5721 - mae: 4.5721\n",
            "Epoch 322/500\n",
            "2/2 [==============================] - 0s 8ms/step - loss: 18.1994 - mae: 18.1994\n",
            "Epoch 323/500\n",
            "2/2 [==============================] - 0s 5ms/step - loss: 6.6868 - mae: 6.6868\n",
            "Epoch 324/500\n",
            "2/2 [==============================] - 0s 12ms/step - loss: 12.7743 - mae: 12.7743\n",
            "Epoch 325/500\n",
            "2/2 [==============================] - 0s 6ms/step - loss: 9.4827 - mae: 9.4827\n",
            "Epoch 326/500\n",
            "2/2 [==============================] - 0s 9ms/step - loss: 20.3825 - mae: 20.3825\n",
            "Epoch 327/500\n",
            "2/2 [==============================] - 0s 5ms/step - loss: 26.8592 - mae: 26.8592\n",
            "Epoch 328/500\n",
            "2/2 [==============================] - 0s 25ms/step - loss: 11.9868 - mae: 11.9868\n",
            "Epoch 329/500\n",
            "2/2 [==============================] - 0s 7ms/step - loss: 16.7742 - mae: 16.7742\n",
            "Epoch 330/500\n",
            "2/2 [==============================] - 0s 8ms/step - loss: 7.1738 - mae: 7.1738\n",
            "Epoch 331/500\n",
            "2/2 [==============================] - 0s 10ms/step - loss: 21.5958 - mae: 21.5958\n",
            "Epoch 332/500\n",
            "2/2 [==============================] - 0s 8ms/step - loss: 12.4243 - mae: 12.4243\n",
            "Epoch 333/500\n",
            "2/2 [==============================] - 0s 6ms/step - loss: 11.9337 - mae: 11.9337\n",
            "Epoch 334/500\n",
            "2/2 [==============================] - 0s 8ms/step - loss: 8.3615 - mae: 8.3615\n",
            "Epoch 335/500\n",
            "2/2 [==============================] - 0s 26ms/step - loss: 12.5149 - mae: 12.5149\n",
            "Epoch 336/500\n",
            "2/2 [==============================] - 0s 13ms/step - loss: 32.2015 - mae: 32.2015\n",
            "Epoch 337/500\n",
            "2/2 [==============================] - 0s 16ms/step - loss: 10.4415 - mae: 10.4415\n",
            "Epoch 338/500\n",
            "2/2 [==============================] - 0s 6ms/step - loss: 19.6642 - mae: 19.6642\n",
            "Epoch 339/500\n",
            "2/2 [==============================] - 0s 5ms/step - loss: 35.1377 - mae: 35.1377\n",
            "Epoch 340/500\n",
            "2/2 [==============================] - 0s 7ms/step - loss: 10.0580 - mae: 10.0580\n",
            "Epoch 341/500\n",
            "2/2 [==============================] - 0s 6ms/step - loss: 13.7156 - mae: 13.7156\n",
            "Epoch 342/500\n",
            "2/2 [==============================] - 0s 8ms/step - loss: 15.3908 - mae: 15.3908\n",
            "Epoch 343/500\n",
            "2/2 [==============================] - 0s 22ms/step - loss: 11.0341 - mae: 11.0341\n",
            "Epoch 344/500\n",
            "2/2 [==============================] - 0s 7ms/step - loss: 9.9885 - mae: 9.9885\n",
            "Epoch 345/500\n",
            "2/2 [==============================] - 0s 8ms/step - loss: 30.9975 - mae: 30.9975\n",
            "Epoch 346/500\n",
            "2/2 [==============================] - 0s 10ms/step - loss: 10.7072 - mae: 10.7072\n",
            "Epoch 347/500\n",
            "2/2 [==============================] - 0s 11ms/step - loss: 25.6958 - mae: 25.6958\n",
            "Epoch 348/500\n",
            "2/2 [==============================] - 0s 5ms/step - loss: 12.9903 - mae: 12.9903\n",
            "Epoch 349/500\n",
            "2/2 [==============================] - 0s 7ms/step - loss: 13.1615 - mae: 13.1615\n",
            "Epoch 350/500\n",
            "2/2 [==============================] - 0s 6ms/step - loss: 15.4552 - mae: 15.4552\n",
            "Epoch 351/500\n",
            "2/2 [==============================] - 0s 16ms/step - loss: 32.9458 - mae: 32.9458\n",
            "Epoch 352/500\n",
            "2/2 [==============================] - 0s 7ms/step - loss: 14.2055 - mae: 14.2055\n",
            "Epoch 353/500\n",
            "2/2 [==============================] - 0s 8ms/step - loss: 15.9213 - mae: 15.9213\n",
            "Epoch 354/500\n",
            "2/2 [==============================] - 0s 6ms/step - loss: 19.0852 - mae: 19.0852\n",
            "Epoch 355/500\n",
            "2/2 [==============================] - 0s 14ms/step - loss: 34.1386 - mae: 34.1386\n",
            "Epoch 356/500\n",
            "2/2 [==============================] - 0s 8ms/step - loss: 7.7451 - mae: 7.7451\n",
            "Epoch 357/500\n",
            "2/2 [==============================] - 0s 17ms/step - loss: 25.2027 - mae: 25.2027\n",
            "Epoch 358/500\n",
            "2/2 [==============================] - 0s 21ms/step - loss: 22.6790 - mae: 22.6790\n",
            "Epoch 359/500\n",
            "2/2 [==============================] - 0s 8ms/step - loss: 8.9378 - mae: 8.9378\n",
            "Epoch 360/500\n",
            "2/2 [==============================] - 0s 18ms/step - loss: 21.4998 - mae: 21.4998\n",
            "Epoch 361/500\n",
            "2/2 [==============================] - 0s 14ms/step - loss: 20.5541 - mae: 20.5541\n",
            "Epoch 362/500\n",
            "2/2 [==============================] - 0s 19ms/step - loss: 7.1344 - mae: 7.1344\n",
            "Epoch 363/500\n",
            "2/2 [==============================] - 0s 14ms/step - loss: 25.7260 - mae: 25.7260\n",
            "Epoch 364/500\n",
            "2/2 [==============================] - 0s 8ms/step - loss: 32.1203 - mae: 32.1203\n",
            "Epoch 365/500\n",
            "2/2 [==============================] - 0s 21ms/step - loss: 10.0211 - mae: 10.0211\n",
            "Epoch 366/500\n",
            "2/2 [==============================] - 0s 11ms/step - loss: 9.7280 - mae: 9.7280\n",
            "Epoch 367/500\n",
            "2/2 [==============================] - 0s 10ms/step - loss: 30.4515 - mae: 30.4515\n",
            "Epoch 368/500\n",
            "2/2 [==============================] - 0s 31ms/step - loss: 10.5645 - mae: 10.5645\n",
            "Epoch 369/500\n",
            "2/2 [==============================] - 0s 14ms/step - loss: 15.0538 - mae: 15.0538\n",
            "Epoch 370/500\n",
            "2/2 [==============================] - 0s 13ms/step - loss: 14.7023 - mae: 14.7023\n",
            "Epoch 371/500\n",
            "2/2 [==============================] - 0s 6ms/step - loss: 23.4505 - mae: 23.4505\n",
            "Epoch 372/500\n",
            "2/2 [==============================] - 0s 9ms/step - loss: 12.9858 - mae: 12.9858\n",
            "Epoch 373/500\n",
            "2/2 [==============================] - 0s 19ms/step - loss: 8.9178 - mae: 8.9178\n",
            "Epoch 374/500\n",
            "2/2 [==============================] - 0s 31ms/step - loss: 5.9141 - mae: 5.9141\n",
            "Epoch 375/500\n",
            "2/2 [==============================] - 0s 28ms/step - loss: 14.8029 - mae: 14.8029\n",
            "Epoch 376/500\n",
            "2/2 [==============================] - 0s 13ms/step - loss: 16.5551 - mae: 16.5551\n",
            "Epoch 377/500\n",
            "2/2 [==============================] - 0s 18ms/step - loss: 5.3909 - mae: 5.3909\n",
            "Epoch 378/500\n",
            "2/2 [==============================] - 0s 14ms/step - loss: 20.0271 - mae: 20.0271\n",
            "Epoch 379/500\n",
            "2/2 [==============================] - 0s 18ms/step - loss: 30.7382 - mae: 30.7382\n",
            "Epoch 380/500\n",
            "2/2 [==============================] - 0s 6ms/step - loss: 26.7455 - mae: 26.7455\n",
            "Epoch 381/500\n",
            "2/2 [==============================] - 0s 10ms/step - loss: 6.5673 - mae: 6.5673\n",
            "Epoch 382/500\n",
            "2/2 [==============================] - 0s 14ms/step - loss: 7.5941 - mae: 7.5941\n",
            "Epoch 383/500\n",
            "2/2 [==============================] - 0s 20ms/step - loss: 15.4091 - mae: 15.4091\n",
            "Epoch 384/500\n",
            "2/2 [==============================] - 0s 36ms/step - loss: 15.9714 - mae: 15.9714\n",
            "Epoch 385/500\n",
            "2/2 [==============================] - 0s 18ms/step - loss: 11.6070 - mae: 11.6070\n",
            "Epoch 386/500\n",
            "2/2 [==============================] - 0s 13ms/step - loss: 19.8832 - mae: 19.8832\n",
            "Epoch 387/500\n",
            "2/2 [==============================] - 0s 10ms/step - loss: 24.5391 - mae: 24.5391\n",
            "Epoch 388/500\n",
            "2/2 [==============================] - 0s 7ms/step - loss: 8.2612 - mae: 8.2612\n",
            "Epoch 389/500\n",
            "2/2 [==============================] - 0s 13ms/step - loss: 10.7574 - mae: 10.7574\n",
            "Epoch 390/500\n",
            "2/2 [==============================] - 0s 9ms/step - loss: 4.8437 - mae: 4.8437\n",
            "Epoch 391/500\n",
            "2/2 [==============================] - 0s 18ms/step - loss: 18.8672 - mae: 18.8672\n",
            "Epoch 392/500\n",
            "2/2 [==============================] - 0s 8ms/step - loss: 26.9072 - mae: 26.9072\n",
            "Epoch 393/500\n",
            "2/2 [==============================] - 0s 6ms/step - loss: 12.2706 - mae: 12.2706\n",
            "Epoch 394/500\n",
            "2/2 [==============================] - 0s 8ms/step - loss: 11.8701 - mae: 11.8701\n",
            "Epoch 395/500\n",
            "2/2 [==============================] - 0s 17ms/step - loss: 25.3359 - mae: 25.3359\n",
            "Epoch 396/500\n",
            "2/2 [==============================] - 0s 13ms/step - loss: 18.1715 - mae: 18.1715\n",
            "Epoch 397/500\n",
            "2/2 [==============================] - 0s 9ms/step - loss: 11.8476 - mae: 11.8476\n",
            "Epoch 398/500\n",
            "2/2 [==============================] - 0s 4ms/step - loss: 19.7178 - mae: 19.7178\n",
            "Epoch 399/500\n",
            "2/2 [==============================] - 0s 9ms/step - loss: 24.8230 - mae: 24.8230\n",
            "Epoch 400/500\n",
            "2/2 [==============================] - 0s 14ms/step - loss: 14.5209 - mae: 14.5209\n",
            "Epoch 401/500\n",
            "2/2 [==============================] - 0s 21ms/step - loss: 14.5764 - mae: 14.5764\n",
            "Epoch 402/500\n",
            "2/2 [==============================] - 0s 7ms/step - loss: 24.0402 - mae: 24.0402\n",
            "Epoch 403/500\n",
            "2/2 [==============================] - 0s 8ms/step - loss: 16.9138 - mae: 16.9138\n",
            "Epoch 404/500\n",
            "2/2 [==============================] - 0s 9ms/step - loss: 9.8358 - mae: 9.8358\n",
            "Epoch 405/500\n",
            "2/2 [==============================] - 0s 11ms/step - loss: 6.9995 - mae: 6.9995\n",
            "Epoch 406/500\n",
            "2/2 [==============================] - 0s 8ms/step - loss: 20.1846 - mae: 20.1846\n",
            "Epoch 407/500\n",
            "2/2 [==============================] - 0s 7ms/step - loss: 9.1598 - mae: 9.1598\n",
            "Epoch 408/500\n",
            "2/2 [==============================] - 0s 15ms/step - loss: 21.9656 - mae: 21.9656\n",
            "Epoch 409/500\n",
            "2/2 [==============================] - 0s 7ms/step - loss: 27.6583 - mae: 27.6583\n",
            "Epoch 410/500\n",
            "2/2 [==============================] - 0s 11ms/step - loss: 10.8252 - mae: 10.8252\n",
            "Epoch 411/500\n",
            "2/2 [==============================] - 0s 10ms/step - loss: 14.9124 - mae: 14.9124\n",
            "Epoch 412/500\n",
            "2/2 [==============================] - 0s 13ms/step - loss: 21.7789 - mae: 21.7789\n",
            "Epoch 413/500\n",
            "2/2 [==============================] - 0s 14ms/step - loss: 12.5905 - mae: 12.5905\n",
            "Epoch 414/500\n",
            "2/2 [==============================] - 0s 9ms/step - loss: 6.1575 - mae: 6.1575\n",
            "Epoch 415/500\n",
            "2/2 [==============================] - 0s 7ms/step - loss: 13.2468 - mae: 13.2468\n",
            "Epoch 416/500\n",
            "2/2 [==============================] - 0s 6ms/step - loss: 27.4754 - mae: 27.4754\n",
            "Epoch 417/500\n",
            "2/2 [==============================] - 0s 9ms/step - loss: 10.3612 - mae: 10.3612\n",
            "Epoch 418/500\n",
            "2/2 [==============================] - 0s 7ms/step - loss: 11.9214 - mae: 11.9214\n",
            "Epoch 419/500\n",
            "2/2 [==============================] - 0s 7ms/step - loss: 15.5894 - mae: 15.5894\n",
            "Epoch 420/500\n",
            "2/2 [==============================] - 0s 6ms/step - loss: 24.0974 - mae: 24.0974\n",
            "Epoch 421/500\n",
            "2/2 [==============================] - 0s 5ms/step - loss: 19.1192 - mae: 19.1192\n",
            "Epoch 422/500\n",
            "2/2 [==============================] - 0s 9ms/step - loss: 6.0319 - mae: 6.0319\n",
            "Epoch 423/500\n",
            "2/2 [==============================] - 0s 7ms/step - loss: 27.2857 - mae: 27.2857\n",
            "Epoch 424/500\n",
            "2/2 [==============================] - 0s 8ms/step - loss: 10.3512 - mae: 10.3512\n",
            "Epoch 425/500\n",
            "2/2 [==============================] - 0s 8ms/step - loss: 9.9856 - mae: 9.9856\n",
            "Epoch 426/500\n",
            "2/2 [==============================] - 0s 5ms/step - loss: 8.3962 - mae: 8.3962\n",
            "Epoch 427/500\n",
            "2/2 [==============================] - 0s 12ms/step - loss: 12.9122 - mae: 12.9122\n",
            "Epoch 428/500\n",
            "2/2 [==============================] - 0s 13ms/step - loss: 9.0427 - mae: 9.0427\n",
            "Epoch 429/500\n",
            "2/2 [==============================] - 0s 12ms/step - loss: 25.9799 - mae: 25.9799\n",
            "Epoch 430/500\n",
            "2/2 [==============================] - 0s 7ms/step - loss: 17.1087 - mae: 17.1087\n",
            "Epoch 431/500\n",
            "2/2 [==============================] - 0s 6ms/step - loss: 10.1463 - mae: 10.1463\n",
            "Epoch 432/500\n",
            "2/2 [==============================] - 0s 6ms/step - loss: 13.5178 - mae: 13.5178\n",
            "Epoch 433/500\n",
            "2/2 [==============================] - 0s 8ms/step - loss: 11.4242 - mae: 11.4242\n",
            "Epoch 434/500\n",
            "2/2 [==============================] - 0s 5ms/step - loss: 30.3877 - mae: 30.3877\n",
            "Epoch 435/500\n",
            "2/2 [==============================] - 0s 7ms/step - loss: 10.5582 - mae: 10.5582\n",
            "Epoch 436/500\n",
            "2/2 [==============================] - 0s 6ms/step - loss: 28.8805 - mae: 28.8805\n",
            "Epoch 437/500\n",
            "2/2 [==============================] - 0s 6ms/step - loss: 8.2290 - mae: 8.2290\n",
            "Epoch 438/500\n",
            "2/2 [==============================] - 0s 6ms/step - loss: 12.8752 - mae: 12.8752\n",
            "Epoch 439/500\n",
            "2/2 [==============================] - 0s 7ms/step - loss: 33.9734 - mae: 33.9734\n",
            "Epoch 440/500\n",
            "2/2 [==============================] - 0s 9ms/step - loss: 15.5838 - mae: 15.5838\n",
            "Epoch 441/500\n",
            "2/2 [==============================] - 0s 6ms/step - loss: 17.9953 - mae: 17.9953\n",
            "Epoch 442/500\n",
            "2/2 [==============================] - 0s 8ms/step - loss: 17.1498 - mae: 17.1498\n",
            "Epoch 443/500\n",
            "2/2 [==============================] - 0s 18ms/step - loss: 6.3392 - mae: 6.3392\n",
            "Epoch 444/500\n",
            "2/2 [==============================] - 0s 10ms/step - loss: 24.1812 - mae: 24.1812\n",
            "Epoch 445/500\n",
            "2/2 [==============================] - 0s 10ms/step - loss: 8.4929 - mae: 8.4929\n",
            "Epoch 446/500\n",
            "2/2 [==============================] - 0s 15ms/step - loss: 8.4474 - mae: 8.4474\n",
            "Epoch 447/500\n",
            "2/2 [==============================] - 0s 13ms/step - loss: 10.6204 - mae: 10.6204\n",
            "Epoch 448/500\n",
            "2/2 [==============================] - 0s 13ms/step - loss: 15.5389 - mae: 15.5389\n",
            "Epoch 449/500\n",
            "2/2 [==============================] - 0s 17ms/step - loss: 17.2815 - mae: 17.2815\n",
            "Epoch 450/500\n",
            "2/2 [==============================] - 0s 8ms/step - loss: 16.0319 - mae: 16.0319\n",
            "Epoch 451/500\n",
            "2/2 [==============================] - 0s 11ms/step - loss: 18.7857 - mae: 18.7857\n",
            "Epoch 452/500\n",
            "2/2 [==============================] - 0s 6ms/step - loss: 40.5932 - mae: 40.5932\n",
            "Epoch 453/500\n",
            "2/2 [==============================] - 0s 13ms/step - loss: 23.0122 - mae: 23.0122\n",
            "Epoch 454/500\n",
            "2/2 [==============================] - 0s 10ms/step - loss: 19.5126 - mae: 19.5126\n",
            "Epoch 455/500\n",
            "2/2 [==============================] - 0s 8ms/step - loss: 6.3512 - mae: 6.3512\n",
            "Epoch 456/500\n",
            "2/2 [==============================] - 0s 18ms/step - loss: 6.9088 - mae: 6.9088\n",
            "Epoch 457/500\n",
            "2/2 [==============================] - 0s 9ms/step - loss: 16.0833 - mae: 16.0833\n",
            "Epoch 458/500\n",
            "2/2 [==============================] - 0s 14ms/step - loss: 11.0741 - mae: 11.0741\n",
            "Epoch 459/500\n",
            "2/2 [==============================] - 0s 8ms/step - loss: 23.1138 - mae: 23.1138\n",
            "Epoch 460/500\n",
            "2/2 [==============================] - 0s 4ms/step - loss: 22.2583 - mae: 22.2583\n",
            "Epoch 461/500\n",
            "2/2 [==============================] - 0s 9ms/step - loss: 8.0240 - mae: 8.0240\n",
            "Epoch 462/500\n",
            "2/2 [==============================] - 0s 4ms/step - loss: 13.3943 - mae: 13.3943\n",
            "Epoch 463/500\n",
            "2/2 [==============================] - 0s 8ms/step - loss: 29.6853 - mae: 29.6853\n",
            "Epoch 464/500\n",
            "2/2 [==============================] - 0s 20ms/step - loss: 4.1540 - mae: 4.1540\n",
            "Epoch 465/500\n",
            "2/2 [==============================] - 0s 5ms/step - loss: 23.1036 - mae: 23.1036\n",
            "Epoch 466/500\n",
            "2/2 [==============================] - 0s 23ms/step - loss: 21.3669 - mae: 21.3669\n",
            "Epoch 467/500\n",
            "2/2 [==============================] - 0s 15ms/step - loss: 11.6281 - mae: 11.6281\n",
            "Epoch 468/500\n",
            "2/2 [==============================] - 0s 15ms/step - loss: 10.4035 - mae: 10.4035\n",
            "Epoch 469/500\n",
            "2/2 [==============================] - 0s 7ms/step - loss: 27.3541 - mae: 27.3541\n",
            "Epoch 470/500\n",
            "2/2 [==============================] - 0s 9ms/step - loss: 12.4968 - mae: 12.4968\n",
            "Epoch 471/500\n",
            "2/2 [==============================] - 0s 6ms/step - loss: 12.0737 - mae: 12.0737\n",
            "Epoch 472/500\n",
            "2/2 [==============================] - 0s 5ms/step - loss: 15.5320 - mae: 15.5320\n",
            "Epoch 473/500\n",
            "2/2 [==============================] - 0s 14ms/step - loss: 15.5657 - mae: 15.5657\n",
            "Epoch 474/500\n",
            "2/2 [==============================] - 0s 9ms/step - loss: 8.8494 - mae: 8.8494\n",
            "Epoch 475/500\n",
            "2/2 [==============================] - 0s 38ms/step - loss: 5.5888 - mae: 5.5888\n",
            "Epoch 476/500\n",
            "2/2 [==============================] - 0s 12ms/step - loss: 8.8801 - mae: 8.8801\n",
            "Epoch 477/500\n",
            "2/2 [==============================] - 0s 9ms/step - loss: 28.4126 - mae: 28.4126\n",
            "Epoch 478/500\n",
            "2/2 [==============================] - 0s 9ms/step - loss: 7.1581 - mae: 7.1581\n",
            "Epoch 479/500\n",
            "2/2 [==============================] - 0s 12ms/step - loss: 5.9526 - mae: 5.9526\n",
            "Epoch 480/500\n",
            "2/2 [==============================] - 0s 14ms/step - loss: 18.6102 - mae: 18.6102\n",
            "Epoch 481/500\n",
            "2/2 [==============================] - 0s 10ms/step - loss: 10.9453 - mae: 10.9453\n",
            "Epoch 482/500\n",
            "2/2 [==============================] - 0s 11ms/step - loss: 18.4215 - mae: 18.4215\n",
            "Epoch 483/500\n",
            "2/2 [==============================] - 0s 14ms/step - loss: 19.8869 - mae: 19.8869\n",
            "Epoch 484/500\n",
            "2/2 [==============================] - 0s 11ms/step - loss: 18.1045 - mae: 18.1045\n",
            "Epoch 485/500\n",
            "2/2 [==============================] - 0s 18ms/step - loss: 7.9522 - mae: 7.9522\n",
            "Epoch 486/500\n",
            "2/2 [==============================] - 0s 12ms/step - loss: 19.4850 - mae: 19.4850\n",
            "Epoch 487/500\n",
            "2/2 [==============================] - 0s 10ms/step - loss: 12.2086 - mae: 12.2086\n",
            "Epoch 488/500\n",
            "2/2 [==============================] - 0s 9ms/step - loss: 12.5290 - mae: 12.5290\n",
            "Epoch 489/500\n",
            "2/2 [==============================] - 0s 14ms/step - loss: 16.1476 - mae: 16.1476\n",
            "Epoch 490/500\n",
            "2/2 [==============================] - 0s 9ms/step - loss: 14.3204 - mae: 14.3204\n",
            "Epoch 491/500\n",
            "2/2 [==============================] - 0s 12ms/step - loss: 26.4407 - mae: 26.4407\n",
            "Epoch 492/500\n",
            "2/2 [==============================] - 0s 14ms/step - loss: 13.4635 - mae: 13.4635\n",
            "Epoch 493/500\n",
            "2/2 [==============================] - 0s 7ms/step - loss: 9.2156 - mae: 9.2156\n",
            "Epoch 494/500\n",
            "2/2 [==============================] - 0s 18ms/step - loss: 13.3277 - mae: 13.3277\n",
            "Epoch 495/500\n",
            "2/2 [==============================] - 0s 10ms/step - loss: 14.3671 - mae: 14.3671\n",
            "Epoch 496/500\n",
            "2/2 [==============================] - 0s 13ms/step - loss: 12.4852 - mae: 12.4852\n",
            "Epoch 497/500\n",
            "2/2 [==============================] - 0s 8ms/step - loss: 17.8324 - mae: 17.8324\n",
            "Epoch 498/500\n",
            "2/2 [==============================] - 0s 10ms/step - loss: 23.1085 - mae: 23.1085\n",
            "Epoch 499/500\n",
            "2/2 [==============================] - 0s 5ms/step - loss: 8.9157 - mae: 8.9157\n",
            "Epoch 500/500\n",
            "2/2 [==============================] - 0s 15ms/step - loss: 14.4352 - mae: 14.4352\n"
          ]
        },
        {
          "output_type": "execute_result",
          "data": {
            "text/plain": [
              "<keras.callbacks.History at 0x7fb089c26390>"
            ]
          },
          "metadata": {},
          "execution_count": 149
        }
      ]
    },
    {
      "cell_type": "code",
      "source": [
        "y_eval_2 = model_2.evaluate(X_test, y_test)"
      ],
      "metadata": {
        "colab": {
          "base_uri": "https://localhost:8080/"
        },
        "id": "3o5qZ5Z4lpXh",
        "outputId": "be4d5d08-91fd-407d-ecf3-e5e35376a337"
      },
      "execution_count": null,
      "outputs": [
        {
          "output_type": "stream",
          "name": "stdout",
          "text": [
            "1/1 [==============================] - 0s 23ms/step - loss: 9.1136 - mae: 9.1136\n"
          ]
        }
      ]
    },
    {
      "cell_type": "code",
      "source": [
        "y_eval_3 = model_3.evaluate(X_test, y_test)"
      ],
      "metadata": {
        "colab": {
          "base_uri": "https://localhost:8080/"
        },
        "id": "vHygQdUulyp0",
        "outputId": "a6e59460-9d34-46e1-8443-f0f29a64e269"
      },
      "execution_count": null,
      "outputs": [
        {
          "output_type": "stream",
          "name": "stdout",
          "text": [
            "1/1 [==============================] - 0s 49ms/step - loss: 64.8998 - mae: 64.8998\n"
          ]
        }
      ]
    },
    {
      "cell_type": "code",
      "source": [
        "y_eval_1 = model_1.evaluate(X_test, y_test)"
      ],
      "metadata": {
        "colab": {
          "base_uri": "https://localhost:8080/"
        },
        "id": "R2NKl_gVl26F",
        "outputId": "e3a2040c-46ac-4b27-e17f-54790d6f9376"
      },
      "execution_count": null,
      "outputs": [
        {
          "output_type": "stream",
          "name": "stdout",
          "text": [
            "1/1 [==============================] - 0s 20ms/step - loss: 29.4228 - mae: 29.4228\n"
          ]
        }
      ]
    },
    {
      "cell_type": "code",
      "source": [
        "y_pred_1 = model_1.predict(X_test)\n",
        "y_pred_2 = model_2.predict(X_test)\n",
        "y_pred_3 = model_3.predict(X_test)"
      ],
      "metadata": {
        "colab": {
          "base_uri": "https://localhost:8080/"
        },
        "id": "eZxbEsyjnyVT",
        "outputId": "e241d7b2-8767-4233-84d2-b10bf44ac613"
      },
      "execution_count": null,
      "outputs": [
        {
          "output_type": "stream",
          "name": "stdout",
          "text": [
            "1/1 [==============================] - 0s 44ms/step\n"
          ]
        },
        {
          "output_type": "stream",
          "name": "stderr",
          "text": [
            "WARNING:tensorflow:5 out of the last 5 calls to <function Model.make_predict_function.<locals>.predict_function at 0x7fb08befe050> triggered tf.function retracing. Tracing is expensive and the excessive number of tracings could be due to (1) creating @tf.function repeatedly in a loop, (2) passing tensors with different shapes, (3) passing Python objects instead of tensors. For (1), please define your @tf.function outside of the loop. For (2), @tf.function has reduce_retracing=True option that can avoid unnecessary retracing. For (3), please refer to https://www.tensorflow.org/guide/function#controlling_retracing and https://www.tensorflow.org/api_docs/python/tf/function for  more details.\n"
          ]
        },
        {
          "output_type": "stream",
          "name": "stdout",
          "text": [
            "1/1 [==============================] - 0s 53ms/step\n"
          ]
        },
        {
          "output_type": "stream",
          "name": "stderr",
          "text": [
            "WARNING:tensorflow:6 out of the last 6 calls to <function Model.make_predict_function.<locals>.predict_function at 0x7fb08bead200> triggered tf.function retracing. Tracing is expensive and the excessive number of tracings could be due to (1) creating @tf.function repeatedly in a loop, (2) passing tensors with different shapes, (3) passing Python objects instead of tensors. For (1), please define your @tf.function outside of the loop. For (2), @tf.function has reduce_retracing=True option that can avoid unnecessary retracing. For (3), please refer to https://www.tensorflow.org/guide/function#controlling_retracing and https://www.tensorflow.org/api_docs/python/tf/function for  more details.\n"
          ]
        },
        {
          "output_type": "stream",
          "name": "stdout",
          "text": [
            "1/1 [==============================] - 0s 54ms/step\n"
          ]
        }
      ]
    },
    {
      "cell_type": "code",
      "source": [
        "# Plotting the graphs\n",
        "plot_predictions(\n",
        "    predictions = y_pred_1\n",
        ")\n",
        "\n",
        "plot_predictions(\n",
        "    predictions = y_pred_2\n",
        ")\n",
        "\n",
        "plot_predictions(\n",
        "    predictions = y_pred_3\n",
        ")"
      ],
      "metadata": {
        "colab": {
          "base_uri": "https://localhost:8080/",
          "height": 1000
        },
        "id": "Zh3UBRqqnGue",
        "outputId": "258db459-9f0e-4470-9efc-5fd1ca2398bd"
      },
      "execution_count": null,
      "outputs": [
        {
          "output_type": "display_data",
          "data": {
            "text/plain": [
              "<Figure size 720x504 with 1 Axes>"
            ],
            "image/png": "[encoded data removed]"
          },
          "metadata": {
            "needs_background": "light"
          }
        },
        {
          "output_type": "display_data",
          "data": {
            "text/plain": [
              "<Figure size 720x504 with 1 Axes>"
            ],
            "image/png": "[encoded data removed]"
          },
          "metadata": {
            "needs_background": "light"
          }
        },
        {
          "output_type": "display_data",
          "data": {
            "text/plain": [
              "<Figure size 720x504 with 1 Axes>"
            ],
            "image/png": "[encoded data removed]"
          },
          "metadata": {
            "needs_background": "light"
          }
        }
      ]
    },
    {
      "cell_type": "code",
      "source": [
        "# Calculate model_1, model_2, model_3 evaluation metrics\n",
        "mae_1 = mae(y_test, y_pred_1)\n",
        "mse_1 = mse(y_test, y_pred_1)\n",
        "mae_2 = mae(y_test, y_pred_2)\n",
        "mse_2 = mse(y_test, y_pred_2)\n",
        "mae_3 = mae(y_test, y_pred_3)\n",
        "mse_3 = mse(y_test, y_pred_3)\n",
        "\n",
        "print(\"mae 1:\", mae_1.numpy(), \"\\n\")\n",
        "print(\"mae 2:\", mae_2.numpy(), \"\\n\")\n",
        "print(\"mae 3:\", mae_3.numpy(), \"\\n\")\n",
        "\n",
        "print(\"\\n\")\n",
        "print(\"mse 1:\", mse_1.numpy(), \"\\n\")\n",
        "print(\"mse 2:\", mse_2.numpy(), \"\\n\")\n",
        "print(\"mse 3:\", mse_3.numpy(), \"\\n\")"
      ],
      "metadata": {
        "colab": {
          "base_uri": "https://localhost:8080/"
        },
        "id": "el8zXfz-nRLh",
        "outputId": "444269f9-f987-46c3-ee59-ec979499dd1e"
      },
      "execution_count": null,
      "outputs": [
        {
          "output_type": "stream",
          "name": "stdout",
          "text": [
            "mae 1: 29.422766 \n",
            "\n",
            "mae 2: 9.113599 \n",
            "\n",
            "mae 3: 64.89977 \n",
            "\n",
            "\n",
            "\n",
            "mse 1: 876.0576 \n",
            "\n",
            "mse 2: 90.3181 \n",
            "\n",
            "mse 3: 4296.6626 \n",
            "\n"
          ]
        }
      ]
    },
    {
      "cell_type": "markdown",
      "source": [
        "## Compare experiment results\n",
        "\n",
        "We've run a few experiments. Let's compare the results of these experiments now."
      ],
      "metadata": {
        "id": "na2S4OXRozYf"
      }
    },
    {
      "cell_type": "code",
      "source": [
        "# Let's compare our model's results using a pandas DataFrame\n",
        "import pandas as pd\n",
        "model_results = [\n",
        "    [\"model 1\", mae_1.numpy(), mse_1.numpy()],\n",
        "    [\"model 2\", mae_2.numpy(), mse_2.numpy()],\n",
        "    [\"model 3\", mae_3.numpy(), mse_3.numpy()],\n",
        "]\n",
        "\n",
        "\n",
        "all_results = pd.DataFrame(model_results, columns = [\"model\", \"mae\", \"mse\"])\n",
        "all_results"
      ],
      "metadata": {
        "colab": {
          "base_uri": "https://localhost:8080/",
          "height": 143
        },
        "id": "cd_q2n1Ap08Z",
        "outputId": "00e38db3-9318-41ee-f1cc-a92304e87b58"
      },
      "execution_count": null,
      "outputs": [
        {
          "output_type": "execute_result",
          "data": {
            "text/plain": [
              "     model        mae          mse\n",
              "0  model 1  29.422766   876.057617\n",
              "1  model 2   9.113599    90.318100\n",
              "2  model 3  64.899773  4296.662598"
            ],
            "text/html": [
              "\n",
              "  <div id=\"df-2d53b46a-10f1-4403-8cc6-5036b1852df6\">\n",
              "    <div class=\"colab-df-container\">\n",
              "      <div>\n",
              "<style scoped>\n",
              "    .dataframe tbody tr th:only-of-type {\n",
              "        vertical-align: middle;\n",
              "    }\n",
              "\n",
              "    .dataframe tbody tr th {\n",
              "        vertical-align: top;\n",
              "    }\n",
              "\n",
              "    .dataframe thead th {\n",
              "        text-align: right;\n",
              "    }\n",
              "</style>\n",
              "<table border=\"1\" class=\"dataframe\">\n",
              "  <thead>\n",
              "    <tr style=\"text-align: right;\">\n",
              "      <th></th>\n",
              "      <th>model</th>\n",
              "      <th>mae</th>\n",
              "      <th>mse</th>\n",
              "    </tr>\n",
              "  </thead>\n",
              "  <tbody>\n",
              "    <tr>\n",
              "      <th>0</th>\n",
              "      <td>model 1</td>\n",
              "      <td>29.422766</td>\n",
              "      <td>876.057617</td>\n",
              "    </tr>\n",
              "    <tr>\n",
              "      <th>1</th>\n",
              "      <td>model 2</td>\n",
              "      <td>9.113599</td>\n",
              "      <td>90.318100</td>\n",
              "    </tr>\n",
              "    <tr>\n",
              "      <th>2</th>\n",
              "      <td>model 3</td>\n",
              "      <td>64.899773</td>\n",
              "      <td>4296.662598</td>\n",
              "    </tr>\n",
              "  </tbody>\n",
              "</table>\n",
              "</div>\n",
              "      <button class=\"colab-df-convert\" onclick=\"convertToInteractive('df-2d53b46a-10f1-4403-8cc6-5036b1852df6')\"\n",
              "              title=\"Convert this dataframe to an interactive table.\"\n",
              "              style=\"display:none;\">\n",
              "        \n",
              "  <svg xmlns=\"http://www.w3.org/2000/svg\" height=\"24px\"viewBox=\"0 0 24 24\"\n",
              "       width=\"24px\">\n",
              "    <path d=\"M0 0h24v24H0V0z\" fill=\"none\"/>\n",
              "    <path d=\"M18.56 5.44l.94 2.06.94-2.06 2.06-.94-2.06-.94-.94-2.06-.94 2.06-2.06.94zm-11 1L8.5 8.5l.94-2.06 2.06-.94-2.06-.94L8.5 2.5l-.94 2.06-2.06.94zm10 10l.94 2.06.94-2.06 2.06-.94-2.06-.94-.94-2.06-.94 2.06-2.06.94z\"/><path d=\"M17.41 7.96l-1.37-1.37c-.4-.4-.92-.59-1.43-.59-.52 0-1.04.2-1.43.59L10.3 9.45l-7.72 7.72c-.78.78-.78 2.05 0 2.83L4 21.41c.39.39.9.59 1.41.59.51 0 1.02-.2 1.41-.59l7.78-7.78 2.81-2.81c.8-.78.8-2.07 0-2.86zM5.41 20L4 18.59l7.72-7.72 1.47 1.35L5.41 20z\"/>\n",
              "  </svg>\n",
              "      </button>\n",
              "      \n",
              "  <style>\n",
              "    .colab-df-container {\n",
              "      display:flex;\n",
              "      flex-wrap:wrap;\n",
              "      gap: 12px;\n",
              "    }\n",
              "\n",
              "    .colab-df-convert {\n",
              "      background-color: #E8F0FE;\n",
              "      border: none;\n",
              "      border-radius: 50%;\n",
              "      cursor: pointer;\n",
              "      display: none;\n",
              "      fill: #1967D2;\n",
              "      height: 32px;\n",
              "      padding: 0 0 0 0;\n",
              "      width: 32px;\n",
              "    }\n",
              "\n",
              "    .colab-df-convert:hover {\n",
              "      background-color: #E2EBFA;\n",
              "      box-shadow: 0px 1px 2px rgba(60, 64, 67, 0.3), 0px 1px 3px 1px rgba(60, 64, 67, 0.15);\n",
              "      fill: #174EA6;\n",
              "    }\n",
              "\n",
              "    [theme=dark] .colab-df-convert {\n",
              "      background-color: #3B4455;\n",
              "      fill: #D2E3FC;\n",
              "    }\n",
              "\n",
              "    [theme=dark] .colab-df-convert:hover {\n",
              "      background-color: #434B5C;\n",
              "      box-shadow: 0px 1px 3px 1px rgba(0, 0, 0, 0.15);\n",
              "      filter: drop-shadow(0px 1px 2px rgba(0, 0, 0, 0.3));\n",
              "      fill: #FFFFFF;\n",
              "    }\n",
              "  </style>\n",
              "\n",
              "      <script>\n",
              "        const buttonEl =\n",
              "          document.querySelector('#df-2d53b46a-10f1-4403-8cc6-5036b1852df6 button.colab-df-convert');\n",
              "        buttonEl.style.display =\n",
              "          google.colab.kernel.accessAllowed ? 'block' : 'none';\n",
              "\n",
              "        async function convertToInteractive(key) {\n",
              "          const element = document.querySelector('#df-2d53b46a-10f1-4403-8cc6-5036b1852df6');\n",
              "          const dataTable =\n",
              "            await google.colab.kernel.invokeFunction('convertToInteractive',\n",
              "                                                     [key], {});\n",
              "          if (!dataTable) return;\n",
              "\n",
              "          const docLinkHtml = 'Like what you see? Visit the ' +\n",
              "            '<a target=\"_blank\" href=https://colab.research.google.com/notebooks/data_table.ipynb>data table notebook</a>'\n",
              "            + ' to learn more about interactive tables.';\n",
              "          element.innerHTML = '';\n",
              "          dataTable['output_type'] = 'display_data';\n",
              "          await google.colab.output.renderOutput(dataTable, element);\n",
              "          const docLink = document.createElement('div');\n",
              "          docLink.innerHTML = docLinkHtml;\n",
              "          element.appendChild(docLink);\n",
              "        }\n",
              "      </script>\n",
              "    </div>\n",
              "  </div>\n",
              "  "
            ]
          },
          "metadata": {},
          "execution_count": 173
        }
      ]
    },
    {
      "cell_type": "markdown",
      "source": [
        "Looks like `model_2` performed the best"
      ],
      "metadata": {
        "id": "ji_gc4Nyqf19"
      }
    },
    {
      "cell_type": "code",
      "source": [
        "model_2.summary()"
      ],
      "metadata": {
        "colab": {
          "base_uri": "https://localhost:8080/"
        },
        "id": "qzt7uwUQqNa-",
        "outputId": "470601ec-1e77-4165-d06c-b880695b07e4"
      },
      "execution_count": null,
      "outputs": [
        {
          "output_type": "stream",
          "name": "stdout",
          "text": [
            "Model: \"sequential_4\"\n",
            "_________________________________________________________________\n",
            " Layer (type)                Output Shape              Param #   \n",
            "=================================================================\n",
            " dense_4 (Dense)             (None, 20)                40        \n",
            "                                                                 \n",
            " dense_5 (Dense)             (None, 1)                 21        \n",
            "                                                                 \n",
            "=================================================================\n",
            "Total params: 61\n",
            "Trainable params: 61\n",
            "Non-trainable params: 0\n",
            "_________________________________________________________________\n"
          ]
        }
      ]
    },
    {
      "cell_type": "markdown",
      "source": [
        "> 🔑 **Note** : One of your main goals is to minimize the time between your experiements. The more things you try out, the more you will figure out which don't work, the closer you will get to figuring out what does work\n",
        "<br/>\n",
        "> Machine learning practitioner's motto - \"experiment, experiment, experiment\" "
      ],
      "metadata": {
        "id": "3UXlWWj0qeVT"
      }
    },
    {
      "cell_type": "code",
      "source": [
        "## Tracking your experiments\n",
        "\n",
        "One really good habit in machine learning modelling is to track the results of your experiements. And when doing so, it can be tedious if you're running lot's of experiments\n",
        "\n",
        "📖 Resource : Helpful tools in this situation are:\n",
        "1."
      ],
      "metadata": {
        "id": "taJQ1kkIq4px"
      },
      "execution_count": null,
      "outputs": []
    }
  ]
}