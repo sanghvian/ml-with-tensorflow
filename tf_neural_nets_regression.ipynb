{
  "nbformat": 4,
  "nbformat_minor": 0,
  "metadata": {
    "colab": {
      "provenance": [],
      "collapsed_sections": [
        "jdOo9CecpyD5",
        "TpXr_ZrQsuhf",
        "DRY0D6mYsP1o",
        "0e96-VMIv96R",
        "1lGs5eZUZEHM",
        "reOkjDECkKNv",
        "na2S4OXRozYf",
        "taJQ1kkIq4px",
        "lqnTS5kgLNbm",
        "wp6bIue0MEDz",
        "-ci8X3CxOCK-",
        "3filwoHtPF52",
        "HlroDkLDakD3",
        "ovwRm3MQVtND",
        "DT3e8KUkZyCj",
        "BhT_rccqZx7p",
        "D5UKsJLWdzh-",
        "xamsakUbcfs9",
        "bRYeycuihK4_"
      ],
      "authorship_tag": "ABX9TyMnWlaD52uAOyZl6t+hcL+Q",
      "include_colab_link": true
    },
    "kernelspec": {
      "name": "python3",
      "display_name": "Python 3"
    },
    "language_info": {
      "name": "python"
    }
  },
  "cells": [
    {
      "cell_type": "markdown",
      "metadata": {
        "id": "view-in-github",
        "colab_type": "text"
      },
      "source": [
        "<a href=\"https://colab.research.google.com/github/crew-guy/ml-with-tensorflow/blob/main/tf_neural_nets_regression.ipynb\" target=\"_parent\"><img src=\"https://colab.research.google.com/assets/colab-badge.svg\" alt=\"Open In Colab\"/></a>"
      ]
    },
    {
      "cell_type": "markdown",
      "source": [
        "# Introduction to Regression with Neural Networks in Tensorflow\n",
        "\n",
        "There are many definitions for a regression problem, but, in our case, we're going to simplify it: predicting a numerical variable based on some other combitaion of variables, even shorter....predicting a number"
      ],
      "metadata": {
        "id": "lXHyqeLxpRIJ"
      }
    },
    {
      "cell_type": "code",
      "source": [
        "# Import tensorflow\n",
        "import tensorflow as tf\n",
        "tf.__version__"
      ],
      "metadata": {
        "colab": {
          "base_uri": "https://localhost:8080/",
          "height": 35
        },
        "id": "GlNaw7VPQb6g",
        "outputId": "bc945fac-05a8-4d50-aa07-914dfb81e3ee"
      },
      "execution_count": null,
      "outputs": [
        {
          "output_type": "execute_result",
          "data": {
            "text/plain": [
              "'2.9.2'"
            ],
            "application/vnd.google.colaboratory.intrinsic+json": {
              "type": "string"
            }
          },
          "metadata": {},
          "execution_count": 1
        }
      ]
    },
    {
      "cell_type": "code",
      "source": [
        "## Creating data to view & fit\n",
        "import numpy as np\n",
        "import matplotlib.pyplot as plt\n",
        "\n",
        "# Create features\n",
        "X = np.random.uniform(low=-5, high=13.3, size=(50,))\n",
        "\n",
        "# Create labels\n",
        "y = np.random.randint(low=1, high = 5, size=(50,))\n",
        "\n",
        "# Visualize it\n",
        "plt.scatter(X,y)"
      ],
      "metadata": {
        "colab": {
          "base_uri": "https://localhost:8080/",
          "height": 283
        },
        "id": "It89yMQ1QfqT",
        "outputId": "3ae75f3c-7c51-4091-e4b6-8f33d259b71e"
      },
      "execution_count": null,
      "outputs": [
        {
          "output_type": "execute_result",
          "data": {
            "text/plain": [
              "<matplotlib.collections.PathCollection at 0x7ff22cd16390>"
            ]
          },
          "metadata": {},
          "execution_count": 2
        },
        {
          "output_type": "display_data",
          "data": {
            "text/plain": [
              "<Figure size 432x288 with 1 Axes>"
            ],
            "image/png": "[encoded data removed]"
          },
          "metadata": {
            "needs_background": "light"
          }
        }
      ]
    },
    {
      "cell_type": "markdown",
      "source": [
        " ## Steps in modelling with tensorflow\n",
        "\n",
        " ![image](https://testbucket1841.s3.ap-south-1.amazonaws.com/tf-ml-course-udemy/archi.png)\n",
        "\n",
        " 1. **Creating a model** - Define the input & output layers, as well as the hidden layers of a deep learning model.\n",
        " 2. **Compiling a model** - Define the: \n",
        "    * Loss function - function that tells the model how wrong it is\n",
        "    * Optimizer - suggests our model how to improve the patterns it is learning\n",
        "    * Evaluation metrics - helps interpret performance of model\n",
        "\n",
        "3.  **Fitting a model** - Letting the model try to find patters between X & y \n",
        "(features & labels)"
      ],
      "metadata": {
        "id": "lfZTcqiJRAL1"
      }
    },
    {
      "cell_type": "code",
      "source": [
        "# Set random seed\n",
        "tf.random.set_seed(42)\n",
        "\n",
        "# 1. Create a model\n",
        "model = tf.keras.Sequential([\n",
        "    tf.keras.layers.Dense(1,input_shape=[1])\n",
        "])\n",
        "\n",
        "# 2. Compile a model\n",
        "model.compile(\n",
        "    loss = tf.keras.losses.mae, # mae stands for \"mean absolute error\",\n",
        "    optimizer = tf.keras.optimizers.SGD(), # SGD stands for stochastic gradient descent\n",
        "    metrics = [\"mae\"]\n",
        ")\n",
        "\n",
        "# 3. Fit the model\n",
        "# number of epochs = number of times our model trains over the entire sampling data\n",
        "model.fit(X,y, epochs=5)"
      ],
      "metadata": {
        "colab": {
          "base_uri": "https://localhost:8080/"
        },
        "id": "EZ4suVf1Xucv",
        "outputId": "4dd577d2-2d87-46a6-c7a9-41f78ce612de"
      },
      "execution_count": null,
      "outputs": [
        {
          "output_type": "stream",
          "name": "stdout",
          "text": [
            "Epoch 1/5\n",
            "2/2 [==============================] - 1s 8ms/step - loss: 2.6018 - mae: 2.6018\n",
            "Epoch 2/5\n",
            "2/2 [==============================] - 0s 7ms/step - loss: 2.2820 - mae: 2.2820\n",
            "Epoch 3/5\n",
            "2/2 [==============================] - 0s 7ms/step - loss: 2.0431 - mae: 2.0431\n",
            "Epoch 4/5\n",
            "2/2 [==============================] - 0s 7ms/step - loss: 1.8762 - mae: 1.8762\n",
            "Epoch 5/5\n",
            "2/2 [==============================] - 0s 7ms/step - loss: 1.8321 - mae: 1.8321\n"
          ]
        },
        {
          "output_type": "execute_result",
          "data": {
            "text/plain": [
              "<keras.callbacks.History at 0x7ff224dbad50>"
            ]
          },
          "metadata": {},
          "execution_count": 3
        }
      ]
    },
    {
      "cell_type": "code",
      "source": [
        "# Checkout X and y\n",
        "X, y"
      ],
      "metadata": {
        "colab": {
          "base_uri": "https://localhost:8080/"
        },
        "id": "izxUOfIYYla2",
        "outputId": "e0c9c0e4-9d2c-445b-93dc-b62c2ca59fbf"
      },
      "execution_count": null,
      "outputs": [
        {
          "output_type": "execute_result",
          "data": {
            "text/plain": [
              "(array([11.14739218, 10.79844655, -2.26058371, -1.06479723,  8.57291541,\n",
              "        -2.95780705, 11.94854425, -3.82987886, -0.17099268,  9.80429714,\n",
              "         7.87853742,  6.04852443, 11.4040445 , -2.47309967, -1.52339064,\n",
              "         1.550211  ,  5.15387935,  6.52865813, -3.42568457, 13.11725922,\n",
              "         3.46375026,  1.84663137, 13.03702869,  0.77354954,  4.87831483,\n",
              "        11.16233796,  7.55309929,  1.822858  , -3.24617266,  6.50201313,\n",
              "         0.84791427,  8.20955361,  2.72282926, -1.67928718,  5.86766977,\n",
              "         7.62859928,  4.0906748 ,  5.84823522, -1.87632994, 10.10799254,\n",
              "         1.71865477,  0.95035419,  6.62655457,  3.93946164,  0.26422997,\n",
              "         7.36222802, -2.68029752,  6.44048408, 10.15599444, -3.15225999]),\n",
              " array([4, 4, 2, 2, 1, 4, 4, 3, 4, 3, 3, 4, 3, 2, 1, 3, 2, 2, 3, 1, 1, 1,\n",
              "        3, 1, 1, 1, 1, 1, 2, 4, 3, 3, 3, 4, 1, 4, 1, 3, 3, 1, 3, 3, 1, 4,\n",
              "        4, 1, 2, 3, 3, 2]))"
            ]
          },
          "metadata": {},
          "execution_count": 4
        }
      ]
    },
    {
      "cell_type": "code",
      "source": [
        "# Try to make a prediction using our model\n",
        "model.predict([11.9])"
      ],
      "metadata": {
        "colab": {
          "base_uri": "https://localhost:8080/"
        },
        "id": "vH5pjSfDZ_q4",
        "outputId": "fafd60bf-0746-49c1-cf15-11e309feb2e9"
      },
      "execution_count": null,
      "outputs": [
        {
          "output_type": "stream",
          "name": "stdout",
          "text": [
            "1/1 [==============================] - 0s 88ms/step\n"
          ]
        },
        {
          "output_type": "execute_result",
          "data": {
            "text/plain": [
              "array([[3.4602978]], dtype=float32)"
            ]
          },
          "metadata": {},
          "execution_count": 5
        }
      ]
    },
    {
      "cell_type": "markdown",
      "source": [
        "## Improving our model\n",
        "\n",
        "Look at the 3 steps we took to create our model & see how you can improve accuracy during each step\n",
        "\n",
        "\n",
        "1. **Creating a model** - Here, we can add more layers, increase number of hidden units (\"neurons\") in each hidden layer, change the activation function\n",
        "2. **Compiling a model** - Here, we can change the optimization function or change the **learning rate** of the optimization function\n",
        "3. **Training a model** - Here we might fit a model for more epochs (more cycles through sample data) or give it a larger sample data to train on, for each cycle\n",
        "\n",
        "Changing all these values is called as \"hyperparameter tuning\""
      ],
      "metadata": {
        "id": "sBQJ4NTjaDtQ"
      }
    },
    {
      "cell_type": "code",
      "source": [
        "# Let's rebuild our model\n",
        "\n",
        "X = tf.cast(tf.constant(X), dtype=tf.float64)\n",
        "y = tf.cast(tf.constant(y), dtype=tf.float64)\n",
        "\n",
        "print(X.shape)\n",
        "\n",
        "# 1. Create our model\n",
        "model = tf.keras.Sequential([\n",
        "    tf.keras.layers.Dense(1, activation=\"relu\", input_shape=[1,]),\n",
        "    # tf.keras.layers.Dense(1, activation=None, input_shape=[1,]),\n",
        "])\n",
        "\n",
        "# 2. Compile our model\n",
        "model.compile(\n",
        "    loss=tf.keras.losses.mae,\n",
        "    optimizer=tf.keras.optimizers.Adam(lr=0.01), # lr = learning_rate is one of the most important hyperparameters of machine learning\n",
        "    metrics=[\"mae\"]\n",
        ")\n",
        "# 3. Train our model\n",
        "model.fit(X,y, epochs=100)"
      ],
      "metadata": {
        "colab": {
          "base_uri": "https://localhost:8080/"
        },
        "id": "GqNBNtDMaJVx",
        "outputId": "73538684-1537-4df8-f3d2-22540d879ca8"
      },
      "execution_count": null,
      "outputs": [
        {
          "output_type": "stream",
          "name": "stdout",
          "text": [
            "(50,)\n",
            "Epoch 1/100\n"
          ]
        },
        {
          "output_type": "stream",
          "name": "stderr",
          "text": [
            "/usr/local/lib/python3.7/dist-packages/keras/optimizers/optimizer_v2/adam.py:110: UserWarning: The `lr` argument is deprecated, use `learning_rate` instead.\n",
            "  super(Adam, self).__init__(name, **kwargs)\n"
          ]
        },
        {
          "output_type": "stream",
          "name": "stdout",
          "text": [
            "2/2 [==============================] - 0s 10ms/step - loss: 2.6123 - mae: 2.6123\n",
            "Epoch 2/100\n",
            "2/2 [==============================] - 0s 8ms/step - loss: 2.5244 - mae: 2.5244\n",
            "Epoch 3/100\n",
            "2/2 [==============================] - 0s 10ms/step - loss: 2.4401 - mae: 2.4401\n",
            "Epoch 4/100\n",
            "2/2 [==============================] - 0s 9ms/step - loss: 2.3636 - mae: 2.3636\n",
            "Epoch 5/100\n",
            "2/2 [==============================] - 0s 9ms/step - loss: 2.2852 - mae: 2.2852\n",
            "Epoch 6/100\n",
            "2/2 [==============================] - 0s 8ms/step - loss: 2.1997 - mae: 2.1997\n",
            "Epoch 7/100\n",
            "2/2 [==============================] - 0s 16ms/step - loss: 2.1455 - mae: 2.1455\n",
            "Epoch 8/100\n",
            "2/2 [==============================] - 0s 12ms/step - loss: 2.0798 - mae: 2.0798\n",
            "Epoch 9/100\n",
            "2/2 [==============================] - 0s 11ms/step - loss: 2.0253 - mae: 2.0253\n",
            "Epoch 10/100\n",
            "2/2 [==============================] - 0s 8ms/step - loss: 1.9603 - mae: 1.9603\n",
            "Epoch 11/100\n",
            "2/2 [==============================] - 0s 9ms/step - loss: 1.9163 - mae: 1.9163\n",
            "Epoch 12/100\n",
            "2/2 [==============================] - 0s 9ms/step - loss: 1.8615 - mae: 1.8615\n",
            "Epoch 13/100\n",
            "2/2 [==============================] - 0s 6ms/step - loss: 1.8179 - mae: 1.8179\n",
            "Epoch 14/100\n",
            "2/2 [==============================] - 0s 6ms/step - loss: 1.7606 - mae: 1.7606\n",
            "Epoch 15/100\n",
            "2/2 [==============================] - 0s 6ms/step - loss: 1.7272 - mae: 1.7272\n",
            "Epoch 16/100\n",
            "2/2 [==============================] - 0s 6ms/step - loss: 1.7072 - mae: 1.7072\n",
            "Epoch 17/100\n",
            "2/2 [==============================] - 0s 7ms/step - loss: 1.6955 - mae: 1.6955\n",
            "Epoch 18/100\n",
            "2/2 [==============================] - 0s 7ms/step - loss: 1.6897 - mae: 1.6897\n",
            "Epoch 19/100\n",
            "2/2 [==============================] - 0s 6ms/step - loss: 1.6871 - mae: 1.6871\n",
            "Epoch 20/100\n",
            "2/2 [==============================] - 0s 6ms/step - loss: 1.6933 - mae: 1.6933\n",
            "Epoch 21/100\n",
            "2/2 [==============================] - 0s 5ms/step - loss: 1.6896 - mae: 1.6896\n",
            "Epoch 22/100\n",
            "2/2 [==============================] - 0s 6ms/step - loss: 1.6909 - mae: 1.6909\n",
            "Epoch 23/100\n",
            "2/2 [==============================] - 0s 6ms/step - loss: 1.6898 - mae: 1.6898\n",
            "Epoch 24/100\n",
            "2/2 [==============================] - 0s 6ms/step - loss: 1.6879 - mae: 1.6879\n",
            "Epoch 25/100\n",
            "2/2 [==============================] - 0s 6ms/step - loss: 1.6859 - mae: 1.6859\n",
            "Epoch 26/100\n",
            "2/2 [==============================] - 0s 5ms/step - loss: 1.6813 - mae: 1.6813\n",
            "Epoch 27/100\n",
            "2/2 [==============================] - 0s 5ms/step - loss: 1.6780 - mae: 1.6780\n",
            "Epoch 28/100\n",
            "2/2 [==============================] - 0s 7ms/step - loss: 1.6731 - mae: 1.6731\n",
            "Epoch 29/100\n",
            "2/2 [==============================] - 0s 6ms/step - loss: 1.6706 - mae: 1.6706\n",
            "Epoch 30/100\n",
            "2/2 [==============================] - 0s 6ms/step - loss: 1.6654 - mae: 1.6654\n",
            "Epoch 31/100\n",
            "2/2 [==============================] - 0s 8ms/step - loss: 1.6629 - mae: 1.6629\n",
            "Epoch 32/100\n",
            "2/2 [==============================] - 0s 7ms/step - loss: 1.6590 - mae: 1.6590\n",
            "Epoch 33/100\n",
            "2/2 [==============================] - 0s 7ms/step - loss: 1.6572 - mae: 1.6572\n",
            "Epoch 34/100\n",
            "2/2 [==============================] - 0s 7ms/step - loss: 1.6550 - mae: 1.6550\n",
            "Epoch 35/100\n",
            "2/2 [==============================] - 0s 6ms/step - loss: 1.6540 - mae: 1.6540\n",
            "Epoch 36/100\n",
            "2/2 [==============================] - 0s 6ms/step - loss: 1.6521 - mae: 1.6521\n",
            "Epoch 37/100\n",
            "2/2 [==============================] - 0s 7ms/step - loss: 1.6502 - mae: 1.6502\n",
            "Epoch 38/100\n",
            "2/2 [==============================] - 0s 8ms/step - loss: 1.6484 - mae: 1.6484\n",
            "Epoch 39/100\n",
            "2/2 [==============================] - 0s 7ms/step - loss: 1.6458 - mae: 1.6458\n",
            "Epoch 40/100\n",
            "2/2 [==============================] - 0s 7ms/step - loss: 1.6434 - mae: 1.6434\n",
            "Epoch 41/100\n",
            "2/2 [==============================] - 0s 11ms/step - loss: 1.6403 - mae: 1.6403\n",
            "Epoch 42/100\n",
            "2/2 [==============================] - 0s 6ms/step - loss: 1.6396 - mae: 1.6396\n",
            "Epoch 43/100\n",
            "2/2 [==============================] - 0s 5ms/step - loss: 1.6357 - mae: 1.6357\n",
            "Epoch 44/100\n",
            "2/2 [==============================] - 0s 7ms/step - loss: 1.6336 - mae: 1.6336\n",
            "Epoch 45/100\n",
            "2/2 [==============================] - 0s 8ms/step - loss: 1.6314 - mae: 1.6314\n",
            "Epoch 46/100\n",
            "2/2 [==============================] - 0s 5ms/step - loss: 1.6291 - mae: 1.6291\n",
            "Epoch 47/100\n",
            "2/2 [==============================] - 0s 5ms/step - loss: 1.6264 - mae: 1.6264\n",
            "Epoch 48/100\n",
            "2/2 [==============================] - 0s 5ms/step - loss: 1.6236 - mae: 1.6236\n",
            "Epoch 49/100\n",
            "2/2 [==============================] - 0s 5ms/step - loss: 1.6214 - mae: 1.6214\n",
            "Epoch 50/100\n",
            "2/2 [==============================] - 0s 5ms/step - loss: 1.6189 - mae: 1.6189\n",
            "Epoch 51/100\n",
            "2/2 [==============================] - 0s 5ms/step - loss: 1.6165 - mae: 1.6165\n",
            "Epoch 52/100\n",
            "2/2 [==============================] - 0s 6ms/step - loss: 1.6133 - mae: 1.6133\n",
            "Epoch 53/100\n",
            "2/2 [==============================] - 0s 8ms/step - loss: 1.6113 - mae: 1.6113\n",
            "Epoch 54/100\n",
            "2/2 [==============================] - 0s 7ms/step - loss: 1.6083 - mae: 1.6083\n",
            "Epoch 55/100\n",
            "2/2 [==============================] - 0s 7ms/step - loss: 1.6061 - mae: 1.6061\n",
            "Epoch 56/100\n",
            "2/2 [==============================] - 0s 6ms/step - loss: 1.6035 - mae: 1.6035\n",
            "Epoch 57/100\n",
            "2/2 [==============================] - 0s 7ms/step - loss: 1.6007 - mae: 1.6007\n",
            "Epoch 58/100\n",
            "2/2 [==============================] - 0s 5ms/step - loss: 1.5983 - mae: 1.5983\n",
            "Epoch 59/100\n",
            "2/2 [==============================] - 0s 5ms/step - loss: 1.5957 - mae: 1.5957\n",
            "Epoch 60/100\n",
            "2/2 [==============================] - 0s 11ms/step - loss: 1.5927 - mae: 1.5927\n",
            "Epoch 61/100\n",
            "2/2 [==============================] - 0s 5ms/step - loss: 1.5904 - mae: 1.5904\n",
            "Epoch 62/100\n",
            "2/2 [==============================] - 0s 5ms/step - loss: 1.5873 - mae: 1.5873\n",
            "Epoch 63/100\n",
            "2/2 [==============================] - 0s 5ms/step - loss: 1.5844 - mae: 1.5844\n",
            "Epoch 64/100\n",
            "2/2 [==============================] - 0s 5ms/step - loss: 1.5812 - mae: 1.5812\n",
            "Epoch 65/100\n",
            "2/2 [==============================] - 0s 6ms/step - loss: 1.5777 - mae: 1.5777\n",
            "Epoch 66/100\n",
            "2/2 [==============================] - 0s 5ms/step - loss: 1.5749 - mae: 1.5749\n",
            "Epoch 67/100\n",
            "2/2 [==============================] - 0s 5ms/step - loss: 1.5718 - mae: 1.5718\n",
            "Epoch 68/100\n",
            "2/2 [==============================] - 0s 9ms/step - loss: 1.5680 - mae: 1.5680\n",
            "Epoch 69/100\n",
            "2/2 [==============================] - 0s 6ms/step - loss: 1.5643 - mae: 1.5643\n",
            "Epoch 70/100\n",
            "2/2 [==============================] - 0s 6ms/step - loss: 1.5605 - mae: 1.5605\n",
            "Epoch 71/100\n",
            "2/2 [==============================] - 0s 5ms/step - loss: 1.5570 - mae: 1.5570\n",
            "Epoch 72/100\n",
            "2/2 [==============================] - 0s 7ms/step - loss: 1.5519 - mae: 1.5519\n",
            "Epoch 73/100\n",
            "2/2 [==============================] - 0s 6ms/step - loss: 1.5470 - mae: 1.5470\n",
            "Epoch 74/100\n",
            "2/2 [==============================] - 0s 7ms/step - loss: 1.5418 - mae: 1.5418\n",
            "Epoch 75/100\n",
            "2/2 [==============================] - 0s 5ms/step - loss: 1.5371 - mae: 1.5371\n",
            "Epoch 76/100\n",
            "2/2 [==============================] - 0s 5ms/step - loss: 1.5321 - mae: 1.5321\n",
            "Epoch 77/100\n",
            "2/2 [==============================] - 0s 7ms/step - loss: 1.5271 - mae: 1.5271\n",
            "Epoch 78/100\n",
            "2/2 [==============================] - 0s 6ms/step - loss: 1.5218 - mae: 1.5218\n",
            "Epoch 79/100\n",
            "2/2 [==============================] - 0s 4ms/step - loss: 1.5165 - mae: 1.5165\n",
            "Epoch 80/100\n",
            "2/2 [==============================] - 0s 5ms/step - loss: 1.5124 - mae: 1.5124\n",
            "Epoch 81/100\n",
            "2/2 [==============================] - 0s 4ms/step - loss: 1.5062 - mae: 1.5062\n",
            "Epoch 82/100\n",
            "2/2 [==============================] - 0s 4ms/step - loss: 1.4996 - mae: 1.4996\n",
            "Epoch 83/100\n",
            "2/2 [==============================] - 0s 6ms/step - loss: 1.4954 - mae: 1.4954\n",
            "Epoch 84/100\n",
            "2/2 [==============================] - 0s 5ms/step - loss: 1.4876 - mae: 1.4876\n",
            "Epoch 85/100\n",
            "2/2 [==============================] - 0s 5ms/step - loss: 1.4814 - mae: 1.4814\n",
            "Epoch 86/100\n",
            "2/2 [==============================] - 0s 5ms/step - loss: 1.4727 - mae: 1.4727\n",
            "Epoch 87/100\n",
            "2/2 [==============================] - 0s 4ms/step - loss: 1.4643 - mae: 1.4643\n",
            "Epoch 88/100\n",
            "2/2 [==============================] - 0s 5ms/step - loss: 1.4550 - mae: 1.4550\n",
            "Epoch 89/100\n",
            "2/2 [==============================] - 0s 4ms/step - loss: 1.4449 - mae: 1.4449\n",
            "Epoch 90/100\n",
            "2/2 [==============================] - 0s 5ms/step - loss: 1.4333 - mae: 1.4333\n",
            "Epoch 91/100\n",
            "2/2 [==============================] - 0s 5ms/step - loss: 1.4221 - mae: 1.4221\n",
            "Epoch 92/100\n",
            "2/2 [==============================] - 0s 4ms/step - loss: 1.4104 - mae: 1.4104\n",
            "Epoch 93/100\n",
            "2/2 [==============================] - 0s 6ms/step - loss: 1.3998 - mae: 1.3998\n",
            "Epoch 94/100\n",
            "2/2 [==============================] - 0s 4ms/step - loss: 1.3878 - mae: 1.3878\n",
            "Epoch 95/100\n",
            "2/2 [==============================] - 0s 7ms/step - loss: 1.3753 - mae: 1.3753\n",
            "Epoch 96/100\n",
            "2/2 [==============================] - 0s 5ms/step - loss: 1.3669 - mae: 1.3669\n",
            "Epoch 97/100\n",
            "2/2 [==============================] - 0s 5ms/step - loss: 1.3589 - mae: 1.3589\n",
            "Epoch 98/100\n",
            "2/2 [==============================] - 0s 7ms/step - loss: 1.3475 - mae: 1.3475\n",
            "Epoch 99/100\n",
            "2/2 [==============================] - 0s 7ms/step - loss: 1.3386 - mae: 1.3386\n",
            "Epoch 100/100\n",
            "2/2 [==============================] - 0s 5ms/step - loss: 1.3288 - mae: 1.3288\n"
          ]
        },
        {
          "output_type": "execute_result",
          "data": {
            "text/plain": [
              "<keras.callbacks.History at 0x7ff224c8d490>"
            ]
          },
          "metadata": {},
          "execution_count": 6
        }
      ]
    },
    {
      "cell_type": "code",
      "source": [
        "X,y"
      ],
      "metadata": {
        "colab": {
          "base_uri": "https://localhost:8080/"
        },
        "id": "1pC5ysxofZKE",
        "outputId": "7727f9cc-eb0c-4aea-995c-e32760fa11b1"
      },
      "execution_count": null,
      "outputs": [
        {
          "output_type": "execute_result",
          "data": {
            "text/plain": [
              "(<tf.Tensor: shape=(50,), dtype=float64, numpy=\n",
              " array([11.14739218, 10.79844655, -2.26058371, -1.06479723,  8.57291541,\n",
              "        -2.95780705, 11.94854425, -3.82987886, -0.17099268,  9.80429714,\n",
              "         7.87853742,  6.04852443, 11.4040445 , -2.47309967, -1.52339064,\n",
              "         1.550211  ,  5.15387935,  6.52865813, -3.42568457, 13.11725922,\n",
              "         3.46375026,  1.84663137, 13.03702869,  0.77354954,  4.87831483,\n",
              "        11.16233796,  7.55309929,  1.822858  , -3.24617266,  6.50201313,\n",
              "         0.84791427,  8.20955361,  2.72282926, -1.67928718,  5.86766977,\n",
              "         7.62859928,  4.0906748 ,  5.84823522, -1.87632994, 10.10799254,\n",
              "         1.71865477,  0.95035419,  6.62655457,  3.93946164,  0.26422997,\n",
              "         7.36222802, -2.68029752,  6.44048408, 10.15599444, -3.15225999])>,\n",
              " <tf.Tensor: shape=(50,), dtype=float64, numpy=\n",
              " array([4., 4., 2., 2., 1., 4., 4., 3., 4., 3., 3., 4., 3., 2., 1., 3., 2.,\n",
              "        2., 3., 1., 1., 1., 3., 1., 1., 1., 1., 1., 2., 4., 3., 3., 3., 4.,\n",
              "        1., 4., 1., 3., 3., 1., 3., 3., 1., 4., 4., 1., 2., 3., 3., 2.])>)"
            ]
          },
          "metadata": {},
          "execution_count": 7
        }
      ]
    },
    {
      "cell_type": "code",
      "source": [
        "model.predict([11.90])"
      ],
      "metadata": {
        "colab": {
          "base_uri": "https://localhost:8080/"
        },
        "id": "YalYnV8Tf1bC",
        "outputId": "1e1764d8-592c-4d7a-f716-09c7aa14a8e6"
      },
      "execution_count": null,
      "outputs": [
        {
          "output_type": "stream",
          "name": "stdout",
          "text": [
            "1/1 [==============================] - 0s 62ms/step\n"
          ]
        },
        {
          "output_type": "execute_result",
          "data": {
            "text/plain": [
              "array([[2.9089987]], dtype=float32)"
            ]
          },
          "metadata": {},
          "execution_count": 8
        }
      ]
    },
    {
      "cell_type": "code",
      "source": [
        "model.summary()"
      ],
      "metadata": {
        "colab": {
          "base_uri": "https://localhost:8080/"
        },
        "id": "unYuFHxmgCs_",
        "outputId": "0ab1a382-a12f-4114-efbd-d6d5a5d7c634"
      },
      "execution_count": null,
      "outputs": [
        {
          "output_type": "stream",
          "name": "stdout",
          "text": [
            "Model: \"sequential_1\"\n",
            "_________________________________________________________________\n",
            " Layer (type)                Output Shape              Param #   \n",
            "=================================================================\n",
            " dense_1 (Dense)             (None, 1)                 2         \n",
            "                                                                 \n",
            "=================================================================\n",
            "Total params: 2\n",
            "Trainable params: 2\n",
            "Non-trainable params: 0\n",
            "_________________________________________________________________\n"
          ]
        }
      ]
    },
    {
      "cell_type": "markdown",
      "source": [
        " ## Evaluating a model\n",
        "\n",
        " In practice, a typical workflow you will go through when building neural networks looks like\n",
        "\n",
        " ```\n",
        " Build a model -> fit it -> evaluate it -> tweak the model -> fit it -> evaluate it -> tweak the model -> .....\n",
        " ```\n",
        "\n",
        "While evaluating a model, 3 most important words are:\n",
        "\n",
        "> Visualize, visualize, visualize \n",
        "\n",
        "It's a good idea to visualize \n",
        "\n",
        "* The data - What data are we working with? What does the data look like? \n",
        "* The model itself - what does our model look like\n",
        "* The training of a model - How does a model perform as it is learning?\n",
        "* The predictions of the model -How do the predictions match up against the ground truth (the original labels)\n"
      ],
      "metadata": {
        "id": "VsRzvR7XkwmE"
      }
    },
    {
      "cell_type": "code",
      "source": [
        "# Make a bigger dataset\n",
        "X = tf.range(-100, 100, 4)\n",
        "y = X + 10"
      ],
      "metadata": {
        "id": "ocajkoe2pmEC"
      },
      "execution_count": null,
      "outputs": []
    },
    {
      "cell_type": "code",
      "source": [
        "plt.scatter(X,y)"
      ],
      "metadata": {
        "colab": {
          "base_uri": "https://localhost:8080/",
          "height": 283
        },
        "id": "esSMSMSLpvbJ",
        "outputId": "9a3ec06b-850e-488e-83e6-3f55797262f1"
      },
      "execution_count": null,
      "outputs": [
        {
          "output_type": "execute_result",
          "data": {
            "text/plain": [
              "<matplotlib.collections.PathCollection at 0x7ff229596390>"
            ]
          },
          "metadata": {},
          "execution_count": 11
        },
        {
          "output_type": "display_data",
          "data": {
            "text/plain": [
              "<Figure size 432x288 with 1 Axes>"
            ],
            "image/png": "[encoded data removed]"
          },
          "metadata": {
            "needs_background": "light"
          }
        }
      ]
    },
    {
      "cell_type": "markdown",
      "source": [
        "### The 3 sets...\n",
        "\n",
        "```\n",
        " Build a model -> fit it -> evaluate it -> tweak the model -> fit it -> evaluate it -> tweak the model -> .....\n",
        "```\n",
        "\n",
        "* **Training Set** - The data that the model is trained on. It learns from this data - 70-80% of the total data\n",
        "* **Validation Set** - The model gets tweaked (\"tuned\") on this data. 10-15% of total data\n",
        "* **Test Set** - The model gets evaluated on this data. 10-15% of total data.\n"
      ],
      "metadata": {
        "id": "jdOo9CecpyD5"
      }
    },
    {
      "cell_type": "code",
      "source": [
        "# Get 80% of data as training set\n",
        "X_train = X[:40] # Get 40 rows out of 50 total (80% of the data)\n",
        "y_train = y[:40]\n",
        "\n",
        "# Get 10% of the data as test set\n",
        "X_test = tf.slice(X,begin=[39],size=[10])\n",
        "y_test = tf.slice(y,begin=[39],size=[10])\n",
        "\n",
        "len(X_train), len(y_train), len(X_test), len(y_test)"
      ],
      "metadata": {
        "colab": {
          "base_uri": "https://localhost:8080/"
        },
        "id": "hsSv7YCxqnNi",
        "outputId": "b1a8ee3e-5306-4a03-fc2c-485b51de7156"
      },
      "execution_count": null,
      "outputs": [
        {
          "output_type": "execute_result",
          "data": {
            "text/plain": [
              "(40, 40, 10, 10)"
            ]
          },
          "metadata": {},
          "execution_count": 12
        }
      ]
    },
    {
      "cell_type": "markdown",
      "source": [
        "### Visualizing the data (for different sets)"
      ],
      "metadata": {
        "id": "TpXr_ZrQsuhf"
      }
    },
    {
      "cell_type": "code",
      "source": [
        "# Visualizing the data\n",
        "plt.figure(figsize=(10,7))\n",
        "\n",
        "# For the training data\n",
        "plt.scatter(X_train, y_train, c=\"blue\", label=\"Training data\")\n",
        "\n",
        "# For the test data\n",
        "plt.scatter(X_test, y_test, c=\"green\", label=\"Test data\")\n",
        "\n",
        "# Show legend\n",
        "plt.legend()"
      ],
      "metadata": {
        "colab": {
          "base_uri": "https://localhost:8080/",
          "height": 446
        },
        "id": "QKD5RkZbrSYx",
        "outputId": "596b7747-b766-463c-9fab-5ad4e4dad776"
      },
      "execution_count": null,
      "outputs": [
        {
          "output_type": "execute_result",
          "data": {
            "text/plain": [
              "<matplotlib.legend.Legend at 0x7ff224be6f50>"
            ]
          },
          "metadata": {},
          "execution_count": 13
        },
        {
          "output_type": "display_data",
          "data": {
            "text/plain": [
              "<Figure size 720x504 with 1 Axes>"
            ],
            "image/png": "[encoded data removed]"
          },
          "metadata": {
            "needs_background": "light"
          }
        }
      ]
    },
    {
      "cell_type": "markdown",
      "source": [
        "### Visualizing the model"
      ],
      "metadata": {
        "id": "DRY0D6mYsP1o"
      }
    },
    {
      "cell_type": "code",
      "source": [
        "# We are passing in 1 variable to the layer to get 1 output number\n",
        "X[0], y[0]"
      ],
      "metadata": {
        "colab": {
          "base_uri": "https://localhost:8080/"
        },
        "id": "M4PNxh4MtA_j",
        "outputId": "d19f144d-6ab7-492d-888d-1e4d04965f83"
      },
      "execution_count": null,
      "outputs": [
        {
          "output_type": "execute_result",
          "data": {
            "text/plain": [
              "(<tf.Tensor: shape=(), dtype=int32, numpy=-100>,\n",
              " <tf.Tensor: shape=(), dtype=int32, numpy=-90>)"
            ]
          },
          "metadata": {},
          "execution_count": 14
        }
      ]
    },
    {
      "cell_type": "code",
      "source": [
        "# Let's create our model with an input-shape so that it gets automatically built without specifically calling the fit() or build() function\n",
        "tf.random.set_seed(42)\n",
        "\n",
        "\n",
        "# 1. Creating the model\n",
        "model = tf.keras.Sequential([\n",
        "    tf.keras.layers.Dense(10, input_shape=[1], name=\"hidden_layer_1\"),\n",
        "    tf.keras.layers.Dense(1, input_shape=[10], name=\"hidden_layer_2\"),\n",
        "], name=\"deep_model_1\")\n",
        "\n",
        "# 2. Compiling the model\n",
        "model.compile(\n",
        "    loss = tf.keras.losses.mae,\n",
        "    optimizer = tf.keras.optimizers.SGD(),\n",
        "    metrics = [\"mae\"]\n",
        ")"
      ],
      "metadata": {
        "id": "jblHTTdFuMKY"
      },
      "execution_count": null,
      "outputs": []
    },
    {
      "cell_type": "code",
      "source": [
        "model.summary()"
      ],
      "metadata": {
        "colab": {
          "base_uri": "https://localhost:8080/"
        },
        "id": "jpkwQKHBulvA",
        "outputId": "79465103-f096-43be-9713-417aa3dac915"
      },
      "execution_count": null,
      "outputs": [
        {
          "output_type": "stream",
          "name": "stdout",
          "text": [
            "Model: \"deep_model_1\"\n",
            "_________________________________________________________________\n",
            " Layer (type)                Output Shape              Param #   \n",
            "=================================================================\n",
            " hidden_layer_1 (Dense)      (None, 10)                20        \n",
            "                                                                 \n",
            " hidden_layer_2 (Dense)      (None, 1)                 11        \n",
            "                                                                 \n",
            "=================================================================\n",
            "Total params: 31\n",
            "Trainable params: 31\n",
            "Non-trainable params: 0\n",
            "_________________________________________________________________\n"
          ]
        }
      ]
    },
    {
      "cell_type": "markdown",
      "source": [
        "* Total params - The total number of weights (theta values) in the model\n",
        "* Trainable params - The number of parameters that are updated when the model is training\n",
        "* Non-trainable params - The number of parameters that are not updated when the model is training. Typically happens when we freeze the value of certain parameters when we bring in an already learnt model during **transfer learning** \n",
        "\n",
        "\n",
        "📖 Resource - for more understanding on types of parameters - check out MIT's deep learning video"
      ],
      "metadata": {
        "id": "b4C2N9vvum3-"
      }
    },
    {
      "cell_type": "code",
      "source": [
        "# Let's fit our model to training data\n",
        "# Set the \"verbose\" argument to decide whether you look at your model train or not\n",
        "model.fit(X_train, y_train, epochs=100, verbose=1)"
      ],
      "metadata": {
        "colab": {
          "base_uri": "https://localhost:8080/"
        },
        "id": "HDTob6UxvCqT",
        "outputId": "f42a17b0-7398-4ca8-f5ca-74feeb69833b"
      },
      "execution_count": null,
      "outputs": [
        {
          "output_type": "stream",
          "name": "stdout",
          "text": [
            "Epoch 1/100\n",
            "2/2 [==============================] - 0s 7ms/step - loss: 27.4058 - mae: 27.4058\n",
            "Epoch 2/100\n",
            "2/2 [==============================] - 0s 5ms/step - loss: 24.6339 - mae: 24.6339\n",
            "Epoch 3/100\n",
            "2/2 [==============================] - 0s 6ms/step - loss: 29.8935 - mae: 29.8935\n",
            "Epoch 4/100\n",
            "2/2 [==============================] - 0s 7ms/step - loss: 27.4055 - mae: 27.4055\n",
            "Epoch 5/100\n",
            "2/2 [==============================] - 0s 5ms/step - loss: 14.9463 - mae: 14.9463\n",
            "Epoch 6/100\n",
            "2/2 [==============================] - 0s 6ms/step - loss: 11.8819 - mae: 11.8819\n",
            "Epoch 7/100\n",
            "2/2 [==============================] - 0s 6ms/step - loss: 11.1988 - mae: 11.1988\n",
            "Epoch 8/100\n",
            "2/2 [==============================] - 0s 7ms/step - loss: 11.0910 - mae: 11.0910\n",
            "Epoch 9/100\n",
            "2/2 [==============================] - 0s 6ms/step - loss: 40.4763 - mae: 40.4763\n",
            "Epoch 10/100\n",
            "2/2 [==============================] - 0s 8ms/step - loss: 27.8687 - mae: 27.8687\n",
            "Epoch 11/100\n",
            "2/2 [==============================] - 0s 7ms/step - loss: 10.2473 - mae: 10.2473\n",
            "Epoch 12/100\n",
            "2/2 [==============================] - 0s 4ms/step - loss: 25.2803 - mae: 25.2803\n",
            "Epoch 13/100\n",
            "2/2 [==============================] - 0s 8ms/step - loss: 16.9897 - mae: 16.9897\n",
            "Epoch 14/100\n",
            "2/2 [==============================] - 0s 7ms/step - loss: 25.9217 - mae: 25.9217\n",
            "Epoch 15/100\n",
            "2/2 [==============================] - 0s 5ms/step - loss: 17.9948 - mae: 17.9948\n",
            "Epoch 16/100\n",
            "2/2 [==============================] - 0s 7ms/step - loss: 7.3510 - mae: 7.3510\n",
            "Epoch 17/100\n",
            "2/2 [==============================] - 0s 5ms/step - loss: 10.8636 - mae: 10.8636\n",
            "Epoch 18/100\n",
            "2/2 [==============================] - 0s 6ms/step - loss: 19.5304 - mae: 19.5304\n",
            "Epoch 19/100\n",
            "2/2 [==============================] - 0s 6ms/step - loss: 10.3469 - mae: 10.3469\n",
            "Epoch 20/100\n",
            "2/2 [==============================] - 0s 6ms/step - loss: 17.6985 - mae: 17.6985\n",
            "Epoch 21/100\n",
            "2/2 [==============================] - 0s 6ms/step - loss: 15.8985 - mae: 15.8985\n",
            "Epoch 22/100\n",
            "2/2 [==============================] - 0s 6ms/step - loss: 14.1991 - mae: 14.1991\n",
            "Epoch 23/100\n",
            "2/2 [==============================] - 0s 14ms/step - loss: 8.7720 - mae: 8.7720\n",
            "Epoch 24/100\n",
            "2/2 [==============================] - 0s 9ms/step - loss: 11.0570 - mae: 11.0570\n",
            "Epoch 25/100\n",
            "2/2 [==============================] - 0s 5ms/step - loss: 12.6838 - mae: 12.6838\n",
            "Epoch 26/100\n",
            "2/2 [==============================] - 0s 4ms/step - loss: 26.1877 - mae: 26.1877\n",
            "Epoch 27/100\n",
            "2/2 [==============================] - 0s 5ms/step - loss: 11.7432 - mae: 11.7432\n",
            "Epoch 28/100\n",
            "2/2 [==============================] - 0s 5ms/step - loss: 22.8730 - mae: 22.8730\n",
            "Epoch 29/100\n",
            "2/2 [==============================] - 0s 6ms/step - loss: 9.2459 - mae: 9.2459\n",
            "Epoch 30/100\n",
            "2/2 [==============================] - 0s 4ms/step - loss: 29.2641 - mae: 29.2641\n",
            "Epoch 31/100\n",
            "2/2 [==============================] - 0s 5ms/step - loss: 53.0224 - mae: 53.0224\n",
            "Epoch 32/100\n",
            "2/2 [==============================] - 0s 6ms/step - loss: 11.9951 - mae: 11.9951\n",
            "Epoch 33/100\n",
            "2/2 [==============================] - 0s 6ms/step - loss: 15.6357 - mae: 15.6357\n",
            "Epoch 34/100\n",
            "2/2 [==============================] - 0s 9ms/step - loss: 12.6925 - mae: 12.6925\n",
            "Epoch 35/100\n",
            "2/2 [==============================] - 0s 6ms/step - loss: 9.2398 - mae: 9.2398\n",
            "Epoch 36/100\n",
            "2/2 [==============================] - 0s 7ms/step - loss: 16.6497 - mae: 16.6497\n",
            "Epoch 37/100\n",
            "2/2 [==============================] - 0s 7ms/step - loss: 11.0382 - mae: 11.0382\n",
            "Epoch 38/100\n",
            "2/2 [==============================] - 0s 5ms/step - loss: 18.1634 - mae: 18.1634\n",
            "Epoch 39/100\n",
            "2/2 [==============================] - 0s 7ms/step - loss: 19.1013 - mae: 19.1013\n",
            "Epoch 40/100\n",
            "2/2 [==============================] - 0s 9ms/step - loss: 20.4324 - mae: 20.4324\n",
            "Epoch 41/100\n",
            "2/2 [==============================] - 0s 7ms/step - loss: 14.9102 - mae: 14.9102\n",
            "Epoch 42/100\n",
            "2/2 [==============================] - 0s 5ms/step - loss: 12.2809 - mae: 12.2809\n",
            "Epoch 43/100\n",
            "2/2 [==============================] - 0s 5ms/step - loss: 10.7333 - mae: 10.7333\n",
            "Epoch 44/100\n",
            "2/2 [==============================] - 0s 5ms/step - loss: 23.0260 - mae: 23.0260\n",
            "Epoch 45/100\n",
            "2/2 [==============================] - 0s 6ms/step - loss: 10.3897 - mae: 10.3897\n",
            "Epoch 46/100\n",
            "2/2 [==============================] - 0s 4ms/step - loss: 11.7904 - mae: 11.7904\n",
            "Epoch 47/100\n",
            "2/2 [==============================] - 0s 4ms/step - loss: 9.6438 - mae: 9.6438\n",
            "Epoch 48/100\n",
            "2/2 [==============================] - 0s 5ms/step - loss: 17.2335 - mae: 17.2335\n",
            "Epoch 49/100\n",
            "2/2 [==============================] - 0s 5ms/step - loss: 9.5729 - mae: 9.5729\n",
            "Epoch 50/100\n",
            "2/2 [==============================] - 0s 8ms/step - loss: 13.8185 - mae: 13.8185\n",
            "Epoch 51/100\n",
            "2/2 [==============================] - 0s 5ms/step - loss: 11.5958 - mae: 11.5958\n",
            "Epoch 52/100\n",
            "2/2 [==============================] - 0s 4ms/step - loss: 30.5538 - mae: 30.5538\n",
            "Epoch 53/100\n",
            "2/2 [==============================] - 0s 4ms/step - loss: 14.3541 - mae: 14.3541\n",
            "Epoch 54/100\n",
            "2/2 [==============================] - 0s 4ms/step - loss: 23.9713 - mae: 23.9713\n",
            "Epoch 55/100\n",
            "2/2 [==============================] - 0s 4ms/step - loss: 23.1938 - mae: 23.1938\n",
            "Epoch 56/100\n",
            "2/2 [==============================] - 0s 11ms/step - loss: 10.8837 - mae: 10.8837\n",
            "Epoch 57/100\n",
            "2/2 [==============================] - 0s 4ms/step - loss: 12.7445 - mae: 12.7445\n",
            "Epoch 58/100\n",
            "2/2 [==============================] - 0s 4ms/step - loss: 9.5995 - mae: 9.5995\n",
            "Epoch 59/100\n",
            "2/2 [==============================] - 0s 4ms/step - loss: 12.5172 - mae: 12.5172\n",
            "Epoch 60/100\n",
            "2/2 [==============================] - 0s 4ms/step - loss: 12.3200 - mae: 12.3200\n",
            "Epoch 61/100\n",
            "2/2 [==============================] - 0s 4ms/step - loss: 17.4604 - mae: 17.4604\n",
            "Epoch 62/100\n",
            "2/2 [==============================] - 0s 4ms/step - loss: 10.6052 - mae: 10.6052\n",
            "Epoch 63/100\n",
            "2/2 [==============================] - 0s 32ms/step - loss: 10.4893 - mae: 10.4893\n",
            "Epoch 64/100\n",
            "2/2 [==============================] - 0s 5ms/step - loss: 24.8450 - mae: 24.8450\n",
            "Epoch 65/100\n",
            "2/2 [==============================] - 0s 4ms/step - loss: 10.6761 - mae: 10.6761\n",
            "Epoch 66/100\n",
            "2/2 [==============================] - 0s 5ms/step - loss: 21.7809 - mae: 21.7809\n",
            "Epoch 67/100\n",
            "2/2 [==============================] - 0s 5ms/step - loss: 10.7136 - mae: 10.7136\n",
            "Epoch 68/100\n",
            "2/2 [==============================] - 0s 4ms/step - loss: 10.6397 - mae: 10.6397\n",
            "Epoch 69/100\n",
            "2/2 [==============================] - 0s 4ms/step - loss: 22.6914 - mae: 22.6914\n",
            "Epoch 70/100\n",
            "2/2 [==============================] - 0s 4ms/step - loss: 9.3316 - mae: 9.3316\n",
            "Epoch 71/100\n",
            "2/2 [==============================] - 0s 5ms/step - loss: 15.4355 - mae: 15.4355\n",
            "Epoch 72/100\n",
            "2/2 [==============================] - 0s 8ms/step - loss: 6.7437 - mae: 6.7437\n",
            "Epoch 73/100\n",
            "2/2 [==============================] - 0s 12ms/step - loss: 11.6891 - mae: 11.6891\n",
            "Epoch 74/100\n",
            "2/2 [==============================] - 0s 5ms/step - loss: 24.0400 - mae: 24.0400\n",
            "Epoch 75/100\n",
            "2/2 [==============================] - 0s 5ms/step - loss: 9.5896 - mae: 9.5896\n",
            "Epoch 76/100\n",
            "2/2 [==============================] - 0s 10ms/step - loss: 12.4371 - mae: 12.4371\n",
            "Epoch 77/100\n",
            "2/2 [==============================] - 0s 5ms/step - loss: 16.6488 - mae: 16.6488\n",
            "Epoch 78/100\n",
            "2/2 [==============================] - 0s 5ms/step - loss: 9.0614 - mae: 9.0614\n",
            "Epoch 79/100\n",
            "2/2 [==============================] - 0s 5ms/step - loss: 23.9675 - mae: 23.9675\n",
            "Epoch 80/100\n",
            "2/2 [==============================] - 0s 5ms/step - loss: 26.7463 - mae: 26.7463\n",
            "Epoch 81/100\n",
            "2/2 [==============================] - 0s 5ms/step - loss: 11.6714 - mae: 11.6714\n",
            "Epoch 82/100\n",
            "2/2 [==============================] - 0s 4ms/step - loss: 12.0228 - mae: 12.0228\n",
            "Epoch 83/100\n",
            "2/2 [==============================] - 0s 5ms/step - loss: 17.4218 - mae: 17.4218\n",
            "Epoch 84/100\n",
            "2/2 [==============================] - 0s 5ms/step - loss: 7.2629 - mae: 7.2629\n",
            "Epoch 85/100\n",
            "2/2 [==============================] - 0s 4ms/step - loss: 14.9650 - mae: 14.9650\n",
            "Epoch 86/100\n",
            "2/2 [==============================] - 0s 8ms/step - loss: 15.2862 - mae: 15.2862\n",
            "Epoch 87/100\n",
            "2/2 [==============================] - 0s 12ms/step - loss: 19.1086 - mae: 19.1086\n",
            "Epoch 88/100\n",
            "2/2 [==============================] - 0s 5ms/step - loss: 29.8228 - mae: 29.8228\n",
            "Epoch 89/100\n",
            "2/2 [==============================] - 0s 5ms/step - loss: 10.1742 - mae: 10.1742\n",
            "Epoch 90/100\n",
            "2/2 [==============================] - 0s 9ms/step - loss: 21.5240 - mae: 21.5240\n",
            "Epoch 91/100\n",
            "2/2 [==============================] - 0s 6ms/step - loss: 10.5716 - mae: 10.5716\n",
            "Epoch 92/100\n",
            "2/2 [==============================] - 0s 10ms/step - loss: 18.3977 - mae: 18.3977\n",
            "Epoch 93/100\n",
            "2/2 [==============================] - 0s 5ms/step - loss: 7.4138 - mae: 7.4138\n",
            "Epoch 94/100\n",
            "2/2 [==============================] - 0s 5ms/step - loss: 17.7380 - mae: 17.7380\n",
            "Epoch 95/100\n",
            "2/2 [==============================] - 0s 5ms/step - loss: 11.1144 - mae: 11.1144\n",
            "Epoch 96/100\n",
            "2/2 [==============================] - 0s 5ms/step - loss: 19.4346 - mae: 19.4346\n",
            "Epoch 97/100\n",
            "2/2 [==============================] - 0s 4ms/step - loss: 12.1593 - mae: 12.1593\n",
            "Epoch 98/100\n",
            "2/2 [==============================] - 0s 5ms/step - loss: 11.5653 - mae: 11.5653\n",
            "Epoch 99/100\n",
            "2/2 [==============================] - 0s 4ms/step - loss: 13.8827 - mae: 13.8827\n",
            "Epoch 100/100\n",
            "2/2 [==============================] - 0s 12ms/step - loss: 20.2277 - mae: 20.2277\n"
          ]
        },
        {
          "output_type": "execute_result",
          "data": {
            "text/plain": [
              "<keras.callbacks.History at 0x7ff224aa5f90>"
            ]
          },
          "metadata": {},
          "execution_count": 17
        }
      ]
    },
    {
      "cell_type": "code",
      "source": [
        "model.summary()"
      ],
      "metadata": {
        "colab": {
          "base_uri": "https://localhost:8080/"
        },
        "id": "Q_xqxJuXvdcZ",
        "outputId": "1139833f-d8af-4331-872a-f9e083c41ae4"
      },
      "execution_count": null,
      "outputs": [
        {
          "output_type": "stream",
          "name": "stdout",
          "text": [
            "Model: \"deep_model_1\"\n",
            "_________________________________________________________________\n",
            " Layer (type)                Output Shape              Param #   \n",
            "=================================================================\n",
            " hidden_layer_1 (Dense)      (None, 10)                20        \n",
            "                                                                 \n",
            " hidden_layer_2 (Dense)      (None, 1)                 11        \n",
            "                                                                 \n",
            "=================================================================\n",
            "Total params: 31\n",
            "Trainable params: 31\n",
            "Non-trainable params: 0\n",
            "_________________________________________________________________\n"
          ]
        }
      ]
    },
    {
      "cell_type": "code",
      "source": [
        "from tensorflow.keras.utils import plot_model\n",
        "\n",
        "plot_model(model=model, show_shapes=True)"
      ],
      "metadata": {
        "colab": {
          "base_uri": "https://localhost:8080/",
          "height": 312
        },
        "id": "GBDPPDduv2Zd",
        "outputId": "cd883b89-f230-463f-f5a9-dfc263264509"
      },
      "execution_count": null,
      "outputs": [
        {
          "output_type": "execute_result",
          "data": {
            "image/png": "[encoded data removed]",
            "text/plain": [
              "<IPython.core.display.Image object>"
            ]
          },
          "metadata": {},
          "execution_count": 19
        }
      ]
    },
    {
      "cell_type": "markdown",
      "source": [
        "### Visualizing our model's predictions\n",
        "\n",
        "To visualize our model's predictions, it's a good idea to plot them against ground truth values\n",
        "\n",
        "Usually we see plots of the from `y_test` or `y_true` vs `y_pred` (ground truth vs model)"
      ],
      "metadata": {
        "id": "0e96-VMIv96R"
      }
    },
    {
      "cell_type": "code",
      "source": [
        "y_pred = model.predict(X_test)\n",
        "y_pred"
      ],
      "metadata": {
        "colab": {
          "base_uri": "https://localhost:8080/"
        },
        "id": "mfL_AEFwWtma",
        "outputId": "46ff301c-7183-49f3-8143-c988e29ac492"
      },
      "execution_count": null,
      "outputs": [
        {
          "output_type": "stream",
          "name": "stdout",
          "text": [
            "1/1 [==============================] - 0s 51ms/step\n"
          ]
        },
        {
          "output_type": "execute_result",
          "data": {
            "text/plain": [
              "array([[ 65.96446 ],\n",
              "       [ 70.552185],\n",
              "       [ 75.13991 ],\n",
              "       [ 79.72764 ],\n",
              "       [ 84.315346],\n",
              "       [ 88.90308 ],\n",
              "       [ 93.49081 ],\n",
              "       [ 98.07852 ],\n",
              "       [102.666245],\n",
              "       [107.253975]], dtype=float32)"
            ]
          },
          "metadata": {},
          "execution_count": 20
        }
      ]
    },
    {
      "cell_type": "code",
      "source": [
        " def plot_predictions(\n",
        "     train_data = X_train,\n",
        "     train_labels = y_train,\n",
        "     test_data = X_test,\n",
        "     test_labels = y_test,\n",
        "     predictions = y_pred\n",
        " ):\n",
        "    plt.figure(figsize=(10,7))\n",
        "\n",
        "    # Plot the training data\n",
        "    plt.scatter(X_train, y_train, c=\"b\", label=\"Training data\")\n",
        "\n",
        "\n",
        "    # Plot the test data\n",
        "    plt.scatter(X_test, y_test, c=\"g\", label=\"Test data\")\n",
        "\n",
        "    # Plot the predictions\n",
        "    plt.scatter(X_test, predictions, c=\"r\", label=\"Predictions\")\n",
        "\n",
        "    # Show the legend\n",
        "    plt.legend()"
      ],
      "metadata": {
        "id": "jpyb0tP2YpN9"
      },
      "execution_count": null,
      "outputs": []
    },
    {
      "cell_type": "code",
      "source": [
        "plot_predictions(\n",
        "    train_data = X_train,\n",
        "    train_labels = y_train,\n",
        "    test_data = X_test,\n",
        "    test_labels = y_test,\n",
        "    predictions = y_pred\n",
        ")"
      ],
      "metadata": {
        "colab": {
          "base_uri": "https://localhost:8080/",
          "height": 428
        },
        "id": "YUV45CrBY2sS",
        "outputId": "c942c90f-4eae-4901-e59b-16bc18822dca"
      },
      "execution_count": null,
      "outputs": [
        {
          "output_type": "display_data",
          "data": {
            "text/plain": [
              "<Figure size 720x504 with 1 Axes>"
            ],
            "image/png": "[encoded data removed]"
          },
          "metadata": {
            "needs_background": "light"
          }
        }
      ]
    },
    {
      "cell_type": "markdown",
      "source": [],
      "metadata": {
        "id": "iaHdB_Orf23z"
      }
    },
    {
      "cell_type": "markdown",
      "source": [
        "### Evaluating our model's predictions with regression evaluation metrics\n",
        "\n",
        "\n",
        "Depending on the problem we're working on, we can use different evaluation metrics to evaluate our model's performance\n",
        "\n",
        "Since we're working with a regression problem, 2 common evaluation metrics include\n",
        "\n",
        "* MAE - Mean average error - On average, how wrong is each prediction by my model?\n",
        "* MSE - Mean squared error - Square of the average errors\n",
        "\n",
        "![regression eval metrics](https://testbucket1841.s3.ap-south-1.amazonaws.com/tf-ml-course-udemy/regress-eval-metrics.png)\n",
        "\n"
      ],
      "metadata": {
        "id": "1lGs5eZUZEHM"
      }
    },
    {
      "cell_type": "code",
      "source": [
        "# Evaluate the model on the test\n",
        "model.evaluate(X_test, y_test)"
      ],
      "metadata": {
        "colab": {
          "base_uri": "https://localhost:8080/"
        },
        "id": "VdqK_SWcZsrV",
        "outputId": "70e55dae-99ad-4654-b477-b4d58e1aaf18"
      },
      "execution_count": null,
      "outputs": [
        {
          "output_type": "stream",
          "name": "stdout",
          "text": [
            "1/1 [==============================] - 0s 177ms/step - loss: 2.6163 - mae: 2.6163\n"
          ]
        },
        {
          "output_type": "execute_result",
          "data": {
            "text/plain": [
              "[2.6163222789764404, 2.6163222789764404]"
            ]
          },
          "metadata": {},
          "execution_count": 23
        }
      ]
    },
    {
      "cell_type": "code",
      "source": [
        "tf.squeeze(y_pred)"
      ],
      "metadata": {
        "colab": {
          "base_uri": "https://localhost:8080/"
        },
        "id": "ln_YCCVtgice",
        "outputId": "a6657f86-6d54-41cb-fb83-e6a20ea68def"
      },
      "execution_count": null,
      "outputs": [
        {
          "output_type": "execute_result",
          "data": {
            "text/plain": [
              "<tf.Tensor: shape=(10,), dtype=float32, numpy=\n",
              "array([ 65.96446 ,  70.552185,  75.13991 ,  79.72764 ,  84.315346,\n",
              "        88.90308 ,  93.49081 ,  98.07852 , 102.666245, 107.253975],\n",
              "      dtype=float32)>"
            ]
          },
          "metadata": {},
          "execution_count": 24
        }
      ]
    },
    {
      "cell_type": "code",
      "source": [
        "# Calculate the mean square absolute error\n",
        "mae = tf.keras.metrics.mean_absolute_error(\n",
        "    y_test, tf.squeeze(y_pred)\n",
        ")\n",
        "mae"
      ],
      "metadata": {
        "colab": {
          "base_uri": "https://localhost:8080/"
        },
        "id": "K09Onw4nbgmW",
        "outputId": "30a2f8b3-e4b7-4432-bbdf-a3ca4d481f45"
      },
      "execution_count": null,
      "outputs": [
        {
          "output_type": "execute_result",
          "data": {
            "text/plain": [
              "<tf.Tensor: shape=(), dtype=float32, numpy=2.6163247>"
            ]
          },
          "metadata": {},
          "execution_count": 25
        }
      ]
    },
    {
      "cell_type": "code",
      "source": [
        "def calculate_mean_squared_absolute_error(y_test = y_test, y_pred = y_pred):\n",
        "    difference = tf.subtract(tf.cast(y_test, dtype=tf.int32),tf.cast(y_pred, dtype=tf.int32))\n",
        "    square_difference = tf.math.square(difference)\n",
        "    msd = tf.math.reduce_mean(square_difference, axis=0)\n",
        "    return msd"
      ],
      "metadata": {
        "id": "RqTmA1hGbukS"
      },
      "execution_count": null,
      "outputs": []
    },
    {
      "cell_type": "code",
      "source": [
        "mse = calculate_mean_squared_absolute_error(y_test, tf.squeeze(y_pred))\n",
        "mse"
      ],
      "metadata": {
        "colab": {
          "base_uri": "https://localhost:8080/"
        },
        "id": "GSPR_-UqcI6Z",
        "outputId": "96bffe66-a9e7-4af6-a1fb-526cad0d6c4b"
      },
      "execution_count": null,
      "outputs": [
        {
          "output_type": "execute_result",
          "data": {
            "text/plain": [
              "<tf.Tensor: shape=(), dtype=int32, numpy=7>"
            ]
          },
          "metadata": {},
          "execution_count": 27
        }
      ]
    },
    {
      "cell_type": "code",
      "source": [
        "mse = tf.keras.metrics.mean_squared_error(\n",
        "    y_true=y_test, y_pred = tf.squeeze(y_pred)\n",
        ")\n",
        "mse"
      ],
      "metadata": {
        "colab": {
          "base_uri": "https://localhost:8080/"
        },
        "id": "h6QW1gsRc5pf",
        "outputId": "39185342-5529-4fd2-a497-b33fa12cee14"
      },
      "execution_count": null,
      "outputs": [
        {
          "output_type": "execute_result",
          "data": {
            "text/plain": [
              "<tf.Tensor: shape=(), dtype=float32, numpy=9.657718>"
            ]
          },
          "metadata": {},
          "execution_count": 28
        }
      ]
    },
    {
      "cell_type": "code",
      "source": [
        "# Make some reusable functions for mse & mae\n",
        "\n",
        "def mse(y_true, y_pred):\n",
        "    return tf.keras.metrics.mean_squared_error(\n",
        "        y_true, y_pred = tf.squeeze(y_pred)\n",
        "    )\n",
        "\n",
        "def mae(y_true, y_pred):\n",
        "    return tf.keras.metrics.mean_absolute_error(\n",
        "        y_true, y_pred = tf.squeeze(y_pred)\n",
        "    )\n"
      ],
      "metadata": {
        "id": "fBUajeBgdlt1"
      },
      "execution_count": null,
      "outputs": []
    },
    {
      "cell_type": "markdown",
      "source": [
        "## Running experiments for improving our model\n",
        "\n",
        "\n",
        "```\n",
        "Build the model -> fit it -> evaluate it -> tweak it -> fit it -> evaluate it -> tweak it -> .....\n",
        "```\n",
        "\n",
        "\n",
        "Approaches to improve accuracy\n",
        "\n",
        "1. Get more data -> Get a larger dataset that we can train our model on\n",
        "2. Make model larger -> Use more hidden layers or increase number of neurons in each hidden layer\n",
        "3. Train for longer -> Give your model more of a chance to find patterns in the dataset\n",
        "\n",
        "Let's do 3 modelling experiments\n",
        "\n",
        "1. `model_1` : Same as original model - 1 layer, 100 epochs\n",
        "2. `model_2` : 2 layers, trained for 100 epochs\n",
        "3. `model_3` : 2 layers, trained for 500 epochs"
      ],
      "metadata": {
        "id": "reOkjDECkKNv"
      }
    },
    {
      "cell_type": "code",
      "source": [
        "# 1. Create the model\n",
        "model_1 = tf.keras.Sequential([\n",
        "    tf.keras.layers.Dense(1, input_shape=[1])\n",
        "])\n",
        "\n",
        "# 2. Compile the model\n",
        "model_1.compile(\n",
        "    loss = tf.keras.losses.mae,\n",
        "    optimizer = tf.keras.optimizers.SGD(),\n",
        "    metrics = [\"mae\"]\n",
        ")\n",
        "\n",
        "# 3. Train the model\n",
        "model_1.fit(X_train, y_train, epochs = 100)"
      ],
      "metadata": {
        "colab": {
          "base_uri": "https://localhost:8080/"
        },
        "id": "-JnKISHjmMbX",
        "outputId": "41dd0100-de35-41af-fa04-bb317cbfeda5"
      },
      "execution_count": null,
      "outputs": [
        {
          "output_type": "stream",
          "name": "stdout",
          "text": [
            "Epoch 1/100\n",
            "2/2 [==============================] - 0s 8ms/step - loss: 8.6049 - mae: 8.6049\n",
            "Epoch 2/100\n",
            "2/2 [==============================] - 0s 6ms/step - loss: 10.4695 - mae: 10.4695\n",
            "Epoch 3/100\n",
            "2/2 [==============================] - 0s 6ms/step - loss: 10.9015 - mae: 10.9015\n",
            "Epoch 4/100\n",
            "2/2 [==============================] - 0s 6ms/step - loss: 9.4167 - mae: 9.4167\n",
            "Epoch 5/100\n",
            "2/2 [==============================] - 0s 7ms/step - loss: 10.3042 - mae: 10.3042\n",
            "Epoch 6/100\n",
            "2/2 [==============================] - 0s 5ms/step - loss: 9.5497 - mae: 9.5497\n",
            "Epoch 7/100\n",
            "2/2 [==============================] - 0s 6ms/step - loss: 8.6695 - mae: 8.6695\n",
            "Epoch 8/100\n",
            "2/2 [==============================] - 0s 5ms/step - loss: 9.0480 - mae: 9.0480\n",
            "Epoch 9/100\n",
            "2/2 [==============================] - 0s 7ms/step - loss: 19.0087 - mae: 19.0087\n",
            "Epoch 10/100\n",
            "2/2 [==============================] - 0s 8ms/step - loss: 10.2539 - mae: 10.2539\n",
            "Epoch 11/100\n",
            "2/2 [==============================] - 0s 6ms/step - loss: 8.4495 - mae: 8.4495\n",
            "Epoch 12/100\n",
            "2/2 [==============================] - 0s 6ms/step - loss: 10.7747 - mae: 10.7747\n",
            "Epoch 13/100\n",
            "2/2 [==============================] - 0s 6ms/step - loss: 9.8437 - mae: 9.8437\n",
            "Epoch 14/100\n",
            "2/2 [==============================] - 0s 4ms/step - loss: 11.9966 - mae: 11.9966\n",
            "Epoch 15/100\n",
            "2/2 [==============================] - 0s 6ms/step - loss: 12.4943 - mae: 12.4943\n",
            "Epoch 16/100\n",
            "2/2 [==============================] - 0s 10ms/step - loss: 7.9004 - mae: 7.9004\n",
            "Epoch 17/100\n",
            "2/2 [==============================] - 0s 5ms/step - loss: 12.8050 - mae: 12.8050\n",
            "Epoch 18/100\n",
            "2/2 [==============================] - 0s 4ms/step - loss: 10.4282 - mae: 10.4282\n",
            "Epoch 19/100\n",
            "2/2 [==============================] - 0s 4ms/step - loss: 19.2804 - mae: 19.2804\n",
            "Epoch 20/100\n",
            "2/2 [==============================] - 0s 4ms/step - loss: 15.9429 - mae: 15.9429\n",
            "Epoch 21/100\n",
            "2/2 [==============================] - 0s 7ms/step - loss: 11.8639 - mae: 11.8639\n",
            "Epoch 22/100\n",
            "2/2 [==============================] - 0s 7ms/step - loss: 8.4705 - mae: 8.4705\n",
            "Epoch 23/100\n",
            "2/2 [==============================] - 0s 5ms/step - loss: 9.7952 - mae: 9.7952\n",
            "Epoch 24/100\n",
            "2/2 [==============================] - 0s 6ms/step - loss: 10.8314 - mae: 10.8314\n",
            "Epoch 25/100\n",
            "2/2 [==============================] - 0s 6ms/step - loss: 9.1031 - mae: 9.1031\n",
            "Epoch 26/100\n",
            "2/2 [==============================] - 0s 6ms/step - loss: 13.0605 - mae: 13.0605\n",
            "Epoch 27/100\n",
            "2/2 [==============================] - 0s 10ms/step - loss: 10.3931 - mae: 10.3931\n",
            "Epoch 28/100\n",
            "2/2 [==============================] - 0s 6ms/step - loss: 13.3990 - mae: 13.3990\n",
            "Epoch 29/100\n",
            "2/2 [==============================] - 0s 5ms/step - loss: 9.6034 - mae: 9.6034\n",
            "Epoch 30/100\n",
            "2/2 [==============================] - 0s 5ms/step - loss: 17.2207 - mae: 17.2207\n",
            "Epoch 31/100\n",
            "2/2 [==============================] - 0s 7ms/step - loss: 22.8368 - mae: 22.8368\n",
            "Epoch 32/100\n",
            "2/2 [==============================] - 0s 5ms/step - loss: 7.9057 - mae: 7.9057\n",
            "Epoch 33/100\n",
            "2/2 [==============================] - 0s 5ms/step - loss: 14.1503 - mae: 14.1503\n",
            "Epoch 34/100\n",
            "2/2 [==============================] - 0s 6ms/step - loss: 12.3998 - mae: 12.3998\n",
            "Epoch 35/100\n",
            "2/2 [==============================] - 0s 5ms/step - loss: 8.2432 - mae: 8.2432\n",
            "Epoch 36/100\n",
            "2/2 [==============================] - 0s 6ms/step - loss: 10.4565 - mae: 10.4565\n",
            "Epoch 37/100\n",
            "2/2 [==============================] - 0s 7ms/step - loss: 10.1052 - mae: 10.1052\n",
            "Epoch 38/100\n",
            "2/2 [==============================] - 0s 8ms/step - loss: 11.2882 - mae: 11.2882\n",
            "Epoch 39/100\n",
            "2/2 [==============================] - 0s 8ms/step - loss: 14.7719 - mae: 14.7719\n",
            "Epoch 40/100\n",
            "2/2 [==============================] - 0s 6ms/step - loss: 12.9020 - mae: 12.9020\n",
            "Epoch 41/100\n",
            "2/2 [==============================] - 0s 6ms/step - loss: 9.2944 - mae: 9.2944\n",
            "Epoch 42/100\n",
            "2/2 [==============================] - 0s 6ms/step - loss: 10.9741 - mae: 10.9741\n",
            "Epoch 43/100\n",
            "2/2 [==============================] - 0s 7ms/step - loss: 8.3201 - mae: 8.3201\n",
            "Epoch 44/100\n",
            "2/2 [==============================] - 0s 5ms/step - loss: 13.0091 - mae: 13.0091\n",
            "Epoch 45/100\n",
            "2/2 [==============================] - 0s 6ms/step - loss: 13.6962 - mae: 13.6962\n",
            "Epoch 46/100\n",
            "2/2 [==============================] - 0s 5ms/step - loss: 8.3955 - mae: 8.3955\n",
            "Epoch 47/100\n",
            "2/2 [==============================] - 0s 6ms/step - loss: 9.1666 - mae: 9.1666\n",
            "Epoch 48/100\n",
            "2/2 [==============================] - 0s 7ms/step - loss: 10.6734 - mae: 10.6734\n",
            "Epoch 49/100\n",
            "2/2 [==============================] - 0s 4ms/step - loss: 7.7788 - mae: 7.7788\n",
            "Epoch 50/100\n",
            "2/2 [==============================] - 0s 5ms/step - loss: 9.5900 - mae: 9.5900\n",
            "Epoch 51/100\n",
            "2/2 [==============================] - 0s 5ms/step - loss: 9.1619 - mae: 9.1619\n",
            "Epoch 52/100\n",
            "2/2 [==============================] - 0s 7ms/step - loss: 16.4882 - mae: 16.4882\n",
            "Epoch 53/100\n",
            "2/2 [==============================] - 0s 6ms/step - loss: 14.0664 - mae: 14.0664\n",
            "Epoch 54/100\n",
            "2/2 [==============================] - 0s 8ms/step - loss: 20.9770 - mae: 20.9770\n",
            "Epoch 55/100\n",
            "2/2 [==============================] - 0s 6ms/step - loss: 16.5072 - mae: 16.5072\n",
            "Epoch 56/100\n",
            "2/2 [==============================] - 0s 5ms/step - loss: 9.8425 - mae: 9.8425\n",
            "Epoch 57/100\n",
            "2/2 [==============================] - 0s 8ms/step - loss: 9.6572 - mae: 9.6572\n",
            "Epoch 58/100\n",
            "2/2 [==============================] - 0s 6ms/step - loss: 8.9740 - mae: 8.9740\n",
            "Epoch 59/100\n",
            "2/2 [==============================] - 0s 5ms/step - loss: 10.1882 - mae: 10.1882\n",
            "Epoch 60/100\n",
            "2/2 [==============================] - 0s 5ms/step - loss: 8.4012 - mae: 8.4012\n",
            "Epoch 61/100\n",
            "2/2 [==============================] - 0s 5ms/step - loss: 9.2350 - mae: 9.2350\n",
            "Epoch 62/100\n",
            "2/2 [==============================] - 0s 5ms/step - loss: 7.2649 - mae: 7.2649\n",
            "Epoch 63/100\n",
            "2/2 [==============================] - 0s 6ms/step - loss: 8.1708 - mae: 8.1708\n",
            "Epoch 64/100\n",
            "2/2 [==============================] - 0s 5ms/step - loss: 12.5349 - mae: 12.5349\n",
            "Epoch 65/100\n",
            "2/2 [==============================] - 0s 5ms/step - loss: 10.6128 - mae: 10.6128\n",
            "Epoch 66/100\n",
            "2/2 [==============================] - 0s 8ms/step - loss: 15.4632 - mae: 15.4632\n",
            "Epoch 67/100\n",
            "2/2 [==============================] - 0s 5ms/step - loss: 9.9029 - mae: 9.9029\n",
            "Epoch 68/100\n",
            "2/2 [==============================] - 0s 5ms/step - loss: 8.6719 - mae: 8.6719\n",
            "Epoch 69/100\n",
            "2/2 [==============================] - 0s 6ms/step - loss: 13.3368 - mae: 13.3368\n",
            "Epoch 70/100\n",
            "2/2 [==============================] - 0s 5ms/step - loss: 7.4624 - mae: 7.4624\n",
            "Epoch 71/100\n",
            "2/2 [==============================] - 0s 5ms/step - loss: 12.3397 - mae: 12.3397\n",
            "Epoch 72/100\n",
            "2/2 [==============================] - 0s 5ms/step - loss: 8.4475 - mae: 8.4475\n",
            "Epoch 73/100\n",
            "2/2 [==============================] - 0s 4ms/step - loss: 6.8676 - mae: 6.8676\n",
            "Epoch 74/100\n",
            "2/2 [==============================] - 0s 6ms/step - loss: 11.0517 - mae: 11.0517\n",
            "Epoch 75/100\n",
            "2/2 [==============================] - 0s 5ms/step - loss: 9.4064 - mae: 9.4064\n",
            "Epoch 76/100\n",
            "2/2 [==============================] - 0s 5ms/step - loss: 10.8619 - mae: 10.8619\n",
            "Epoch 77/100\n",
            "2/2 [==============================] - 0s 6ms/step - loss: 14.8049 - mae: 14.8049\n",
            "Epoch 78/100\n",
            "2/2 [==============================] - 0s 5ms/step - loss: 10.8764 - mae: 10.8764\n",
            "Epoch 79/100\n",
            "2/2 [==============================] - 0s 5ms/step - loss: 15.3280 - mae: 15.3280\n",
            "Epoch 80/100\n",
            "2/2 [==============================] - 0s 5ms/step - loss: 11.7601 - mae: 11.7601\n",
            "Epoch 81/100\n",
            "2/2 [==============================] - 0s 5ms/step - loss: 9.2041 - mae: 9.2041\n",
            "Epoch 82/100\n",
            "2/2 [==============================] - 0s 5ms/step - loss: 12.8529 - mae: 12.8529\n",
            "Epoch 83/100\n",
            "2/2 [==============================] - 0s 5ms/step - loss: 10.3077 - mae: 10.3077\n",
            "Epoch 84/100\n",
            "2/2 [==============================] - 0s 4ms/step - loss: 10.5865 - mae: 10.5865\n",
            "Epoch 85/100\n",
            "2/2 [==============================] - 0s 5ms/step - loss: 9.3008 - mae: 9.3008\n",
            "Epoch 86/100\n",
            "2/2 [==============================] - 0s 6ms/step - loss: 9.1542 - mae: 9.1542\n",
            "Epoch 87/100\n",
            "2/2 [==============================] - 0s 5ms/step - loss: 11.8775 - mae: 11.8775\n",
            "Epoch 88/100\n",
            "2/2 [==============================] - 0s 6ms/step - loss: 10.4872 - mae: 10.4872\n",
            "Epoch 89/100\n",
            "2/2 [==============================] - 0s 5ms/step - loss: 6.9689 - mae: 6.9689\n",
            "Epoch 90/100\n",
            "2/2 [==============================] - 0s 6ms/step - loss: 13.8167 - mae: 13.8167\n",
            "Epoch 91/100\n",
            "2/2 [==============================] - 0s 6ms/step - loss: 7.8833 - mae: 7.8833\n",
            "Epoch 92/100\n",
            "2/2 [==============================] - 0s 6ms/step - loss: 7.4496 - mae: 7.4496\n",
            "Epoch 93/100\n",
            "2/2 [==============================] - 0s 7ms/step - loss: 9.1536 - mae: 9.1536\n",
            "Epoch 94/100\n",
            "2/2 [==============================] - 0s 10ms/step - loss: 8.5577 - mae: 8.5577\n",
            "Epoch 95/100\n",
            "2/2 [==============================] - 0s 8ms/step - loss: 11.4997 - mae: 11.4997\n",
            "Epoch 96/100\n",
            "2/2 [==============================] - 0s 9ms/step - loss: 10.2886 - mae: 10.2886\n",
            "Epoch 97/100\n",
            "2/2 [==============================] - 0s 8ms/step - loss: 7.6817 - mae: 7.6817\n",
            "Epoch 98/100\n",
            "2/2 [==============================] - 0s 13ms/step - loss: 8.6165 - mae: 8.6165\n",
            "Epoch 99/100\n",
            "2/2 [==============================] - 0s 8ms/step - loss: 9.3955 - mae: 9.3955\n",
            "Epoch 100/100\n",
            "2/2 [==============================] - 0s 11ms/step - loss: 8.8401 - mae: 8.8401\n"
          ]
        },
        {
          "output_type": "execute_result",
          "data": {
            "text/plain": [
              "<keras.callbacks.History at 0x7ff224cf3e50>"
            ]
          },
          "metadata": {},
          "execution_count": 30
        }
      ]
    },
    {
      "cell_type": "code",
      "source": [
        "\n",
        "model_2 = tf.keras.Sequential([\n",
        "    tf.keras.layers.Dense(20, input_shape=[1]),\n",
        "    tf.keras.layers.Dense(1, input_shape=[20])\n",
        "])\n",
        "\n",
        "model_2.compile(\n",
        "    loss = tf.keras.losses.mae,\n",
        "    optimizer = tf.keras.optimizers.SGD(),\n",
        "    metrics = [\"mae\"]\n",
        ")\n",
        "\n",
        "\n",
        "model_2.fit(X_train, y_train, epochs=100)"
      ],
      "metadata": {
        "colab": {
          "base_uri": "https://localhost:8080/"
        },
        "id": "eZKZr5v5k6Qg",
        "outputId": "24d7e17d-9da5-4a65-fc58-5d1ac48f97b0"
      },
      "execution_count": null,
      "outputs": [
        {
          "output_type": "stream",
          "name": "stdout",
          "text": [
            "Epoch 1/100\n",
            "2/2 [==============================] - 1s 10ms/step - loss: 26.7433 - mae: 26.7433\n",
            "Epoch 2/100\n",
            "2/2 [==============================] - 0s 11ms/step - loss: 24.2996 - mae: 24.2996\n",
            "Epoch 3/100\n",
            "2/2 [==============================] - 0s 8ms/step - loss: 30.3901 - mae: 30.3901\n",
            "Epoch 4/100\n",
            "2/2 [==============================] - 0s 13ms/step - loss: 23.6217 - mae: 23.6217\n",
            "Epoch 5/100\n",
            "2/2 [==============================] - 0s 24ms/step - loss: 14.0794 - mae: 14.0794\n",
            "Epoch 6/100\n",
            "2/2 [==============================] - 0s 7ms/step - loss: 11.2614 - mae: 11.2614\n",
            "Epoch 7/100\n",
            "2/2 [==============================] - 0s 9ms/step - loss: 12.2672 - mae: 12.2672\n",
            "Epoch 8/100\n",
            "2/2 [==============================] - 0s 7ms/step - loss: 10.9063 - mae: 10.9063\n",
            "Epoch 9/100\n",
            "2/2 [==============================] - 0s 7ms/step - loss: 38.1968 - mae: 38.1968\n",
            "Epoch 10/100\n",
            "2/2 [==============================] - 0s 8ms/step - loss: 25.7535 - mae: 25.7535\n",
            "Epoch 11/100\n",
            "2/2 [==============================] - 0s 7ms/step - loss: 10.2453 - mae: 10.2453\n",
            "Epoch 12/100\n",
            "2/2 [==============================] - 0s 8ms/step - loss: 25.2016 - mae: 25.2016\n",
            "Epoch 13/100\n",
            "2/2 [==============================] - 0s 7ms/step - loss: 17.0966 - mae: 17.0966\n",
            "Epoch 14/100\n",
            "2/2 [==============================] - 0s 7ms/step - loss: 26.1186 - mae: 26.1186\n",
            "Epoch 15/100\n",
            "2/2 [==============================] - 0s 5ms/step - loss: 18.1549 - mae: 18.1549\n",
            "Epoch 16/100\n",
            "2/2 [==============================] - 0s 5ms/step - loss: 7.8598 - mae: 7.8598\n",
            "Epoch 17/100\n",
            "2/2 [==============================] - 0s 4ms/step - loss: 22.2700 - mae: 22.2700\n",
            "Epoch 18/100\n",
            "2/2 [==============================] - 0s 12ms/step - loss: 10.8420 - mae: 10.8420\n",
            "Epoch 19/100\n",
            "2/2 [==============================] - 0s 6ms/step - loss: 10.7312 - mae: 10.7312\n",
            "Epoch 20/100\n",
            "2/2 [==============================] - 0s 11ms/step - loss: 12.0533 - mae: 12.0533\n",
            "Epoch 21/100\n",
            "2/2 [==============================] - 0s 18ms/step - loss: 20.1893 - mae: 20.1893\n",
            "Epoch 22/100\n",
            "2/2 [==============================] - 0s 9ms/step - loss: 13.8095 - mae: 13.8095\n",
            "Epoch 23/100\n",
            "2/2 [==============================] - 0s 9ms/step - loss: 9.5490 - mae: 9.5490\n",
            "Epoch 24/100\n",
            "2/2 [==============================] - 0s 16ms/step - loss: 11.9069 - mae: 11.9069\n",
            "Epoch 25/100\n",
            "2/2 [==============================] - 0s 14ms/step - loss: 16.2401 - mae: 16.2401\n",
            "Epoch 26/100\n",
            "2/2 [==============================] - 0s 11ms/step - loss: 16.4304 - mae: 16.4304\n",
            "Epoch 27/100\n",
            "2/2 [==============================] - 0s 48ms/step - loss: 11.5951 - mae: 11.5951\n",
            "Epoch 28/100\n",
            "2/2 [==============================] - 0s 22ms/step - loss: 30.0448 - mae: 30.0448\n",
            "Epoch 29/100\n",
            "2/2 [==============================] - 0s 9ms/step - loss: 9.2513 - mae: 9.2513\n",
            "Epoch 30/100\n",
            "2/2 [==============================] - 0s 10ms/step - loss: 30.5796 - mae: 30.5796\n",
            "Epoch 31/100\n",
            "2/2 [==============================] - 0s 8ms/step - loss: 55.5957 - mae: 55.5957\n",
            "Epoch 32/100\n",
            "2/2 [==============================] - 0s 10ms/step - loss: 9.7393 - mae: 9.7393\n",
            "Epoch 33/100\n",
            "2/2 [==============================] - 0s 11ms/step - loss: 12.3597 - mae: 12.3597\n",
            "Epoch 34/100\n",
            "2/2 [==============================] - 0s 9ms/step - loss: 24.7580 - mae: 24.7580\n",
            "Epoch 35/100\n",
            "2/2 [==============================] - 0s 10ms/step - loss: 11.9116 - mae: 11.9116\n",
            "Epoch 36/100\n",
            "2/2 [==============================] - 0s 8ms/step - loss: 22.0791 - mae: 22.0791\n",
            "Epoch 37/100\n",
            "2/2 [==============================] - 0s 5ms/step - loss: 17.5995 - mae: 17.5995\n",
            "Epoch 38/100\n",
            "2/2 [==============================] - 0s 14ms/step - loss: 10.7435 - mae: 10.7435\n",
            "Epoch 39/100\n",
            "2/2 [==============================] - 0s 10ms/step - loss: 11.2608 - mae: 11.2608\n",
            "Epoch 40/100\n",
            "2/2 [==============================] - 0s 11ms/step - loss: 18.2764 - mae: 18.2764\n",
            "Epoch 41/100\n",
            "2/2 [==============================] - 0s 4ms/step - loss: 10.5174 - mae: 10.5174\n",
            "Epoch 42/100\n",
            "2/2 [==============================] - 0s 11ms/step - loss: 7.8449 - mae: 7.8449\n",
            "Epoch 43/100\n",
            "2/2 [==============================] - 0s 12ms/step - loss: 14.2429 - mae: 14.2429\n",
            "Epoch 44/100\n",
            "2/2 [==============================] - 0s 7ms/step - loss: 25.0471 - mae: 25.0471\n",
            "Epoch 45/100\n",
            "2/2 [==============================] - 0s 7ms/step - loss: 10.9768 - mae: 10.9768\n",
            "Epoch 46/100\n",
            "2/2 [==============================] - 0s 12ms/step - loss: 13.0998 - mae: 13.0998\n",
            "Epoch 47/100\n",
            "2/2 [==============================] - 0s 8ms/step - loss: 10.4165 - mae: 10.4165\n",
            "Epoch 48/100\n",
            "2/2 [==============================] - 0s 17ms/step - loss: 17.1163 - mae: 17.1163\n",
            "Epoch 49/100\n",
            "2/2 [==============================] - 0s 4ms/step - loss: 9.6491 - mae: 9.6491\n",
            "Epoch 50/100\n",
            "2/2 [==============================] - 0s 5ms/step - loss: 13.9559 - mae: 13.9559\n",
            "Epoch 51/100\n",
            "2/2 [==============================] - 0s 12ms/step - loss: 11.6472 - mae: 11.6472\n",
            "Epoch 52/100\n",
            "2/2 [==============================] - 0s 15ms/step - loss: 30.9093 - mae: 30.9093\n",
            "Epoch 53/100\n",
            "2/2 [==============================] - 0s 5ms/step - loss: 14.5087 - mae: 14.5087\n",
            "Epoch 54/100\n",
            "2/2 [==============================] - 0s 6ms/step - loss: 24.2452 - mae: 24.2452\n",
            "Epoch 55/100\n",
            "2/2 [==============================] - 0s 8ms/step - loss: 23.4921 - mae: 23.4921\n",
            "Epoch 56/100\n",
            "2/2 [==============================] - 0s 7ms/step - loss: 10.9777 - mae: 10.9777\n",
            "Epoch 57/100\n",
            "2/2 [==============================] - 0s 29ms/step - loss: 12.8738 - mae: 12.8738\n",
            "Epoch 58/100\n",
            "2/2 [==============================] - 0s 25ms/step - loss: 9.6720 - mae: 9.6720\n",
            "Epoch 59/100\n",
            "2/2 [==============================] - 0s 11ms/step - loss: 13.0444 - mae: 13.0444\n",
            "Epoch 60/100\n",
            "2/2 [==============================] - 0s 17ms/step - loss: 10.7128 - mae: 10.7128\n",
            "Epoch 61/100\n",
            "2/2 [==============================] - 0s 7ms/step - loss: 13.2544 - mae: 13.2544\n",
            "Epoch 62/100\n",
            "2/2 [==============================] - 0s 8ms/step - loss: 17.1049 - mae: 17.1049\n",
            "Epoch 63/100\n",
            "2/2 [==============================] - 0s 5ms/step - loss: 9.0609 - mae: 9.0609\n",
            "Epoch 64/100\n",
            "2/2 [==============================] - 0s 7ms/step - loss: 17.7487 - mae: 17.7487\n",
            "Epoch 65/100\n",
            "2/2 [==============================] - 0s 9ms/step - loss: 10.5355 - mae: 10.5355\n",
            "Epoch 66/100\n",
            "2/2 [==============================] - 0s 11ms/step - loss: 21.2417 - mae: 21.2417\n",
            "Epoch 67/100\n",
            "2/2 [==============================] - 0s 5ms/step - loss: 10.5350 - mae: 10.5350\n",
            "Epoch 68/100\n",
            "2/2 [==============================] - 0s 8ms/step - loss: 14.3971 - mae: 14.3971\n",
            "Epoch 69/100\n",
            "2/2 [==============================] - 0s 10ms/step - loss: 10.6288 - mae: 10.6288\n",
            "Epoch 70/100\n",
            "2/2 [==============================] - 0s 8ms/step - loss: 12.7158 - mae: 12.7158\n",
            "Epoch 71/100\n",
            "2/2 [==============================] - 0s 8ms/step - loss: 13.1452 - mae: 13.1452\n",
            "Epoch 72/100\n",
            "2/2 [==============================] - 0s 4ms/step - loss: 19.6713 - mae: 19.6713\n",
            "Epoch 73/100\n",
            "2/2 [==============================] - 0s 8ms/step - loss: 11.2060 - mae: 11.2060\n",
            "Epoch 74/100\n",
            "2/2 [==============================] - 0s 8ms/step - loss: 21.9642 - mae: 21.9642\n",
            "Epoch 75/100\n",
            "2/2 [==============================] - 0s 8ms/step - loss: 7.1880 - mae: 7.1880\n",
            "Epoch 76/100\n",
            "2/2 [==============================] - 0s 6ms/step - loss: 9.4118 - mae: 9.4118\n",
            "Epoch 77/100\n",
            "2/2 [==============================] - 0s 5ms/step - loss: 22.0256 - mae: 22.0256\n",
            "Epoch 78/100\n",
            "2/2 [==============================] - 0s 6ms/step - loss: 17.7435 - mae: 17.7435\n",
            "Epoch 79/100\n",
            "2/2 [==============================] - 0s 6ms/step - loss: 14.8914 - mae: 14.8914\n",
            "Epoch 80/100\n",
            "2/2 [==============================] - 0s 11ms/step - loss: 25.2419 - mae: 25.2419\n",
            "Epoch 81/100\n",
            "2/2 [==============================] - 0s 10ms/step - loss: 10.9580 - mae: 10.9580\n",
            "Epoch 82/100\n",
            "2/2 [==============================] - 0s 11ms/step - loss: 12.7242 - mae: 12.7242\n",
            "Epoch 83/100\n",
            "2/2 [==============================] - 0s 15ms/step - loss: 17.4875 - mae: 17.4875\n",
            "Epoch 84/100\n",
            "2/2 [==============================] - 0s 21ms/step - loss: 7.2824 - mae: 7.2824\n",
            "Epoch 85/100\n",
            "2/2 [==============================] - 0s 4ms/step - loss: 15.0162 - mae: 15.0162\n",
            "Epoch 86/100\n",
            "2/2 [==============================] - 0s 15ms/step - loss: 15.3278 - mae: 15.3278\n",
            "Epoch 87/100\n",
            "2/2 [==============================] - 0s 6ms/step - loss: 19.1890 - mae: 19.1890\n",
            "Epoch 88/100\n",
            "2/2 [==============================] - 0s 9ms/step - loss: 29.6138 - mae: 29.6138\n",
            "Epoch 89/100\n",
            "2/2 [==============================] - 0s 17ms/step - loss: 10.1512 - mae: 10.1512\n",
            "Epoch 90/100\n",
            "2/2 [==============================] - 0s 10ms/step - loss: 21.3512 - mae: 21.3512\n",
            "Epoch 91/100\n",
            "2/2 [==============================] - 0s 5ms/step - loss: 10.5371 - mae: 10.5371\n",
            "Epoch 92/100\n",
            "2/2 [==============================] - 0s 13ms/step - loss: 18.2421 - mae: 18.2421\n",
            "Epoch 93/100\n",
            "2/2 [==============================] - 0s 11ms/step - loss: 6.8158 - mae: 6.8158\n",
            "Epoch 94/100\n",
            "2/2 [==============================] - 0s 20ms/step - loss: 13.0284 - mae: 13.0284\n",
            "Epoch 95/100\n",
            "2/2 [==============================] - 0s 9ms/step - loss: 18.4318 - mae: 18.4318\n",
            "Epoch 96/100\n",
            "2/2 [==============================] - 0s 16ms/step - loss: 10.3619 - mae: 10.3619\n",
            "Epoch 97/100\n",
            "2/2 [==============================] - 0s 10ms/step - loss: 14.4433 - mae: 14.4433\n",
            "Epoch 98/100\n",
            "2/2 [==============================] - 0s 21ms/step - loss: 6.5776 - mae: 6.5776\n",
            "Epoch 99/100\n",
            "2/2 [==============================] - 0s 13ms/step - loss: 12.5921 - mae: 12.5921\n",
            "Epoch 100/100\n",
            "2/2 [==============================] - 0s 15ms/step - loss: 19.4012 - mae: 19.4012\n"
          ]
        },
        {
          "output_type": "execute_result",
          "data": {
            "text/plain": [
              "<keras.callbacks.History at 0x7ff223b8cdd0>"
            ]
          },
          "metadata": {},
          "execution_count": 31
        }
      ]
    },
    {
      "cell_type": "code",
      "source": [
        "model_3 = tf.keras.Sequential([\n",
        "    tf.keras.layers.Dense(20, input_shape = [1]),\n",
        "    tf.keras.layers.Dense(1, input_shape=[20])\n",
        "])\n",
        "\n",
        "model_3.compile(\n",
        "    loss = tf.keras.losses.mae,\n",
        "    optimizer = tf.keras.optimizers.SGD(),\n",
        "    metrics = [\"mae\"]\n",
        ")\n",
        "\n",
        "model_3.fit(X_train, y_train, epochs = 500)"
      ],
      "metadata": {
        "colab": {
          "base_uri": "https://localhost:8080/"
        },
        "id": "CR4dOabhlQgB",
        "outputId": "f1bf2318-5c27-4fcb-db67-b786b9b11736"
      },
      "execution_count": null,
      "outputs": [
        {
          "output_type": "stream",
          "name": "stdout",
          "text": [
            "Epoch 1/500\n",
            "2/2 [==============================] - 1s 10ms/step - loss: 31.1563 - mae: 31.1563\n",
            "Epoch 2/500\n",
            "2/2 [==============================] - 0s 9ms/step - loss: 27.0847 - mae: 27.0847\n",
            "Epoch 3/500\n",
            "2/2 [==============================] - 0s 9ms/step - loss: 31.6405 - mae: 31.6405\n",
            "Epoch 4/500\n",
            "2/2 [==============================] - 0s 9ms/step - loss: 15.8429 - mae: 15.8429\n",
            "Epoch 5/500\n",
            "2/2 [==============================] - 0s 11ms/step - loss: 22.3177 - mae: 22.3177\n",
            "Epoch 6/500\n",
            "2/2 [==============================] - 0s 17ms/step - loss: 12.3927 - mae: 12.3927\n",
            "Epoch 7/500\n",
            "2/2 [==============================] - 0s 21ms/step - loss: 14.3831 - mae: 14.3831\n",
            "Epoch 8/500\n",
            "2/2 [==============================] - 0s 6ms/step - loss: 13.9334 - mae: 13.9334\n",
            "Epoch 9/500\n",
            "2/2 [==============================] - 0s 9ms/step - loss: 31.9442 - mae: 31.9442\n",
            "Epoch 10/500\n",
            "2/2 [==============================] - 0s 6ms/step - loss: 21.3625 - mae: 21.3625\n",
            "Epoch 11/500\n",
            "2/2 [==============================] - 0s 13ms/step - loss: 8.5693 - mae: 8.5693\n",
            "Epoch 12/500\n",
            "2/2 [==============================] - 0s 14ms/step - loss: 27.4728 - mae: 27.4728\n",
            "Epoch 13/500\n",
            "2/2 [==============================] - 0s 6ms/step - loss: 12.1660 - mae: 12.1660\n",
            "Epoch 14/500\n",
            "2/2 [==============================] - 0s 9ms/step - loss: 35.0935 - mae: 35.0935\n",
            "Epoch 15/500\n",
            "2/2 [==============================] - 0s 8ms/step - loss: 22.8719 - mae: 22.8719\n",
            "Epoch 16/500\n",
            "2/2 [==============================] - 0s 9ms/step - loss: 9.9980 - mae: 9.9980\n",
            "Epoch 17/500\n",
            "2/2 [==============================] - 0s 5ms/step - loss: 18.4355 - mae: 18.4355\n",
            "Epoch 18/500\n",
            "2/2 [==============================] - 0s 8ms/step - loss: 11.3161 - mae: 11.3161\n",
            "Epoch 19/500\n",
            "2/2 [==============================] - 0s 8ms/step - loss: 13.8595 - mae: 13.8595\n",
            "Epoch 20/500\n",
            "2/2 [==============================] - 0s 8ms/step - loss: 11.1671 - mae: 11.1671\n",
            "Epoch 21/500\n",
            "2/2 [==============================] - 0s 16ms/step - loss: 17.1701 - mae: 17.1701\n",
            "Epoch 22/500\n",
            "2/2 [==============================] - 0s 9ms/step - loss: 15.4089 - mae: 15.4089\n",
            "Epoch 23/500\n",
            "2/2 [==============================] - 0s 9ms/step - loss: 9.2523 - mae: 9.2523\n",
            "Epoch 24/500\n",
            "2/2 [==============================] - 0s 4ms/step - loss: 17.3110 - mae: 17.3110\n",
            "Epoch 25/500\n",
            "2/2 [==============================] - 0s 20ms/step - loss: 15.9730 - mae: 15.9730\n",
            "Epoch 26/500\n",
            "2/2 [==============================] - 0s 8ms/step - loss: 21.0069 - mae: 21.0069\n",
            "Epoch 27/500\n",
            "2/2 [==============================] - 0s 5ms/step - loss: 25.7946 - mae: 25.7946\n",
            "Epoch 28/500\n",
            "2/2 [==============================] - 0s 7ms/step - loss: 18.3154 - mae: 18.3154\n",
            "Epoch 29/500\n",
            "2/2 [==============================] - 0s 5ms/step - loss: 9.2427 - mae: 9.2427\n",
            "Epoch 30/500\n",
            "2/2 [==============================] - 0s 7ms/step - loss: 28.9172 - mae: 28.9172\n",
            "Epoch 31/500\n",
            "2/2 [==============================] - 0s 22ms/step - loss: 52.3563 - mae: 52.3563\n",
            "Epoch 32/500\n",
            "2/2 [==============================] - 0s 7ms/step - loss: 11.8642 - mae: 11.8642\n",
            "Epoch 33/500\n",
            "2/2 [==============================] - 0s 29ms/step - loss: 15.4104 - mae: 15.4104\n",
            "Epoch 34/500\n",
            "2/2 [==============================] - 0s 7ms/step - loss: 12.5381 - mae: 12.5381\n",
            "Epoch 35/500\n",
            "2/2 [==============================] - 0s 23ms/step - loss: 9.1720 - mae: 9.1720\n",
            "Epoch 36/500\n",
            "2/2 [==============================] - 0s 9ms/step - loss: 16.3675 - mae: 16.3675\n",
            "Epoch 37/500\n",
            "2/2 [==============================] - 0s 18ms/step - loss: 11.1176 - mae: 11.1176\n",
            "Epoch 38/500\n",
            "2/2 [==============================] - 0s 17ms/step - loss: 18.2497 - mae: 18.2497\n",
            "Epoch 39/500\n",
            "2/2 [==============================] - 0s 15ms/step - loss: 19.1781 - mae: 19.1781\n",
            "Epoch 40/500\n",
            "2/2 [==============================] - 0s 6ms/step - loss: 20.5709 - mae: 20.5709\n",
            "Epoch 41/500\n",
            "2/2 [==============================] - 0s 5ms/step - loss: 14.7397 - mae: 14.7397\n",
            "Epoch 42/500\n",
            "2/2 [==============================] - 0s 13ms/step - loss: 12.1526 - mae: 12.1526\n",
            "Epoch 43/500\n",
            "2/2 [==============================] - 0s 13ms/step - loss: 10.6756 - mae: 10.6756\n",
            "Epoch 44/500\n",
            "2/2 [==============================] - 0s 8ms/step - loss: 32.0843 - mae: 32.0843\n",
            "Epoch 45/500\n",
            "2/2 [==============================] - 0s 8ms/step - loss: 12.4210 - mae: 12.4210\n",
            "Epoch 46/500\n",
            "2/2 [==============================] - 0s 13ms/step - loss: 17.3741 - mae: 17.3741\n",
            "Epoch 47/500\n",
            "2/2 [==============================] - 0s 4ms/step - loss: 15.8098 - mae: 15.8098\n",
            "Epoch 48/500\n",
            "2/2 [==============================] - 0s 9ms/step - loss: 8.4091 - mae: 8.4091\n",
            "Epoch 49/500\n",
            "2/2 [==============================] - 0s 5ms/step - loss: 14.2651 - mae: 14.2651\n",
            "Epoch 50/500\n",
            "2/2 [==============================] - 0s 8ms/step - loss: 15.1954 - mae: 15.1954\n",
            "Epoch 51/500\n",
            "2/2 [==============================] - 0s 20ms/step - loss: 13.7062 - mae: 13.7062\n",
            "Epoch 52/500\n",
            "2/2 [==============================] - 0s 14ms/step - loss: 18.1189 - mae: 18.1189\n",
            "Epoch 53/500\n",
            "2/2 [==============================] - 0s 16ms/step - loss: 22.7924 - mae: 22.7924\n",
            "Epoch 54/500\n",
            "2/2 [==============================] - 0s 12ms/step - loss: 26.7495 - mae: 26.7495\n",
            "Epoch 55/500\n",
            "2/2 [==============================] - 0s 5ms/step - loss: 26.3772 - mae: 26.3772\n",
            "Epoch 56/500\n",
            "2/2 [==============================] - 0s 12ms/step - loss: 11.3443 - mae: 11.3443\n",
            "Epoch 57/500\n",
            "2/2 [==============================] - 0s 5ms/step - loss: 13.3604 - mae: 13.3604\n",
            "Epoch 58/500\n",
            "2/2 [==============================] - 0s 15ms/step - loss: 9.9501 - mae: 9.9501\n",
            "Epoch 59/500\n",
            "2/2 [==============================] - 0s 9ms/step - loss: 13.9069 - mae: 13.9069\n",
            "Epoch 60/500\n",
            "2/2 [==============================] - 0s 10ms/step - loss: 9.9915 - mae: 9.9915\n",
            "Epoch 61/500\n",
            "2/2 [==============================] - 0s 17ms/step - loss: 14.9599 - mae: 14.9599\n",
            "Epoch 62/500\n",
            "2/2 [==============================] - 0s 8ms/step - loss: 11.9216 - mae: 11.9216\n",
            "Epoch 63/500\n",
            "2/2 [==============================] - 0s 5ms/step - loss: 10.2872 - mae: 10.2872\n",
            "Epoch 64/500\n",
            "2/2 [==============================] - 0s 8ms/step - loss: 23.8539 - mae: 23.8539\n",
            "Epoch 65/500\n",
            "2/2 [==============================] - 0s 4ms/step - loss: 10.4630 - mae: 10.4630\n",
            "Epoch 66/500\n",
            "2/2 [==============================] - 0s 10ms/step - loss: 20.9020 - mae: 20.9020\n",
            "Epoch 67/500\n",
            "2/2 [==============================] - 0s 11ms/step - loss: 10.4377 - mae: 10.4377\n",
            "Epoch 68/500\n",
            "2/2 [==============================] - 0s 5ms/step - loss: 14.1539 - mae: 14.1539\n",
            "Epoch 69/500\n",
            "2/2 [==============================] - 0s 18ms/step - loss: 10.5049 - mae: 10.5049\n",
            "Epoch 70/500\n",
            "2/2 [==============================] - 0s 20ms/step - loss: 12.5741 - mae: 12.5741\n",
            "Epoch 71/500\n",
            "2/2 [==============================] - 0s 9ms/step - loss: 13.0023 - mae: 13.0023\n",
            "Epoch 72/500\n",
            "2/2 [==============================] - 0s 10ms/step - loss: 19.3190 - mae: 19.3190\n",
            "Epoch 73/500\n",
            "2/2 [==============================] - 0s 10ms/step - loss: 11.1234 - mae: 11.1234\n",
            "Epoch 74/500\n",
            "2/2 [==============================] - 0s 4ms/step - loss: 21.3960 - mae: 21.3960\n",
            "Epoch 75/500\n",
            "2/2 [==============================] - 0s 15ms/step - loss: 9.4500 - mae: 9.4500\n",
            "Epoch 76/500\n",
            "2/2 [==============================] - 0s 4ms/step - loss: 12.2701 - mae: 12.2701\n",
            "Epoch 77/500\n",
            "2/2 [==============================] - 0s 16ms/step - loss: 16.2815 - mae: 16.2815\n",
            "Epoch 78/500\n",
            "2/2 [==============================] - 0s 13ms/step - loss: 9.0080 - mae: 9.0080\n",
            "Epoch 79/500\n",
            "2/2 [==============================] - 0s 8ms/step - loss: 23.5155 - mae: 23.5155\n",
            "Epoch 80/500\n",
            "2/2 [==============================] - 0s 8ms/step - loss: 26.2011 - mae: 26.2011\n",
            "Epoch 81/500\n",
            "2/2 [==============================] - 0s 9ms/step - loss: 11.4168 - mae: 11.4168\n",
            "Epoch 82/500\n",
            "2/2 [==============================] - 0s 5ms/step - loss: 12.4620 - mae: 12.4620\n",
            "Epoch 83/500\n",
            "2/2 [==============================] - 0s 9ms/step - loss: 17.1357 - mae: 17.1357\n",
            "Epoch 84/500\n",
            "2/2 [==============================] - 0s 12ms/step - loss: 6.5653 - mae: 6.5653\n",
            "Epoch 85/500\n",
            "2/2 [==============================] - 0s 6ms/step - loss: 20.3869 - mae: 20.3869\n",
            "Epoch 86/500\n",
            "2/2 [==============================] - 0s 9ms/step - loss: 10.1702 - mae: 10.1702\n",
            "Epoch 87/500\n",
            "2/2 [==============================] - 0s 8ms/step - loss: 24.4467 - mae: 24.4467\n",
            "Epoch 88/500\n",
            "2/2 [==============================] - 0s 6ms/step - loss: 19.1083 - mae: 19.1083\n",
            "Epoch 89/500\n",
            "2/2 [==============================] - 0s 8ms/step - loss: 7.1504 - mae: 7.1504\n",
            "Epoch 90/500\n",
            "2/2 [==============================] - 0s 6ms/step - loss: 18.2151 - mae: 18.2151\n",
            "Epoch 91/500\n",
            "2/2 [==============================] - 0s 5ms/step - loss: 13.2634 - mae: 13.2634\n",
            "Epoch 92/500\n",
            "2/2 [==============================] - 0s 5ms/step - loss: 14.7991 - mae: 14.7991\n",
            "Epoch 93/500\n",
            "2/2 [==============================] - 0s 20ms/step - loss: 11.6034 - mae: 11.6034\n",
            "Epoch 94/500\n",
            "2/2 [==============================] - 0s 12ms/step - loss: 16.1581 - mae: 16.1581\n",
            "Epoch 95/500\n",
            "2/2 [==============================] - 0s 19ms/step - loss: 15.4996 - mae: 15.4996\n",
            "Epoch 96/500\n",
            "2/2 [==============================] - 0s 11ms/step - loss: 15.0259 - mae: 15.0259\n",
            "Epoch 97/500\n",
            "2/2 [==============================] - 0s 14ms/step - loss: 10.8585 - mae: 10.8585\n",
            "Epoch 98/500\n",
            "2/2 [==============================] - 0s 13ms/step - loss: 14.3155 - mae: 14.3155\n",
            "Epoch 99/500\n",
            "2/2 [==============================] - 0s 16ms/step - loss: 13.3470 - mae: 13.3470\n",
            "Epoch 100/500\n",
            "2/2 [==============================] - 0s 10ms/step - loss: 19.9335 - mae: 19.9335\n",
            "Epoch 101/500\n",
            "2/2 [==============================] - 0s 10ms/step - loss: 22.6570 - mae: 22.6570\n",
            "Epoch 102/500\n",
            "2/2 [==============================] - 0s 6ms/step - loss: 11.3200 - mae: 11.3200\n",
            "Epoch 103/500\n",
            "2/2 [==============================] - 0s 9ms/step - loss: 9.3669 - mae: 9.3669\n",
            "Epoch 104/500\n",
            "2/2 [==============================] - 0s 15ms/step - loss: 25.3060 - mae: 25.3060\n",
            "Epoch 105/500\n",
            "2/2 [==============================] - 0s 8ms/step - loss: 12.4888 - mae: 12.4888\n",
            "Epoch 106/500\n",
            "2/2 [==============================] - 0s 11ms/step - loss: 9.4083 - mae: 9.4083\n",
            "Epoch 107/500\n",
            "2/2 [==============================] - 0s 6ms/step - loss: 23.3351 - mae: 23.3351\n",
            "Epoch 108/500\n",
            "2/2 [==============================] - 0s 9ms/step - loss: 8.2922 - mae: 8.2922\n",
            "Epoch 109/500\n",
            "2/2 [==============================] - 0s 7ms/step - loss: 14.1164 - mae: 14.1164\n",
            "Epoch 110/500\n",
            "2/2 [==============================] - 0s 7ms/step - loss: 10.5946 - mae: 10.5946\n",
            "Epoch 111/500\n",
            "2/2 [==============================] - 0s 10ms/step - loss: 16.8954 - mae: 16.8954\n",
            "Epoch 112/500\n",
            "2/2 [==============================] - 0s 5ms/step - loss: 8.2780 - mae: 8.2780\n",
            "Epoch 113/500\n",
            "2/2 [==============================] - 0s 6ms/step - loss: 19.7916 - mae: 19.7916\n",
            "Epoch 114/500\n",
            "2/2 [==============================] - 0s 8ms/step - loss: 17.4865 - mae: 17.4865\n",
            "Epoch 115/500\n",
            "2/2 [==============================] - 0s 6ms/step - loss: 11.2548 - mae: 11.2548\n",
            "Epoch 116/500\n",
            "2/2 [==============================] - 0s 7ms/step - loss: 23.6921 - mae: 23.6921\n",
            "Epoch 117/500\n",
            "2/2 [==============================] - 0s 10ms/step - loss: 9.7629 - mae: 9.7629\n",
            "Epoch 118/500\n",
            "2/2 [==============================] - 0s 5ms/step - loss: 10.8516 - mae: 10.8516\n",
            "Epoch 119/500\n",
            "2/2 [==============================] - 0s 7ms/step - loss: 8.0886 - mae: 8.0886\n",
            "Epoch 120/500\n",
            "2/2 [==============================] - 0s 20ms/step - loss: 30.0827 - mae: 30.0827\n",
            "Epoch 121/500\n",
            "2/2 [==============================] - 0s 6ms/step - loss: 8.1176 - mae: 8.1176\n",
            "Epoch 122/500\n",
            "2/2 [==============================] - 0s 8ms/step - loss: 28.6176 - mae: 28.6176\n",
            "Epoch 123/500\n",
            "2/2 [==============================] - 0s 5ms/step - loss: 33.2806 - mae: 33.2806\n",
            "Epoch 124/500\n",
            "2/2 [==============================] - 0s 7ms/step - loss: 19.9233 - mae: 19.9233\n",
            "Epoch 125/500\n",
            "2/2 [==============================] - 0s 5ms/step - loss: 7.6922 - mae: 7.6922\n",
            "Epoch 126/500\n",
            "2/2 [==============================] - 0s 5ms/step - loss: 17.1734 - mae: 17.1734\n",
            "Epoch 127/500\n",
            "2/2 [==============================] - 0s 18ms/step - loss: 7.5258 - mae: 7.5258\n",
            "Epoch 128/500\n",
            "2/2 [==============================] - 0s 9ms/step - loss: 18.1602 - mae: 18.1602\n",
            "Epoch 129/500\n",
            "2/2 [==============================] - 0s 12ms/step - loss: 8.7956 - mae: 8.7956\n",
            "Epoch 130/500\n",
            "2/2 [==============================] - 0s 11ms/step - loss: 22.5677 - mae: 22.5677\n",
            "Epoch 131/500\n",
            "2/2 [==============================] - 0s 10ms/step - loss: 10.2581 - mae: 10.2581\n",
            "Epoch 132/500\n",
            "2/2 [==============================] - 0s 14ms/step - loss: 15.0312 - mae: 15.0312\n",
            "Epoch 133/500\n",
            "2/2 [==============================] - 0s 8ms/step - loss: 7.1033 - mae: 7.1033\n",
            "Epoch 134/500\n",
            "2/2 [==============================] - 0s 13ms/step - loss: 23.8753 - mae: 23.8753\n",
            "Epoch 135/500\n",
            "2/2 [==============================] - 0s 14ms/step - loss: 16.5952 - mae: 16.5952\n",
            "Epoch 136/500\n",
            "2/2 [==============================] - 0s 9ms/step - loss: 14.8209 - mae: 14.8209\n",
            "Epoch 137/500\n",
            "2/2 [==============================] - 0s 14ms/step - loss: 23.0534 - mae: 23.0534\n",
            "Epoch 138/500\n",
            "2/2 [==============================] - 0s 28ms/step - loss: 9.1026 - mae: 9.1026\n",
            "Epoch 139/500\n",
            "2/2 [==============================] - 0s 13ms/step - loss: 8.9005 - mae: 8.9005\n",
            "Epoch 140/500\n",
            "2/2 [==============================] - 0s 19ms/step - loss: 16.3830 - mae: 16.3830\n",
            "Epoch 141/500\n",
            "2/2 [==============================] - 0s 18ms/step - loss: 8.4293 - mae: 8.4293\n",
            "Epoch 142/500\n",
            "2/2 [==============================] - 0s 11ms/step - loss: 36.7565 - mae: 36.7565\n",
            "Epoch 143/500\n",
            "2/2 [==============================] - 0s 16ms/step - loss: 25.4300 - mae: 25.4300\n",
            "Epoch 144/500\n",
            "2/2 [==============================] - 0s 21ms/step - loss: 9.5559 - mae: 9.5559\n",
            "Epoch 145/500\n",
            "2/2 [==============================] - 0s 10ms/step - loss: 26.6550 - mae: 26.6550\n",
            "Epoch 146/500\n",
            "2/2 [==============================] - 0s 14ms/step - loss: 8.6687 - mae: 8.6687\n",
            "Epoch 147/500\n",
            "2/2 [==============================] - 0s 10ms/step - loss: 15.6684 - mae: 15.6684\n",
            "Epoch 148/500\n",
            "2/2 [==============================] - 0s 19ms/step - loss: 18.3732 - mae: 18.3732\n",
            "Epoch 149/500\n",
            "2/2 [==============================] - 0s 16ms/step - loss: 8.1576 - mae: 8.1576\n",
            "Epoch 150/500\n",
            "2/2 [==============================] - 0s 13ms/step - loss: 7.4889 - mae: 7.4889\n",
            "Epoch 151/500\n",
            "2/2 [==============================] - 0s 13ms/step - loss: 18.1947 - mae: 18.1947\n",
            "Epoch 152/500\n",
            "2/2 [==============================] - 0s 8ms/step - loss: 10.2646 - mae: 10.2646\n",
            "Epoch 153/500\n",
            "2/2 [==============================] - 0s 8ms/step - loss: 29.4104 - mae: 29.4104\n",
            "Epoch 154/500\n",
            "2/2 [==============================] - 0s 9ms/step - loss: 10.6076 - mae: 10.6076\n",
            "Epoch 155/500\n",
            "2/2 [==============================] - 0s 21ms/step - loss: 15.5012 - mae: 15.5012\n",
            "Epoch 156/500\n",
            "2/2 [==============================] - 0s 11ms/step - loss: 17.1188 - mae: 17.1188\n",
            "Epoch 157/500\n",
            "2/2 [==============================] - 0s 15ms/step - loss: 32.5593 - mae: 32.5593\n",
            "Epoch 158/500\n",
            "2/2 [==============================] - 0s 4ms/step - loss: 10.6396 - mae: 10.6396\n",
            "Epoch 159/500\n",
            "2/2 [==============================] - 0s 11ms/step - loss: 8.8815 - mae: 8.8815\n",
            "Epoch 160/500\n",
            "2/2 [==============================] - 0s 8ms/step - loss: 21.9371 - mae: 21.9371\n",
            "Epoch 161/500\n",
            "2/2 [==============================] - 0s 9ms/step - loss: 11.1082 - mae: 11.1082\n",
            "Epoch 162/500\n",
            "2/2 [==============================] - 0s 12ms/step - loss: 21.4676 - mae: 21.4676\n",
            "Epoch 163/500\n",
            "2/2 [==============================] - 0s 10ms/step - loss: 19.1493 - mae: 19.1493\n",
            "Epoch 164/500\n",
            "2/2 [==============================] - 0s 14ms/step - loss: 10.9589 - mae: 10.9589\n",
            "Epoch 165/500\n",
            "2/2 [==============================] - 0s 9ms/step - loss: 9.6421 - mae: 9.6421\n",
            "Epoch 166/500\n",
            "2/2 [==============================] - 0s 19ms/step - loss: 21.6506 - mae: 21.6506\n",
            "Epoch 167/500\n",
            "2/2 [==============================] - 0s 9ms/step - loss: 26.1405 - mae: 26.1405\n",
            "Epoch 168/500\n",
            "2/2 [==============================] - 0s 13ms/step - loss: 9.8348 - mae: 9.8348\n",
            "Epoch 169/500\n",
            "2/2 [==============================] - 0s 11ms/step - loss: 22.4117 - mae: 22.4117\n",
            "Epoch 170/500\n",
            "2/2 [==============================] - 0s 18ms/step - loss: 10.1796 - mae: 10.1796\n",
            "Epoch 171/500\n",
            "2/2 [==============================] - 0s 11ms/step - loss: 18.1143 - mae: 18.1143\n",
            "Epoch 172/500\n",
            "2/2 [==============================] - 0s 17ms/step - loss: 28.6756 - mae: 28.6756\n",
            "Epoch 173/500\n",
            "2/2 [==============================] - 0s 9ms/step - loss: 16.4031 - mae: 16.4031\n",
            "Epoch 174/500\n",
            "2/2 [==============================] - 0s 12ms/step - loss: 11.7365 - mae: 11.7365\n",
            "Epoch 175/500\n",
            "2/2 [==============================] - 0s 15ms/step - loss: 27.1792 - mae: 27.1792\n",
            "Epoch 176/500\n",
            "2/2 [==============================] - 0s 8ms/step - loss: 8.7450 - mae: 8.7450\n",
            "Epoch 177/500\n",
            "2/2 [==============================] - 0s 5ms/step - loss: 8.7646 - mae: 8.7646\n",
            "Epoch 178/500\n",
            "2/2 [==============================] - 0s 33ms/step - loss: 16.1828 - mae: 16.1828\n",
            "Epoch 179/500\n",
            "2/2 [==============================] - 0s 8ms/step - loss: 10.4096 - mae: 10.4096\n",
            "Epoch 180/500\n",
            "2/2 [==============================] - 0s 8ms/step - loss: 7.9859 - mae: 7.9859\n",
            "Epoch 181/500\n",
            "2/2 [==============================] - 0s 12ms/step - loss: 17.7591 - mae: 17.7591\n",
            "Epoch 182/500\n",
            "2/2 [==============================] - 0s 10ms/step - loss: 11.1835 - mae: 11.1835\n",
            "Epoch 183/500\n",
            "2/2 [==============================] - 0s 5ms/step - loss: 12.3922 - mae: 12.3922\n",
            "Epoch 184/500\n",
            "2/2 [==============================] - 0s 5ms/step - loss: 27.3642 - mae: 27.3642\n",
            "Epoch 185/500\n",
            "2/2 [==============================] - 0s 15ms/step - loss: 7.5580 - mae: 7.5580\n",
            "Epoch 186/500\n",
            "2/2 [==============================] - 0s 10ms/step - loss: 15.9473 - mae: 15.9473\n",
            "Epoch 187/500\n",
            "2/2 [==============================] - 0s 7ms/step - loss: 8.5876 - mae: 8.5876\n",
            "Epoch 188/500\n",
            "2/2 [==============================] - 0s 7ms/step - loss: 28.8697 - mae: 28.8697\n",
            "Epoch 189/500\n",
            "2/2 [==============================] - 0s 11ms/step - loss: 13.1464 - mae: 13.1464\n",
            "Epoch 190/500\n",
            "2/2 [==============================] - 0s 7ms/step - loss: 18.2859 - mae: 18.2859\n",
            "Epoch 191/500\n",
            "2/2 [==============================] - 0s 7ms/step - loss: 13.7098 - mae: 13.7098\n",
            "Epoch 192/500\n",
            "2/2 [==============================] - 0s 9ms/step - loss: 13.7049 - mae: 13.7049\n",
            "Epoch 193/500\n",
            "2/2 [==============================] - 0s 8ms/step - loss: 28.5602 - mae: 28.5602\n",
            "Epoch 194/500\n",
            "2/2 [==============================] - 0s 5ms/step - loss: 7.1100 - mae: 7.1100\n",
            "Epoch 195/500\n",
            "2/2 [==============================] - 0s 11ms/step - loss: 7.0656 - mae: 7.0656\n",
            "Epoch 196/500\n",
            "2/2 [==============================] - 0s 5ms/step - loss: 21.9787 - mae: 21.9787\n",
            "Epoch 197/500\n",
            "2/2 [==============================] - 0s 12ms/step - loss: 20.9047 - mae: 20.9047\n",
            "Epoch 198/500\n",
            "2/2 [==============================] - 0s 7ms/step - loss: 12.5106 - mae: 12.5106\n",
            "Epoch 199/500\n",
            "2/2 [==============================] - 0s 13ms/step - loss: 17.9608 - mae: 17.9608\n",
            "Epoch 200/500\n",
            "2/2 [==============================] - 0s 6ms/step - loss: 13.7972 - mae: 13.7972\n",
            "Epoch 201/500\n",
            "2/2 [==============================] - 0s 5ms/step - loss: 5.4804 - mae: 5.4804\n",
            "Epoch 202/500\n",
            "2/2 [==============================] - 0s 10ms/step - loss: 13.7420 - mae: 13.7420\n",
            "Epoch 203/500\n",
            "2/2 [==============================] - 0s 8ms/step - loss: 9.4379 - mae: 9.4379\n",
            "Epoch 204/500\n",
            "2/2 [==============================] - 0s 4ms/step - loss: 21.0201 - mae: 21.0201\n",
            "Epoch 205/500\n",
            "2/2 [==============================] - 0s 5ms/step - loss: 9.5735 - mae: 9.5735\n",
            "Epoch 206/500\n",
            "2/2 [==============================] - 0s 5ms/step - loss: 11.7506 - mae: 11.7506\n",
            "Epoch 207/500\n",
            "2/2 [==============================] - 0s 5ms/step - loss: 14.3987 - mae: 14.3987\n",
            "Epoch 208/500\n",
            "2/2 [==============================] - 0s 14ms/step - loss: 14.8814 - mae: 14.8814\n",
            "Epoch 209/500\n",
            "2/2 [==============================] - 0s 13ms/step - loss: 14.9861 - mae: 14.9861\n",
            "Epoch 210/500\n",
            "2/2 [==============================] - 0s 11ms/step - loss: 17.9209 - mae: 17.9209\n",
            "Epoch 211/500\n",
            "2/2 [==============================] - 0s 5ms/step - loss: 9.8518 - mae: 9.8518\n",
            "Epoch 212/500\n",
            "2/2 [==============================] - 0s 7ms/step - loss: 18.3516 - mae: 18.3516\n",
            "Epoch 213/500\n",
            "2/2 [==============================] - 0s 5ms/step - loss: 15.0406 - mae: 15.0406\n",
            "Epoch 214/500\n",
            "2/2 [==============================] - 0s 5ms/step - loss: 14.5901 - mae: 14.5901\n",
            "Epoch 215/500\n",
            "2/2 [==============================] - 0s 7ms/step - loss: 23.3018 - mae: 23.3018\n",
            "Epoch 216/500\n",
            "2/2 [==============================] - 0s 10ms/step - loss: 13.3660 - mae: 13.3660\n",
            "Epoch 217/500\n",
            "2/2 [==============================] - 0s 11ms/step - loss: 9.8650 - mae: 9.8650\n",
            "Epoch 218/500\n",
            "2/2 [==============================] - 0s 5ms/step - loss: 12.5524 - mae: 12.5524\n",
            "Epoch 219/500\n",
            "2/2 [==============================] - 0s 6ms/step - loss: 4.9597 - mae: 4.9597\n",
            "Epoch 220/500\n",
            "2/2 [==============================] - 0s 7ms/step - loss: 7.1266 - mae: 7.1266\n",
            "Epoch 221/500\n",
            "2/2 [==============================] - 0s 14ms/step - loss: 35.4335 - mae: 35.4335\n",
            "Epoch 222/500\n",
            "2/2 [==============================] - 0s 15ms/step - loss: 34.8321 - mae: 34.8321\n",
            "Epoch 223/500\n",
            "2/2 [==============================] - 0s 18ms/step - loss: 7.9917 - mae: 7.9917\n",
            "Epoch 224/500\n",
            "2/2 [==============================] - 0s 9ms/step - loss: 14.7096 - mae: 14.7096\n",
            "Epoch 225/500\n",
            "2/2 [==============================] - 0s 14ms/step - loss: 16.7318 - mae: 16.7318\n",
            "Epoch 226/500\n",
            "2/2 [==============================] - 0s 9ms/step - loss: 15.9447 - mae: 15.9447\n",
            "Epoch 227/500\n",
            "2/2 [==============================] - 0s 10ms/step - loss: 16.1792 - mae: 16.1792\n",
            "Epoch 228/500\n",
            "2/2 [==============================] - 0s 12ms/step - loss: 9.3327 - mae: 9.3327\n",
            "Epoch 229/500\n",
            "2/2 [==============================] - 0s 8ms/step - loss: 17.9995 - mae: 17.9995\n",
            "Epoch 230/500\n",
            "2/2 [==============================] - 0s 9ms/step - loss: 15.5763 - mae: 15.5763\n",
            "Epoch 231/500\n",
            "2/2 [==============================] - 0s 8ms/step - loss: 21.1248 - mae: 21.1248\n",
            "Epoch 232/500\n",
            "2/2 [==============================] - 0s 9ms/step - loss: 25.4674 - mae: 25.4674\n",
            "Epoch 233/500\n",
            "2/2 [==============================] - 0s 6ms/step - loss: 16.4696 - mae: 16.4696\n",
            "Epoch 234/500\n",
            "2/2 [==============================] - 0s 10ms/step - loss: 7.3188 - mae: 7.3188\n",
            "Epoch 235/500\n",
            "2/2 [==============================] - 0s 10ms/step - loss: 17.1182 - mae: 17.1182\n",
            "Epoch 236/500\n",
            "2/2 [==============================] - 0s 18ms/step - loss: 7.1822 - mae: 7.1822\n",
            "Epoch 237/500\n",
            "2/2 [==============================] - 0s 10ms/step - loss: 9.2840 - mae: 9.2840\n",
            "Epoch 238/500\n",
            "2/2 [==============================] - 0s 25ms/step - loss: 8.1427 - mae: 8.1427\n",
            "Epoch 239/500\n",
            "2/2 [==============================] - 0s 10ms/step - loss: 17.1894 - mae: 17.1894\n",
            "Epoch 240/500\n",
            "2/2 [==============================] - 0s 7ms/step - loss: 8.9248 - mae: 8.9248\n",
            "Epoch 241/500\n",
            "2/2 [==============================] - 0s 13ms/step - loss: 13.2713 - mae: 13.2713\n",
            "Epoch 242/500\n",
            "2/2 [==============================] - 0s 14ms/step - loss: 8.8359 - mae: 8.8359\n",
            "Epoch 243/500\n",
            "2/2 [==============================] - 0s 5ms/step - loss: 19.0502 - mae: 19.0502\n",
            "Epoch 244/500\n",
            "2/2 [==============================] - 0s 10ms/step - loss: 13.9604 - mae: 13.9604\n",
            "Epoch 245/500\n",
            "2/2 [==============================] - 0s 10ms/step - loss: 14.6009 - mae: 14.6009\n",
            "Epoch 246/500\n",
            "2/2 [==============================] - 0s 11ms/step - loss: 15.7342 - mae: 15.7342\n",
            "Epoch 247/500\n",
            "2/2 [==============================] - 0s 15ms/step - loss: 17.5881 - mae: 17.5881\n",
            "Epoch 248/500\n",
            "2/2 [==============================] - 0s 9ms/step - loss: 13.1508 - mae: 13.1508\n",
            "Epoch 249/500\n",
            "2/2 [==============================] - 0s 15ms/step - loss: 14.4581 - mae: 14.4581\n",
            "Epoch 250/500\n",
            "2/2 [==============================] - 0s 9ms/step - loss: 23.1348 - mae: 23.1348\n",
            "Epoch 251/500\n",
            "2/2 [==============================] - 0s 14ms/step - loss: 10.0780 - mae: 10.0780\n",
            "Epoch 252/500\n",
            "2/2 [==============================] - 0s 7ms/step - loss: 32.5444 - mae: 32.5444\n",
            "Epoch 253/500\n",
            "2/2 [==============================] - 0s 12ms/step - loss: 18.6050 - mae: 18.6050\n",
            "Epoch 254/500\n",
            "2/2 [==============================] - 0s 10ms/step - loss: 6.3421 - mae: 6.3421\n",
            "Epoch 255/500\n",
            "2/2 [==============================] - 0s 7ms/step - loss: 19.4621 - mae: 19.4621\n",
            "Epoch 256/500\n",
            "2/2 [==============================] - 0s 8ms/step - loss: 33.4596 - mae: 33.4596\n",
            "Epoch 257/500\n",
            "2/2 [==============================] - 0s 8ms/step - loss: 16.5262 - mae: 16.5262\n",
            "Epoch 258/500\n",
            "2/2 [==============================] - 0s 17ms/step - loss: 5.8088 - mae: 5.8088\n",
            "Epoch 259/500\n",
            "2/2 [==============================] - 0s 18ms/step - loss: 14.8309 - mae: 14.8309\n",
            "Epoch 260/500\n",
            "2/2 [==============================] - 0s 16ms/step - loss: 14.9672 - mae: 14.9672\n",
            "Epoch 261/500\n",
            "2/2 [==============================] - 0s 15ms/step - loss: 17.4540 - mae: 17.4540\n",
            "Epoch 262/500\n",
            "2/2 [==============================] - 0s 14ms/step - loss: 15.7342 - mae: 15.7342\n",
            "Epoch 263/500\n",
            "2/2 [==============================] - 0s 6ms/step - loss: 10.9422 - mae: 10.9422\n",
            "Epoch 264/500\n",
            "2/2 [==============================] - 0s 16ms/step - loss: 18.5350 - mae: 18.5350\n",
            "Epoch 265/500\n",
            "2/2 [==============================] - 0s 15ms/step - loss: 13.4758 - mae: 13.4758\n",
            "Epoch 266/500\n",
            "2/2 [==============================] - 0s 7ms/step - loss: 10.0492 - mae: 10.0492\n",
            "Epoch 267/500\n",
            "2/2 [==============================] - 0s 9ms/step - loss: 4.9064 - mae: 4.9064\n",
            "Epoch 268/500\n",
            "2/2 [==============================] - 0s 6ms/step - loss: 15.0043 - mae: 15.0043\n",
            "Epoch 269/500\n",
            "2/2 [==============================] - 0s 4ms/step - loss: 24.1822 - mae: 24.1822\n",
            "Epoch 270/500\n",
            "2/2 [==============================] - 0s 11ms/step - loss: 16.5855 - mae: 16.5855\n",
            "Epoch 271/500\n",
            "2/2 [==============================] - 0s 12ms/step - loss: 15.1037 - mae: 15.1037\n",
            "Epoch 272/500\n",
            "2/2 [==============================] - 0s 9ms/step - loss: 29.1950 - mae: 29.1950\n",
            "Epoch 273/500\n",
            "2/2 [==============================] - 0s 6ms/step - loss: 4.8630 - mae: 4.8630\n",
            "Epoch 274/500\n",
            "2/2 [==============================] - 0s 5ms/step - loss: 18.2965 - mae: 18.2965\n",
            "Epoch 275/500\n",
            "2/2 [==============================] - 0s 5ms/step - loss: 18.8949 - mae: 18.8949\n",
            "Epoch 276/500\n",
            "2/2 [==============================] - 0s 4ms/step - loss: 12.5953 - mae: 12.5953\n",
            "Epoch 277/500\n",
            "2/2 [==============================] - 0s 8ms/step - loss: 29.9528 - mae: 29.9528\n",
            "Epoch 278/500\n",
            "2/2 [==============================] - 0s 6ms/step - loss: 10.4516 - mae: 10.4516\n",
            "Epoch 279/500\n",
            "2/2 [==============================] - 0s 5ms/step - loss: 15.9144 - mae: 15.9144\n",
            "Epoch 280/500\n",
            "2/2 [==============================] - 0s 16ms/step - loss: 20.8500 - mae: 20.8500\n",
            "Epoch 281/500\n",
            "2/2 [==============================] - 0s 5ms/step - loss: 18.6328 - mae: 18.6328\n",
            "Epoch 282/500\n",
            "2/2 [==============================] - 0s 17ms/step - loss: 7.0237 - mae: 7.0237\n",
            "Epoch 283/500\n",
            "2/2 [==============================] - 0s 10ms/step - loss: 8.1527 - mae: 8.1527\n",
            "Epoch 284/500\n",
            "2/2 [==============================] - 0s 5ms/step - loss: 25.2334 - mae: 25.2334\n",
            "Epoch 285/500\n",
            "2/2 [==============================] - 0s 9ms/step - loss: 13.9167 - mae: 13.9167\n",
            "Epoch 286/500\n",
            "2/2 [==============================] - 0s 5ms/step - loss: 6.8625 - mae: 6.8625\n",
            "Epoch 287/500\n",
            "2/2 [==============================] - 0s 9ms/step - loss: 24.4231 - mae: 24.4231\n",
            "Epoch 288/500\n",
            "2/2 [==============================] - 0s 17ms/step - loss: 20.4845 - mae: 20.4845\n",
            "Epoch 289/500\n",
            "2/2 [==============================] - 0s 5ms/step - loss: 11.8656 - mae: 11.8656\n",
            "Epoch 290/500\n",
            "2/2 [==============================] - 0s 11ms/step - loss: 16.4440 - mae: 16.4440\n",
            "Epoch 291/500\n",
            "2/2 [==============================] - 0s 22ms/step - loss: 16.6757 - mae: 16.6757\n",
            "Epoch 292/500\n",
            "2/2 [==============================] - 0s 15ms/step - loss: 8.7636 - mae: 8.7636\n",
            "Epoch 293/500\n",
            "2/2 [==============================] - 0s 13ms/step - loss: 15.6421 - mae: 15.6421\n",
            "Epoch 294/500\n",
            "2/2 [==============================] - 0s 22ms/step - loss: 23.4920 - mae: 23.4920\n",
            "Epoch 295/500\n",
            "2/2 [==============================] - 0s 6ms/step - loss: 16.2015 - mae: 16.2015\n",
            "Epoch 296/500\n",
            "2/2 [==============================] - 0s 5ms/step - loss: 4.8767 - mae: 4.8767\n",
            "Epoch 297/500\n",
            "2/2 [==============================] - 0s 21ms/step - loss: 13.3595 - mae: 13.3595\n",
            "Epoch 298/500\n",
            "2/2 [==============================] - 0s 6ms/step - loss: 25.2329 - mae: 25.2329\n",
            "Epoch 299/500\n",
            "2/2 [==============================] - 0s 13ms/step - loss: 15.4619 - mae: 15.4619\n",
            "Epoch 300/500\n",
            "2/2 [==============================] - 0s 8ms/step - loss: 6.7971 - mae: 6.7971\n",
            "Epoch 301/500\n",
            "2/2 [==============================] - 0s 11ms/step - loss: 24.1981 - mae: 24.1981\n",
            "Epoch 302/500\n",
            "2/2 [==============================] - 0s 7ms/step - loss: 8.0625 - mae: 8.0625\n",
            "Epoch 303/500\n",
            "2/2 [==============================] - 0s 11ms/step - loss: 20.6998 - mae: 20.6998\n",
            "Epoch 304/500\n",
            "2/2 [==============================] - 0s 7ms/step - loss: 13.3639 - mae: 13.3639\n",
            "Epoch 305/500\n",
            "2/2 [==============================] - 0s 9ms/step - loss: 6.9608 - mae: 6.9608\n",
            "Epoch 306/500\n",
            "2/2 [==============================] - 0s 6ms/step - loss: 18.8494 - mae: 18.8494\n",
            "Epoch 307/500\n",
            "2/2 [==============================] - 0s 20ms/step - loss: 9.5774 - mae: 9.5774\n",
            "Epoch 308/500\n",
            "2/2 [==============================] - 0s 12ms/step - loss: 20.1001 - mae: 20.1001\n",
            "Epoch 309/500\n",
            "2/2 [==============================] - 0s 8ms/step - loss: 14.5084 - mae: 14.5084\n",
            "Epoch 310/500\n",
            "2/2 [==============================] - 0s 18ms/step - loss: 4.4091 - mae: 4.4091\n",
            "Epoch 311/500\n",
            "2/2 [==============================] - 0s 10ms/step - loss: 11.9936 - mae: 11.9936\n",
            "Epoch 312/500\n",
            "2/2 [==============================] - 0s 9ms/step - loss: 29.2706 - mae: 29.2706\n",
            "Epoch 313/500\n",
            "2/2 [==============================] - 0s 20ms/step - loss: 8.8791 - mae: 8.8791\n",
            "Epoch 314/500\n",
            "2/2 [==============================] - 0s 26ms/step - loss: 6.4942 - mae: 6.4942\n",
            "Epoch 315/500\n",
            "2/2 [==============================] - 0s 9ms/step - loss: 23.9297 - mae: 23.9297\n",
            "Epoch 316/500\n",
            "2/2 [==============================] - 0s 17ms/step - loss: 16.1780 - mae: 16.1780\n",
            "Epoch 317/500\n",
            "2/2 [==============================] - 0s 7ms/step - loss: 20.7852 - mae: 20.7852\n",
            "Epoch 318/500\n",
            "2/2 [==============================] - 0s 10ms/step - loss: 7.8277 - mae: 7.8277\n",
            "Epoch 319/500\n",
            "2/2 [==============================] - 0s 5ms/step - loss: 17.7346 - mae: 17.7346\n",
            "Epoch 320/500\n",
            "2/2 [==============================] - 0s 13ms/step - loss: 10.0708 - mae: 10.0708\n",
            "Epoch 321/500\n",
            "2/2 [==============================] - 0s 13ms/step - loss: 8.1910 - mae: 8.1910\n",
            "Epoch 322/500\n",
            "2/2 [==============================] - 0s 17ms/step - loss: 4.2370 - mae: 4.2370\n",
            "Epoch 323/500\n",
            "2/2 [==============================] - 0s 22ms/step - loss: 14.6770 - mae: 14.6770\n",
            "Epoch 324/500\n",
            "2/2 [==============================] - 0s 5ms/step - loss: 18.8612 - mae: 18.8612\n",
            "Epoch 325/500\n",
            "2/2 [==============================] - 0s 21ms/step - loss: 17.6330 - mae: 17.6330\n",
            "Epoch 326/500\n",
            "2/2 [==============================] - 0s 5ms/step - loss: 23.9524 - mae: 23.9524\n",
            "Epoch 327/500\n",
            "2/2 [==============================] - 0s 15ms/step - loss: 10.2799 - mae: 10.2799\n",
            "Epoch 328/500\n",
            "2/2 [==============================] - 0s 7ms/step - loss: 13.1228 - mae: 13.1228\n",
            "Epoch 329/500\n",
            "2/2 [==============================] - 0s 7ms/step - loss: 15.9797 - mae: 15.9797\n",
            "Epoch 330/500\n",
            "2/2 [==============================] - 0s 7ms/step - loss: 14.3193 - mae: 14.3193\n",
            "Epoch 331/500\n",
            "2/2 [==============================] - 0s 8ms/step - loss: 25.7577 - mae: 25.7577\n",
            "Epoch 332/500\n",
            "2/2 [==============================] - 0s 9ms/step - loss: 17.1722 - mae: 17.1722\n",
            "Epoch 333/500\n",
            "2/2 [==============================] - 0s 28ms/step - loss: 8.4553 - mae: 8.4553\n",
            "Epoch 334/500\n",
            "2/2 [==============================] - 0s 9ms/step - loss: 13.3950 - mae: 13.3950\n",
            "Epoch 335/500\n",
            "2/2 [==============================] - 0s 5ms/step - loss: 13.0537 - mae: 13.0537\n",
            "Epoch 336/500\n",
            "2/2 [==============================] - 0s 8ms/step - loss: 32.5564 - mae: 32.5564\n",
            "Epoch 337/500\n",
            "2/2 [==============================] - 0s 8ms/step - loss: 11.0862 - mae: 11.0862\n",
            "Epoch 338/500\n",
            "2/2 [==============================] - 0s 10ms/step - loss: 20.0538 - mae: 20.0538\n",
            "Epoch 339/500\n",
            "2/2 [==============================] - 0s 12ms/step - loss: 34.0303 - mae: 34.0303\n",
            "Epoch 340/500\n",
            "2/2 [==============================] - 0s 11ms/step - loss: 8.6047 - mae: 8.6047\n",
            "Epoch 341/500\n",
            "2/2 [==============================] - 0s 10ms/step - loss: 21.7533 - mae: 21.7533\n",
            "Epoch 342/500\n",
            "2/2 [==============================] - 0s 33ms/step - loss: 13.9973 - mae: 13.9973\n",
            "Epoch 343/500\n",
            "2/2 [==============================] - 0s 10ms/step - loss: 11.5172 - mae: 11.5172\n",
            "Epoch 344/500\n",
            "2/2 [==============================] - 0s 30ms/step - loss: 10.6334 - mae: 10.6334\n",
            "Epoch 345/500\n",
            "2/2 [==============================] - 0s 13ms/step - loss: 30.8069 - mae: 30.8069\n",
            "Epoch 346/500\n",
            "2/2 [==============================] - 0s 11ms/step - loss: 10.5626 - mae: 10.5626\n",
            "Epoch 347/500\n",
            "2/2 [==============================] - 0s 11ms/step - loss: 25.4115 - mae: 25.4115\n",
            "Epoch 348/500\n",
            "2/2 [==============================] - 0s 9ms/step - loss: 13.6287 - mae: 13.6287\n",
            "Epoch 349/500\n",
            "2/2 [==============================] - 0s 14ms/step - loss: 12.8875 - mae: 12.8875\n",
            "Epoch 350/500\n",
            "2/2 [==============================] - 0s 6ms/step - loss: 15.3363 - mae: 15.3363\n",
            "Epoch 351/500\n",
            "2/2 [==============================] - 0s 8ms/step - loss: 32.7912 - mae: 32.7912\n",
            "Epoch 352/500\n",
            "2/2 [==============================] - 0s 9ms/step - loss: 13.8263 - mae: 13.8263\n",
            "Epoch 353/500\n",
            "2/2 [==============================] - 0s 7ms/step - loss: 17.7940 - mae: 17.7940\n",
            "Epoch 354/500\n",
            "2/2 [==============================] - 0s 7ms/step - loss: 11.3504 - mae: 11.3504\n",
            "Epoch 355/500\n",
            "2/2 [==============================] - 0s 8ms/step - loss: 26.7965 - mae: 26.7965\n",
            "Epoch 356/500\n",
            "2/2 [==============================] - 0s 16ms/step - loss: 10.0884 - mae: 10.0884\n",
            "Epoch 357/500\n",
            "2/2 [==============================] - 0s 9ms/step - loss: 14.6567 - mae: 14.6567\n",
            "Epoch 358/500\n",
            "2/2 [==============================] - 0s 9ms/step - loss: 14.5088 - mae: 14.5088\n",
            "Epoch 359/500\n",
            "2/2 [==============================] - 0s 17ms/step - loss: 12.3334 - mae: 12.3334\n",
            "Epoch 360/500\n",
            "2/2 [==============================] - 0s 11ms/step - loss: 20.3650 - mae: 20.3650\n",
            "Epoch 361/500\n",
            "2/2 [==============================] - 0s 7ms/step - loss: 10.8398 - mae: 10.8398\n",
            "Epoch 362/500\n",
            "2/2 [==============================] - 0s 10ms/step - loss: 6.7555 - mae: 6.7555\n",
            "Epoch 363/500\n",
            "2/2 [==============================] - 0s 10ms/step - loss: 23.7956 - mae: 23.7956\n",
            "Epoch 364/500\n",
            "2/2 [==============================] - 0s 7ms/step - loss: 29.4816 - mae: 29.4816\n",
            "Epoch 365/500\n",
            "2/2 [==============================] - 0s 6ms/step - loss: 8.2224 - mae: 8.2224\n",
            "Epoch 366/500\n",
            "2/2 [==============================] - 0s 16ms/step - loss: 6.0506 - mae: 6.0506\n",
            "Epoch 367/500\n",
            "2/2 [==============================] - 0s 10ms/step - loss: 34.6592 - mae: 34.6592\n",
            "Epoch 368/500\n",
            "2/2 [==============================] - 0s 11ms/step - loss: 7.3086 - mae: 7.3086\n",
            "Epoch 369/500\n",
            "2/2 [==============================] - 0s 11ms/step - loss: 9.1238 - mae: 9.1238\n",
            "Epoch 370/500\n",
            "2/2 [==============================] - 0s 9ms/step - loss: 10.8279 - mae: 10.8279\n",
            "Epoch 371/500\n",
            "2/2 [==============================] - 0s 7ms/step - loss: 8.8958 - mae: 8.8958\n",
            "Epoch 372/500\n",
            "2/2 [==============================] - 0s 14ms/step - loss: 7.6758 - mae: 7.6758\n",
            "Epoch 373/500\n",
            "2/2 [==============================] - 0s 11ms/step - loss: 25.0891 - mae: 25.0891\n",
            "Epoch 374/500\n",
            "2/2 [==============================] - 0s 12ms/step - loss: 13.1438 - mae: 13.1438\n",
            "Epoch 375/500\n",
            "2/2 [==============================] - 0s 13ms/step - loss: 11.8703 - mae: 11.8703\n",
            "Epoch 376/500\n",
            "2/2 [==============================] - 0s 10ms/step - loss: 14.1559 - mae: 14.1559\n",
            "Epoch 377/500\n",
            "2/2 [==============================] - 0s 13ms/step - loss: 15.7215 - mae: 15.7215\n",
            "Epoch 378/500\n",
            "2/2 [==============================] - 0s 7ms/step - loss: 17.0548 - mae: 17.0548\n",
            "Epoch 379/500\n",
            "2/2 [==============================] - 0s 15ms/step - loss: 19.3562 - mae: 19.3562\n",
            "Epoch 380/500\n",
            "2/2 [==============================] - 0s 7ms/step - loss: 15.7076 - mae: 15.7076\n",
            "Epoch 381/500\n",
            "2/2 [==============================] - 0s 5ms/step - loss: 11.4630 - mae: 11.4630\n",
            "Epoch 382/500\n",
            "2/2 [==============================] - 0s 15ms/step - loss: 16.3339 - mae: 16.3339\n",
            "Epoch 383/500\n",
            "2/2 [==============================] - 0s 13ms/step - loss: 22.0977 - mae: 22.0977\n",
            "Epoch 384/500\n",
            "2/2 [==============================] - 0s 12ms/step - loss: 7.7081 - mae: 7.7081\n",
            "Epoch 385/500\n",
            "2/2 [==============================] - 0s 12ms/step - loss: 10.5964 - mae: 10.5964\n",
            "Epoch 386/500\n",
            "2/2 [==============================] - 0s 10ms/step - loss: 19.0807 - mae: 19.0807\n",
            "Epoch 387/500\n",
            "2/2 [==============================] - 0s 10ms/step - loss: 26.5237 - mae: 26.5237\n",
            "Epoch 388/500\n",
            "2/2 [==============================] - 0s 10ms/step - loss: 10.0998 - mae: 10.0998\n",
            "Epoch 389/500\n",
            "2/2 [==============================] - 0s 6ms/step - loss: 5.1446 - mae: 5.1446\n",
            "Epoch 390/500\n",
            "2/2 [==============================] - 0s 13ms/step - loss: 18.8650 - mae: 18.8650\n",
            "Epoch 391/500\n",
            "2/2 [==============================] - 0s 13ms/step - loss: 9.3037 - mae: 9.3037\n",
            "Epoch 392/500\n",
            "2/2 [==============================] - 0s 33ms/step - loss: 14.3850 - mae: 14.3850\n",
            "Epoch 393/500\n",
            "2/2 [==============================] - 0s 10ms/step - loss: 15.3849 - mae: 15.3849\n",
            "Epoch 394/500\n",
            "2/2 [==============================] - 0s 7ms/step - loss: 14.7253 - mae: 14.7253\n",
            "Epoch 395/500\n",
            "2/2 [==============================] - 0s 12ms/step - loss: 24.9488 - mae: 24.9488\n",
            "Epoch 396/500\n",
            "2/2 [==============================] - 0s 8ms/step - loss: 19.2144 - mae: 19.2144\n",
            "Epoch 397/500\n",
            "2/2 [==============================] - 0s 10ms/step - loss: 11.5451 - mae: 11.5451\n",
            "Epoch 398/500\n",
            "2/2 [==============================] - 0s 33ms/step - loss: 19.1798 - mae: 19.1798\n",
            "Epoch 399/500\n",
            "2/2 [==============================] - 0s 16ms/step - loss: 26.0342 - mae: 26.0342\n",
            "Epoch 400/500\n",
            "2/2 [==============================] - 0s 9ms/step - loss: 15.6808 - mae: 15.6808\n",
            "Epoch 401/500\n",
            "2/2 [==============================] - 0s 20ms/step - loss: 14.6270 - mae: 14.6270\n",
            "Epoch 402/500\n",
            "2/2 [==============================] - 0s 14ms/step - loss: 24.2385 - mae: 24.2385\n",
            "Epoch 403/500\n",
            "2/2 [==============================] - 0s 9ms/step - loss: 16.5031 - mae: 16.5031\n",
            "Epoch 404/500\n",
            "2/2 [==============================] - 0s 10ms/step - loss: 9.1393 - mae: 9.1393\n",
            "Epoch 405/500\n",
            "2/2 [==============================] - 0s 9ms/step - loss: 10.4227 - mae: 10.4227\n",
            "Epoch 406/500\n",
            "2/2 [==============================] - 0s 11ms/step - loss: 7.3336 - mae: 7.3336\n",
            "Epoch 407/500\n",
            "2/2 [==============================] - 0s 17ms/step - loss: 13.4600 - mae: 13.4600\n",
            "Epoch 408/500\n",
            "2/2 [==============================] - 0s 13ms/step - loss: 5.5716 - mae: 5.5716\n",
            "Epoch 409/500\n",
            "2/2 [==============================] - 0s 10ms/step - loss: 29.8392 - mae: 29.8392\n",
            "Epoch 410/500\n",
            "2/2 [==============================] - 0s 12ms/step - loss: 9.9221 - mae: 9.9221\n",
            "Epoch 411/500\n",
            "2/2 [==============================] - 0s 26ms/step - loss: 14.7782 - mae: 14.7782\n",
            "Epoch 412/500\n",
            "2/2 [==============================] - 0s 10ms/step - loss: 21.5881 - mae: 21.5881\n",
            "Epoch 413/500\n",
            "2/2 [==============================] - 0s 20ms/step - loss: 13.0570 - mae: 13.0570\n",
            "Epoch 414/500\n",
            "2/2 [==============================] - 0s 11ms/step - loss: 8.2934 - mae: 8.2934\n",
            "Epoch 415/500\n",
            "2/2 [==============================] - 0s 4ms/step - loss: 11.7041 - mae: 11.7041\n",
            "Epoch 416/500\n",
            "2/2 [==============================] - 0s 9ms/step - loss: 25.6446 - mae: 25.6446\n",
            "Epoch 417/500\n",
            "2/2 [==============================] - 0s 5ms/step - loss: 15.6790 - mae: 15.6790\n",
            "Epoch 418/500\n",
            "2/2 [==============================] - 0s 18ms/step - loss: 12.5949 - mae: 12.5949\n",
            "Epoch 419/500\n",
            "2/2 [==============================] - 0s 6ms/step - loss: 15.7314 - mae: 15.7314\n",
            "Epoch 420/500\n",
            "2/2 [==============================] - 0s 7ms/step - loss: 24.4496 - mae: 24.4496\n",
            "Epoch 421/500\n",
            "2/2 [==============================] - 0s 15ms/step - loss: 18.2188 - mae: 18.2188\n",
            "Epoch 422/500\n",
            "2/2 [==============================] - 0s 22ms/step - loss: 8.6386 - mae: 8.6386\n",
            "Epoch 423/500\n",
            "2/2 [==============================] - 0s 11ms/step - loss: 24.6519 - mae: 24.6519\n",
            "Epoch 424/500\n",
            "2/2 [==============================] - 0s 15ms/step - loss: 16.8450 - mae: 16.8450\n",
            "Epoch 425/500\n",
            "2/2 [==============================] - 0s 15ms/step - loss: 7.3095 - mae: 7.3095\n",
            "Epoch 426/500\n",
            "2/2 [==============================] - 0s 11ms/step - loss: 21.0307 - mae: 21.0307\n",
            "Epoch 427/500\n",
            "2/2 [==============================] - 0s 22ms/step - loss: 6.4920 - mae: 6.4920\n",
            "Epoch 428/500\n",
            "2/2 [==============================] - 0s 7ms/step - loss: 13.4809 - mae: 13.4809\n",
            "Epoch 429/500\n",
            "2/2 [==============================] - 0s 7ms/step - loss: 11.4615 - mae: 11.4615\n",
            "Epoch 430/500\n",
            "2/2 [==============================] - 0s 11ms/step - loss: 10.2383 - mae: 10.2383\n",
            "Epoch 431/500\n",
            "2/2 [==============================] - 0s 15ms/step - loss: 11.5074 - mae: 11.5074\n",
            "Epoch 432/500\n",
            "2/2 [==============================] - 0s 43ms/step - loss: 9.9411 - mae: 9.9411\n",
            "Epoch 433/500\n",
            "2/2 [==============================] - 0s 9ms/step - loss: 3.8426 - mae: 3.8426\n",
            "Epoch 434/500\n",
            "2/2 [==============================] - 0s 11ms/step - loss: 28.3320 - mae: 28.3320\n",
            "Epoch 435/500\n",
            "2/2 [==============================] - 0s 11ms/step - loss: 5.3655 - mae: 5.3655\n",
            "Epoch 436/500\n",
            "2/2 [==============================] - 0s 8ms/step - loss: 41.3607 - mae: 41.3607\n",
            "Epoch 437/500\n",
            "2/2 [==============================] - 0s 12ms/step - loss: 5.1728 - mae: 5.1728\n",
            "Epoch 438/500\n",
            "2/2 [==============================] - 0s 10ms/step - loss: 13.8775 - mae: 13.8775\n",
            "Epoch 439/500\n",
            "2/2 [==============================] - 0s 5ms/step - loss: 31.8764 - mae: 31.8764\n",
            "Epoch 440/500\n",
            "2/2 [==============================] - 0s 5ms/step - loss: 12.2698 - mae: 12.2698\n",
            "Epoch 441/500\n",
            "2/2 [==============================] - 0s 10ms/step - loss: 15.6387 - mae: 15.6387\n",
            "Epoch 442/500\n",
            "2/2 [==============================] - 0s 10ms/step - loss: 23.4273 - mae: 23.4273\n",
            "Epoch 443/500\n",
            "2/2 [==============================] - 0s 25ms/step - loss: 20.8851 - mae: 20.8851\n",
            "Epoch 444/500\n",
            "2/2 [==============================] - 0s 12ms/step - loss: 8.6567 - mae: 8.6567\n",
            "Epoch 445/500\n",
            "2/2 [==============================] - 0s 14ms/step - loss: 14.0707 - mae: 14.0707\n",
            "Epoch 446/500\n",
            "2/2 [==============================] - 0s 9ms/step - loss: 16.7698 - mae: 16.7698\n",
            "Epoch 447/500\n",
            "2/2 [==============================] - 0s 19ms/step - loss: 6.6999 - mae: 6.6999\n",
            "Epoch 448/500\n",
            "2/2 [==============================] - 0s 6ms/step - loss: 6.7120 - mae: 6.7120\n",
            "Epoch 449/500\n",
            "2/2 [==============================] - 0s 8ms/step - loss: 15.6056 - mae: 15.6056\n",
            "Epoch 450/500\n",
            "2/2 [==============================] - 0s 5ms/step - loss: 16.5582 - mae: 16.5582\n",
            "Epoch 451/500\n",
            "2/2 [==============================] - 0s 22ms/step - loss: 14.1912 - mae: 14.1912\n",
            "Epoch 452/500\n",
            "2/2 [==============================] - 0s 7ms/step - loss: 30.4513 - mae: 30.4513\n",
            "Epoch 453/500\n",
            "2/2 [==============================] - 0s 17ms/step - loss: 5.1333 - mae: 5.1333\n",
            "Epoch 454/500\n",
            "2/2 [==============================] - 0s 11ms/step - loss: 30.0469 - mae: 30.0469\n",
            "Epoch 455/500\n",
            "2/2 [==============================] - 0s 19ms/step - loss: 4.3095 - mae: 4.3095\n",
            "Epoch 456/500\n",
            "2/2 [==============================] - 0s 21ms/step - loss: 14.6088 - mae: 14.6088\n",
            "Epoch 457/500\n",
            "2/2 [==============================] - 0s 18ms/step - loss: 17.7761 - mae: 17.7761\n",
            "Epoch 458/500\n",
            "2/2 [==============================] - 0s 4ms/step - loss: 14.0329 - mae: 14.0329\n",
            "Epoch 459/500\n",
            "2/2 [==============================] - 0s 10ms/step - loss: 25.9869 - mae: 25.9869\n",
            "Epoch 460/500\n",
            "2/2 [==============================] - 0s 7ms/step - loss: 14.8883 - mae: 14.8883\n",
            "Epoch 461/500\n",
            "2/2 [==============================] - 0s 21ms/step - loss: 12.1372 - mae: 12.1372\n",
            "Epoch 462/500\n",
            "2/2 [==============================] - 0s 8ms/step - loss: 13.1910 - mae: 13.1910\n",
            "Epoch 463/500\n",
            "2/2 [==============================] - 0s 4ms/step - loss: 29.3057 - mae: 29.3057\n",
            "Epoch 464/500\n",
            "2/2 [==============================] - 0s 16ms/step - loss: 6.9824 - mae: 6.9824\n",
            "Epoch 465/500\n",
            "2/2 [==============================] - 0s 8ms/step - loss: 14.3418 - mae: 14.3418\n",
            "Epoch 466/500\n",
            "2/2 [==============================] - 0s 5ms/step - loss: 10.1409 - mae: 10.1409\n",
            "Epoch 467/500\n",
            "2/2 [==============================] - 0s 8ms/step - loss: 21.5523 - mae: 21.5523\n",
            "Epoch 468/500\n",
            "2/2 [==============================] - 0s 25ms/step - loss: 23.7748 - mae: 23.7748\n",
            "Epoch 469/500\n",
            "2/2 [==============================] - 0s 24ms/step - loss: 21.2018 - mae: 21.2018\n",
            "Epoch 470/500\n",
            "2/2 [==============================] - 0s 23ms/step - loss: 9.6124 - mae: 9.6124\n",
            "Epoch 471/500\n",
            "2/2 [==============================] - 0s 9ms/step - loss: 15.9711 - mae: 15.9711\n",
            "Epoch 472/500\n",
            "2/2 [==============================] - 0s 6ms/step - loss: 14.9251 - mae: 14.9251\n",
            "Epoch 473/500\n",
            "2/2 [==============================] - 0s 13ms/step - loss: 18.2843 - mae: 18.2843\n",
            "Epoch 474/500\n",
            "2/2 [==============================] - 0s 7ms/step - loss: 41.9957 - mae: 41.9957\n",
            "Epoch 475/500\n",
            "2/2 [==============================] - 0s 9ms/step - loss: 17.8449 - mae: 17.8449\n",
            "Epoch 476/500\n",
            "2/2 [==============================] - 0s 39ms/step - loss: 13.2057 - mae: 13.2057\n",
            "Epoch 477/500\n",
            "2/2 [==============================] - 0s 6ms/step - loss: 29.2900 - mae: 29.2900\n",
            "Epoch 478/500\n",
            "2/2 [==============================] - 0s 9ms/step - loss: 5.7088 - mae: 5.7088\n",
            "Epoch 479/500\n",
            "2/2 [==============================] - 0s 10ms/step - loss: 7.0814 - mae: 7.0814\n",
            "Epoch 480/500\n",
            "2/2 [==============================] - 0s 19ms/step - loss: 19.0857 - mae: 19.0857\n",
            "Epoch 481/500\n",
            "2/2 [==============================] - 0s 20ms/step - loss: 13.4604 - mae: 13.4604\n",
            "Epoch 482/500\n",
            "2/2 [==============================] - 0s 9ms/step - loss: 6.3607 - mae: 6.3607\n",
            "Epoch 483/500\n",
            "2/2 [==============================] - 0s 12ms/step - loss: 12.3923 - mae: 12.3923\n",
            "Epoch 484/500\n",
            "2/2 [==============================] - 0s 20ms/step - loss: 13.1072 - mae: 13.1072\n",
            "Epoch 485/500\n",
            "2/2 [==============================] - 0s 46ms/step - loss: 10.4003 - mae: 10.4003\n",
            "Epoch 486/500\n",
            "2/2 [==============================] - 0s 20ms/step - loss: 17.8689 - mae: 17.8689\n",
            "Epoch 487/500\n",
            "2/2 [==============================] - 0s 48ms/step - loss: 10.8326 - mae: 10.8326\n",
            "Epoch 488/500\n",
            "2/2 [==============================] - 0s 15ms/step - loss: 26.9561 - mae: 26.9561\n",
            "Epoch 489/500\n",
            "2/2 [==============================] - 0s 16ms/step - loss: 5.3779 - mae: 5.3779\n",
            "Epoch 490/500\n",
            "2/2 [==============================] - 0s 4ms/step - loss: 6.0836 - mae: 6.0836\n",
            "Epoch 491/500\n",
            "2/2 [==============================] - 0s 15ms/step - loss: 19.3695 - mae: 19.3695\n",
            "Epoch 492/500\n",
            "2/2 [==============================] - 0s 15ms/step - loss: 6.7539 - mae: 6.7539\n",
            "Epoch 493/500\n",
            "2/2 [==============================] - 0s 38ms/step - loss: 18.6663 - mae: 18.6663\n",
            "Epoch 494/500\n",
            "2/2 [==============================] - 0s 13ms/step - loss: 19.0952 - mae: 19.0952\n",
            "Epoch 495/500\n",
            "2/2 [==============================] - 0s 5ms/step - loss: 5.7076 - mae: 5.7076\n",
            "Epoch 496/500\n",
            "2/2 [==============================] - 0s 16ms/step - loss: 5.9379 - mae: 5.9379\n",
            "Epoch 497/500\n",
            "2/2 [==============================] - 0s 13ms/step - loss: 12.6345 - mae: 12.6345\n",
            "Epoch 498/500\n",
            "2/2 [==============================] - 0s 11ms/step - loss: 6.3402 - mae: 6.3402\n",
            "Epoch 499/500\n",
            "2/2 [==============================] - 0s 12ms/step - loss: 16.0353 - mae: 16.0353\n",
            "Epoch 500/500\n",
            "2/2 [==============================] - 0s 8ms/step - loss: 14.3008 - mae: 14.3008\n"
          ]
        },
        {
          "output_type": "execute_result",
          "data": {
            "text/plain": [
              "<keras.callbacks.History at 0x7ff224cd4550>"
            ]
          },
          "metadata": {},
          "execution_count": 32
        }
      ]
    },
    {
      "cell_type": "code",
      "source": [
        "y_eval_2 = model_2.evaluate(X_test, y_test)"
      ],
      "metadata": {
        "colab": {
          "base_uri": "https://localhost:8080/"
        },
        "id": "3o5qZ5Z4lpXh",
        "outputId": "a8237101-7c10-4c56-9084-c571dc324350"
      },
      "execution_count": null,
      "outputs": [
        {
          "output_type": "stream",
          "name": "stdout",
          "text": [
            "1/1 [==============================] - 0s 266ms/step - loss: 12.2232 - mae: 12.2232\n"
          ]
        }
      ]
    },
    {
      "cell_type": "code",
      "source": [
        "y_eval_3 = model_3.evaluate(X_test, y_test)"
      ],
      "metadata": {
        "colab": {
          "base_uri": "https://localhost:8080/"
        },
        "id": "vHygQdUulyp0",
        "outputId": "e8f98146-66c0-4750-ae29-982a0e19a0cc"
      },
      "execution_count": null,
      "outputs": [
        {
          "output_type": "stream",
          "name": "stdout",
          "text": [
            "1/1 [==============================] - 0s 395ms/step - loss: 64.4158 - mae: 64.4158\n"
          ]
        }
      ]
    },
    {
      "cell_type": "code",
      "source": [
        "y_eval_1 = model_1.evaluate(X_test, y_test)"
      ],
      "metadata": {
        "colab": {
          "base_uri": "https://localhost:8080/"
        },
        "id": "R2NKl_gVl26F",
        "outputId": "7c723026-f93b-4077-b174-75b60ed8db53"
      },
      "execution_count": null,
      "outputs": [
        {
          "output_type": "stream",
          "name": "stdout",
          "text": [
            "1/1 [==============================] - 0s 165ms/step - loss: 7.7581 - mae: 7.7581\n"
          ]
        }
      ]
    },
    {
      "cell_type": "code",
      "source": [
        "y_pred_1 = model_1.predict(X_test)\n",
        "y_pred_2 = model_2.predict(X_test)\n",
        "y_pred_3 = model_3.predict(X_test)"
      ],
      "metadata": {
        "colab": {
          "base_uri": "https://localhost:8080/"
        },
        "id": "eZxbEsyjnyVT",
        "outputId": "98defb7b-1d35-462f-a10a-3f8df1bca325"
      },
      "execution_count": null,
      "outputs": [
        {
          "output_type": "stream",
          "name": "stdout",
          "text": [
            "1/1 [==============================] - 0s 132ms/step\n"
          ]
        },
        {
          "output_type": "stream",
          "name": "stderr",
          "text": [
            "WARNING:tensorflow:5 out of the last 5 calls to <function Model.make_predict_function.<locals>.predict_function at 0x7ff223cef710> triggered tf.function retracing. Tracing is expensive and the excessive number of tracings could be due to (1) creating @tf.function repeatedly in a loop, (2) passing tensors with different shapes, (3) passing Python objects instead of tensors. For (1), please define your @tf.function outside of the loop. For (2), @tf.function has reduce_retracing=True option that can avoid unnecessary retracing. For (3), please refer to https://www.tensorflow.org/guide/function#controlling_retracing and https://www.tensorflow.org/api_docs/python/tf/function for  more details.\n"
          ]
        },
        {
          "output_type": "stream",
          "name": "stdout",
          "text": [
            "1/1 [==============================] - 0s 250ms/step\n"
          ]
        },
        {
          "output_type": "stream",
          "name": "stderr",
          "text": [
            "WARNING:tensorflow:6 out of the last 6 calls to <function Model.make_predict_function.<locals>.predict_function at 0x7ff224d974d0> triggered tf.function retracing. Tracing is expensive and the excessive number of tracings could be due to (1) creating @tf.function repeatedly in a loop, (2) passing tensors with different shapes, (3) passing Python objects instead of tensors. For (1), please define your @tf.function outside of the loop. For (2), @tf.function has reduce_retracing=True option that can avoid unnecessary retracing. For (3), please refer to https://www.tensorflow.org/guide/function#controlling_retracing and https://www.tensorflow.org/api_docs/python/tf/function for  more details.\n"
          ]
        },
        {
          "output_type": "stream",
          "name": "stdout",
          "text": [
            "1/1 [==============================] - 0s 229ms/step\n"
          ]
        }
      ]
    },
    {
      "cell_type": "code",
      "source": [
        "# Plotting the graphs\n",
        "plot_predictions(\n",
        "    predictions = y_pred_1\n",
        ")\n",
        "\n",
        "plot_predictions(\n",
        "    predictions = y_pred_2\n",
        ")\n",
        "\n",
        "plot_predictions(\n",
        "    predictions = y_pred_3\n",
        ")"
      ],
      "metadata": {
        "colab": {
          "base_uri": "https://localhost:8080/",
          "height": 1000
        },
        "id": "Zh3UBRqqnGue",
        "outputId": "8be7af7e-65a5-4976-dff4-03c30726fe77"
      },
      "execution_count": null,
      "outputs": [
        {
          "output_type": "display_data",
          "data": {
            "text/plain": [
              "<Figure size 720x504 with 1 Axes>"
            ],
            "image/png": "[encoded data removed]"
          },
          "metadata": {
            "needs_background": "light"
          }
        },
        {
          "output_type": "display_data",
          "data": {
            "text/plain": [
              "<Figure size 720x504 with 1 Axes>"
            ],
            "image/png": "[encoded data removed]"
          },
          "metadata": {
            "needs_background": "light"
          }
        },
        {
          "output_type": "display_data",
          "data": {
            "text/plain": [
              "<Figure size 720x504 with 1 Axes>"
            ],
            "image/png": "[encoded data removed]"
          },
          "metadata": {
            "needs_background": "light"
          }
        }
      ]
    },
    {
      "cell_type": "code",
      "source": [
        "# Calculate model_1, model_2, model_3 evaluation metrics\n",
        "mae_1 = mae(y_test, y_pred_1)\n",
        "mse_1 = mse(y_test, y_pred_1)\n",
        "mae_2 = mae(y_test, y_pred_2)\n",
        "mse_2 = mse(y_test, y_pred_2)\n",
        "mae_3 = mae(y_test, y_pred_3)\n",
        "mse_3 = mse(y_test, y_pred_3)\n",
        "\n",
        "print(\"mae 1:\", mae_1.numpy(), \"\\n\")\n",
        "print(\"mae 2:\", mae_2.numpy(), \"\\n\")\n",
        "print(\"mae 3:\", mae_3.numpy(), \"\\n\")\n",
        "\n",
        "print(\"\\n\")\n",
        "print(\"mse 1:\", mse_1.numpy(), \"\\n\")\n",
        "print(\"mse 2:\", mse_2.numpy(), \"\\n\")\n",
        "print(\"mse 3:\", mse_3.numpy(), \"\\n\")"
      ],
      "metadata": {
        "colab": {
          "base_uri": "https://localhost:8080/"
        },
        "id": "el8zXfz-nRLh",
        "outputId": "f8934350-4ff8-4ea7-babd-3429756ad5b9"
      },
      "execution_count": null,
      "outputs": [
        {
          "output_type": "stream",
          "name": "stdout",
          "text": [
            "mae 1: 7.7581 \n",
            "\n",
            "mae 2: 12.223182 \n",
            "\n",
            "mae 3: 64.41577 \n",
            "\n",
            "\n",
            "\n",
            "mse 1: 66.715485 \n",
            "\n",
            "mse 2: 159.47891 \n",
            "\n",
            "mse 3: 4233.419 \n",
            "\n"
          ]
        }
      ]
    },
    {
      "cell_type": "markdown",
      "source": [
        "### Compare experiment results\n",
        "\n",
        "We've run a few experiments. Let's compare the results of these experiments now."
      ],
      "metadata": {
        "id": "na2S4OXRozYf"
      }
    },
    {
      "cell_type": "code",
      "source": [
        "# Let's compare our model's results using a pandas DataFrame\n",
        "import pandas as pd\n",
        "model_results = [\n",
        "    [\"model 1\", mae_1.numpy(), mse_1.numpy()],\n",
        "    [\"model 2\", mae_2.numpy(), mse_2.numpy()],\n",
        "    [\"model 3\", mae_3.numpy(), mse_3.numpy()],\n",
        "]\n",
        "\n",
        "\n",
        "all_results = pd.DataFrame(model_results, columns = [\"model\", \"mae\", \"mse\"])\n",
        "all_results"
      ],
      "metadata": {
        "colab": {
          "base_uri": "https://localhost:8080/",
          "height": 143
        },
        "id": "cd_q2n1Ap08Z",
        "outputId": "5b4e83d5-1dc5-493b-c138-bafd08a708df"
      },
      "execution_count": null,
      "outputs": [
        {
          "output_type": "execute_result",
          "data": {
            "text/plain": [
              "     model        mae          mse\n",
              "0  model 1   7.758100    66.715485\n",
              "1  model 2  12.223182   159.478912\n",
              "2  model 3  64.415771  4233.418945"
            ],
            "text/html": [
              "\n",
              "  <div id=\"df-af1d0272-9f74-416b-8d04-8416984fbc0d\">\n",
              "    <div class=\"colab-df-container\">\n",
              "      <div>\n",
              "<style scoped>\n",
              "    .dataframe tbody tr th:only-of-type {\n",
              "        vertical-align: middle;\n",
              "    }\n",
              "\n",
              "    .dataframe tbody tr th {\n",
              "        vertical-align: top;\n",
              "    }\n",
              "\n",
              "    .dataframe thead th {\n",
              "        text-align: right;\n",
              "    }\n",
              "</style>\n",
              "<table border=\"1\" class=\"dataframe\">\n",
              "  <thead>\n",
              "    <tr style=\"text-align: right;\">\n",
              "      <th></th>\n",
              "      <th>model</th>\n",
              "      <th>mae</th>\n",
              "      <th>mse</th>\n",
              "    </tr>\n",
              "  </thead>\n",
              "  <tbody>\n",
              "    <tr>\n",
              "      <th>0</th>\n",
              "      <td>model 1</td>\n",
              "      <td>7.758100</td>\n",
              "      <td>66.715485</td>\n",
              "    </tr>\n",
              "    <tr>\n",
              "      <th>1</th>\n",
              "      <td>model 2</td>\n",
              "      <td>12.223182</td>\n",
              "      <td>159.478912</td>\n",
              "    </tr>\n",
              "    <tr>\n",
              "      <th>2</th>\n",
              "      <td>model 3</td>\n",
              "      <td>64.415771</td>\n",
              "      <td>4233.418945</td>\n",
              "    </tr>\n",
              "  </tbody>\n",
              "</table>\n",
              "</div>\n",
              "      <button class=\"colab-df-convert\" onclick=\"convertToInteractive('df-af1d0272-9f74-416b-8d04-8416984fbc0d')\"\n",
              "              title=\"Convert this dataframe to an interactive table.\"\n",
              "              style=\"display:none;\">\n",
              "        \n",
              "  <svg xmlns=\"http://www.w3.org/2000/svg\" height=\"24px\"viewBox=\"0 0 24 24\"\n",
              "       width=\"24px\">\n",
              "    <path d=\"M0 0h24v24H0V0z\" fill=\"none\"/>\n",
              "    <path d=\"M18.56 5.44l.94 2.06.94-2.06 2.06-.94-2.06-.94-.94-2.06-.94 2.06-2.06.94zm-11 1L8.5 8.5l.94-2.06 2.06-.94-2.06-.94L8.5 2.5l-.94 2.06-2.06.94zm10 10l.94 2.06.94-2.06 2.06-.94-2.06-.94-.94-2.06-.94 2.06-2.06.94z\"/><path d=\"M17.41 7.96l-1.37-1.37c-.4-.4-.92-.59-1.43-.59-.52 0-1.04.2-1.43.59L10.3 9.45l-7.72 7.72c-.78.78-.78 2.05 0 2.83L4 21.41c.39.39.9.59 1.41.59.51 0 1.02-.2 1.41-.59l7.78-7.78 2.81-2.81c.8-.78.8-2.07 0-2.86zM5.41 20L4 18.59l7.72-7.72 1.47 1.35L5.41 20z\"/>\n",
              "  </svg>\n",
              "      </button>\n",
              "      \n",
              "  <style>\n",
              "    .colab-df-container {\n",
              "      display:flex;\n",
              "      flex-wrap:wrap;\n",
              "      gap: 12px;\n",
              "    }\n",
              "\n",
              "    .colab-df-convert {\n",
              "      background-color: #E8F0FE;\n",
              "      border: none;\n",
              "      border-radius: 50%;\n",
              "      cursor: pointer;\n",
              "      display: none;\n",
              "      fill: #1967D2;\n",
              "      height: 32px;\n",
              "      padding: 0 0 0 0;\n",
              "      width: 32px;\n",
              "    }\n",
              "\n",
              "    .colab-df-convert:hover {\n",
              "      background-color: #E2EBFA;\n",
              "      box-shadow: 0px 1px 2px rgba(60, 64, 67, 0.3), 0px 1px 3px 1px rgba(60, 64, 67, 0.15);\n",
              "      fill: #174EA6;\n",
              "    }\n",
              "\n",
              "    [theme=dark] .colab-df-convert {\n",
              "      background-color: #3B4455;\n",
              "      fill: #D2E3FC;\n",
              "    }\n",
              "\n",
              "    [theme=dark] .colab-df-convert:hover {\n",
              "      background-color: #434B5C;\n",
              "      box-shadow: 0px 1px 3px 1px rgba(0, 0, 0, 0.15);\n",
              "      filter: drop-shadow(0px 1px 2px rgba(0, 0, 0, 0.3));\n",
              "      fill: #FFFFFF;\n",
              "    }\n",
              "  </style>\n",
              "\n",
              "      <script>\n",
              "        const buttonEl =\n",
              "          document.querySelector('#df-af1d0272-9f74-416b-8d04-8416984fbc0d button.colab-df-convert');\n",
              "        buttonEl.style.display =\n",
              "          google.colab.kernel.accessAllowed ? 'block' : 'none';\n",
              "\n",
              "        async function convertToInteractive(key) {\n",
              "          const element = document.querySelector('#df-af1d0272-9f74-416b-8d04-8416984fbc0d');\n",
              "          const dataTable =\n",
              "            await google.colab.kernel.invokeFunction('convertToInteractive',\n",
              "                                                     [key], {});\n",
              "          if (!dataTable) return;\n",
              "\n",
              "          const docLinkHtml = 'Like what you see? Visit the ' +\n",
              "            '<a target=\"_blank\" href=https://colab.research.google.com/notebooks/data_table.ipynb>data table notebook</a>'\n",
              "            + ' to learn more about interactive tables.';\n",
              "          element.innerHTML = '';\n",
              "          dataTable['output_type'] = 'display_data';\n",
              "          await google.colab.output.renderOutput(dataTable, element);\n",
              "          const docLink = document.createElement('div');\n",
              "          docLink.innerHTML = docLinkHtml;\n",
              "          element.appendChild(docLink);\n",
              "        }\n",
              "      </script>\n",
              "    </div>\n",
              "  </div>\n",
              "  "
            ]
          },
          "metadata": {},
          "execution_count": 39
        }
      ]
    },
    {
      "cell_type": "markdown",
      "source": [
        "Looks like `model_2` performed the best"
      ],
      "metadata": {
        "id": "ji_gc4Nyqf19"
      }
    },
    {
      "cell_type": "code",
      "source": [
        "model_2.summary()"
      ],
      "metadata": {
        "colab": {
          "base_uri": "https://localhost:8080/"
        },
        "id": "qzt7uwUQqNa-",
        "outputId": "8cb82d5a-355a-43ed-e1dc-c5e2c81a5d41"
      },
      "execution_count": null,
      "outputs": [
        {
          "output_type": "stream",
          "name": "stdout",
          "text": [
            "Model: \"sequential_3\"\n",
            "_________________________________________________________________\n",
            " Layer (type)                Output Shape              Param #   \n",
            "=================================================================\n",
            " dense_3 (Dense)             (None, 20)                40        \n",
            "                                                                 \n",
            " dense_4 (Dense)             (None, 1)                 21        \n",
            "                                                                 \n",
            "=================================================================\n",
            "Total params: 61\n",
            "Trainable params: 61\n",
            "Non-trainable params: 0\n",
            "_________________________________________________________________\n"
          ]
        }
      ]
    },
    {
      "cell_type": "markdown",
      "source": [
        "> 🔑 **Note** : One of your main goals is to minimize the time between your experiements. The more things you try out, the more you will figure out which don't work, the closer you will get to figuring out what does work\n",
        "<br/>\n",
        "> Machine learning practitioner's motto - \"experiment, experiment, experiment\" "
      ],
      "metadata": {
        "id": "3UXlWWj0qeVT"
      }
    },
    {
      "cell_type": "markdown",
      "source": [
        "## Tracking your experiments\n",
        "\n",
        "One really good habit in machine learning modelling is to track the results of your experiements. And when doing so, it can be tedious if you're running lot's of experiments\n",
        "\n",
        "📖 Resource : Helpful tools in this situation are:\n",
        "1. TensorBoard - A component of tensorflow library to help track modelling experiments (we'll see this one later)\n",
        "2. Weights & Biases - A tool for tracking all kinds of machine learning experiments (plugs straight into TensorBoard)"
      ],
      "metadata": {
        "id": "taJQ1kkIq4px"
      }
    },
    {
      "cell_type": "markdown",
      "source": [
        "## Save a tensorflow model\n",
        "\n",
        "This is usually done to actually use a model outside of Google collab (or wherever it is trained), such as in a mobile or a web application\n",
        "\n",
        "There are 2 ways you can store this in\n",
        "\n",
        "1. SavedModel Format - Use when you want to reuse tweaking & training the model in the TF envmt (train only using tf code) \n",
        "2. HDF5 Format - Use when you want to reuse tweaking & training the model outside of TF envmt"
      ],
      "metadata": {
        "id": "lqnTS5kgLNbm"
      }
    },
    {
      "cell_type": "code",
      "source": [
        "# Save model using the SavedModel format\n",
        "model_2.save('model_2_SavedModel_format')"
      ],
      "metadata": {
        "id": "gm1LB4biLt7b"
      },
      "execution_count": null,
      "outputs": []
    },
    {
      "cell_type": "code",
      "source": [
        "# Save model using the HDF5 format\n",
        "model_2.save(\"model_2_HDF5_format.h5\")"
      ],
      "metadata": {
        "id": "uicH5bH6L97f"
      },
      "execution_count": null,
      "outputs": []
    },
    {
      "cell_type": "markdown",
      "source": [
        "## Loading in a saved model"
      ],
      "metadata": {
        "id": "wp6bIue0MEDz"
      }
    },
    {
      "cell_type": "code",
      "source": [
        "# Load in the SavedModel format model\n",
        "loaded_SavedModel_format = tf.keras.models.load_model('/content/model_2_SavedModel_format')\n",
        "loaded_SavedModel_format.summary()"
      ],
      "metadata": {
        "colab": {
          "base_uri": "https://localhost:8080/"
        },
        "id": "Aa5SS6H_MbZL",
        "outputId": "15397f30-0268-459d-e088-f9c4b9ca74ca"
      },
      "execution_count": null,
      "outputs": [
        {
          "output_type": "stream",
          "name": "stdout",
          "text": [
            "Model: \"sequential_3\"\n",
            "_________________________________________________________________\n",
            " Layer (type)                Output Shape              Param #   \n",
            "=================================================================\n",
            " dense_3 (Dense)             (None, 20)                40        \n",
            "                                                                 \n",
            " dense_4 (Dense)             (None, 1)                 21        \n",
            "                                                                 \n",
            "=================================================================\n",
            "Total params: 61\n",
            "Trainable params: 61\n",
            "Non-trainable params: 0\n",
            "_________________________________________________________________\n"
          ]
        }
      ]
    },
    {
      "cell_type": "code",
      "source": [
        "# Summary of loaded model should match that of the model that we saved\n",
        "model_2.summary()"
      ],
      "metadata": {
        "colab": {
          "base_uri": "https://localhost:8080/"
        },
        "id": "GXd3XdJiMn8m",
        "outputId": "52159d07-8428-41fb-9c86-cb8986c3f22e"
      },
      "execution_count": null,
      "outputs": [
        {
          "output_type": "stream",
          "name": "stdout",
          "text": [
            "Model: \"sequential_3\"\n",
            "_________________________________________________________________\n",
            " Layer (type)                Output Shape              Param #   \n",
            "=================================================================\n",
            " dense_3 (Dense)             (None, 20)                40        \n",
            "                                                                 \n",
            " dense_4 (Dense)             (None, 1)                 21        \n",
            "                                                                 \n",
            "=================================================================\n",
            "Total params: 61\n",
            "Trainable params: 61\n",
            "Non-trainable params: 0\n",
            "_________________________________________________________________\n"
          ]
        }
      ]
    },
    {
      "cell_type": "code",
      "source": [
        "# Comparing the predictions of loaded model with that of model being saved\n",
        "model_2_preds = model_2.predict(X_test)\n",
        "loaded_SavedModel_format_preds = loaded_SavedModel_format.predict(X_test)\n",
        "model_2_preds == loaded_SavedModel_format_preds"
      ],
      "metadata": {
        "colab": {
          "base_uri": "https://localhost:8080/"
        },
        "id": "FfAQF7y2M2cn",
        "outputId": "34cff954-ac18-443f-c95e-a99f68e8f721"
      },
      "execution_count": null,
      "outputs": [
        {
          "output_type": "stream",
          "name": "stdout",
          "text": [
            "1/1 [==============================] - 0s 54ms/step\n",
            "1/1 [==============================] - 0s 80ms/step\n"
          ]
        },
        {
          "output_type": "execute_result",
          "data": {
            "text/plain": [
              "array([[ True],\n",
              "       [ True],\n",
              "       [ True],\n",
              "       [ True],\n",
              "       [ True],\n",
              "       [ True],\n",
              "       [ True],\n",
              "       [ True],\n",
              "       [ True],\n",
              "       [ True]])"
            ]
          },
          "metadata": {},
          "execution_count": 45
        }
      ]
    },
    {
      "cell_type": "code",
      "source": [
        "# Load in thr H5 model\n",
        "loaded_h5_model = tf.keras.models.load_model('/content/model_2_HDF5_format.h5')\n",
        "\n",
        "loaded_h5_model.summary()"
      ],
      "metadata": {
        "colab": {
          "base_uri": "https://localhost:8080/"
        },
        "id": "ZLLsE2JrNHqq",
        "outputId": "0e18e4fd-9085-4a76-f1b6-6673315c35d9"
      },
      "execution_count": null,
      "outputs": [
        {
          "output_type": "stream",
          "name": "stdout",
          "text": [
            "Model: \"sequential_3\"\n",
            "_________________________________________________________________\n",
            " Layer (type)                Output Shape              Param #   \n",
            "=================================================================\n",
            " dense_3 (Dense)             (None, 20)                40        \n",
            "                                                                 \n",
            " dense_4 (Dense)             (None, 1)                 21        \n",
            "                                                                 \n",
            "=================================================================\n",
            "Total params: 61\n",
            "Trainable params: 61\n",
            "Non-trainable params: 0\n",
            "_________________________________________________________________\n"
          ]
        }
      ]
    },
    {
      "cell_type": "code",
      "source": [
        "# Check whether the loaded model & the model to be saved are returning the same thing\n",
        "model_2_preds = model_2.predict(X_test)\n",
        "loaded_h5_model_preds = loaded_h5_model.predict(X_test)\n",
        "loaded_h5_model_preds == model_2_preds"
      ],
      "metadata": {
        "colab": {
          "base_uri": "https://localhost:8080/"
        },
        "id": "3bv4HGJ5N6qh",
        "outputId": "624265dd-a052-4ae6-bbd3-1d37b1ea3ca3"
      },
      "execution_count": null,
      "outputs": [
        {
          "output_type": "stream",
          "name": "stdout",
          "text": [
            "1/1 [==============================] - 0s 33ms/step\n",
            "1/1 [==============================] - 0s 97ms/step\n"
          ]
        },
        {
          "output_type": "execute_result",
          "data": {
            "text/plain": [
              "array([[ True],\n",
              "       [ True],\n",
              "       [ True],\n",
              "       [ True],\n",
              "       [ True],\n",
              "       [ True],\n",
              "       [ True],\n",
              "       [ True],\n",
              "       [ True],\n",
              "       [ True]])"
            ]
          },
          "metadata": {},
          "execution_count": 47
        }
      ]
    },
    {
      "cell_type": "markdown",
      "source": [
        "## Download a model\n",
        "\n",
        "If you want to download your files, you can:\n",
        "1. Use the UI in the File Explorer\n",
        "2. Use code (see cell below)\n",
        "3. Saved it in Google Drive by mounting the drive"
      ],
      "metadata": {
        "id": "-ci8X3CxOCK-"
      }
    },
    {
      "cell_type": "code",
      "source": [
        "# Download a file from Google Colab\n",
        "from google.colab import files\n",
        "files.download('/content/model_2_HDF5_format.h5')"
      ],
      "metadata": {
        "colab": {
          "base_uri": "https://localhost:8080/",
          "height": 17
        },
        "id": "-g_qr-ryOphR",
        "outputId": "2a02128f-b659-4d78-a4ec-1b3d96d3e435"
      },
      "execution_count": null,
      "outputs": [
        {
          "output_type": "display_data",
          "data": {
            "text/plain": [
              "<IPython.core.display.Javascript object>"
            ],
            "application/javascript": [
              "\n",
              "    async function download(id, filename, size) {\n",
              "      if (!google.colab.kernel.accessAllowed) {\n",
              "        return;\n",
              "      }\n",
              "      const div = document.createElement('div');\n",
              "      const label = document.createElement('label');\n",
              "      label.textContent = `Downloading \"${filename}\": `;\n",
              "      div.appendChild(label);\n",
              "      const progress = document.createElement('progress');\n",
              "      progress.max = size;\n",
              "      div.appendChild(progress);\n",
              "      document.body.appendChild(div);\n",
              "\n",
              "      const buffers = [];\n",
              "      let downloaded = 0;\n",
              "\n",
              "      const channel = await google.colab.kernel.comms.open(id);\n",
              "      // Send a message to notify the kernel that we're ready.\n",
              "      channel.send({})\n",
              "\n",
              "      for await (const message of channel.messages) {\n",
              "        // Send a message to notify the kernel that we're ready.\n",
              "        channel.send({})\n",
              "        if (message.buffers) {\n",
              "          for (const buffer of message.buffers) {\n",
              "            buffers.push(buffer);\n",
              "            downloaded += buffer.byteLength;\n",
              "            progress.value = downloaded;\n",
              "          }\n",
              "        }\n",
              "      }\n",
              "      const blob = new Blob(buffers, {type: 'application/binary'});\n",
              "      const a = document.createElement('a');\n",
              "      a.href = window.URL.createObjectURL(blob);\n",
              "      a.download = filename;\n",
              "      div.appendChild(a);\n",
              "      a.click();\n",
              "      div.remove();\n",
              "    }\n",
              "  "
            ]
          },
          "metadata": {}
        },
        {
          "output_type": "display_data",
          "data": {
            "text/plain": [
              "<IPython.core.display.Javascript object>"
            ],
            "application/javascript": [
              "download(\"download_9d772a9b-2bfc-43fb-bfb3-1432542d8209\", \"model_2_HDF5_format.h5\", 17872)"
            ]
          },
          "metadata": {}
        }
      ]
    },
    {
      "cell_type": "code",
      "source": [
        "# Save a file from Google Colab to Google Drive (requires mounting Google Drive)\n",
        "# !cp /content/model_2_HDF5_format.h5 /PATH/TO/DESTINATION/FOLDER/IN/DRIVE"
      ],
      "metadata": {
        "id": "owkQBtOOOtiY"
      },
      "execution_count": null,
      "outputs": []
    },
    {
      "cell_type": "markdown",
      "source": [
        "## A larger model"
      ],
      "metadata": {
        "id": "3filwoHtPF52"
      }
    },
    {
      "cell_type": "markdown",
      "source": [
        "### Preparing the data"
      ],
      "metadata": {
        "id": "HlroDkLDakD3"
      }
    },
    {
      "cell_type": "code",
      "source": [
        "# Medical insurance history dataset\n",
        "insurance = pd.read_csv(\"https://raw.githubusercontent.com/stedy/Machine-Learning-with-R-datasets/master/insurance.csv\")\n",
        "insurance.head()"
      ],
      "metadata": {
        "colab": {
          "base_uri": "https://localhost:8080/"
        },
        "id": "aKDeX1wKTUXc",
        "outputId": "458ded05-cba4-4e9f-bc83-ed086a24fd1f"
      },
      "execution_count": null,
      "outputs": [
        {
          "output_type": "execute_result",
          "data": {
            "text/plain": [
              "   age     sex     bmi  children smoker     region      charges\n",
              "0   19  female  27.900         0    yes  southwest  16884.92400\n",
              "1   18    male  33.770         1     no  southeast   1725.55230\n",
              "2   28    male  33.000         3     no  southeast   4449.46200\n",
              "3   33    male  22.705         0     no  northwest  21984.47061\n",
              "4   32    male  28.880         0     no  northwest   3866.85520"
            ],
            "text/html": [
              "\n",
              "  <div id=\"df-d07cd27b-5e35-4da3-b981-ec69ccc880f7\">\n",
              "    <div class=\"colab-df-container\">\n",
              "      <div>\n",
              "<style scoped>\n",
              "    .dataframe tbody tr th:only-of-type {\n",
              "        vertical-align: middle;\n",
              "    }\n",
              "\n",
              "    .dataframe tbody tr th {\n",
              "        vertical-align: top;\n",
              "    }\n",
              "\n",
              "    .dataframe thead th {\n",
              "        text-align: right;\n",
              "    }\n",
              "</style>\n",
              "<table border=\"1\" class=\"dataframe\">\n",
              "  <thead>\n",
              "    <tr style=\"text-align: right;\">\n",
              "      <th></th>\n",
              "      <th>age</th>\n",
              "      <th>sex</th>\n",
              "      <th>bmi</th>\n",
              "      <th>children</th>\n",
              "      <th>smoker</th>\n",
              "      <th>region</th>\n",
              "      <th>charges</th>\n",
              "    </tr>\n",
              "  </thead>\n",
              "  <tbody>\n",
              "    <tr>\n",
              "      <th>0</th>\n",
              "      <td>19</td>\n",
              "      <td>female</td>\n",
              "      <td>27.900</td>\n",
              "      <td>0</td>\n",
              "      <td>yes</td>\n",
              "      <td>southwest</td>\n",
              "      <td>16884.92400</td>\n",
              "    </tr>\n",
              "    <tr>\n",
              "      <th>1</th>\n",
              "      <td>18</td>\n",
              "      <td>male</td>\n",
              "      <td>33.770</td>\n",
              "      <td>1</td>\n",
              "      <td>no</td>\n",
              "      <td>southeast</td>\n",
              "      <td>1725.55230</td>\n",
              "    </tr>\n",
              "    <tr>\n",
              "      <th>2</th>\n",
              "      <td>28</td>\n",
              "      <td>male</td>\n",
              "      <td>33.000</td>\n",
              "      <td>3</td>\n",
              "      <td>no</td>\n",
              "      <td>southeast</td>\n",
              "      <td>4449.46200</td>\n",
              "    </tr>\n",
              "    <tr>\n",
              "      <th>3</th>\n",
              "      <td>33</td>\n",
              "      <td>male</td>\n",
              "      <td>22.705</td>\n",
              "      <td>0</td>\n",
              "      <td>no</td>\n",
              "      <td>northwest</td>\n",
              "      <td>21984.47061</td>\n",
              "    </tr>\n",
              "    <tr>\n",
              "      <th>4</th>\n",
              "      <td>32</td>\n",
              "      <td>male</td>\n",
              "      <td>28.880</td>\n",
              "      <td>0</td>\n",
              "      <td>no</td>\n",
              "      <td>northwest</td>\n",
              "      <td>3866.85520</td>\n",
              "    </tr>\n",
              "  </tbody>\n",
              "</table>\n",
              "</div>\n",
              "      <button class=\"colab-df-convert\" onclick=\"convertToInteractive('df-d07cd27b-5e35-4da3-b981-ec69ccc880f7')\"\n",
              "              title=\"Convert this dataframe to an interactive table.\"\n",
              "              style=\"display:none;\">\n",
              "        \n",
              "  <svg xmlns=\"http://www.w3.org/2000/svg\" height=\"24px\"viewBox=\"0 0 24 24\"\n",
              "       width=\"24px\">\n",
              "    <path d=\"M0 0h24v24H0V0z\" fill=\"none\"/>\n",
              "    <path d=\"M18.56 5.44l.94 2.06.94-2.06 2.06-.94-2.06-.94-.94-2.06-.94 2.06-2.06.94zm-11 1L8.5 8.5l.94-2.06 2.06-.94-2.06-.94L8.5 2.5l-.94 2.06-2.06.94zm10 10l.94 2.06.94-2.06 2.06-.94-2.06-.94-.94-2.06-.94 2.06-2.06.94z\"/><path d=\"M17.41 7.96l-1.37-1.37c-.4-.4-.92-.59-1.43-.59-.52 0-1.04.2-1.43.59L10.3 9.45l-7.72 7.72c-.78.78-.78 2.05 0 2.83L4 21.41c.39.39.9.59 1.41.59.51 0 1.02-.2 1.41-.59l7.78-7.78 2.81-2.81c.8-.78.8-2.07 0-2.86zM5.41 20L4 18.59l7.72-7.72 1.47 1.35L5.41 20z\"/>\n",
              "  </svg>\n",
              "      </button>\n",
              "      \n",
              "  <style>\n",
              "    .colab-df-container {\n",
              "      display:flex;\n",
              "      flex-wrap:wrap;\n",
              "      gap: 12px;\n",
              "    }\n",
              "\n",
              "    .colab-df-convert {\n",
              "      background-color: #E8F0FE;\n",
              "      border: none;\n",
              "      border-radius: 50%;\n",
              "      cursor: pointer;\n",
              "      display: none;\n",
              "      fill: #1967D2;\n",
              "      height: 32px;\n",
              "      padding: 0 0 0 0;\n",
              "      width: 32px;\n",
              "    }\n",
              "\n",
              "    .colab-df-convert:hover {\n",
              "      background-color: #E2EBFA;\n",
              "      box-shadow: 0px 1px 2px rgba(60, 64, 67, 0.3), 0px 1px 3px 1px rgba(60, 64, 67, 0.15);\n",
              "      fill: #174EA6;\n",
              "    }\n",
              "\n",
              "    [theme=dark] .colab-df-convert {\n",
              "      background-color: #3B4455;\n",
              "      fill: #D2E3FC;\n",
              "    }\n",
              "\n",
              "    [theme=dark] .colab-df-convert:hover {\n",
              "      background-color: #434B5C;\n",
              "      box-shadow: 0px 1px 3px 1px rgba(0, 0, 0, 0.15);\n",
              "      filter: drop-shadow(0px 1px 2px rgba(0, 0, 0, 0.3));\n",
              "      fill: #FFFFFF;\n",
              "    }\n",
              "  </style>\n",
              "\n",
              "      <script>\n",
              "        const buttonEl =\n",
              "          document.querySelector('#df-d07cd27b-5e35-4da3-b981-ec69ccc880f7 button.colab-df-convert');\n",
              "        buttonEl.style.display =\n",
              "          google.colab.kernel.accessAllowed ? 'block' : 'none';\n",
              "\n",
              "        async function convertToInteractive(key) {\n",
              "          const element = document.querySelector('#df-d07cd27b-5e35-4da3-b981-ec69ccc880f7');\n",
              "          const dataTable =\n",
              "            await google.colab.kernel.invokeFunction('convertToInteractive',\n",
              "                                                     [key], {});\n",
              "          if (!dataTable) return;\n",
              "\n",
              "          const docLinkHtml = 'Like what you see? Visit the ' +\n",
              "            '<a target=\"_blank\" href=https://colab.research.google.com/notebooks/data_table.ipynb>data table notebook</a>'\n",
              "            + ' to learn more about interactive tables.';\n",
              "          element.innerHTML = '';\n",
              "          dataTable['output_type'] = 'display_data';\n",
              "          await google.colab.output.renderOutput(dataTable, element);\n",
              "          const docLink = document.createElement('div');\n",
              "          docLink.innerHTML = docLinkHtml;\n",
              "          element.appendChild(docLink);\n",
              "        }\n",
              "      </script>\n",
              "    </div>\n",
              "  </div>\n",
              "  "
            ]
          },
          "metadata": {},
          "execution_count": 50
        }
      ]
    },
    {
      "cell_type": "code",
      "source": [
        "# Let's one hot encode our data\n",
        "insurance_one_hot = pd.get_dummies(insurance)\n",
        "insurance_one_hot.head()"
      ],
      "metadata": {
        "colab": {
          "base_uri": "https://localhost:8080/"
        },
        "id": "RoUS0o20TZ7v",
        "outputId": "e6a64e65-d15a-436b-9c01-5bb945931778"
      },
      "execution_count": null,
      "outputs": [
        {
          "output_type": "execute_result",
          "data": {
            "text/plain": [
              "   age     bmi  children      charges  sex_female  sex_male  smoker_no  \\\n",
              "0   19  27.900         0  16884.92400           1         0          0   \n",
              "1   18  33.770         1   1725.55230           0         1          1   \n",
              "2   28  33.000         3   4449.46200           0         1          1   \n",
              "3   33  22.705         0  21984.47061           0         1          1   \n",
              "4   32  28.880         0   3866.85520           0         1          1   \n",
              "\n",
              "   smoker_yes  region_northeast  region_northwest  region_southeast  \\\n",
              "0           1                 0                 0                 0   \n",
              "1           0                 0                 0                 1   \n",
              "2           0                 0                 0                 1   \n",
              "3           0                 0                 1                 0   \n",
              "4           0                 0                 1                 0   \n",
              "\n",
              "   region_southwest  \n",
              "0                 1  \n",
              "1                 0  \n",
              "2                 0  \n",
              "3                 0  \n",
              "4                 0  "
            ],
            "text/html": [
              "\n",
              "  <div id=\"df-db0c3ff2-5799-4342-9c96-bb8ec9ffd0bc\">\n",
              "    <div class=\"colab-df-container\">\n",
              "      <div>\n",
              "<style scoped>\n",
              "    .dataframe tbody tr th:only-of-type {\n",
              "        vertical-align: middle;\n",
              "    }\n",
              "\n",
              "    .dataframe tbody tr th {\n",
              "        vertical-align: top;\n",
              "    }\n",
              "\n",
              "    .dataframe thead th {\n",
              "        text-align: right;\n",
              "    }\n",
              "</style>\n",
              "<table border=\"1\" class=\"dataframe\">\n",
              "  <thead>\n",
              "    <tr style=\"text-align: right;\">\n",
              "      <th></th>\n",
              "      <th>age</th>\n",
              "      <th>bmi</th>\n",
              "      <th>children</th>\n",
              "      <th>charges</th>\n",
              "      <th>sex_female</th>\n",
              "      <th>sex_male</th>\n",
              "      <th>smoker_no</th>\n",
              "      <th>smoker_yes</th>\n",
              "      <th>region_northeast</th>\n",
              "      <th>region_northwest</th>\n",
              "      <th>region_southeast</th>\n",
              "      <th>region_southwest</th>\n",
              "    </tr>\n",
              "  </thead>\n",
              "  <tbody>\n",
              "    <tr>\n",
              "      <th>0</th>\n",
              "      <td>19</td>\n",
              "      <td>27.900</td>\n",
              "      <td>0</td>\n",
              "      <td>16884.92400</td>\n",
              "      <td>1</td>\n",
              "      <td>0</td>\n",
              "      <td>0</td>\n",
              "      <td>1</td>\n",
              "      <td>0</td>\n",
              "      <td>0</td>\n",
              "      <td>0</td>\n",
              "      <td>1</td>\n",
              "    </tr>\n",
              "    <tr>\n",
              "      <th>1</th>\n",
              "      <td>18</td>\n",
              "      <td>33.770</td>\n",
              "      <td>1</td>\n",
              "      <td>1725.55230</td>\n",
              "      <td>0</td>\n",
              "      <td>1</td>\n",
              "      <td>1</td>\n",
              "      <td>0</td>\n",
              "      <td>0</td>\n",
              "      <td>0</td>\n",
              "      <td>1</td>\n",
              "      <td>0</td>\n",
              "    </tr>\n",
              "    <tr>\n",
              "      <th>2</th>\n",
              "      <td>28</td>\n",
              "      <td>33.000</td>\n",
              "      <td>3</td>\n",
              "      <td>4449.46200</td>\n",
              "      <td>0</td>\n",
              "      <td>1</td>\n",
              "      <td>1</td>\n",
              "      <td>0</td>\n",
              "      <td>0</td>\n",
              "      <td>0</td>\n",
              "      <td>1</td>\n",
              "      <td>0</td>\n",
              "    </tr>\n",
              "    <tr>\n",
              "      <th>3</th>\n",
              "      <td>33</td>\n",
              "      <td>22.705</td>\n",
              "      <td>0</td>\n",
              "      <td>21984.47061</td>\n",
              "      <td>0</td>\n",
              "      <td>1</td>\n",
              "      <td>1</td>\n",
              "      <td>0</td>\n",
              "      <td>0</td>\n",
              "      <td>1</td>\n",
              "      <td>0</td>\n",
              "      <td>0</td>\n",
              "    </tr>\n",
              "    <tr>\n",
              "      <th>4</th>\n",
              "      <td>32</td>\n",
              "      <td>28.880</td>\n",
              "      <td>0</td>\n",
              "      <td>3866.85520</td>\n",
              "      <td>0</td>\n",
              "      <td>1</td>\n",
              "      <td>1</td>\n",
              "      <td>0</td>\n",
              "      <td>0</td>\n",
              "      <td>1</td>\n",
              "      <td>0</td>\n",
              "      <td>0</td>\n",
              "    </tr>\n",
              "  </tbody>\n",
              "</table>\n",
              "</div>\n",
              "      <button class=\"colab-df-convert\" onclick=\"convertToInteractive('df-db0c3ff2-5799-4342-9c96-bb8ec9ffd0bc')\"\n",
              "              title=\"Convert this dataframe to an interactive table.\"\n",
              "              style=\"display:none;\">\n",
              "        \n",
              "  <svg xmlns=\"http://www.w3.org/2000/svg\" height=\"24px\"viewBox=\"0 0 24 24\"\n",
              "       width=\"24px\">\n",
              "    <path d=\"M0 0h24v24H0V0z\" fill=\"none\"/>\n",
              "    <path d=\"M18.56 5.44l.94 2.06.94-2.06 2.06-.94-2.06-.94-.94-2.06-.94 2.06-2.06.94zm-11 1L8.5 8.5l.94-2.06 2.06-.94-2.06-.94L8.5 2.5l-.94 2.06-2.06.94zm10 10l.94 2.06.94-2.06 2.06-.94-2.06-.94-.94-2.06-.94 2.06-2.06.94z\"/><path d=\"M17.41 7.96l-1.37-1.37c-.4-.4-.92-.59-1.43-.59-.52 0-1.04.2-1.43.59L10.3 9.45l-7.72 7.72c-.78.78-.78 2.05 0 2.83L4 21.41c.39.39.9.59 1.41.59.51 0 1.02-.2 1.41-.59l7.78-7.78 2.81-2.81c.8-.78.8-2.07 0-2.86zM5.41 20L4 18.59l7.72-7.72 1.47 1.35L5.41 20z\"/>\n",
              "  </svg>\n",
              "      </button>\n",
              "      \n",
              "  <style>\n",
              "    .colab-df-container {\n",
              "      display:flex;\n",
              "      flex-wrap:wrap;\n",
              "      gap: 12px;\n",
              "    }\n",
              "\n",
              "    .colab-df-convert {\n",
              "      background-color: #E8F0FE;\n",
              "      border: none;\n",
              "      border-radius: 50%;\n",
              "      cursor: pointer;\n",
              "      display: none;\n",
              "      fill: #1967D2;\n",
              "      height: 32px;\n",
              "      padding: 0 0 0 0;\n",
              "      width: 32px;\n",
              "    }\n",
              "\n",
              "    .colab-df-convert:hover {\n",
              "      background-color: #E2EBFA;\n",
              "      box-shadow: 0px 1px 2px rgba(60, 64, 67, 0.3), 0px 1px 3px 1px rgba(60, 64, 67, 0.15);\n",
              "      fill: #174EA6;\n",
              "    }\n",
              "\n",
              "    [theme=dark] .colab-df-convert {\n",
              "      background-color: #3B4455;\n",
              "      fill: #D2E3FC;\n",
              "    }\n",
              "\n",
              "    [theme=dark] .colab-df-convert:hover {\n",
              "      background-color: #434B5C;\n",
              "      box-shadow: 0px 1px 3px 1px rgba(0, 0, 0, 0.15);\n",
              "      filter: drop-shadow(0px 1px 2px rgba(0, 0, 0, 0.3));\n",
              "      fill: #FFFFFF;\n",
              "    }\n",
              "  </style>\n",
              "\n",
              "      <script>\n",
              "        const buttonEl =\n",
              "          document.querySelector('#df-db0c3ff2-5799-4342-9c96-bb8ec9ffd0bc button.colab-df-convert');\n",
              "        buttonEl.style.display =\n",
              "          google.colab.kernel.accessAllowed ? 'block' : 'none';\n",
              "\n",
              "        async function convertToInteractive(key) {\n",
              "          const element = document.querySelector('#df-db0c3ff2-5799-4342-9c96-bb8ec9ffd0bc');\n",
              "          const dataTable =\n",
              "            await google.colab.kernel.invokeFunction('convertToInteractive',\n",
              "                                                     [key], {});\n",
              "          if (!dataTable) return;\n",
              "\n",
              "          const docLinkHtml = 'Like what you see? Visit the ' +\n",
              "            '<a target=\"_blank\" href=https://colab.research.google.com/notebooks/data_table.ipynb>data table notebook</a>'\n",
              "            + ' to learn more about interactive tables.';\n",
              "          element.innerHTML = '';\n",
              "          dataTable['output_type'] = 'display_data';\n",
              "          await google.colab.output.renderOutput(dataTable, element);\n",
              "          const docLink = document.createElement('div');\n",
              "          docLink.innerHTML = docLinkHtml;\n",
              "          element.appendChild(docLink);\n",
              "        }\n",
              "      </script>\n",
              "    </div>\n",
              "  </div>\n",
              "  "
            ]
          },
          "metadata": {},
          "execution_count": 51
        }
      ]
    },
    {
      "cell_type": "code",
      "source": [
        "# Creating X & y values\n",
        "y_total = insurance_one_hot.loc[:,\"charges\"]\n",
        "X_total = insurance_one_hot.loc[:, insurance_one_hot.columns != 'charges']\n",
        "X_total.head(), y_total.head()"
      ],
      "metadata": {
        "colab": {
          "base_uri": "https://localhost:8080/"
        },
        "id": "Pdx2oAr9Ty3J",
        "outputId": "10177d16-0ccf-4d9f-d7a2-c881cbcb2d67"
      },
      "execution_count": null,
      "outputs": [
        {
          "output_type": "execute_result",
          "data": {
            "text/plain": [
              "(   age     bmi  children  sex_female  sex_male  smoker_no  smoker_yes  \\\n",
              " 0   19  27.900         0           1         0          0           1   \n",
              " 1   18  33.770         1           0         1          1           0   \n",
              " 2   28  33.000         3           0         1          1           0   \n",
              " 3   33  22.705         0           0         1          1           0   \n",
              " 4   32  28.880         0           0         1          1           0   \n",
              " \n",
              "    region_northeast  region_northwest  region_southeast  region_southwest  \n",
              " 0                 0                 0                 0                 1  \n",
              " 1                 0                 0                 1                 0  \n",
              " 2                 0                 0                 1                 0  \n",
              " 3                 0                 1                 0                 0  \n",
              " 4                 0                 1                 0                 0  ,\n",
              " 0    16884.92400\n",
              " 1     1725.55230\n",
              " 2     4449.46200\n",
              " 3    21984.47061\n",
              " 4     3866.85520\n",
              " Name: charges, dtype: float64)"
            ]
          },
          "metadata": {},
          "execution_count": 52
        }
      ]
    },
    {
      "cell_type": "code",
      "source": [
        "X_total_numpy = X_total.to_numpy()\n",
        "y_total_numpy = y_total.to_numpy()\n",
        "X_total_tensor = tf.constant(X_total_numpy)\n",
        "y_total_tensor = tf.constant(y_total_numpy)\n",
        "sample_size = len(y_total_numpy)\n",
        "training_size = (tf.math.floor(0.8*sample_size)).numpy()\n",
        "test_size = sample_size - training_size\n",
        "\n",
        "training_size, test_size\n",
        "\n",
        "X_train = X_total_tensor[:int(training_size),:]\n",
        "X_test = X_total_tensor[:int(test_size),:]\n",
        "y_train = y_total_tensor[:int(training_size)]\n",
        "y_test = y_total_tensor[:int(test_size)]\n",
        "\n",
        "X_train.shape, X_test.shape, y_train.shape, y_test.shape"
      ],
      "metadata": {
        "colab": {
          "base_uri": "https://localhost:8080/"
        },
        "id": "FPV3Ihl-UHOn",
        "outputId": "3688e852-f502-4b35-fca1-650b63fee044"
      },
      "execution_count": null,
      "outputs": [
        {
          "output_type": "execute_result",
          "data": {
            "text/plain": [
              "(TensorShape([1070, 11]),\n",
              " TensorShape([268, 11]),\n",
              " TensorShape([1070]),\n",
              " TensorShape([268]))"
            ]
          },
          "metadata": {},
          "execution_count": 53
        }
      ]
    },
    {
      "cell_type": "markdown",
      "source": [
        "🔑**NOTE**: For training, testing dataset split\n",
        "\n",
        "We can also use the train_test_split function from sklearn.model_selection\n",
        "Reference [Link](https://scikit-learn.org/stable/modules/generated/sklearn.model_selection.train_test_split.html)"
      ],
      "metadata": {
        "id": "oMEvvMzJgR39"
      }
    },
    {
      "cell_type": "markdown",
      "source": [
        "### Creating 2 models\n",
        "\n",
        "\n",
        "2 models will be created. Both models 100 epochs of training & will use the Adam optimizer\n",
        "The differentiating factor is the learning\n",
        "\n",
        "1. `model_1` : 1 layer,Learning rate is 0.003\n",
        "2. `model_2` : 2 layers, Learning rate is 0.001"
      ],
      "metadata": {
        "id": "ovwRm3MQVtND"
      }
    },
    {
      "cell_type": "code",
      "source": [
        "model_1 = tf.keras.Sequential([\n",
        "    tf.keras.layers.Dense(1, input_shape=[11])\n",
        "])\n",
        "\n",
        "model_1.compile(\n",
        "    loss=tf.keras.losses.mae,\n",
        "    optimizer=tf.keras.optimizers.Adam(lr=0.003)\n",
        ")\n",
        "\n",
        "model_1.fit(X_train,y_train, epochs = 100, verbose=1)"
      ],
      "metadata": {
        "colab": {
          "base_uri": "https://localhost:8080/"
        },
        "id": "VtbUVzR8ZPcJ",
        "outputId": "a5e77f49-cdcc-446c-f15b-cc04fd5a2a5b"
      },
      "execution_count": null,
      "outputs": [
        {
          "output_type": "stream",
          "name": "stdout",
          "text": [
            "Epoch 1/100\n"
          ]
        },
        {
          "output_type": "stream",
          "name": "stderr",
          "text": [
            "/usr/local/lib/python3.7/dist-packages/keras/optimizers/optimizer_v2/adam.py:110: UserWarning: The `lr` argument is deprecated, use `learning_rate` instead.\n",
            "  super(Adam, self).__init__(name, **kwargs)\n"
          ]
        },
        {
          "output_type": "stream",
          "name": "stdout",
          "text": [
            "34/34 [==============================] - 1s 4ms/step - loss: 13170.8604\n",
            "Epoch 2/100\n",
            "34/34 [==============================] - 0s 5ms/step - loss: 13163.1924\n",
            "Epoch 3/100\n",
            "34/34 [==============================] - 0s 4ms/step - loss: 13155.5186\n",
            "Epoch 4/100\n",
            "34/34 [==============================] - 0s 2ms/step - loss: 13147.8643\n",
            "Epoch 5/100\n",
            "34/34 [==============================] - 0s 3ms/step - loss: 13140.2002\n",
            "Epoch 6/100\n",
            "34/34 [==============================] - 0s 3ms/step - loss: 13132.5312\n",
            "Epoch 7/100\n",
            "34/34 [==============================] - 0s 2ms/step - loss: 13124.8682\n",
            "Epoch 8/100\n",
            "34/34 [==============================] - 0s 3ms/step - loss: 13117.1875\n",
            "Epoch 9/100\n",
            "34/34 [==============================] - 0s 4ms/step - loss: 13109.5156\n",
            "Epoch 10/100\n",
            "34/34 [==============================] - 0s 5ms/step - loss: 13101.8447\n",
            "Epoch 11/100\n",
            "34/34 [==============================] - 0s 2ms/step - loss: 13094.1758\n",
            "Epoch 12/100\n",
            "34/34 [==============================] - 0s 3ms/step - loss: 13086.4980\n",
            "Epoch 13/100\n",
            "34/34 [==============================] - 0s 2ms/step - loss: 13078.8271\n",
            "Epoch 14/100\n",
            "34/34 [==============================] - 0s 4ms/step - loss: 13071.1680\n",
            "Epoch 15/100\n",
            "34/34 [==============================] - 0s 3ms/step - loss: 13063.4971\n",
            "Epoch 16/100\n",
            "34/34 [==============================] - 0s 4ms/step - loss: 13055.8369\n",
            "Epoch 17/100\n",
            "34/34 [==============================] - 0s 4ms/step - loss: 13048.1631\n",
            "Epoch 18/100\n",
            "34/34 [==============================] - 0s 6ms/step - loss: 13040.5020\n",
            "Epoch 19/100\n",
            "34/34 [==============================] - 0s 5ms/step - loss: 13032.8105\n",
            "Epoch 20/100\n",
            "34/34 [==============================] - 0s 2ms/step - loss: 13025.1445\n",
            "Epoch 21/100\n",
            "34/34 [==============================] - 0s 1ms/step - loss: 13017.4658\n",
            "Epoch 22/100\n",
            "34/34 [==============================] - 0s 1ms/step - loss: 13009.7988\n",
            "Epoch 23/100\n",
            "34/34 [==============================] - 0s 1ms/step - loss: 13002.1143\n",
            "Epoch 24/100\n",
            "34/34 [==============================] - 0s 1ms/step - loss: 12994.4395\n",
            "Epoch 25/100\n",
            "34/34 [==============================] - 0s 1ms/step - loss: 12986.7676\n",
            "Epoch 26/100\n",
            "34/34 [==============================] - 0s 1ms/step - loss: 12979.0938\n",
            "Epoch 27/100\n",
            "34/34 [==============================] - 0s 1ms/step - loss: 12971.4082\n",
            "Epoch 28/100\n",
            "34/34 [==============================] - 0s 1ms/step - loss: 12963.7637\n",
            "Epoch 29/100\n",
            "34/34 [==============================] - 0s 1ms/step - loss: 12956.0869\n",
            "Epoch 30/100\n",
            "34/34 [==============================] - 0s 1ms/step - loss: 12948.4355\n",
            "Epoch 31/100\n",
            "34/34 [==============================] - 0s 2ms/step - loss: 12940.7607\n",
            "Epoch 32/100\n",
            "34/34 [==============================] - 0s 1ms/step - loss: 12933.0928\n",
            "Epoch 33/100\n",
            "34/34 [==============================] - 0s 1ms/step - loss: 12925.4189\n",
            "Epoch 34/100\n",
            "34/34 [==============================] - 0s 1ms/step - loss: 12917.7490\n",
            "Epoch 35/100\n",
            "34/34 [==============================] - 0s 1ms/step - loss: 12910.0684\n",
            "Epoch 36/100\n",
            "34/34 [==============================] - 0s 1ms/step - loss: 12902.4141\n",
            "Epoch 37/100\n",
            "34/34 [==============================] - 0s 1ms/step - loss: 12894.7373\n",
            "Epoch 38/100\n",
            "34/34 [==============================] - 0s 1ms/step - loss: 12887.0547\n",
            "Epoch 39/100\n",
            "34/34 [==============================] - 0s 1ms/step - loss: 12879.3760\n",
            "Epoch 40/100\n",
            "34/34 [==============================] - 0s 1ms/step - loss: 12871.6973\n",
            "Epoch 41/100\n",
            "34/34 [==============================] - 0s 1ms/step - loss: 12864.0371\n",
            "Epoch 42/100\n",
            "34/34 [==============================] - 0s 1ms/step - loss: 12856.3545\n",
            "Epoch 43/100\n",
            "34/34 [==============================] - 0s 1ms/step - loss: 12848.6885\n",
            "Epoch 44/100\n",
            "34/34 [==============================] - 0s 2ms/step - loss: 12841.0000\n",
            "Epoch 45/100\n",
            "34/34 [==============================] - 0s 2ms/step - loss: 12833.3301\n",
            "Epoch 46/100\n",
            "34/34 [==============================] - 0s 1ms/step - loss: 12825.6631\n",
            "Epoch 47/100\n",
            "34/34 [==============================] - 0s 1ms/step - loss: 12817.9912\n",
            "Epoch 48/100\n",
            "34/34 [==============================] - 0s 2ms/step - loss: 12810.3262\n",
            "Epoch 49/100\n",
            "34/34 [==============================] - 0s 2ms/step - loss: 12802.6514\n",
            "Epoch 50/100\n",
            "34/34 [==============================] - 0s 1ms/step - loss: 12794.9990\n",
            "Epoch 51/100\n",
            "34/34 [==============================] - 0s 2ms/step - loss: 12787.3203\n",
            "Epoch 52/100\n",
            "34/34 [==============================] - 0s 1ms/step - loss: 12779.6396\n",
            "Epoch 53/100\n",
            "34/34 [==============================] - 0s 1ms/step - loss: 12771.9570\n",
            "Epoch 54/100\n",
            "34/34 [==============================] - 0s 1ms/step - loss: 12764.2773\n",
            "Epoch 55/100\n",
            "34/34 [==============================] - 0s 1ms/step - loss: 12756.6006\n",
            "Epoch 56/100\n",
            "34/34 [==============================] - 0s 1ms/step - loss: 12748.9238\n",
            "Epoch 57/100\n",
            "34/34 [==============================] - 0s 2ms/step - loss: 12741.2559\n",
            "Epoch 58/100\n",
            "34/34 [==============================] - 0s 2ms/step - loss: 12733.5840\n",
            "Epoch 59/100\n",
            "34/34 [==============================] - 0s 1ms/step - loss: 12725.9102\n",
            "Epoch 60/100\n",
            "34/34 [==============================] - 0s 1ms/step - loss: 12718.2314\n",
            "Epoch 61/100\n",
            "34/34 [==============================] - 0s 2ms/step - loss: 12710.5752\n",
            "Epoch 62/100\n",
            "34/34 [==============================] - 0s 2ms/step - loss: 12702.8975\n",
            "Epoch 63/100\n",
            "34/34 [==============================] - 0s 1ms/step - loss: 12695.2148\n",
            "Epoch 64/100\n",
            "34/34 [==============================] - 0s 2ms/step - loss: 12687.5547\n",
            "Epoch 65/100\n",
            "34/34 [==============================] - 0s 1ms/step - loss: 12679.8730\n",
            "Epoch 66/100\n",
            "34/34 [==============================] - 0s 1ms/step - loss: 12672.2061\n",
            "Epoch 67/100\n",
            "34/34 [==============================] - 0s 1ms/step - loss: 12664.5273\n",
            "Epoch 68/100\n",
            "34/34 [==============================] - 0s 1ms/step - loss: 12656.8555\n",
            "Epoch 69/100\n",
            "34/34 [==============================] - 0s 1ms/step - loss: 12649.1865\n",
            "Epoch 70/100\n",
            "34/34 [==============================] - 0s 1ms/step - loss: 12641.5127\n",
            "Epoch 71/100\n",
            "34/34 [==============================] - 0s 1ms/step - loss: 12633.8477\n",
            "Epoch 72/100\n",
            "34/34 [==============================] - 0s 1ms/step - loss: 12626.1777\n",
            "Epoch 73/100\n",
            "34/34 [==============================] - 0s 2ms/step - loss: 12618.5117\n",
            "Epoch 74/100\n",
            "34/34 [==============================] - 0s 1ms/step - loss: 12610.8369\n",
            "Epoch 75/100\n",
            "34/34 [==============================] - 0s 1ms/step - loss: 12603.1758\n",
            "Epoch 76/100\n",
            "34/34 [==============================] - 0s 1ms/step - loss: 12595.4766\n",
            "Epoch 77/100\n",
            "34/34 [==============================] - 0s 2ms/step - loss: 12587.8174\n",
            "Epoch 78/100\n",
            "34/34 [==============================] - 0s 2ms/step - loss: 12580.1416\n",
            "Epoch 79/100\n",
            "34/34 [==============================] - 0s 1ms/step - loss: 12572.4756\n",
            "Epoch 80/100\n",
            "34/34 [==============================] - 0s 1ms/step - loss: 12564.8086\n",
            "Epoch 81/100\n",
            "34/34 [==============================] - 0s 2ms/step - loss: 12557.1377\n",
            "Epoch 82/100\n",
            "34/34 [==============================] - 0s 2ms/step - loss: 12549.4678\n",
            "Epoch 83/100\n",
            "34/34 [==============================] - 0s 1ms/step - loss: 12541.7969\n",
            "Epoch 84/100\n",
            "34/34 [==============================] - 0s 1ms/step - loss: 12534.1289\n",
            "Epoch 85/100\n",
            "34/34 [==============================] - 0s 2ms/step - loss: 12526.4600\n",
            "Epoch 86/100\n",
            "34/34 [==============================] - 0s 1ms/step - loss: 12518.7930\n",
            "Epoch 87/100\n",
            "34/34 [==============================] - 0s 1ms/step - loss: 12511.1123\n",
            "Epoch 88/100\n",
            "34/34 [==============================] - 0s 1ms/step - loss: 12503.4482\n",
            "Epoch 89/100\n",
            "34/34 [==============================] - 0s 1ms/step - loss: 12495.7920\n",
            "Epoch 90/100\n",
            "34/34 [==============================] - 0s 1ms/step - loss: 12488.1045\n",
            "Epoch 91/100\n",
            "34/34 [==============================] - 0s 1ms/step - loss: 12480.4238\n",
            "Epoch 92/100\n",
            "34/34 [==============================] - 0s 2ms/step - loss: 12472.7461\n",
            "Epoch 93/100\n",
            "34/34 [==============================] - 0s 2ms/step - loss: 12465.0742\n",
            "Epoch 94/100\n",
            "34/34 [==============================] - 0s 2ms/step - loss: 12457.3887\n",
            "Epoch 95/100\n",
            "34/34 [==============================] - 0s 2ms/step - loss: 12449.7100\n",
            "Epoch 96/100\n",
            "34/34 [==============================] - 0s 2ms/step - loss: 12442.0400\n",
            "Epoch 97/100\n",
            "34/34 [==============================] - 0s 2ms/step - loss: 12434.3652\n",
            "Epoch 98/100\n",
            "34/34 [==============================] - 0s 2ms/step - loss: 12426.6846\n",
            "Epoch 99/100\n",
            "34/34 [==============================] - 0s 1ms/step - loss: 12419.0215\n",
            "Epoch 100/100\n",
            "34/34 [==============================] - 0s 1ms/step - loss: 12411.3398\n"
          ]
        },
        {
          "output_type": "execute_result",
          "data": {
            "text/plain": [
              "<keras.callbacks.History at 0x7ff21bc75990>"
            ]
          },
          "metadata": {},
          "execution_count": 54
        }
      ]
    },
    {
      "cell_type": "code",
      "source": [
        "model_2 = tf.keras.Sequential([\n",
        "    tf.keras.layers.Dense(100, input_shape=[11]),\n",
        "    tf.keras.layers.Dense(1, input_shape=[100])\n",
        "])\n",
        "\n",
        "model_2.compile(\n",
        "    loss=tf.keras.losses.mae,\n",
        "    optimizer=tf.keras.optimizers.Adam(lr=0.003)\n",
        ")\n",
        "\n",
        "model_2.fit(X_train,y_train, epochs = 100, verbose=1)"
      ],
      "metadata": {
        "colab": {
          "base_uri": "https://localhost:8080/"
        },
        "id": "zRnEYf2pZkG9",
        "outputId": "97ef5cb6-599b-47a8-ba43-10b6168ac72b"
      },
      "execution_count": null,
      "outputs": [
        {
          "output_type": "stream",
          "name": "stdout",
          "text": [
            "Epoch 1/100\n",
            "34/34 [==============================] - 0s 2ms/step - loss: 13140.9951\n",
            "Epoch 2/100\n",
            "34/34 [==============================] - 0s 2ms/step - loss: 12877.2939\n",
            "Epoch 3/100\n",
            "34/34 [==============================] - 0s 2ms/step - loss: 12311.9854\n",
            "Epoch 4/100\n",
            "34/34 [==============================] - 0s 2ms/step - loss: 11357.5615\n",
            "Epoch 5/100\n",
            "34/34 [==============================] - 0s 2ms/step - loss: 10115.2744\n",
            "Epoch 6/100\n",
            "34/34 [==============================] - 0s 2ms/step - loss: 8873.1201\n",
            "Epoch 7/100\n",
            "34/34 [==============================] - 0s 2ms/step - loss: 7956.6104\n",
            "Epoch 8/100\n",
            "34/34 [==============================] - 0s 2ms/step - loss: 7517.1021\n",
            "Epoch 9/100\n",
            "34/34 [==============================] - 0s 2ms/step - loss: 7404.6689\n",
            "Epoch 10/100\n",
            "34/34 [==============================] - 0s 2ms/step - loss: 7370.0308\n",
            "Epoch 11/100\n",
            "34/34 [==============================] - 0s 2ms/step - loss: 7343.1118\n",
            "Epoch 12/100\n",
            "34/34 [==============================] - 0s 2ms/step - loss: 7317.8579\n",
            "Epoch 13/100\n",
            "34/34 [==============================] - 0s 2ms/step - loss: 7292.4170\n",
            "Epoch 14/100\n",
            "34/34 [==============================] - 0s 2ms/step - loss: 7266.0234\n",
            "Epoch 15/100\n",
            "34/34 [==============================] - 0s 2ms/step - loss: 7239.4492\n",
            "Epoch 16/100\n",
            "34/34 [==============================] - 0s 2ms/step - loss: 7211.9639\n",
            "Epoch 17/100\n",
            "34/34 [==============================] - 0s 2ms/step - loss: 7184.9082\n",
            "Epoch 18/100\n",
            "34/34 [==============================] - 0s 2ms/step - loss: 7157.0708\n",
            "Epoch 19/100\n",
            "34/34 [==============================] - 0s 2ms/step - loss: 7127.1279\n",
            "Epoch 20/100\n",
            "34/34 [==============================] - 0s 2ms/step - loss: 7097.4839\n",
            "Epoch 21/100\n",
            "34/34 [==============================] - 0s 2ms/step - loss: 7068.4980\n",
            "Epoch 22/100\n",
            "34/34 [==============================] - 0s 2ms/step - loss: 7036.4453\n",
            "Epoch 23/100\n",
            "34/34 [==============================] - 0s 2ms/step - loss: 7006.1216\n",
            "Epoch 24/100\n",
            "34/34 [==============================] - 0s 2ms/step - loss: 6975.1616\n",
            "Epoch 25/100\n",
            "34/34 [==============================] - 0s 2ms/step - loss: 6942.0171\n",
            "Epoch 26/100\n",
            "34/34 [==============================] - 0s 2ms/step - loss: 6905.3936\n",
            "Epoch 27/100\n",
            "34/34 [==============================] - 0s 2ms/step - loss: 6869.7603\n",
            "Epoch 28/100\n",
            "34/34 [==============================] - 0s 2ms/step - loss: 6834.8096\n",
            "Epoch 29/100\n",
            "34/34 [==============================] - 0s 2ms/step - loss: 6798.0171\n",
            "Epoch 30/100\n",
            "34/34 [==============================] - 0s 2ms/step - loss: 6760.9937\n",
            "Epoch 31/100\n",
            "34/34 [==============================] - 0s 2ms/step - loss: 6723.2227\n",
            "Epoch 32/100\n",
            "34/34 [==============================] - 0s 2ms/step - loss: 6682.7388\n",
            "Epoch 33/100\n",
            "34/34 [==============================] - 0s 2ms/step - loss: 6642.8276\n",
            "Epoch 34/100\n",
            "34/34 [==============================] - 0s 2ms/step - loss: 6602.9951\n",
            "Epoch 35/100\n",
            "34/34 [==============================] - 0s 2ms/step - loss: 6560.8921\n",
            "Epoch 36/100\n",
            "34/34 [==============================] - 0s 2ms/step - loss: 6525.2720\n",
            "Epoch 37/100\n",
            "34/34 [==============================] - 0s 2ms/step - loss: 6486.0566\n",
            "Epoch 38/100\n",
            "34/34 [==============================] - 0s 2ms/step - loss: 6450.2466\n",
            "Epoch 39/100\n",
            "34/34 [==============================] - 0s 2ms/step - loss: 6419.7417\n",
            "Epoch 40/100\n",
            "34/34 [==============================] - 0s 2ms/step - loss: 6392.1084\n",
            "Epoch 41/100\n",
            "34/34 [==============================] - 0s 2ms/step - loss: 6368.3286\n",
            "Epoch 42/100\n",
            "34/34 [==============================] - 0s 2ms/step - loss: 6341.2471\n",
            "Epoch 43/100\n",
            "34/34 [==============================] - 0s 2ms/step - loss: 6324.3042\n",
            "Epoch 44/100\n",
            "34/34 [==============================] - 0s 2ms/step - loss: 6308.5171\n",
            "Epoch 45/100\n",
            "34/34 [==============================] - 0s 2ms/step - loss: 6294.7495\n",
            "Epoch 46/100\n",
            "34/34 [==============================] - 0s 2ms/step - loss: 6279.5527\n",
            "Epoch 47/100\n",
            "34/34 [==============================] - 0s 2ms/step - loss: 6267.4785\n",
            "Epoch 48/100\n",
            "34/34 [==============================] - 0s 2ms/step - loss: 6253.6470\n",
            "Epoch 49/100\n",
            "34/34 [==============================] - 0s 2ms/step - loss: 6243.4717\n",
            "Epoch 50/100\n",
            "34/34 [==============================] - 0s 2ms/step - loss: 6225.5156\n",
            "Epoch 51/100\n",
            "34/34 [==============================] - 0s 2ms/step - loss: 6213.9536\n",
            "Epoch 52/100\n",
            "34/34 [==============================] - 0s 2ms/step - loss: 6202.8066\n",
            "Epoch 53/100\n",
            "34/34 [==============================] - 0s 2ms/step - loss: 6189.3491\n",
            "Epoch 54/100\n",
            "34/34 [==============================] - 0s 2ms/step - loss: 6176.5166\n",
            "Epoch 55/100\n",
            "34/34 [==============================] - 0s 2ms/step - loss: 6163.0820\n",
            "Epoch 56/100\n",
            "34/34 [==============================] - 0s 2ms/step - loss: 6153.2129\n",
            "Epoch 57/100\n",
            "34/34 [==============================] - 0s 2ms/step - loss: 6139.0703\n",
            "Epoch 58/100\n",
            "34/34 [==============================] - 0s 2ms/step - loss: 6131.3755\n",
            "Epoch 59/100\n",
            "34/34 [==============================] - 0s 2ms/step - loss: 6118.4463\n",
            "Epoch 60/100\n",
            "34/34 [==============================] - 0s 2ms/step - loss: 6100.6270\n",
            "Epoch 61/100\n",
            "34/34 [==============================] - 0s 2ms/step - loss: 6087.8887\n",
            "Epoch 62/100\n",
            "34/34 [==============================] - 0s 2ms/step - loss: 6076.9106\n",
            "Epoch 63/100\n",
            "34/34 [==============================] - 0s 2ms/step - loss: 6061.5381\n",
            "Epoch 64/100\n",
            "34/34 [==============================] - 0s 2ms/step - loss: 6048.5181\n",
            "Epoch 65/100\n",
            "34/34 [==============================] - 0s 2ms/step - loss: 6035.3208\n",
            "Epoch 66/100\n",
            "34/34 [==============================] - 0s 2ms/step - loss: 6027.2900\n",
            "Epoch 67/100\n",
            "34/34 [==============================] - 0s 2ms/step - loss: 6009.8135\n",
            "Epoch 68/100\n",
            "34/34 [==============================] - 0s 2ms/step - loss: 5993.8115\n",
            "Epoch 69/100\n",
            "34/34 [==============================] - 0s 2ms/step - loss: 5980.6011\n",
            "Epoch 70/100\n",
            "34/34 [==============================] - 0s 2ms/step - loss: 5965.7686\n",
            "Epoch 71/100\n",
            "34/34 [==============================] - 0s 2ms/step - loss: 5951.4536\n",
            "Epoch 72/100\n",
            "34/34 [==============================] - 0s 2ms/step - loss: 5937.0786\n",
            "Epoch 73/100\n",
            "34/34 [==============================] - 0s 2ms/step - loss: 5921.7397\n",
            "Epoch 74/100\n",
            "34/34 [==============================] - 0s 2ms/step - loss: 5907.0874\n",
            "Epoch 75/100\n",
            "34/34 [==============================] - 0s 2ms/step - loss: 5897.4946\n",
            "Epoch 76/100\n",
            "34/34 [==============================] - 0s 2ms/step - loss: 5880.7124\n",
            "Epoch 77/100\n",
            "34/34 [==============================] - 0s 2ms/step - loss: 5867.1235\n",
            "Epoch 78/100\n",
            "34/34 [==============================] - 0s 2ms/step - loss: 5844.8477\n",
            "Epoch 79/100\n",
            "34/34 [==============================] - 0s 2ms/step - loss: 5826.2930\n",
            "Epoch 80/100\n",
            "34/34 [==============================] - 0s 2ms/step - loss: 5810.2852\n",
            "Epoch 81/100\n",
            "34/34 [==============================] - 0s 2ms/step - loss: 5792.6470\n",
            "Epoch 82/100\n",
            "34/34 [==============================] - 0s 2ms/step - loss: 5778.6963\n",
            "Epoch 83/100\n",
            "34/34 [==============================] - 0s 2ms/step - loss: 5756.8315\n",
            "Epoch 84/100\n",
            "34/34 [==============================] - 0s 2ms/step - loss: 5739.5352\n",
            "Epoch 85/100\n",
            "34/34 [==============================] - 0s 2ms/step - loss: 5721.8574\n",
            "Epoch 86/100\n",
            "34/34 [==============================] - 0s 2ms/step - loss: 5701.7554\n",
            "Epoch 87/100\n",
            "34/34 [==============================] - 0s 2ms/step - loss: 5683.7148\n",
            "Epoch 88/100\n",
            "34/34 [==============================] - 0s 2ms/step - loss: 5663.0352\n",
            "Epoch 89/100\n",
            "34/34 [==============================] - 0s 2ms/step - loss: 5643.0352\n",
            "Epoch 90/100\n",
            "34/34 [==============================] - 0s 2ms/step - loss: 5622.6006\n",
            "Epoch 91/100\n",
            "34/34 [==============================] - 0s 2ms/step - loss: 5602.7212\n",
            "Epoch 92/100\n",
            "34/34 [==============================] - 0s 2ms/step - loss: 5584.0229\n",
            "Epoch 93/100\n",
            "34/34 [==============================] - 0s 2ms/step - loss: 5556.9360\n",
            "Epoch 94/100\n",
            "34/34 [==============================] - 0s 2ms/step - loss: 5537.0337\n",
            "Epoch 95/100\n",
            "34/34 [==============================] - 0s 2ms/step - loss: 5514.1714\n",
            "Epoch 96/100\n",
            "34/34 [==============================] - 0s 2ms/step - loss: 5495.0693\n",
            "Epoch 97/100\n",
            "34/34 [==============================] - 0s 2ms/step - loss: 5468.5063\n",
            "Epoch 98/100\n",
            "34/34 [==============================] - 0s 2ms/step - loss: 5444.0659\n",
            "Epoch 99/100\n",
            "34/34 [==============================] - 0s 2ms/step - loss: 5421.2100\n",
            "Epoch 100/100\n",
            "34/34 [==============================] - 0s 2ms/step - loss: 5395.5708\n"
          ]
        },
        {
          "output_type": "execute_result",
          "data": {
            "text/plain": [
              "<keras.callbacks.History at 0x7ff21bb85b90>"
            ]
          },
          "metadata": {},
          "execution_count": 55
        }
      ]
    },
    {
      "cell_type": "markdown",
      "source": [
        "### Analyzing & visualing nature of parameters in each model"
      ],
      "metadata": {
        "id": "DT3e8KUkZyCj"
      }
    },
    {
      "cell_type": "code",
      "source": [
        "model_1.summary(), model_2.summary()"
      ],
      "metadata": {
        "colab": {
          "base_uri": "https://localhost:8080/"
        },
        "id": "c1Hz-xpGadtz",
        "outputId": "d38a14c7-a212-4259-f2de-fc4acba59b3b"
      },
      "execution_count": null,
      "outputs": [
        {
          "output_type": "stream",
          "name": "stdout",
          "text": [
            "Model: \"sequential_5\"\n",
            "_________________________________________________________________\n",
            " Layer (type)                Output Shape              Param #   \n",
            "=================================================================\n",
            " dense_7 (Dense)             (None, 1)                 12        \n",
            "                                                                 \n",
            "=================================================================\n",
            "Total params: 12\n",
            "Trainable params: 12\n",
            "Non-trainable params: 0\n",
            "_________________________________________________________________\n",
            "Model: \"sequential_6\"\n",
            "_________________________________________________________________\n",
            " Layer (type)                Output Shape              Param #   \n",
            "=================================================================\n",
            " dense_8 (Dense)             (None, 100)               1200      \n",
            "                                                                 \n",
            " dense_9 (Dense)             (None, 1)                 101       \n",
            "                                                                 \n",
            "=================================================================\n",
            "Total params: 1,301\n",
            "Trainable params: 1,301\n",
            "Non-trainable params: 0\n",
            "_________________________________________________________________\n"
          ]
        },
        {
          "output_type": "execute_result",
          "data": {
            "text/plain": [
              "(None, None)"
            ]
          },
          "metadata": {},
          "execution_count": 56
        }
      ]
    },
    {
      "cell_type": "code",
      "source": [
        "# Understanding different layers of our models\n",
        "from tensorflow.keras.utils import plot_model\n",
        "\n",
        "plot_model(model=model_1, show_shapes=True)"
      ],
      "metadata": {
        "colab": {
          "base_uri": "https://localhost:8080/"
        },
        "id": "7f7zODcGZx_c",
        "outputId": "d952be9e-01f9-49c8-d515-de0b37d8cd76"
      },
      "execution_count": null,
      "outputs": [
        {
          "output_type": "execute_result",
          "data": {
            "image/png": "[encoded data removed]",
            "text/plain": [
              "<IPython.core.display.Image object>"
            ]
          },
          "metadata": {},
          "execution_count": 57
        }
      ]
    },
    {
      "cell_type": "code",
      "source": [
        "plot_model(model=model_2, show_shapes=True)"
      ],
      "metadata": {
        "colab": {
          "base_uri": "https://localhost:8080/"
        },
        "id": "8mcVZDqOZx9c",
        "outputId": "2c188439-4e77-456a-b33d-26ec4723e21f"
      },
      "execution_count": null,
      "outputs": [
        {
          "output_type": "execute_result",
          "data": {
            "image/png": "[encoded data removed]",
            "text/plain": [
              "<IPython.core.display.Image object>"
            ]
          },
          "metadata": {},
          "execution_count": 58
        }
      ]
    },
    {
      "cell_type": "markdown",
      "source": [
        "### Evaluating our models"
      ],
      "metadata": {
        "id": "BhT_rccqZx7p"
      }
    },
    {
      "cell_type": "code",
      "source": [
        "model_1.evaluate(X_test, y_test)"
      ],
      "metadata": {
        "colab": {
          "base_uri": "https://localhost:8080/"
        },
        "id": "6RKHE-3vZxqE",
        "outputId": "37980804-62f5-48cd-f680-7011c0c2c962"
      },
      "execution_count": null,
      "outputs": [
        {
          "output_type": "stream",
          "name": "stderr",
          "text": [
            "WARNING:tensorflow:5 out of the last 5 calls to <function Model.make_test_function.<locals>.test_function at 0x7ff21aa8ec20> triggered tf.function retracing. Tracing is expensive and the excessive number of tracings could be due to (1) creating @tf.function repeatedly in a loop, (2) passing tensors with different shapes, (3) passing Python objects instead of tensors. For (1), please define your @tf.function outside of the loop. For (2), @tf.function has reduce_retracing=True option that can avoid unnecessary retracing. For (3), please refer to https://www.tensorflow.org/guide/function#controlling_retracing and https://www.tensorflow.org/api_docs/python/tf/function for  more details.\n"
          ]
        },
        {
          "output_type": "stream",
          "name": "stdout",
          "text": [
            "9/9 [==============================] - 0s 2ms/step - loss: 12828.1045\n"
          ]
        },
        {
          "output_type": "execute_result",
          "data": {
            "text/plain": [
              "12828.1044921875"
            ]
          },
          "metadata": {},
          "execution_count": 59
        }
      ]
    },
    {
      "cell_type": "code",
      "source": [
        "model_2.evaluate(X_test, y_test)"
      ],
      "metadata": {
        "colab": {
          "base_uri": "https://localhost:8080/"
        },
        "id": "Y4XBiiyDa3K3",
        "outputId": "591a969d-8eb3-45d7-beea-7637636dcf8f"
      },
      "execution_count": null,
      "outputs": [
        {
          "output_type": "stream",
          "name": "stdout",
          "text": [
            "9/9 [==============================] - 0s 2ms/step - loss: 5782.0811\n"
          ]
        },
        {
          "output_type": "execute_result",
          "data": {
            "text/plain": [
              "5782.0810546875"
            ]
          },
          "metadata": {},
          "execution_count": 60
        }
      ]
    },
    {
      "cell_type": "code",
      "source": [
        "# Getting the predictions of our models\n",
        "model_1_predictions = model_1.predict(X_test)\n",
        "model_2_predictions = model_2.predict(X_test)"
      ],
      "metadata": {
        "colab": {
          "base_uri": "https://localhost:8080/"
        },
        "id": "rJM2_WtKV7qT",
        "outputId": "4fd16bfa-29e7-43ca-fe34-d819c397fa7a"
      },
      "execution_count": null,
      "outputs": [
        {
          "output_type": "stream",
          "name": "stdout",
          "text": [
            "9/9 [==============================] - 0s 2ms/step\n",
            "9/9 [==============================] - 0s 2ms/step\n"
          ]
        }
      ]
    },
    {
      "cell_type": "code",
      "source": [
        "def mae(y_true, y_pred):\n",
        "    return tf.keras.metrics.mean_absolute_error(\n",
        "    y_true, tf.squeeze(y_pred)\n",
        ")\n",
        "    \n",
        "def mse(y_true, y_pred):\n",
        "    return tf.keras.metrics.mean_squared_error(\n",
        "    y_true, tf.squeeze(y_pred)\n",
        ")"
      ],
      "metadata": {
        "id": "YmHT-qB4eFcB"
      },
      "execution_count": null,
      "outputs": []
    },
    {
      "cell_type": "code",
      "source": [
        "mae_1 = mae(y_test, model_1_predictions).numpy()\n",
        "mae_2 = mae(y_test, model_2_predictions).numpy()\n",
        "mse_1 = mse(y_test, model_1_predictions).numpy()\n",
        "mse_2 = mse(y_test, model_2_predictions).numpy()\n",
        "\n",
        "data = [\n",
        "    [\"model_1\", mae_1, mse_1],\n",
        "    [\"model_2\", mae_2, mse_2]\n",
        "]\n",
        "\n",
        "df = pd.DataFrame(data, columns=['Model', 'MAE', 'MSE'])\n",
        "df"
      ],
      "metadata": {
        "colab": {
          "base_uri": "https://localhost:8080/"
        },
        "id": "0wEdMhIceVwk",
        "outputId": "557e03b4-b8b7-4e5e-c584-715e929bb3b2"
      },
      "execution_count": null,
      "outputs": [
        {
          "output_type": "execute_result",
          "data": {
            "text/plain": [
              "     Model           MAE          MSE\n",
              "0  model_1  12828.102539  318445536.0\n",
              "1  model_2   5782.080566  127454232.0"
            ],
            "text/html": [
              "\n",
              "  <div id=\"df-c85f6a25-77e3-49dc-9a00-3e3b381b406b\">\n",
              "    <div class=\"colab-df-container\">\n",
              "      <div>\n",
              "<style scoped>\n",
              "    .dataframe tbody tr th:only-of-type {\n",
              "        vertical-align: middle;\n",
              "    }\n",
              "\n",
              "    .dataframe tbody tr th {\n",
              "        vertical-align: top;\n",
              "    }\n",
              "\n",
              "    .dataframe thead th {\n",
              "        text-align: right;\n",
              "    }\n",
              "</style>\n",
              "<table border=\"1\" class=\"dataframe\">\n",
              "  <thead>\n",
              "    <tr style=\"text-align: right;\">\n",
              "      <th></th>\n",
              "      <th>Model</th>\n",
              "      <th>MAE</th>\n",
              "      <th>MSE</th>\n",
              "    </tr>\n",
              "  </thead>\n",
              "  <tbody>\n",
              "    <tr>\n",
              "      <th>0</th>\n",
              "      <td>model_1</td>\n",
              "      <td>12828.102539</td>\n",
              "      <td>318445536.0</td>\n",
              "    </tr>\n",
              "    <tr>\n",
              "      <th>1</th>\n",
              "      <td>model_2</td>\n",
              "      <td>5782.080566</td>\n",
              "      <td>127454232.0</td>\n",
              "    </tr>\n",
              "  </tbody>\n",
              "</table>\n",
              "</div>\n",
              "      <button class=\"colab-df-convert\" onclick=\"convertToInteractive('df-c85f6a25-77e3-49dc-9a00-3e3b381b406b')\"\n",
              "              title=\"Convert this dataframe to an interactive table.\"\n",
              "              style=\"display:none;\">\n",
              "        \n",
              "  <svg xmlns=\"http://www.w3.org/2000/svg\" height=\"24px\"viewBox=\"0 0 24 24\"\n",
              "       width=\"24px\">\n",
              "    <path d=\"M0 0h24v24H0V0z\" fill=\"none\"/>\n",
              "    <path d=\"M18.56 5.44l.94 2.06.94-2.06 2.06-.94-2.06-.94-.94-2.06-.94 2.06-2.06.94zm-11 1L8.5 8.5l.94-2.06 2.06-.94-2.06-.94L8.5 2.5l-.94 2.06-2.06.94zm10 10l.94 2.06.94-2.06 2.06-.94-2.06-.94-.94-2.06-.94 2.06-2.06.94z\"/><path d=\"M17.41 7.96l-1.37-1.37c-.4-.4-.92-.59-1.43-.59-.52 0-1.04.2-1.43.59L10.3 9.45l-7.72 7.72c-.78.78-.78 2.05 0 2.83L4 21.41c.39.39.9.59 1.41.59.51 0 1.02-.2 1.41-.59l7.78-7.78 2.81-2.81c.8-.78.8-2.07 0-2.86zM5.41 20L4 18.59l7.72-7.72 1.47 1.35L5.41 20z\"/>\n",
              "  </svg>\n",
              "      </button>\n",
              "      \n",
              "  <style>\n",
              "    .colab-df-container {\n",
              "      display:flex;\n",
              "      flex-wrap:wrap;\n",
              "      gap: 12px;\n",
              "    }\n",
              "\n",
              "    .colab-df-convert {\n",
              "      background-color: #E8F0FE;\n",
              "      border: none;\n",
              "      border-radius: 50%;\n",
              "      cursor: pointer;\n",
              "      display: none;\n",
              "      fill: #1967D2;\n",
              "      height: 32px;\n",
              "      padding: 0 0 0 0;\n",
              "      width: 32px;\n",
              "    }\n",
              "\n",
              "    .colab-df-convert:hover {\n",
              "      background-color: #E2EBFA;\n",
              "      box-shadow: 0px 1px 2px rgba(60, 64, 67, 0.3), 0px 1px 3px 1px rgba(60, 64, 67, 0.15);\n",
              "      fill: #174EA6;\n",
              "    }\n",
              "\n",
              "    [theme=dark] .colab-df-convert {\n",
              "      background-color: #3B4455;\n",
              "      fill: #D2E3FC;\n",
              "    }\n",
              "\n",
              "    [theme=dark] .colab-df-convert:hover {\n",
              "      background-color: #434B5C;\n",
              "      box-shadow: 0px 1px 3px 1px rgba(0, 0, 0, 0.15);\n",
              "      filter: drop-shadow(0px 1px 2px rgba(0, 0, 0, 0.3));\n",
              "      fill: #FFFFFF;\n",
              "    }\n",
              "  </style>\n",
              "\n",
              "      <script>\n",
              "        const buttonEl =\n",
              "          document.querySelector('#df-c85f6a25-77e3-49dc-9a00-3e3b381b406b button.colab-df-convert');\n",
              "        buttonEl.style.display =\n",
              "          google.colab.kernel.accessAllowed ? 'block' : 'none';\n",
              "\n",
              "        async function convertToInteractive(key) {\n",
              "          const element = document.querySelector('#df-c85f6a25-77e3-49dc-9a00-3e3b381b406b');\n",
              "          const dataTable =\n",
              "            await google.colab.kernel.invokeFunction('convertToInteractive',\n",
              "                                                     [key], {});\n",
              "          if (!dataTable) return;\n",
              "\n",
              "          const docLinkHtml = 'Like what you see? Visit the ' +\n",
              "            '<a target=\"_blank\" href=https://colab.research.google.com/notebooks/data_table.ipynb>data table notebook</a>'\n",
              "            + ' to learn more about interactive tables.';\n",
              "          element.innerHTML = '';\n",
              "          dataTable['output_type'] = 'display_data';\n",
              "          await google.colab.output.renderOutput(dataTable, element);\n",
              "          const docLink = document.createElement('div');\n",
              "          docLink.innerHTML = docLinkHtml;\n",
              "          element.appendChild(docLink);\n",
              "        }\n",
              "      </script>\n",
              "    </div>\n",
              "  </div>\n",
              "  "
            ]
          },
          "metadata": {},
          "execution_count": 63
        }
      ]
    },
    {
      "cell_type": "markdown",
      "source": [
        "### Visualizing our models"
      ],
      "metadata": {
        "id": "D5UKsJLWdzh-"
      }
    },
    {
      "cell_type": "code",
      "source": [
        "## Visualizing 2 models\n",
        "model_1_predictions.shape, model_2_predictions.shape"
      ],
      "metadata": {
        "colab": {
          "base_uri": "https://localhost:8080/"
        },
        "id": "arEL9pSGYuq1",
        "outputId": "b1c552ec-ec26-4497-8ce9-95aa6181b6aa"
      },
      "execution_count": null,
      "outputs": [
        {
          "output_type": "execute_result",
          "data": {
            "text/plain": [
              "((268, 1), (268, 1))"
            ]
          },
          "metadata": {},
          "execution_count": 64
        }
      ]
    },
    {
      "cell_type": "code",
      "source": [
        "## Comparing experiment results of the 2 models\n",
        "import matplotlib.pyplot as plt\n",
        "\n",
        "def plot_predictions(\n",
        "    X_train = X_train,\n",
        "    X_test = X_test,\n",
        "    y_train = y_train,\n",
        "    y_test = y_test,\n",
        "    predictions = model_1_predictions\n",
        "):\n",
        "    plt.figure(figsize=(10,7))\n",
        "    plt.scatter(X_train[:,1], y_train, c='b', label=\"Training data\")\n",
        "    plt.scatter(X_test[:,1], y_test, c='g', label=\"Testing data\")\n",
        "    plt.scatter(X_test[:,1], tf.squeeze(predictions), c='r', label=\"Predictions\")\n",
        "\n",
        "# X_train[:,1].shape, y_train.shape, X_test[:,1].shape, model_1_predictions.shape"
      ],
      "metadata": {
        "id": "Zt19Q0EPYy2A"
      },
      "execution_count": null,
      "outputs": []
    },
    {
      "cell_type": "code",
      "source": [
        "plot_predictions(\n",
        "    X_train,\n",
        "    X_test,\n",
        "    y_train,\n",
        "    y_test,\n",
        "    model_1_predictions\n",
        ")\n",
        "\n",
        "plot_predictions(\n",
        "    X_train,\n",
        "    X_test,\n",
        "    y_train,\n",
        "    y_test,\n",
        "    model_2_predictions\n",
        ")"
      ],
      "metadata": {
        "colab": {
          "base_uri": "https://localhost:8080/"
        },
        "id": "WjvIb7BAcWec",
        "outputId": "f20f0618-089a-4f59-cf46-bf8ddf58a338"
      },
      "execution_count": null,
      "outputs": [
        {
          "output_type": "display_data",
          "data": {
            "text/plain": [
              "<Figure size 720x504 with 1 Axes>"
            ],
            "image/png": "[encoded data removed]"
          },
          "metadata": {
            "needs_background": "light"
          }
        },
        {
          "output_type": "display_data",
          "data": {
            "text/plain": [
              "<Figure size 720x504 with 1 Axes>"
            ],
            "image/png": "[encoded data removed]"
          },
          "metadata": {
            "needs_background": "light"
          }
        }
      ]
    },
    {
      "cell_type": "markdown",
      "source": [
        "### Results\n",
        "\n",
        "Thus, we have arrived at a conclusion that our `model_2` - a model trained with more layers & for more epochs offered better predictions. Hence, we will save it"
      ],
      "metadata": {
        "id": "xamsakUbcfs9"
      }
    },
    {
      "cell_type": "code",
      "source": [
        "# Save model using the SavedModel format\n",
        "model_2.save('data_model_2_SavedModel_format')\n",
        "model_2.save('data_model_2_SavedModel_format.h5')"
      ],
      "metadata": {
        "id": "nczVIcrwe8s8"
      },
      "execution_count": null,
      "outputs": []
    },
    {
      "cell_type": "code",
      "source": [
        "# Load in the SavedModel format model\n",
        "loaded_SavedModel_format = tf.keras.models.load_model('/content/data_model_2_SavedModel_format')\n",
        "loaded_SavedModel_format.summary()"
      ],
      "metadata": {
        "colab": {
          "base_uri": "https://localhost:8080/"
        },
        "id": "VmRF5cRvfhyP",
        "outputId": "8062bd2b-06fa-42ee-f843-710026f37a22"
      },
      "execution_count": null,
      "outputs": [
        {
          "output_type": "stream",
          "name": "stdout",
          "text": [
            "Model: \"sequential_6\"\n",
            "_________________________________________________________________\n",
            " Layer (type)                Output Shape              Param #   \n",
            "=================================================================\n",
            " dense_8 (Dense)             (None, 100)               1200      \n",
            "                                                                 \n",
            " dense_9 (Dense)             (None, 1)                 101       \n",
            "                                                                 \n",
            "=================================================================\n",
            "Total params: 1,301\n",
            "Trainable params: 1,301\n",
            "Non-trainable params: 0\n",
            "_________________________________________________________________\n"
          ]
        }
      ]
    },
    {
      "cell_type": "markdown",
      "source": [
        "## Preprocessing data (normalization & standardization)\n",
        "\n",
        "In terms of scaling values, neural networks tend to prefer normalization. \n",
        "\n",
        "If you're not sure on which to use, you could try both & see which performs better\n",
        "\n",
        "![Image](https://testbucket1841.s3.ap-south-1.amazonaws.com/tf-ml-course-udemy/feature-scaling.png)\n",
        "\n",
        "\n",
        "To prepare our data, we can borrow a few classes from Scikit-learn"
      ],
      "metadata": {
        "id": "bRYeycuihK4_"
      }
    },
    {
      "cell_type": "code",
      "source": [
        "from sklearn.compose import make_column_transformer\n",
        "from sklearn.preprocessing import MinMaxScaler, OneHotEncoder\n",
        "from sklearn.model_selection import train_test_split\n",
        "\n",
        "# Create a column transformer\n",
        "ct = make_column_transformer(\n",
        "    (MinMaxScaler(), [\"age\", \"bmi\", \"children\"]), # turn all values in these columns 0 and 1\n",
        "    (OneHotEncoder(handle_unknown=\"ignore\"),['sex', 'smoker','region'])\n",
        ")\n",
        "\n",
        "# Create X & y\n",
        "X = insurance.drop(\"charges\", axis=1)\n",
        "y = insurance[\"charges\"]\n",
        "\n",
        "# Build our train & test sets\n",
        "X_train, X_test, y_train, y_test = train_test_split(X,y, test_size=0.2, random_state=42)\n",
        "\n",
        "# Fit the column transformer to our training data\n",
        "ct.fit(X_train)\n",
        "\n",
        "# Transform training & test data with normalization & OneHotEncoder\n",
        "X_train_normal = ct.transform(X_train)\n",
        "X_test_normal = ct.transform(X_test)"
      ],
      "metadata": {
        "id": "bfmcsQlmjlV7"
      },
      "execution_count": null,
      "outputs": []
    },
    {
      "cell_type": "code",
      "source": [
        "# What does our data look like now?\n",
        "X_train.loc[0]"
      ],
      "metadata": {
        "colab": {
          "base_uri": "https://localhost:8080/"
        },
        "id": "bQxtxzZ2lJ3C",
        "outputId": "70b5f431-20f7-4f20-9882-76b919c3e50d"
      },
      "execution_count": null,
      "outputs": [
        {
          "output_type": "execute_result",
          "data": {
            "text/plain": [
              "age                19\n",
              "sex            female\n",
              "bmi              27.9\n",
              "children            0\n",
              "smoker            yes\n",
              "region      southwest\n",
              "Name: 0, dtype: object"
            ]
          },
          "metadata": {},
          "execution_count": 70
        }
      ]
    },
    {
      "cell_type": "code",
      "source": [
        "X_train.shape, X_train_normal.shape"
      ],
      "metadata": {
        "colab": {
          "base_uri": "https://localhost:8080/"
        },
        "id": "F17gk-PhlQ6i",
        "outputId": "5c685395-f610-458d-9a10-70f25cfa369d"
      },
      "execution_count": null,
      "outputs": [
        {
          "output_type": "execute_result",
          "data": {
            "text/plain": [
              "((1070, 6), (1070, 11))"
            ]
          },
          "metadata": {},
          "execution_count": 71
        }
      ]
    },
    {
      "cell_type": "code",
      "source": [
        "model_2.fit(X_train_normal, y_train, epochs = 100)"
      ],
      "metadata": {
        "colab": {
          "base_uri": "https://localhost:8080/"
        },
        "id": "BB28IpTtlb82",
        "outputId": "64852af8-4bdc-4039-9b12-94b7fb95fdc2"
      },
      "execution_count": null,
      "outputs": [
        {
          "output_type": "stream",
          "name": "stdout",
          "text": [
            "Epoch 1/100\n",
            "34/34 [==============================] - 0s 2ms/step - loss: 15066.9023\n",
            "Epoch 2/100\n",
            "34/34 [==============================] - 0s 2ms/step - loss: 14698.0420\n",
            "Epoch 3/100\n",
            "34/34 [==============================] - 0s 2ms/step - loss: 14378.0752\n",
            "Epoch 4/100\n",
            "34/34 [==============================] - 0s 3ms/step - loss: 14107.8262\n",
            "Epoch 5/100\n",
            "34/34 [==============================] - 0s 2ms/step - loss: 13871.4766\n",
            "Epoch 6/100\n",
            "34/34 [==============================] - 0s 2ms/step - loss: 13658.6963\n",
            "Epoch 7/100\n",
            "34/34 [==============================] - 0s 2ms/step - loss: 13462.5156\n",
            "Epoch 8/100\n",
            "34/34 [==============================] - 0s 2ms/step - loss: 13277.6084\n",
            "Epoch 9/100\n",
            "34/34 [==============================] - 0s 2ms/step - loss: 13099.6221\n",
            "Epoch 10/100\n",
            "34/34 [==============================] - 0s 2ms/step - loss: 12924.9121\n",
            "Epoch 11/100\n",
            "34/34 [==============================] - 0s 2ms/step - loss: 12750.3154\n",
            "Epoch 12/100\n",
            "34/34 [==============================] - 0s 2ms/step - loss: 12573.0908\n",
            "Epoch 13/100\n",
            "34/34 [==============================] - 0s 3ms/step - loss: 12390.5146\n",
            "Epoch 14/100\n",
            "34/34 [==============================] - 0s 2ms/step - loss: 12199.3555\n",
            "Epoch 15/100\n",
            "34/34 [==============================] - 0s 2ms/step - loss: 11997.7686\n",
            "Epoch 16/100\n",
            "34/34 [==============================] - 0s 2ms/step - loss: 11782.8037\n",
            "Epoch 17/100\n",
            "34/34 [==============================] - 0s 2ms/step - loss: 11552.9814\n",
            "Epoch 18/100\n",
            "34/34 [==============================] - 0s 2ms/step - loss: 11305.5557\n",
            "Epoch 19/100\n",
            "34/34 [==============================] - 0s 2ms/step - loss: 11038.2773\n",
            "Epoch 20/100\n",
            "34/34 [==============================] - 0s 3ms/step - loss: 10749.1680\n",
            "Epoch 21/100\n",
            "34/34 [==============================] - 0s 2ms/step - loss: 10436.9541\n",
            "Epoch 22/100\n",
            "34/34 [==============================] - 0s 2ms/step - loss: 10112.9678\n",
            "Epoch 23/100\n",
            "34/34 [==============================] - 0s 2ms/step - loss: 9784.1025\n",
            "Epoch 24/100\n",
            "34/34 [==============================] - 0s 2ms/step - loss: 9461.4883\n",
            "Epoch 25/100\n",
            "34/34 [==============================] - 0s 3ms/step - loss: 9161.1357\n",
            "Epoch 26/100\n",
            "34/34 [==============================] - 0s 2ms/step - loss: 8862.7490\n",
            "Epoch 27/100\n",
            "34/34 [==============================] - 0s 2ms/step - loss: 8583.9658\n",
            "Epoch 28/100\n",
            "34/34 [==============================] - 0s 2ms/step - loss: 8311.1182\n",
            "Epoch 29/100\n",
            "34/34 [==============================] - 0s 2ms/step - loss: 8053.2056\n",
            "Epoch 30/100\n",
            "34/34 [==============================] - 0s 2ms/step - loss: 7814.8599\n",
            "Epoch 31/100\n",
            "34/34 [==============================] - 0s 2ms/step - loss: 7591.9727\n",
            "Epoch 32/100\n",
            "34/34 [==============================] - 0s 2ms/step - loss: 7386.1147\n",
            "Epoch 33/100\n",
            "34/34 [==============================] - 0s 2ms/step - loss: 7192.5806\n",
            "Epoch 34/100\n",
            "34/34 [==============================] - 0s 2ms/step - loss: 7019.8301\n",
            "Epoch 35/100\n",
            "34/34 [==============================] - 0s 2ms/step - loss: 6867.7397\n",
            "Epoch 36/100\n",
            "34/34 [==============================] - 0s 2ms/step - loss: 6736.9946\n",
            "Epoch 37/100\n",
            "34/34 [==============================] - 0s 3ms/step - loss: 6624.7988\n",
            "Epoch 38/100\n",
            "34/34 [==============================] - 0s 2ms/step - loss: 6526.4917\n",
            "Epoch 39/100\n",
            "34/34 [==============================] - 0s 2ms/step - loss: 6439.4229\n",
            "Epoch 40/100\n",
            "34/34 [==============================] - 0s 2ms/step - loss: 6364.1299\n",
            "Epoch 41/100\n",
            "34/34 [==============================] - 0s 2ms/step - loss: 6299.6074\n",
            "Epoch 42/100\n",
            "34/34 [==============================] - 0s 2ms/step - loss: 6237.8984\n",
            "Epoch 43/100\n",
            "34/34 [==============================] - 0s 2ms/step - loss: 6187.2119\n",
            "Epoch 44/100\n",
            "34/34 [==============================] - 0s 2ms/step - loss: 6145.2485\n",
            "Epoch 45/100\n",
            "34/34 [==============================] - 0s 2ms/step - loss: 6113.6748\n",
            "Epoch 46/100\n",
            "34/34 [==============================] - 0s 2ms/step - loss: 6084.3433\n",
            "Epoch 47/100\n",
            "34/34 [==============================] - 0s 2ms/step - loss: 6059.8301\n",
            "Epoch 48/100\n",
            "34/34 [==============================] - 0s 2ms/step - loss: 6035.1660\n",
            "Epoch 49/100\n",
            "34/34 [==============================] - 0s 3ms/step - loss: 6014.0469\n",
            "Epoch 50/100\n",
            "34/34 [==============================] - 0s 2ms/step - loss: 5994.3130\n",
            "Epoch 51/100\n",
            "34/34 [==============================] - 0s 2ms/step - loss: 5977.6533\n",
            "Epoch 52/100\n",
            "34/34 [==============================] - 0s 2ms/step - loss: 5959.6597\n",
            "Epoch 53/100\n",
            "34/34 [==============================] - 0s 2ms/step - loss: 5944.4170\n",
            "Epoch 54/100\n",
            "34/34 [==============================] - 0s 2ms/step - loss: 5930.3135\n",
            "Epoch 55/100\n",
            "34/34 [==============================] - 0s 2ms/step - loss: 5916.7427\n",
            "Epoch 56/100\n",
            "34/34 [==============================] - 0s 2ms/step - loss: 5903.6626\n",
            "Epoch 57/100\n",
            "34/34 [==============================] - 0s 2ms/step - loss: 5889.9028\n",
            "Epoch 58/100\n",
            "34/34 [==============================] - 0s 2ms/step - loss: 5876.0161\n",
            "Epoch 59/100\n",
            "34/34 [==============================] - 0s 2ms/step - loss: 5862.5977\n",
            "Epoch 60/100\n",
            "34/34 [==============================] - 0s 2ms/step - loss: 5848.9365\n",
            "Epoch 61/100\n",
            "34/34 [==============================] - 0s 2ms/step - loss: 5836.1743\n",
            "Epoch 62/100\n",
            "34/34 [==============================] - 0s 2ms/step - loss: 5821.4971\n",
            "Epoch 63/100\n",
            "34/34 [==============================] - 0s 2ms/step - loss: 5808.8311\n",
            "Epoch 64/100\n",
            "34/34 [==============================] - 0s 2ms/step - loss: 5795.8740\n",
            "Epoch 65/100\n",
            "34/34 [==============================] - 0s 2ms/step - loss: 5784.0464\n",
            "Epoch 66/100\n",
            "34/34 [==============================] - 0s 2ms/step - loss: 5771.5063\n",
            "Epoch 67/100\n",
            "34/34 [==============================] - 0s 2ms/step - loss: 5759.8052\n",
            "Epoch 68/100\n",
            "34/34 [==============================] - 0s 2ms/step - loss: 5747.3853\n",
            "Epoch 69/100\n",
            "34/34 [==============================] - 0s 2ms/step - loss: 5735.0103\n",
            "Epoch 70/100\n",
            "34/34 [==============================] - 0s 2ms/step - loss: 5723.6875\n",
            "Epoch 71/100\n",
            "34/34 [==============================] - 0s 2ms/step - loss: 5711.9077\n",
            "Epoch 72/100\n",
            "34/34 [==============================] - 0s 2ms/step - loss: 5699.9023\n",
            "Epoch 73/100\n",
            "34/34 [==============================] - 0s 3ms/step - loss: 5688.2368\n",
            "Epoch 74/100\n",
            "34/34 [==============================] - 0s 2ms/step - loss: 5676.1958\n",
            "Epoch 75/100\n",
            "34/34 [==============================] - 0s 2ms/step - loss: 5664.5381\n",
            "Epoch 76/100\n",
            "34/34 [==============================] - 0s 2ms/step - loss: 5652.2715\n",
            "Epoch 77/100\n",
            "34/34 [==============================] - 0s 2ms/step - loss: 5639.7500\n",
            "Epoch 78/100\n",
            "34/34 [==============================] - 0s 2ms/step - loss: 5628.4121\n",
            "Epoch 79/100\n",
            "34/34 [==============================] - 0s 2ms/step - loss: 5617.3862\n",
            "Epoch 80/100\n",
            "34/34 [==============================] - 0s 2ms/step - loss: 5606.1323\n",
            "Epoch 81/100\n",
            "34/34 [==============================] - 0s 2ms/step - loss: 5595.1943\n",
            "Epoch 82/100\n",
            "34/34 [==============================] - 0s 2ms/step - loss: 5585.6802\n",
            "Epoch 83/100\n",
            "34/34 [==============================] - 0s 2ms/step - loss: 5573.4204\n",
            "Epoch 84/100\n",
            "34/34 [==============================] - 0s 2ms/step - loss: 5562.8940\n",
            "Epoch 85/100\n",
            "34/34 [==============================] - 0s 3ms/step - loss: 5552.6245\n",
            "Epoch 86/100\n",
            "34/34 [==============================] - 0s 2ms/step - loss: 5541.7402\n",
            "Epoch 87/100\n",
            "34/34 [==============================] - 0s 2ms/step - loss: 5530.3662\n",
            "Epoch 88/100\n",
            "34/34 [==============================] - 0s 2ms/step - loss: 5519.3032\n",
            "Epoch 89/100\n",
            "34/34 [==============================] - 0s 2ms/step - loss: 5509.0347\n",
            "Epoch 90/100\n",
            "34/34 [==============================] - 0s 2ms/step - loss: 5499.6821\n",
            "Epoch 91/100\n",
            "34/34 [==============================] - 0s 2ms/step - loss: 5487.7378\n",
            "Epoch 92/100\n",
            "34/34 [==============================] - 0s 2ms/step - loss: 5477.4404\n",
            "Epoch 93/100\n",
            "34/34 [==============================] - 0s 2ms/step - loss: 5466.6489\n",
            "Epoch 94/100\n",
            "34/34 [==============================] - 0s 2ms/step - loss: 5455.8770\n",
            "Epoch 95/100\n",
            "34/34 [==============================] - 0s 2ms/step - loss: 5445.3389\n",
            "Epoch 96/100\n",
            "34/34 [==============================] - 0s 2ms/step - loss: 5432.9834\n",
            "Epoch 97/100\n",
            "34/34 [==============================] - 0s 3ms/step - loss: 5421.2334\n",
            "Epoch 98/100\n",
            "34/34 [==============================] - 0s 2ms/step - loss: 5409.5063\n",
            "Epoch 99/100\n",
            "34/34 [==============================] - 0s 2ms/step - loss: 5397.4673\n",
            "Epoch 100/100\n",
            "34/34 [==============================] - 0s 2ms/step - loss: 5385.2119\n"
          ]
        },
        {
          "output_type": "execute_result",
          "data": {
            "text/plain": [
              "<keras.callbacks.History at 0x7ff20edaed50>"
            ]
          },
          "metadata": {},
          "execution_count": 72
        }
      ]
    },
    {
      "cell_type": "code",
      "source": [
        "model_2_predictions = model_2.predict(X_test_normal)\n",
        "mae_2 = mae(y_test, model_2_predictions)\n",
        "mae_2"
      ],
      "metadata": {
        "colab": {
          "base_uri": "https://localhost:8080/"
        },
        "id": "_4UpWyB5l-EU",
        "outputId": "972c29a4-99b3-4210-d563-ee97d125d26b"
      },
      "execution_count": null,
      "outputs": [
        {
          "output_type": "stream",
          "name": "stdout",
          "text": [
            "9/9 [==============================] - 0s 2ms/step\n"
          ]
        },
        {
          "output_type": "execute_result",
          "data": {
            "text/plain": [
              "<tf.Tensor: shape=(), dtype=float32, numpy=5270.7446>"
            ]
          },
          "metadata": {},
          "execution_count": 73
        }
      ]
    },
    {
      "cell_type": "code",
      "source": [
        "plot_predictions(\n",
        "    X_train_normal,\n",
        "    X_test_normal,\n",
        "    y_train,\n",
        "    y_test,\n",
        "    model_2_predictions\n",
        ")"
      ],
      "metadata": {
        "colab": {
          "base_uri": "https://localhost:8080/",
          "height": 428
        },
        "id": "nhSY0vhzmHpE",
        "outputId": "55e1d576-afa3-440d-e872-723723d9acab"
      },
      "execution_count": null,
      "outputs": [
        {
          "output_type": "display_data",
          "data": {
            "text/plain": [
              "<Figure size 720x504 with 1 Axes>"
            ],
            "image/png": "[encoded data removed]"
          },
          "metadata": {
            "needs_background": "light"
          }
        }
      ]
    },
    {
      "cell_type": "code",
      "source": [
        "# Result from un-normalized data below\n",
        "# 9/9 [==============================] - 0s 3ms/step - loss: 5782.0811\n",
        "# 5782.0810546875\n",
        "model_2.evaluate(X_test_normal, y_test)\n",
        "\n",
        "# Thus, we achieved an increase of 8.64%"
      ],
      "metadata": {
        "colab": {
          "base_uri": "https://localhost:8080/"
        },
        "id": "1RqfruWUmQV_",
        "outputId": "48239e4b-cb68-4a09-a63e-3f4b6e4c944f"
      },
      "execution_count": null,
      "outputs": [
        {
          "output_type": "stream",
          "name": "stdout",
          "text": [
            "9/9 [==============================] - 0s 2ms/step - loss: 5270.7446\n"
          ]
        },
        {
          "output_type": "execute_result",
          "data": {
            "text/plain": [
              "5270.74462890625"
            ]
          },
          "metadata": {},
          "execution_count": 75
        }
      ]
    }
  ]
}