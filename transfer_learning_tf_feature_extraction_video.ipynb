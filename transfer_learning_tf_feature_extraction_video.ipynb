{
  "nbformat": 4,
  "nbformat_minor": 0,
  "metadata": {
    "colab": {
      "provenance": [],
      "authorship_tag": "ABX9TyMoy2U98y5p5VsCz80IC96E",
      "include_colab_link": true
    },
    "kernelspec": {
      "name": "python3",
      "display_name": "Python 3"
    },
    "language_info": {
      "name": "python"
    },
    "accelerator": "GPU",
    "gpuClass": "standard"
  },
  "cells": [
    {
      "cell_type": "markdown",
      "metadata": {
        "id": "view-in-github",
        "colab_type": "text"
      },
      "source": [
        "<a href=\"https://colab.research.google.com/github/crew-guy/ml-with-tensorflow/blob/main/transfer_learning_tf_feature_extraction_video.ipynb\" target=\"_parent\"><img src=\"https://colab.research.google.com/assets/colab-badge.svg\" alt=\"Open In Colab\"/></a>"
      ]
    },
    {
      "cell_type": "markdown",
      "source": [
        "# Transfer learning with Tensorflow Part 1: Feature Extraction\n",
        "\n",
        "Transfer learning is the process of leveraging an existing model architecture & patterns it has learnt, for our own problem\n",
        "\n",
        "![image](https://testbucket1841.s3.ap-south-1.amazonaws.com/tf-ml-course-udemy/transfer-learn.png)\n",
        "\n",
        "There are 2 main benefits\n",
        "1. Can use existing neural network architecture that is proven to work on a problem, similar to our own\n",
        "2. Can leverage a neural network architecture & patterns which it has already learnt on similar data to our own, then we can adapt those patterns to our own data\n"
      ],
      "metadata": {
        "id": "OxnJ4I8KLg19"
      }
    },
    {
      "cell_type": "code",
      "source": [
        "# Are we running a GPU\n",
        "!nvidia-smi"
      ],
      "metadata": {
        "colab": {
          "base_uri": "https://localhost:8080/"
        },
        "id": "O9dK81o7MM0-",
        "outputId": "62fcc912-1c0c-41ac-aa6d-1a760adb6f2e"
      },
      "execution_count": 2,
      "outputs": [
        {
          "output_type": "stream",
          "name": "stdout",
          "text": [
            "Thu Dec  1 16:46:07 2022       \n",
            "+-----------------------------------------------------------------------------+\n",
            "| NVIDIA-SMI 460.32.03    Driver Version: 460.32.03    CUDA Version: 11.2     |\n",
            "|-------------------------------+----------------------+----------------------+\n",
            "| GPU  Name        Persistence-M| Bus-Id        Disp.A | Volatile Uncorr. ECC |\n",
            "| Fan  Temp  Perf  Pwr:Usage/Cap|         Memory-Usage | GPU-Util  Compute M. |\n",
            "|                               |                      |               MIG M. |\n",
            "|===============================+======================+======================|\n",
            "|   0  Tesla T4            Off  | 00000000:00:04.0 Off |                    0 |\n",
            "| N/A   46C    P0    29W /  70W |      0MiB / 15109MiB |      0%      Default |\n",
            "|                               |                      |                  N/A |\n",
            "+-------------------------------+----------------------+----------------------+\n",
            "                                                                               \n",
            "+-----------------------------------------------------------------------------+\n",
            "| Processes:                                                                  |\n",
            "|  GPU   GI   CI        PID   Type   Process name                  GPU Memory |\n",
            "|        ID   ID                                                   Usage      |\n",
            "|=============================================================================|\n",
            "|  No running processes found                                                 |\n",
            "+-----------------------------------------------------------------------------+\n"
          ]
        }
      ]
    },
    {
      "cell_type": "markdown",
      "source": [
        "## Downloading & becoming one with the data\n",
        "\n",
        "We will only be working with 10% of the dataset for training"
      ],
      "metadata": {
        "id": "NzmDEHiKNvPs"
      }
    },
    {
      "cell_type": "code",
      "source": [
        "import zipfile\n",
        "\n",
        "# Download the data\n",
        "!wget https://storage.googleapis.com/ztm_tf_course/food_vision/10_food_classes_10_percent.zip\n",
        "\n",
        "\n",
        "# Unzip the data\n",
        "zip_ref = zipfile.ZipFile('10_food_classes_10_percent.zip')\n",
        "zip_ref.extractall()\n",
        "zip_ref.close()"
      ],
      "metadata": {
        "colab": {
          "base_uri": "https://localhost:8080/"
        },
        "id": "kqX1jX1SMV5G",
        "outputId": "113e2444-b790-404e-b309-da6799fa0144"
      },
      "execution_count": 3,
      "outputs": [
        {
          "output_type": "stream",
          "name": "stdout",
          "text": [
            "--2022-12-01 16:46:08--  https://storage.googleapis.com/ztm_tf_course/food_vision/10_food_classes_10_percent.zip\n",
            "Resolving storage.googleapis.com (storage.googleapis.com)... 142.250.153.128, 142.250.145.128, 74.125.143.128, ...\n",
            "Connecting to storage.googleapis.com (storage.googleapis.com)|142.250.153.128|:443... connected.\n",
            "HTTP request sent, awaiting response... 200 OK\n",
            "Length: 168546183 (161M) [application/zip]\n",
            "Saving to: ‘10_food_classes_10_percent.zip’\n",
            "\n",
            "10_food_classes_10_ 100%[===================>] 160.74M  39.9MB/s    in 4.6s    \n",
            "\n",
            "2022-12-01 16:46:13 (34.7 MB/s) - ‘10_food_classes_10_percent.zip’ saved [168546183/168546183]\n",
            "\n"
          ]
        }
      ]
    },
    {
      "cell_type": "code",
      "source": [
        "import os\n",
        "\n",
        "for dirpath, dirnames, filenames in os.walk('10_food_classes_10_percent'):\n",
        "    print(f\"There are {len(dirnames)} directories and {len(filenames)} files in dirpath:{dirpath} \")"
      ],
      "metadata": {
        "colab": {
          "base_uri": "https://localhost:8080/"
        },
        "id": "IEBK-y9iM-na",
        "outputId": "eaefa2a6-361e-4c59-abef-16742ce8ca4a"
      },
      "execution_count": 4,
      "outputs": [
        {
          "output_type": "stream",
          "name": "stdout",
          "text": [
            "There are 2 directories and 0 files in dirpath:10_food_classes_10_percent \n",
            "There are 10 directories and 0 files in dirpath:10_food_classes_10_percent/train \n",
            "There are 0 directories and 75 files in dirpath:10_food_classes_10_percent/train/ramen \n",
            "There are 0 directories and 75 files in dirpath:10_food_classes_10_percent/train/sushi \n",
            "There are 0 directories and 75 files in dirpath:10_food_classes_10_percent/train/ice_cream \n",
            "There are 0 directories and 75 files in dirpath:10_food_classes_10_percent/train/chicken_curry \n",
            "There are 0 directories and 75 files in dirpath:10_food_classes_10_percent/train/hamburger \n",
            "There are 0 directories and 75 files in dirpath:10_food_classes_10_percent/train/steak \n",
            "There are 0 directories and 75 files in dirpath:10_food_classes_10_percent/train/grilled_salmon \n",
            "There are 0 directories and 75 files in dirpath:10_food_classes_10_percent/train/chicken_wings \n",
            "There are 0 directories and 75 files in dirpath:10_food_classes_10_percent/train/pizza \n",
            "There are 0 directories and 75 files in dirpath:10_food_classes_10_percent/train/fried_rice \n",
            "There are 10 directories and 0 files in dirpath:10_food_classes_10_percent/test \n",
            "There are 0 directories and 250 files in dirpath:10_food_classes_10_percent/test/ramen \n",
            "There are 0 directories and 250 files in dirpath:10_food_classes_10_percent/test/sushi \n",
            "There are 0 directories and 250 files in dirpath:10_food_classes_10_percent/test/ice_cream \n",
            "There are 0 directories and 250 files in dirpath:10_food_classes_10_percent/test/chicken_curry \n",
            "There are 0 directories and 250 files in dirpath:10_food_classes_10_percent/test/hamburger \n",
            "There are 0 directories and 250 files in dirpath:10_food_classes_10_percent/test/steak \n",
            "There are 0 directories and 250 files in dirpath:10_food_classes_10_percent/test/grilled_salmon \n",
            "There are 0 directories and 250 files in dirpath:10_food_classes_10_percent/test/chicken_wings \n",
            "There are 0 directories and 250 files in dirpath:10_food_classes_10_percent/test/pizza \n",
            "There are 0 directories and 250 files in dirpath:10_food_classes_10_percent/test/fried_rice \n"
          ]
        }
      ]
    },
    {
      "cell_type": "markdown",
      "source": [
        "## Creating data loaders (preparing the data)\n",
        "\n",
        "We'll use the `ImageDataGenerator` class to load in images in batches"
      ],
      "metadata": {
        "id": "csGKG-XcNais"
      }
    },
    {
      "cell_type": "code",
      "source": [
        "train_dir = '10_food_classes_10_percent/train'\n",
        "test_dir = '10_food_classes_10_percent/test'"
      ],
      "metadata": {
        "id": "MJrWuW9GOHXe"
      },
      "execution_count": 5,
      "outputs": []
    },
    {
      "cell_type": "code",
      "source": [
        "# Creating data generators\n",
        "from tensorflow.keras.preprocessing.image import ImageDataGenerator\n",
        "\n",
        "training_datagen = ImageDataGenerator(rescale=1/255.)\n",
        "test_datagen = ImageDataGenerator(rescale=1/255.)\n",
        "\n",
        "training_datagen_augmented = ImageDataGenerator(\n",
        "    rescale=1/255.,\n",
        "    shear_range=0.2,\n",
        "    rotation_range=0.2,\n",
        "    height_shift_range=0.2,\n",
        "    width_shift_range=0.2,\n",
        "    zoom_range=0.2,\n",
        "    horizontal_flip = True\n",
        ")"
      ],
      "metadata": {
        "id": "nQGS9GuvN-A_"
      },
      "execution_count": 6,
      "outputs": []
    },
    {
      "cell_type": "code",
      "source": [
        "# Creating data sets for training and testing\n",
        "\n",
        "IMAGE_SIZE= (224,224)\n",
        "BATCH_SIZE = 32\n",
        "\n",
        "train_data = training_datagen.flow_from_directory(\n",
        "    directory=train_dir,\n",
        "    target_size=IMAGE_SIZE,\n",
        "    class_mode=\"categorical\",\n",
        "    batch_size=BATCH_SIZE,\n",
        ")\n",
        "\n",
        "train_data_augmented = training_datagen_augmented.flow_from_directory(\n",
        "    directory=train_dir,\n",
        "    target_size=IMAGE_SIZE,\n",
        "    batch_size=BATCH_SIZE, \n",
        "    class_mode=\"categorical\"\n",
        ")\n",
        "\n",
        "test_data = test_datagen.flow_from_directory(\n",
        "    directory=test_dir,\n",
        "    batch_size=BATCH_SIZE,\n",
        "    target_size=IMAGE_SIZE,\n",
        "    class_mode='categorical'\n",
        ")"
      ],
      "metadata": {
        "colab": {
          "base_uri": "https://localhost:8080/"
        },
        "id": "7E5alzQhOh6o",
        "outputId": "8837ba79-8166-435d-82f8-e3214f996e82"
      },
      "execution_count": 7,
      "outputs": [
        {
          "output_type": "stream",
          "name": "stdout",
          "text": [
            "Found 750 images belonging to 10 classes.\n",
            "Found 750 images belonging to 10 classes.\n",
            "Found 2500 images belonging to 10 classes.\n"
          ]
        }
      ]
    },
    {
      "cell_type": "code",
      "source": [
        "IMAGE_SIZE+(3,)"
      ],
      "metadata": {
        "colab": {
          "base_uri": "https://localhost:8080/"
        },
        "id": "st4th5ujuYs5",
        "outputId": "b2e589cd-6dd8-44c0-ced6-5c054c36c2c2"
      },
      "execution_count": 17,
      "outputs": [
        {
          "output_type": "execute_result",
          "data": {
            "text/plain": [
              "(224, 224, 3)"
            ]
          },
          "metadata": {},
          "execution_count": 17
        }
      ]
    },
    {
      "cell_type": "code",
      "source": [
        "train_data[7]"
      ],
      "metadata": {
        "colab": {
          "base_uri": "https://localhost:8080/"
        },
        "id": "wVHmYMC9PJqY",
        "outputId": "23eacf65-95ae-494e-bdf7-f68a492ed17f"
      },
      "execution_count": 8,
      "outputs": [
        {
          "output_type": "execute_result",
          "data": {
            "text/plain": [
              "(array([[[[0.0627451 , 0.03529412, 0.01176471],\n",
              "          [0.0627451 , 0.03137255, 0.01960784],\n",
              "          [0.05882353, 0.03921569, 0.02352941],\n",
              "          ...,\n",
              "          [0.03137255, 0.01176471, 0.02745098],\n",
              "          [0.03137255, 0.01176471, 0.02745098],\n",
              "          [0.03137255, 0.01176471, 0.02745098]],\n",
              " \n",
              "         [[0.06666667, 0.03921569, 0.01568628],\n",
              "          [0.0627451 , 0.03137255, 0.01960784],\n",
              "          [0.0627451 , 0.04313726, 0.02745098],\n",
              "          ...,\n",
              "          [0.03529412, 0.01568628, 0.03137255],\n",
              "          [0.02745098, 0.00784314, 0.02352941],\n",
              "          [0.03137255, 0.01176471, 0.02745098]],\n",
              " \n",
              "         [[0.07450981, 0.04313726, 0.03137255],\n",
              "          [0.06666667, 0.03529412, 0.02352941],\n",
              "          [0.07058824, 0.0509804 , 0.03921569],\n",
              "          ...,\n",
              "          [0.03529412, 0.01568628, 0.03137255],\n",
              "          [0.03137255, 0.01176471, 0.02745098],\n",
              "          [0.03137255, 0.01176471, 0.02745098]],\n",
              " \n",
              "         ...,\n",
              " \n",
              "         [[0.09411766, 0.05490196, 0.05882353],\n",
              "          [0.14901961, 0.10980393, 0.1137255 ],\n",
              "          [0.14901961, 0.10980393, 0.1137255 ],\n",
              "          ...,\n",
              "          [0.30980393, 0.10196079, 0.07843138],\n",
              "          [0.3254902 , 0.11764707, 0.10196079],\n",
              "          [0.3137255 , 0.10588236, 0.09019608]],\n",
              " \n",
              "         [[0.09019608, 0.0509804 , 0.05490196],\n",
              "          [0.10196079, 0.0627451 , 0.06666667],\n",
              "          [0.10588236, 0.06666667, 0.07058824],\n",
              "          ...,\n",
              "          [0.3019608 , 0.09411766, 0.07843138],\n",
              "          [0.3137255 , 0.10588236, 0.09019608],\n",
              "          [0.3137255 , 0.10588236, 0.09019608]],\n",
              " \n",
              "         [[0.09019608, 0.0509804 , 0.05490196],\n",
              "          [0.08235294, 0.04313726, 0.04705883],\n",
              "          [0.09019608, 0.0509804 , 0.05490196],\n",
              "          ...,\n",
              "          [0.30588236, 0.10588236, 0.09019608],\n",
              "          [0.29803923, 0.09803922, 0.08235294],\n",
              "          [0.29803923, 0.10196079, 0.07450981]]],\n",
              " \n",
              " \n",
              "        [[[0.93725497, 0.8470589 , 0.63529414],\n",
              "          [0.9450981 , 0.854902  , 0.6509804 ],\n",
              "          [0.9294118 , 0.8431373 , 0.64705884],\n",
              "          ...,\n",
              "          [0.8980393 , 0.85098046, 0.69411767],\n",
              "          [0.909804  , 0.86274517, 0.69803923],\n",
              "          [0.909804  , 0.86666673, 0.6901961 ]],\n",
              " \n",
              "         [[0.95294124, 0.86666673, 0.6431373 ],\n",
              "          [0.9568628 , 0.86666673, 0.654902  ],\n",
              "          [0.94117653, 0.854902  , 0.65882355],\n",
              "          ...,\n",
              "          [0.9058824 , 0.8588236 , 0.7019608 ],\n",
              "          [0.9176471 , 0.8705883 , 0.7058824 ],\n",
              "          [0.9333334 , 0.882353  , 0.70980394]],\n",
              " \n",
              "         [[0.9568628 , 0.8705883 , 0.64705884],\n",
              "          [0.9607844 , 0.87843144, 0.6627451 ],\n",
              "          [0.9490197 , 0.86666673, 0.65882355],\n",
              "          ...,\n",
              "          [0.9215687 , 0.8745099 , 0.70980394],\n",
              "          [0.909804  , 0.86274517, 0.69803923],\n",
              "          [0.9294118 , 0.87843144, 0.7058824 ]],\n",
              " \n",
              "         ...,\n",
              " \n",
              "         [[0.4901961 , 0.16862746, 0.02352941],\n",
              "          [0.47058827, 0.14901961, 0.00392157],\n",
              "          [0.48235297, 0.15294118, 0.01960784],\n",
              "          ...,\n",
              "          [0.73333335, 0.5372549 , 0.20392159],\n",
              "          [0.7254902 , 0.52156866, 0.19215688],\n",
              "          [0.7058824 , 0.49411768, 0.15686275]],\n",
              " \n",
              "         [[0.44705886, 0.14901961, 0.01568628],\n",
              "          [0.46274513, 0.15294118, 0.02352941],\n",
              "          [0.454902  , 0.14509805, 0.02352941],\n",
              "          ...,\n",
              "          [0.70980394, 0.48627454, 0.14509805],\n",
              "          [0.6509804 , 0.40784317, 0.06666667],\n",
              "          [0.6313726 , 0.3803922 , 0.03529412]],\n",
              " \n",
              "         [[0.427451  , 0.13333334, 0.00784314],\n",
              "          [0.4431373 , 0.14901961, 0.02745098],\n",
              "          [0.4431373 , 0.14117648, 0.02352941],\n",
              "          ...,\n",
              "          [0.6313726 , 0.3803922 , 0.03529412],\n",
              "          [0.654902  , 0.3803922 , 0.03529412],\n",
              "          [0.6745098 , 0.39607847, 0.04313726]]],\n",
              " \n",
              " \n",
              "        [[[0.25490198, 0.15686275, 0.07058824],\n",
              "          [0.25882354, 0.16078432, 0.07450981],\n",
              "          [0.2509804 , 0.15294118, 0.06666667],\n",
              "          ...,\n",
              "          [0.35686275, 0.2509804 , 0.13725491],\n",
              "          [0.3647059 , 0.25882354, 0.15294118],\n",
              "          [0.33333334, 0.23137257, 0.1254902 ]],\n",
              " \n",
              "         [[0.25490198, 0.15686275, 0.07058824],\n",
              "          [0.25490198, 0.15686275, 0.07058824],\n",
              "          [0.23529413, 0.13725491, 0.0509804 ],\n",
              "          ...,\n",
              "          [0.38431376, 0.2784314 , 0.16470589],\n",
              "          [0.39607847, 0.2901961 , 0.1764706 ],\n",
              "          [0.38431376, 0.28627452, 0.16862746]],\n",
              " \n",
              "         [[0.24705884, 0.14901961, 0.0627451 ],\n",
              "          [0.2509804 , 0.15294118, 0.06666667],\n",
              "          [0.25490198, 0.15686275, 0.07058824],\n",
              "          ...,\n",
              "          [0.3921569 , 0.28627452, 0.16862746],\n",
              "          [0.37647063, 0.27058825, 0.15294118],\n",
              "          [0.36078432, 0.2627451 , 0.14117648]],\n",
              " \n",
              "         ...,\n",
              " \n",
              "         [[0.2784314 , 0.07450981, 0.01960784],\n",
              "          [0.27058825, 0.06666667, 0.01176471],\n",
              "          [0.28235295, 0.07450981, 0.01176471],\n",
              "          ...,\n",
              "          [0.1254902 , 0.07843138, 0.02352941],\n",
              "          [0.12156864, 0.06666667, 0.01568628],\n",
              "          [0.1254902 , 0.07058824, 0.01960784]],\n",
              " \n",
              "         [[0.2627451 , 0.05490196, 0.        ],\n",
              "          [0.2784314 , 0.05882353, 0.        ],\n",
              "          [0.3019608 , 0.07450981, 0.01960784],\n",
              "          ...,\n",
              "          [0.1254902 , 0.07843138, 0.02352941],\n",
              "          [0.1254902 , 0.07058824, 0.01960784],\n",
              "          [0.1254902 , 0.07058824, 0.01960784]],\n",
              " \n",
              "         [[0.3254902 , 0.10588236, 0.04705883],\n",
              "          [0.30588236, 0.07843138, 0.02352941],\n",
              "          [0.3019608 , 0.07058824, 0.01568628],\n",
              "          ...,\n",
              "          [0.1254902 , 0.07843138, 0.02352941],\n",
              "          [0.1254902 , 0.07058824, 0.01960784],\n",
              "          [0.11764707, 0.0627451 , 0.01176471]]],\n",
              " \n",
              " \n",
              "        ...,\n",
              " \n",
              " \n",
              "        [[[0.5921569 , 0.5686275 , 0.52156866],\n",
              "          [0.6156863 , 0.5921569 , 0.54509807],\n",
              "          [0.63529414, 0.6117647 , 0.5647059 ],\n",
              "          ...,\n",
              "          [0.5176471 , 0.49803925, 0.41960788],\n",
              "          [0.5176471 , 0.49803925, 0.41960788],\n",
              "          [0.5176471 , 0.49803925, 0.41960788]],\n",
              " \n",
              "         [[0.62352943, 0.6       , 0.5529412 ],\n",
              "          [0.63529414, 0.6117647 , 0.5568628 ],\n",
              "          [0.627451  , 0.6039216 , 0.54901963],\n",
              "          ...,\n",
              "          [0.50980395, 0.4901961 , 0.41176474],\n",
              "          [0.50980395, 0.4901961 , 0.41176474],\n",
              "          [0.5176471 , 0.49803925, 0.41960788]],\n",
              " \n",
              "         [[0.6431373 , 0.61960787, 0.5568628 ],\n",
              "          [0.6313726 , 0.60784316, 0.54509807],\n",
              "          [0.6       , 0.5764706 , 0.5137255 ],\n",
              "          ...,\n",
              "          [0.5137255 , 0.49411768, 0.4156863 ],\n",
              "          [0.5176471 , 0.49803925, 0.41960788],\n",
              "          [0.5254902 , 0.5058824 , 0.427451  ]],\n",
              " \n",
              "         ...,\n",
              " \n",
              "         [[0.10196079, 0.02745098, 0.00392157],\n",
              "          [0.11764707, 0.04313726, 0.01960784],\n",
              "          [0.11764707, 0.04313726, 0.02745098],\n",
              "          ...,\n",
              "          [0.18039216, 0.09019608, 0.01960784],\n",
              "          [0.12156864, 0.04705883, 0.        ],\n",
              "          [0.43921572, 0.3803922 , 0.30588236]],\n",
              " \n",
              "         [[0.12941177, 0.0509804 , 0.02352941],\n",
              "          [0.10588236, 0.03137255, 0.01568628],\n",
              "          [0.12156864, 0.0509804 , 0.04313726],\n",
              "          ...,\n",
              "          [0.20392159, 0.11764707, 0.03529412],\n",
              "          [0.2901961 , 0.21960786, 0.13333334],\n",
              "          [0.5764706 , 0.52156866, 0.41960788]],\n",
              " \n",
              "         [[0.1764706 , 0.08627451, 0.0627451 ],\n",
              "          [0.11764707, 0.03529412, 0.02352941],\n",
              "          [0.13333334, 0.05490196, 0.0509804 ],\n",
              "          ...,\n",
              "          [0.3254902 , 0.2392157 , 0.14509805],\n",
              "          [0.5764706 , 0.50980395, 0.40784317],\n",
              "          [0.5803922 , 0.5254902 , 0.41176474]]],\n",
              " \n",
              " \n",
              "        [[[0.69803923, 0.6745098 , 0.61960787],\n",
              "          [0.69803923, 0.6745098 , 0.61960787],\n",
              "          [0.69803923, 0.6745098 , 0.61960787],\n",
              "          ...,\n",
              "          [0.01176471, 0.01176471, 0.01176471],\n",
              "          [0.01176471, 0.01960784, 0.00784314],\n",
              "          [0.01176471, 0.01960784, 0.00784314]],\n",
              " \n",
              "         [[0.69803923, 0.6745098 , 0.61960787],\n",
              "          [0.69803923, 0.6745098 , 0.61960787],\n",
              "          [0.69803923, 0.6745098 , 0.61960787],\n",
              "          ...,\n",
              "          [0.01568628, 0.01568628, 0.01568628],\n",
              "          [0.01176471, 0.01960784, 0.00784314],\n",
              "          [0.01568628, 0.02352941, 0.01176471]],\n",
              " \n",
              "         [[0.69803923, 0.6745098 , 0.61960787],\n",
              "          [0.69803923, 0.6745098 , 0.61960787],\n",
              "          [0.69803923, 0.6745098 , 0.61960787],\n",
              "          ...,\n",
              "          [0.01568628, 0.01568628, 0.01568628],\n",
              "          [0.01568628, 0.02352941, 0.01176471],\n",
              "          [0.01568628, 0.02352941, 0.01176471]],\n",
              " \n",
              "         ...,\n",
              " \n",
              "         [[0.86666673, 0.81568635, 0.7490196 ],\n",
              "          [0.8588236 , 0.8078432 , 0.7411765 ],\n",
              "          [0.8705883 , 0.8196079 , 0.75294125],\n",
              "          ...,\n",
              "          [0.6509804 , 0.54509807, 0.43921572],\n",
              "          [0.61960787, 0.48235297, 0.3647059 ],\n",
              "          [0.5019608 , 0.39607847, 0.3137255 ]],\n",
              " \n",
              "         [[0.86666673, 0.81568635, 0.75294125],\n",
              "          [0.86274517, 0.8117648 , 0.7490196 ],\n",
              "          [0.8705883 , 0.8196079 , 0.75294125],\n",
              "          ...,\n",
              "          [0.6431373 , 0.5372549 , 0.43137258],\n",
              "          [0.62352943, 0.48627454, 0.36862746],\n",
              "          [0.5254902 , 0.41960788, 0.3372549 ]],\n",
              " \n",
              "         [[0.8745099 , 0.8235295 , 0.7607844 ],\n",
              "          [0.8705883 , 0.8196079 , 0.7568628 ],\n",
              "          [0.8745099 , 0.8235295 , 0.7568628 ],\n",
              "          ...,\n",
              "          [0.654902  , 0.54901963, 0.4431373 ],\n",
              "          [0.627451  , 0.48627454, 0.36078432],\n",
              "          [0.5372549 , 0.43529415, 0.34509805]]],\n",
              " \n",
              " \n",
              "        [[[0.13333334, 0.01568628, 0.04705883],\n",
              "          [0.29411766, 0.15686275, 0.07843138],\n",
              "          [0.48627454, 0.31764707, 0.10980393],\n",
              "          ...,\n",
              "          [0.30980393, 0.03529412, 0.02745098],\n",
              "          [0.30588236, 0.03921569, 0.02745098],\n",
              "          [0.32156864, 0.06666667, 0.0509804 ]],\n",
              " \n",
              "         [[0.20392159, 0.07058824, 0.        ],\n",
              "          [0.57254905, 0.42352945, 0.2392157 ],\n",
              "          [0.5882353 , 0.4039216 , 0.12941177],\n",
              "          ...,\n",
              "          [0.29411766, 0.01960784, 0.01176471],\n",
              "          [0.29803923, 0.02352941, 0.01568628],\n",
              "          [0.30588236, 0.03921569, 0.02745098]],\n",
              " \n",
              "         [[0.5137255 , 0.35686275, 0.11764707],\n",
              "          [0.5372549 , 0.3647059 , 0.07843138],\n",
              "          [0.5647059 , 0.36078432, 0.02352941],\n",
              "          ...,\n",
              "          [0.28627452, 0.00392157, 0.00784314],\n",
              "          [0.29803923, 0.01568628, 0.01960784],\n",
              "          [0.3019608 , 0.01960784, 0.02352941]],\n",
              " \n",
              "         ...,\n",
              " \n",
              "         [[0.7294118 , 0.7294118 , 0.61960787],\n",
              "          [0.77647066, 0.7725491 , 0.6627451 ],\n",
              "          [0.7686275 , 0.76470596, 0.64705884],\n",
              "          ...,\n",
              "          [0.13725491, 0.        , 0.        ],\n",
              "          [0.14509805, 0.00392157, 0.00392157],\n",
              "          [0.14901961, 0.00784314, 0.00784314]],\n",
              " \n",
              "         [[0.7254902 , 0.7254902 , 0.6156863 ],\n",
              "          [0.6784314 , 0.6784314 , 0.5686275 ],\n",
              "          [0.78823537, 0.7843138 , 0.6666667 ],\n",
              "          ...,\n",
              "          [0.13333334, 0.        , 0.        ],\n",
              "          [0.14509805, 0.01176471, 0.00784314],\n",
              "          [0.15294118, 0.01176471, 0.01176471]],\n",
              " \n",
              "         [[0.7176471 , 0.7176471 , 0.6156863 ],\n",
              "          [0.7568628 , 0.7568628 , 0.64705884],\n",
              "          [0.7843138 , 0.7803922 , 0.6627451 ],\n",
              "          ...,\n",
              "          [0.13333334, 0.        , 0.        ],\n",
              "          [0.13725491, 0.00392157, 0.        ],\n",
              "          [0.14509805, 0.00392157, 0.00392157]]]], dtype=float32),\n",
              " array([[0., 0., 0., 0., 0., 0., 1., 0., 0., 0.],\n",
              "        [0., 0., 0., 1., 0., 0., 0., 0., 0., 0.],\n",
              "        [0., 0., 0., 0., 0., 1., 0., 0., 0., 0.],\n",
              "        [0., 0., 0., 1., 0., 0., 0., 0., 0., 0.],\n",
              "        [0., 0., 0., 0., 1., 0., 0., 0., 0., 0.],\n",
              "        [1., 0., 0., 0., 0., 0., 0., 0., 0., 0.],\n",
              "        [0., 0., 0., 0., 0., 0., 0., 1., 0., 0.],\n",
              "        [0., 0., 0., 0., 0., 0., 0., 0., 1., 0.],\n",
              "        [0., 0., 0., 0., 0., 0., 0., 1., 0., 0.],\n",
              "        [0., 1., 0., 0., 0., 0., 0., 0., 0., 0.],\n",
              "        [0., 1., 0., 0., 0., 0., 0., 0., 0., 0.],\n",
              "        [0., 0., 0., 0., 0., 1., 0., 0., 0., 0.],\n",
              "        [0., 0., 0., 0., 0., 0., 0., 0., 0., 1.],\n",
              "        [0., 0., 0., 0., 0., 1., 0., 0., 0., 0.],\n",
              "        [0., 0., 0., 1., 0., 0., 0., 0., 0., 0.],\n",
              "        [1., 0., 0., 0., 0., 0., 0., 0., 0., 0.],\n",
              "        [0., 1., 0., 0., 0., 0., 0., 0., 0., 0.],\n",
              "        [0., 0., 0., 0., 0., 0., 0., 0., 1., 0.],\n",
              "        [0., 0., 1., 0., 0., 0., 0., 0., 0., 0.],\n",
              "        [0., 0., 0., 0., 0., 0., 1., 0., 0., 0.],\n",
              "        [0., 0., 0., 0., 0., 0., 0., 1., 0., 0.],\n",
              "        [0., 0., 0., 0., 0., 0., 0., 0., 1., 0.],\n",
              "        [1., 0., 0., 0., 0., 0., 0., 0., 0., 0.],\n",
              "        [1., 0., 0., 0., 0., 0., 0., 0., 0., 0.],\n",
              "        [0., 0., 0., 0., 1., 0., 0., 0., 0., 0.],\n",
              "        [0., 0., 0., 0., 0., 0., 1., 0., 0., 0.],\n",
              "        [0., 1., 0., 0., 0., 0., 0., 0., 0., 0.],\n",
              "        [0., 0., 0., 0., 0., 0., 1., 0., 0., 0.],\n",
              "        [0., 0., 0., 0., 0., 0., 1., 0., 0., 0.],\n",
              "        [0., 0., 1., 0., 0., 0., 0., 0., 0., 0.],\n",
              "        [0., 0., 0., 0., 0., 1., 0., 0., 0., 0.],\n",
              "        [0., 0., 0., 0., 0., 0., 0., 1., 0., 0.]], dtype=float32))"
            ]
          },
          "metadata": {},
          "execution_count": 8
        }
      ]
    },
    {
      "cell_type": "markdown",
      "source": [
        "## Setting up callbacks (things to run while our model trains)\n",
        "\n",
        "Callbacks are tools that add extra functionality to your models during training, evaluation or inference. The most popular callbacks include\n",
        "\n",
        "* Model performance dashboard using TensorBoard callback\n",
        "* Saving the model as it trains, using the ModelCheckpoint callback\n",
        "* Stop training the model once performance ceases to improve (before it trains too long & overfits), using the EarlyStopping callback"
      ],
      "metadata": {
        "id": "cgqDP7_UPTvI"
      }
    },
    {
      "cell_type": "code",
      "source": [
        "# Create a TensorBoard callback (functionized because we need to create a new one for each model)\n",
        "import datetime\n",
        "\n",
        "def create_tensorboard_callback(dir_name, experiment_name):\n",
        "    log_dir = dir_name + \"/\" + experiment_name + \"/\" + datetime.datetime.now().strftime(\"%Y%m%d-%H%M%S\")\n",
        "    tensorboard_callback = tf.keras.callbacks.TensorBoard(log_dir=log_dir)\n",
        "    print(f\"Saving TensorBoard log files to {log_dir}\")\n",
        "    return tensorboard_callback"
      ],
      "metadata": {
        "id": "oeL70yhQkWLV"
      },
      "execution_count": 13,
      "outputs": []
    },
    {
      "cell_type": "markdown",
      "source": [
        "## Creating models using Tensorflow hub\n",
        "\n",
        "Till now, we have been creating our own tensorflow models from scratch - layer by layer\n",
        "\n",
        "Now, we're going to do a similar process, except the majority of our model's layers are going to come from TensorFlow hub\n",
        "\n",
        "We can also access pretrained models from TensorFlow Hub and pick the ones that are most suitable to our problem statement. Checkout models at https://tfhub.dev\n",
        "\n",
        "Also, to know which model or paper is the best for a given problem statement, do checkout https://paperswithcode.com\n",
        "\n",
        "Browsing the TensorFlow hub page & sorting for image classification, we found the following feature vector model link: https://tfhub.dev/tensorflow/efficientnet/b0/feature-vector/1"
      ],
      "metadata": {
        "id": "DAbUQeNulb_B"
      }
    },
    {
      "cell_type": "code",
      "source": [
        " # Let's compare the following 2 models\n",
        "resnet_url = \"https://tfhub.dev/google/imagenet/resnet_v2_50/feature_vector/5\"\n",
        "efficientnet_url = \"https://tfhub.dev/tensorflow/efficientnet/b0/feature-vector/1\""
      ],
      "metadata": {
        "id": "hp1YQnjDlnaq"
      },
      "execution_count": 14,
      "outputs": []
    },
    {
      "cell_type": "code",
      "source": [
        "import tensorflow as tf\n",
        "import tensorflow_hub as hub\n",
        "from tensorflow.keras import layers"
      ],
      "metadata": {
        "id": "rsgk05p0sEyD"
      },
      "execution_count": 16,
      "outputs": []
    },
    {
      "cell_type": "code",
      "source": [
        "def create_model(model_url, num_classes):\n",
        "    \"\"\"\n",
        "    Takes in a TensorFlow hub model URL along with number of classes & returns an uncompiled Keras Sequential model\n",
        "\n",
        "\n",
        "    Args:\n",
        "        model_url(str): The url of the TensorFlow hub pre-trained model\n",
        "        num_classes(int): The number of neurons in the final output layer, which is equal to the number of classes \n",
        "\n",
        "    Returns:\n",
        "        An uncompiled Keras Sequential Model with model_url as the feature extraction layer \n",
        "        and a Dense output layer with the number of classes we want to train for\n",
        "    \"\"\"\n",
        "\n",
        "    trainable_model = tf.keras.Sequential([\n",
        "        hub.KerasLayer(model_url, input_shape=IMAGE_SIZE+(3,), trainable=False, name=\"feature_extraction_layer\"),\n",
        "        layers.Dense(num_classes, activation=\"softmax\", name=\"output_layer\")\n",
        "    ])\n",
        "\n",
        "    return trainable_model\n"
      ],
      "metadata": {
        "id": "k5jCLzbytcQ-"
      },
      "execution_count": 29,
      "outputs": []
    },
    {
      "cell_type": "markdown",
      "source": [
        "### Creating & testing ResNet TensorFlow Hub Model & test it"
      ],
      "metadata": {
        "id": "2BDtRe-Quh22"
      }
    },
    {
      "cell_type": "code",
      "source": [
        "train_data.num_classes"
      ],
      "metadata": {
        "colab": {
          "base_uri": "https://localhost:8080/"
        },
        "id": "7qQi2cXqu1yA",
        "outputId": "ac30f2d0-542f-4dd9-e4da-bb399f2f2c3e"
      },
      "execution_count": 30,
      "outputs": [
        {
          "output_type": "execute_result",
          "data": {
            "text/plain": [
              "10"
            ]
          },
          "metadata": {},
          "execution_count": 30
        }
      ]
    },
    {
      "cell_type": "code",
      "source": [
        "resnet_model = create_model(resnet_url, train_data.num_classes)"
      ],
      "metadata": {
        "id": "N0iFQBxyulFI"
      },
      "execution_count": 31,
      "outputs": []
    },
    {
      "cell_type": "code",
      "source": [
        "resnet_model.summary()"
      ],
      "metadata": {
        "colab": {
          "base_uri": "https://localhost:8080/"
        },
        "id": "AF6TZgOwuuBB",
        "outputId": "a68d935b-a158-488d-dc04-0dc06bf1da26"
      },
      "execution_count": 32,
      "outputs": [
        {
          "output_type": "stream",
          "name": "stdout",
          "text": [
            "Model: \"sequential\"\n",
            "_________________________________________________________________\n",
            " Layer (type)                Output Shape              Param #   \n",
            "=================================================================\n",
            " feature_extraction_layer (K  (None, 2048)             23564800  \n",
            " erasLayer)                                                      \n",
            "                                                                 \n",
            " output_layer (Dense)        (None, 10)                20490     \n",
            "                                                                 \n",
            "=================================================================\n",
            "Total params: 23,585,290\n",
            "Trainable params: 20,490\n",
            "Non-trainable params: 23,564,800\n",
            "_________________________________________________________________\n"
          ]
        }
      ]
    },
    {
      "cell_type": "code",
      "source": [
        "# Compile our resnet_model\n",
        "\n",
        "resnet_model.compile(\n",
        "    loss=\"categorical_crossentropy\",\n",
        "    optimizer=tf.keras.optimizers.Adam(),\n",
        "    metrics=[\"accuracy\"]\n",
        ")"
      ],
      "metadata": {
        "id": "uaubjtRYvJi3"
      },
      "execution_count": 38,
      "outputs": []
    },
    {
      "cell_type": "code",
      "source": [
        "resnet_history = resnet_model.fit(\n",
        "    train_data,\n",
        "    epochs=5,\n",
        "    callbacks=[create_tensorboard_callback(\"board\",\"resnet50V2\")],\n",
        "    steps_per_epoch=len(train_data),\n",
        "    validation_data = test_data,\n",
        "    validation_steps = len(test_data)\n",
        ")"
      ],
      "metadata": {
        "colab": {
          "base_uri": "https://localhost:8080/"
        },
        "id": "ejtON2RXviwX",
        "outputId": "a169e589-7a65-45ea-939b-8d4551295846"
      },
      "execution_count": 39,
      "outputs": [
        {
          "output_type": "stream",
          "name": "stdout",
          "text": [
            "Saving TensorBoard log files to board/resnet50V2/20221201-173859\n",
            "Epoch 1/5\n",
            "24/24 [==============================] - 29s 772ms/step - loss: 1.8065 - accuracy: 0.3960 - val_loss: 1.1595 - val_accuracy: 0.6272\n",
            "Epoch 2/5\n",
            "24/24 [==============================] - 16s 697ms/step - loss: 0.8615 - accuracy: 0.7507 - val_loss: 0.8293 - val_accuracy: 0.7352\n",
            "Epoch 3/5\n",
            "24/24 [==============================] - 16s 693ms/step - loss: 0.5912 - accuracy: 0.8253 - val_loss: 0.7523 - val_accuracy: 0.7552\n",
            "Epoch 4/5\n",
            "24/24 [==============================] - 16s 693ms/step - loss: 0.4641 - accuracy: 0.8747 - val_loss: 0.7024 - val_accuracy: 0.7696\n",
            "Epoch 5/5\n",
            "24/24 [==============================] - 16s 691ms/step - loss: 0.3686 - accuracy: 0.9213 - val_loss: 0.6771 - val_accuracy: 0.7796\n"
          ]
        }
      ]
    },
    {
      "cell_type": "code",
      "source": [
        "loss = resnet_history.history[\"loss\"]\n",
        "loss"
      ],
      "metadata": {
        "colab": {
          "base_uri": "https://localhost:8080/"
        },
        "id": "UBxupM-kyHMQ",
        "outputId": "c773b4d4-8486-4f4a-df33-eddbc43a95a9"
      },
      "execution_count": 42,
      "outputs": [
        {
          "output_type": "execute_result",
          "data": {
            "text/plain": [
              "[1.8064535856246948,\n",
              " 0.8615314364433289,\n",
              " 0.5911805033683777,\n",
              " 0.4640830159187317,\n",
              " 0.368583083152771]"
            ]
          },
          "metadata": {},
          "execution_count": 42
        }
      ]
    },
    {
      "cell_type": "code",
      "source": [
        "import matplotlib.pyplot as plt"
      ],
      "metadata": {
        "id": "4CSD8Yj7yvp_"
      },
      "execution_count": 43,
      "outputs": []
    },
    {
      "cell_type": "code",
      "source": [
        "def plot_learning_curves(history):\n",
        "    \"\"\"\n",
        "    Takes in the history of a trained model & plots its learning curves\n",
        "\n",
        "    \"\"\"\n",
        "\n",
        "    loss = history.history[\"loss\"]\n",
        "    val_loss=history.history[\"val_loss\"]\n",
        "    accuracy=history.history[\"accuracy\"]\n",
        "    val_accuracy=history.history[\"val_accuracy\"]\n",
        "    epochs = range(len(history.history[\"loss\"]))\n",
        "\n",
        "    # Plot the loss curve\n",
        "    plt.figure(figsize=(10,7))\n",
        "    plt.plot(epochs, loss, label=\"loss\")\n",
        "    plt.plot(epochs, val_loss, label=\"val_loss\")\n",
        "    plt.xlabel(\"epochs\")\n",
        "    plt.legend()\n",
        "\n",
        "\n",
        "    # Plot the accuracy curve\n",
        "    plt.figure(figsize=(10,7))\n",
        "    plt.plot(epochs, accuracy, label=\"accuracy\")\n",
        "    plt.plot(epochs, val_accuracy, label=\"val_accuracy\")\n",
        "    plt.xlabel(\"epochs\")\n",
        "    plt.legend()\n"
      ],
      "metadata": {
        "id": "hdXK6Mxpx7gN"
      },
      "execution_count": 44,
      "outputs": []
    },
    {
      "cell_type": "code",
      "source": [
        "plot_learning_curves(resnet_history)"
      ],
      "metadata": {
        "colab": {
          "base_uri": "https://localhost:8080/",
          "height": 867
        },
        "id": "BEAmwPsAzO6t",
        "outputId": "2c47e131-6934-4d99-f66e-5583a2e33185"
      },
      "execution_count": 45,
      "outputs": [
        {
          "output_type": "display_data",
          "data": {
            "text/plain": [
              "<Figure size 720x504 with 1 Axes>"
            ],
            "image/png": "[encoded data removed]"
          },
          "metadata": {
            "needs_background": "light"
          }
        },
        {
          "output_type": "display_data",
          "data": {
            "text/plain": [
              "<Figure size 720x504 with 1 Axes>"
            ],
            "image/png": "[encoded data removed]"
          },
          "metadata": {
            "needs_background": "light"
          }
        }
      ]
    },
    {
      "cell_type": "markdown",
      "source": [
        "### Creating & testing a TensorFlow Hub EfficientNet model"
      ],
      "metadata": {
        "id": "i1Ljz6zm1Z1r"
      }
    },
    {
      "cell_type": "code",
      "source": [
        "### Creating & testing a TensorFlow Hub EfficientNet model\n",
        "efficientnet_model = create_model(efficientnet_url, train_data.num_classes)"
      ],
      "metadata": {
        "id": "6tguECFJzR9A"
      },
      "execution_count": 46,
      "outputs": []
    },
    {
      "cell_type": "code",
      "source": [
        "efficientnet_model.summary()"
      ],
      "metadata": {
        "colab": {
          "base_uri": "https://localhost:8080/"
        },
        "id": "2584v4tw0RGl",
        "outputId": "49fe950c-e637-4387-d27c-f052a998ee9c"
      },
      "execution_count": 47,
      "outputs": [
        {
          "output_type": "stream",
          "name": "stdout",
          "text": [
            "Model: \"sequential_1\"\n",
            "_________________________________________________________________\n",
            " Layer (type)                Output Shape              Param #   \n",
            "=================================================================\n",
            " feature_extraction_layer (K  (None, 1280)             4049564   \n",
            " erasLayer)                                                      \n",
            "                                                                 \n",
            " output_layer (Dense)        (None, 10)                12810     \n",
            "                                                                 \n",
            "=================================================================\n",
            "Total params: 4,062,374\n",
            "Trainable params: 12,810\n",
            "Non-trainable params: 4,049,564\n",
            "_________________________________________________________________\n"
          ]
        }
      ]
    },
    {
      "cell_type": "code",
      "source": [
        "efficientnet_model.compile(\n",
        "    loss=\"categorical_crossentropy\",\n",
        "    optimizer=\"Adam\",\n",
        "    metrics=[\"accuracy\"]\n",
        ")"
      ],
      "metadata": {
        "id": "vzsuKq5_0Tn3"
      },
      "execution_count": 48,
      "outputs": []
    },
    {
      "cell_type": "code",
      "source": [
        "effnet_history = efficientnet_model.fit(\n",
        "    train_data,\n",
        "    callbacks=[create_tensorboard_callback(\"board\", \"effnetb01\")],\n",
        "    epochs=5,\n",
        "    steps_per_epoch=len(train_data),\n",
        "    validation_data=test_data,\n",
        "    validation_steps=len(test_data)\n",
        ")"
      ],
      "metadata": {
        "colab": {
          "base_uri": "https://localhost:8080/"
        },
        "id": "xUUkwUrD0bfy",
        "outputId": "d74228da-9be0-4f74-ac80-f23980d1b854"
      },
      "execution_count": 49,
      "outputs": [
        {
          "output_type": "stream",
          "name": "stdout",
          "text": [
            "Saving TensorBoard log files to board/effnetb01/20221201-175553\n",
            "Epoch 1/5\n",
            "24/24 [==============================] - 28s 725ms/step - loss: 1.8428 - accuracy: 0.4213 - val_loss: 1.3136 - val_accuracy: 0.7120\n",
            "Epoch 2/5\n",
            "24/24 [==============================] - 15s 644ms/step - loss: 1.0672 - accuracy: 0.7680 - val_loss: 0.8768 - val_accuracy: 0.8132\n",
            "Epoch 3/5\n",
            "24/24 [==============================] - 15s 656ms/step - loss: 0.7587 - accuracy: 0.8347 - val_loss: 0.7029 - val_accuracy: 0.8392\n",
            "Epoch 4/5\n",
            "24/24 [==============================] - 16s 697ms/step - loss: 0.6111 - accuracy: 0.8627 - val_loss: 0.6116 - val_accuracy: 0.8540\n",
            "Epoch 5/5\n",
            "24/24 [==============================] - 15s 665ms/step - loss: 0.5164 - accuracy: 0.8880 - val_loss: 0.5601 - val_accuracy: 0.8616\n"
          ]
        }
      ]
    },
    {
      "cell_type": "code",
      "source": [
        "plot_learning_curves(effnet_history)"
      ],
      "metadata": {
        "colab": {
          "base_uri": "https://localhost:8080/",
          "height": 867
        },
        "id": "EhOEzWA40xsv",
        "outputId": "70719cfd-0e74-4843-cfe3-96d1f9ee2190"
      },
      "execution_count": 50,
      "outputs": [
        {
          "output_type": "display_data",
          "data": {
            "text/plain": [
              "<Figure size 720x504 with 1 Axes>"
            ],
            "image/png": "[encoded data removed]"
          },
          "metadata": {
            "needs_background": "light"
          }
        },
        {
          "output_type": "display_data",
          "data": {
            "text/plain": [
              "<Figure size 720x504 with 1 Axes>"
            ],
            "image/png": "[encoded data removed]"
          },
          "metadata": {
            "needs_background": "light"
          }
        }
      ]
    },
    {
      "cell_type": "markdown",
      "source": [
        "## Different types of transfer learning\n",
        "\n",
        "* **\"As is\" transfer** - Directly take & use a pre-trained model with no changes whatsoever (eg: Using an ImageNet model trained on 1000s of ImageNet classes, none of our own)\n",
        "* **\"Feature extraction\"** -Take the prelearned patterns of an existing model (eg: EfficientNetB0 trained on ImageNet) & adjust the output layer for our own classes (eg: 1000 classes of ImageNet -> 10 of our own classes)\n",
        "* **\"Fine tuning\" transfer learning** - Take the prelearned patterns of an existing model & \"fine-tune\" many or all of the underlying layers (including new output layers)\n",
        "\n",
        "![image](https://testbucket1841.s3.ap-south-1.amazonaws.com/tf-ml-course-udemy/types-of-transer-learn.png)\n"
      ],
      "metadata": {
        "id": "qGT3G_mR0zm2"
      }
    },
    {
      "cell_type": "code",
      "source": [
        "# Thus, our 0th layer i.e. our feature extraction layer in efficient_net model has learned 309 sets of theta values \n",
        "# so there are 309 underlying layers that the existing EfficientNetB01 model (from TensorFlow Hub) was trained with\n",
        "len(efficientnet_model.layers[0].weights)"
      ],
      "metadata": {
        "colab": {
          "base_uri": "https://localhost:8080/"
        },
        "id": "Cozf9Xq-3Fay",
        "outputId": "f8efca5e-0291-46e5-96ef-d505ae1795eb"
      },
      "execution_count": 51,
      "outputs": [
        {
          "output_type": "execute_result",
          "data": {
            "text/plain": [
              "309"
            ]
          },
          "metadata": {},
          "execution_count": 51
        }
      ]
    },
    {
      "cell_type": "markdown",
      "source": [
        "## Comparing our models results using TensorBoard\n",
        "\n",
        "> 🔑 **Note**: We can upload upload our model reports to https://tensorboard.dev but just be warned that it's a public repo where other's can see your work"
      ],
      "metadata": {
        "id": "cKs0zU983JSx"
      }
    },
    {
      "cell_type": "code",
      "source": [
        "!pip install -U tensorboard"
      ],
      "metadata": {
        "colab": {
          "base_uri": "https://localhost:8080/"
        },
        "id": "DsMUAfSg4bA8",
        "outputId": "5d5790c9-0302-449e-9fff-f252389cfbfe"
      },
      "execution_count": 1,
      "outputs": [
        {
          "output_type": "stream",
          "name": "stdout",
          "text": [
            "Looking in indexes: https://pypi.org/simple, https://us-python.pkg.dev/colab-wheels/public/simple/\n",
            "Requirement already satisfied: tensorboard in /usr/local/lib/python3.8/dist-packages (2.11.0)\n",
            "Requirement already satisfied: tensorboard-data-server<0.7.0,>=0.6.0 in /usr/local/lib/python3.8/dist-packages (from tensorboard) (0.6.1)\n",
            "Requirement already satisfied: numpy>=1.12.0 in /usr/local/lib/python3.8/dist-packages (from tensorboard) (1.21.6)\n",
            "Requirement already satisfied: google-auth<3,>=1.6.3 in /usr/local/lib/python3.8/dist-packages (from tensorboard) (2.14.1)\n",
            "Requirement already satisfied: grpcio>=1.24.3 in /usr/local/lib/python3.8/dist-packages (from tensorboard) (1.50.0)\n",
            "Requirement already satisfied: tensorboard-plugin-wit>=1.6.0 in /usr/local/lib/python3.8/dist-packages (from tensorboard) (1.8.1)\n",
            "Requirement already satisfied: werkzeug>=1.0.1 in /usr/local/lib/python3.8/dist-packages (from tensorboard) (1.0.1)\n",
            "Requirement already satisfied: wheel>=0.26 in /usr/local/lib/python3.8/dist-packages (from tensorboard) (0.38.4)\n",
            "Requirement already satisfied: setuptools>=41.0.0 in /usr/local/lib/python3.8/dist-packages (from tensorboard) (57.4.0)\n",
            "Requirement already satisfied: google-auth-oauthlib<0.5,>=0.4.1 in /usr/local/lib/python3.8/dist-packages (from tensorboard) (0.4.6)\n",
            "Requirement already satisfied: absl-py>=0.4 in /usr/local/lib/python3.8/dist-packages (from tensorboard) (1.3.0)\n",
            "Requirement already satisfied: protobuf<4,>=3.9.2 in /usr/local/lib/python3.8/dist-packages (from tensorboard) (3.19.6)\n",
            "Requirement already satisfied: requests<3,>=2.21.0 in /usr/local/lib/python3.8/dist-packages (from tensorboard) (2.23.0)\n",
            "Requirement already satisfied: markdown>=2.6.8 in /usr/local/lib/python3.8/dist-packages (from tensorboard) (3.4.1)\n",
            "Requirement already satisfied: pyasn1-modules>=0.2.1 in /usr/local/lib/python3.8/dist-packages (from google-auth<3,>=1.6.3->tensorboard) (0.2.8)\n",
            "Requirement already satisfied: rsa<5,>=3.1.4 in /usr/local/lib/python3.8/dist-packages (from google-auth<3,>=1.6.3->tensorboard) (4.9)\n",
            "Requirement already satisfied: six>=1.9.0 in /usr/local/lib/python3.8/dist-packages (from google-auth<3,>=1.6.3->tensorboard) (1.15.0)\n",
            "Requirement already satisfied: cachetools<6.0,>=2.0.0 in /usr/local/lib/python3.8/dist-packages (from google-auth<3,>=1.6.3->tensorboard) (5.2.0)\n",
            "Requirement already satisfied: requests-oauthlib>=0.7.0 in /usr/local/lib/python3.8/dist-packages (from google-auth-oauthlib<0.5,>=0.4.1->tensorboard) (1.3.1)\n",
            "Requirement already satisfied: importlib-metadata>=4.4 in /usr/local/lib/python3.8/dist-packages (from markdown>=2.6.8->tensorboard) (4.13.0)\n",
            "Requirement already satisfied: zipp>=0.5 in /usr/local/lib/python3.8/dist-packages (from importlib-metadata>=4.4->markdown>=2.6.8->tensorboard) (3.10.0)\n",
            "Requirement already satisfied: pyasn1<0.5.0,>=0.4.6 in /usr/local/lib/python3.8/dist-packages (from pyasn1-modules>=0.2.1->google-auth<3,>=1.6.3->tensorboard) (0.4.8)\n",
            "Requirement already satisfied: urllib3!=1.25.0,!=1.25.1,<1.26,>=1.21.1 in /usr/local/lib/python3.8/dist-packages (from requests<3,>=2.21.0->tensorboard) (1.24.3)\n",
            "Requirement already satisfied: certifi>=2017.4.17 in /usr/local/lib/python3.8/dist-packages (from requests<3,>=2.21.0->tensorboard) (2022.9.24)\n",
            "Requirement already satisfied: chardet<4,>=3.0.2 in /usr/local/lib/python3.8/dist-packages (from requests<3,>=2.21.0->tensorboard) (3.0.4)\n",
            "Requirement already satisfied: idna<3,>=2.5 in /usr/local/lib/python3.8/dist-packages (from requests<3,>=2.21.0->tensorboard) (2.10)\n",
            "Requirement already satisfied: oauthlib>=3.0.0 in /usr/local/lib/python3.8/dist-packages (from requests-oauthlib>=0.7.0->google-auth-oauthlib<0.5,>=0.4.1->tensorboard) (3.2.2)\n"
          ]
        }
      ]
    },
    {
      "cell_type": "code",
      "source": [
        "!tensorboard dev upload --logdir ./board \\\n",
        "    --name \"Food Images ML\" \\\n",
        "    --description \"Comparing ResNetV02 and EffNetB01 models\"\n",
        "    --one-shot"
      ],
      "metadata": {
        "colab": {
          "base_uri": "https://localhost:8080/"
        },
        "id": "7N3eQBP94gh8",
        "outputId": "4efba315-d46f-4e51-91d1-881e3dd81a8d"
      },
      "execution_count": null,
      "outputs": [
        {
          "output_type": "stream",
          "name": "stdout",
          "text": [
            "\n",
            "***** TensorBoard Uploader *****\n",
            "\n",
            "This will upload your TensorBoard logs to https://tensorboard.dev/ from\n",
            "the following directory:\n",
            "\n",
            "./board\n",
            "\n",
            "This TensorBoard will be visible to everyone. Do not upload sensitive\n",
            "data.\n",
            "\n",
            "Your use of this service is subject to Google's Terms of Service\n",
            "<https://policies.google.com/terms> and Privacy Policy\n",
            "<https://policies.google.com/privacy>, and TensorBoard.dev's Terms of Service\n",
            "<https://tensorboard.dev/policy/terms/>.\n",
            "\n",
            "This notice will not be shown again while you are logged into the uploader.\n",
            "To log out, run `tensorboard dev auth revoke`.\n",
            "\n",
            "Continue? (yes/NO) yes\n",
            "\n",
            "Please visit this URL to authorize this application: https://accounts.google.com/o/oauth2/auth?response_type=code&client_id=373649185512-8v619h5kft38l4456nm2dj4ubeqsrvh6.apps.googleusercontent.com&redirect_uri=urn%3Aietf%3Awg%3Aoauth%3A2.0%3Aoob&scope=openid+https%3A%2F%2Fwww.googleapis.com%2Fauth%2Fuserinfo.email&state=f0yukni8jInjxAdoSBm7WJX76KGiMa&prompt=consent&access_type=offline\n",
            "Enter the authorization code: 4/1AfgeXvtsPHBworgKJ6MuydG-fLw_EvjoYpjmRszNhxIdy6qli_q535mi1jw\n",
            "\n",
            "Upload started and will continue reading any new data as it's added to the logdir.\n",
            "\n",
            "To stop uploading, press Ctrl-C.\n",
            "\n",
            "New experiment created. View your TensorBoard at: https://tensorboard.dev/experiment/0LUQjpVJQIyga7I5l6YQFw/\n",
            "\n",
            "\u001b[1m[2022-12-01T18:14:30]\u001b[0m Started scanning logdir.\n",
            "\u001b[1m[2022-12-01T18:14:35]\u001b[0m Total uploaded: 60 scalars, 0 tensors, 2 binary objects (5.5 MB)\n"
          ]
        }
      ]
    },
    {
      "cell_type": "markdown",
      "source": [
        "Our TensorBoard experiments are uploaded publicly: https://tensorboard.dev/experiment/0LUQjpVJQIyga7I5l6YQFw/"
      ],
      "metadata": {
        "id": "BzMF-12y4ywS"
      }
    },
    {
      "cell_type": "code",
      "source": [
        "# Checkout what tensorboard experiments you have\n",
        "!tensorboard dev list"
      ],
      "metadata": {
        "id": "-qgfu21q5fP7"
      },
      "execution_count": null,
      "outputs": []
    },
    {
      "cell_type": "code",
      "source": [
        "# To delete an experiment \n",
        "!tensorboard dev delete --experiment_id EXPERIMENT_ID "
      ],
      "metadata": {
        "id": "g9yrzGry5olC"
      },
      "execution_count": null,
      "outputs": []
    },
    {
      "cell_type": "code",
      "source": [
        "# Confirm whether the experiment has actually been deleted by listing experiments now\n",
        "!tensorboard dev list"
      ],
      "metadata": {
        "id": "uh3TEg-h55tJ"
      },
      "execution_count": null,
      "outputs": []
    }
  ]
}